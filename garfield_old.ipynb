{
  "metadata": {
    "kernelspec": {
      "language": "python",
      "display_name": "Python 3",
      "name": "python3"
    },
    "language_info": {
      "name": "python",
      "version": "3.7.12",
      "mimetype": "text/x-python",
      "codemirror_mode": {
        "name": "ipython",
        "version": 3
      },
      "pygments_lexer": "ipython3",
      "nbconvert_exporter": "python",
      "file_extension": ".py"
    },
    "colab": {
      "provenance": [],
      "toc_visible": true
    },
    "gpuClass": "standard"
  },
  "nbformat_minor": 0,
  "nbformat": 4,
  "cells": [
    {
      "cell_type": "markdown",
      "source": [
        "#  Garfield: topic extraction and retrieval system\n",
        "\n",
        "    Project and Project Work in Text Mining, Data Mining and Big Data Analytics\n",
        "    Author: Enrico Benedetti\n",
        "    Email: enrico.benedetti5 [at] studio.unibo.it\n",
        "    GitHub: https://github.com/EnricoBenedetti"
      ],
      "metadata": {
        "id": "qnD9KklxFkrD",
        "execution": {
          "iopub.status.busy": "2023-02-06T08:44:07.490605Z",
          "iopub.execute_input": "2023-02-06T08:44:07.491032Z",
          "iopub.status.idle": "2023-02-06T08:44:07.499799Z",
          "shell.execute_reply.started": "2023-02-06T08:44:07.490999Z",
          "shell.execute_reply": "2023-02-06T08:44:07.497467Z"
        }
      }
    },
    {
      "cell_type": "markdown",
      "source": [
        "## Download and first look at the Garfield Dataset"
      ],
      "metadata": {
        "id": "OB3t489XAC-5"
      }
    },
    {
      "cell_type": "code",
      "source": [
        "#!pip install --upgrade numpy\n",
        "#!pip install --upgrade gensim\n",
        "!pip install gensim==4.1.0\n",
        "!pip install kneed\n",
        "!pip install sentence_transformers\n",
        "#!pip install torch==1.12.0"
      ],
      "metadata": {
        "id": "htoNP9XZM831",
        "outputId": "ca543480-7873-416a-d030-f68a365d9e90",
        "colab": {
          "base_uri": "https://localhost:8080/"
        },
        "execution": {
          "iopub.status.busy": "2023-02-06T13:59:31.667939Z",
          "iopub.execute_input": "2023-02-06T13:59:31.668972Z",
          "iopub.status.idle": "2023-02-06T14:00:10.331190Z",
          "shell.execute_reply.started": "2023-02-06T13:59:31.668846Z",
          "shell.execute_reply": "2023-02-06T14:00:10.329851Z"
        },
        "trusted": true
      },
      "execution_count": null,
      "outputs": [
        {
          "output_type": "stream",
          "name": "stdout",
          "text": [
            "Looking in indexes: https://pypi.org/simple, https://us-python.pkg.dev/colab-wheels/public/simple/\n",
            "Collecting gensim==4.1.0\n",
            "  Downloading gensim-4.1.0-cp38-cp38-manylinux_2_12_x86_64.manylinux2010_x86_64.whl (24.0 MB)\n",
            "\u001b[2K     \u001b[90m━━━━━━━━━━━━━━━━━━━━━━━━━━━━━━━━━━━━━━━━\u001b[0m \u001b[32m24.0/24.0 MB\u001b[0m \u001b[31m35.1 MB/s\u001b[0m eta \u001b[36m0:00:00\u001b[0m\n",
            "\u001b[?25hRequirement already satisfied: smart-open>=1.8.1 in /usr/local/lib/python3.8/dist-packages (from gensim==4.1.0) (6.3.0)\n",
            "Requirement already satisfied: scipy>=0.18.1 in /usr/local/lib/python3.8/dist-packages (from gensim==4.1.0) (1.7.3)\n",
            "Requirement already satisfied: numpy>=1.17.0 in /usr/local/lib/python3.8/dist-packages (from gensim==4.1.0) (1.21.6)\n",
            "Installing collected packages: gensim\n",
            "  Attempting uninstall: gensim\n",
            "    Found existing installation: gensim 3.6.0\n",
            "    Uninstalling gensim-3.6.0:\n",
            "      Successfully uninstalled gensim-3.6.0\n",
            "Successfully installed gensim-4.1.0\n",
            "Looking in indexes: https://pypi.org/simple, https://us-python.pkg.dev/colab-wheels/public/simple/\n",
            "Collecting kneed\n",
            "  Downloading kneed-0.8.2-py3-none-any.whl (10 kB)\n",
            "Requirement already satisfied: numpy>=1.14.2 in /usr/local/lib/python3.8/dist-packages (from kneed) (1.21.6)\n",
            "Requirement already satisfied: scipy>=1.0.0 in /usr/local/lib/python3.8/dist-packages (from kneed) (1.7.3)\n",
            "Installing collected packages: kneed\n",
            "Successfully installed kneed-0.8.2\n",
            "Looking in indexes: https://pypi.org/simple, https://us-python.pkg.dev/colab-wheels/public/simple/\n",
            "Collecting sentence_transformers\n",
            "  Downloading sentence-transformers-2.2.2.tar.gz (85 kB)\n",
            "\u001b[2K     \u001b[90m━━━━━━━━━━━━━━━━━━━━━━━━━━━━━━━━━━━━━━━━\u001b[0m \u001b[32m86.0/86.0 KB\u001b[0m \u001b[31m9.9 MB/s\u001b[0m eta \u001b[36m0:00:00\u001b[0m\n",
            "\u001b[?25h  Preparing metadata (setup.py) ... \u001b[?25l\u001b[?25hdone\n",
            "Collecting transformers<5.0.0,>=4.6.0\n",
            "  Downloading transformers-4.26.0-py3-none-any.whl (6.3 MB)\n",
            "\u001b[2K     \u001b[90m━━━━━━━━━━━━━━━━━━━━━━━━━━━━━━━━━━━━━━━━\u001b[0m \u001b[32m6.3/6.3 MB\u001b[0m \u001b[31m98.9 MB/s\u001b[0m eta \u001b[36m0:00:00\u001b[0m\n",
            "\u001b[?25hRequirement already satisfied: tqdm in /usr/local/lib/python3.8/dist-packages (from sentence_transformers) (4.64.1)\n",
            "Requirement already satisfied: torch>=1.6.0 in /usr/local/lib/python3.8/dist-packages (from sentence_transformers) (1.13.1+cu116)\n",
            "Requirement already satisfied: torchvision in /usr/local/lib/python3.8/dist-packages (from sentence_transformers) (0.14.1+cu116)\n",
            "Requirement already satisfied: numpy in /usr/local/lib/python3.8/dist-packages (from sentence_transformers) (1.21.6)\n",
            "Requirement already satisfied: scikit-learn in /usr/local/lib/python3.8/dist-packages (from sentence_transformers) (1.0.2)\n",
            "Requirement already satisfied: scipy in /usr/local/lib/python3.8/dist-packages (from sentence_transformers) (1.7.3)\n",
            "Requirement already satisfied: nltk in /usr/local/lib/python3.8/dist-packages (from sentence_transformers) (3.7)\n",
            "Collecting sentencepiece\n",
            "  Downloading sentencepiece-0.1.97-cp38-cp38-manylinux_2_17_x86_64.manylinux2014_x86_64.whl (1.3 MB)\n",
            "\u001b[2K     \u001b[90m━━━━━━━━━━━━━━━━━━━━━━━━━━━━━━━━━━━━━━━━\u001b[0m \u001b[32m1.3/1.3 MB\u001b[0m \u001b[31m77.2 MB/s\u001b[0m eta \u001b[36m0:00:00\u001b[0m\n",
            "\u001b[?25hCollecting huggingface-hub>=0.4.0\n",
            "  Downloading huggingface_hub-0.12.0-py3-none-any.whl (190 kB)\n",
            "\u001b[2K     \u001b[90m━━━━━━━━━━━━━━━━━━━━━━━━━━━━━━━━━━━━━━\u001b[0m \u001b[32m190.3/190.3 KB\u001b[0m \u001b[31m25.6 MB/s\u001b[0m eta \u001b[36m0:00:00\u001b[0m\n",
            "\u001b[?25hRequirement already satisfied: packaging>=20.9 in /usr/local/lib/python3.8/dist-packages (from huggingface-hub>=0.4.0->sentence_transformers) (23.0)\n",
            "Requirement already satisfied: pyyaml>=5.1 in /usr/local/lib/python3.8/dist-packages (from huggingface-hub>=0.4.0->sentence_transformers) (6.0)\n",
            "Requirement already satisfied: requests in /usr/local/lib/python3.8/dist-packages (from huggingface-hub>=0.4.0->sentence_transformers) (2.25.1)\n",
            "Requirement already satisfied: typing-extensions>=3.7.4.3 in /usr/local/lib/python3.8/dist-packages (from huggingface-hub>=0.4.0->sentence_transformers) (4.4.0)\n",
            "Requirement already satisfied: filelock in /usr/local/lib/python3.8/dist-packages (from huggingface-hub>=0.4.0->sentence_transformers) (3.9.0)\n",
            "Requirement already satisfied: regex!=2019.12.17 in /usr/local/lib/python3.8/dist-packages (from transformers<5.0.0,>=4.6.0->sentence_transformers) (2022.6.2)\n",
            "Collecting tokenizers!=0.11.3,<0.14,>=0.11.1\n",
            "  Downloading tokenizers-0.13.2-cp38-cp38-manylinux_2_17_x86_64.manylinux2014_x86_64.whl (7.6 MB)\n",
            "\u001b[2K     \u001b[90m━━━━━━━━━━━━━━━━━━━━━━━━━━━━━━━━━━━━━━━━\u001b[0m \u001b[32m7.6/7.6 MB\u001b[0m \u001b[31m115.6 MB/s\u001b[0m eta \u001b[36m0:00:00\u001b[0m\n",
            "\u001b[?25hRequirement already satisfied: joblib in /usr/local/lib/python3.8/dist-packages (from nltk->sentence_transformers) (1.2.0)\n",
            "Requirement already satisfied: click in /usr/local/lib/python3.8/dist-packages (from nltk->sentence_transformers) (7.1.2)\n",
            "Requirement already satisfied: threadpoolctl>=2.0.0 in /usr/local/lib/python3.8/dist-packages (from scikit-learn->sentence_transformers) (3.1.0)\n",
            "Requirement already satisfied: pillow!=8.3.*,>=5.3.0 in /usr/local/lib/python3.8/dist-packages (from torchvision->sentence_transformers) (7.1.2)\n",
            "Requirement already satisfied: idna<3,>=2.5 in /usr/local/lib/python3.8/dist-packages (from requests->huggingface-hub>=0.4.0->sentence_transformers) (2.10)\n",
            "Requirement already satisfied: chardet<5,>=3.0.2 in /usr/local/lib/python3.8/dist-packages (from requests->huggingface-hub>=0.4.0->sentence_transformers) (4.0.0)\n",
            "Requirement already satisfied: certifi>=2017.4.17 in /usr/local/lib/python3.8/dist-packages (from requests->huggingface-hub>=0.4.0->sentence_transformers) (2022.12.7)\n",
            "Requirement already satisfied: urllib3<1.27,>=1.21.1 in /usr/local/lib/python3.8/dist-packages (from requests->huggingface-hub>=0.4.0->sentence_transformers) (1.24.3)\n",
            "Building wheels for collected packages: sentence_transformers\n",
            "  Building wheel for sentence_transformers (setup.py) ... \u001b[?25l\u001b[?25hdone\n",
            "  Created wheel for sentence_transformers: filename=sentence_transformers-2.2.2-py3-none-any.whl size=125938 sha256=c0cb6b0a9c681633f24341b5af76a5923aa88f653e480bfcd09dbdf42e16310a\n",
            "  Stored in directory: /root/.cache/pip/wheels/5e/6f/8c/d88aec621f3f542d26fac0342bef5e693335d125f4e54aeffe\n",
            "Successfully built sentence_transformers\n",
            "Installing collected packages: tokenizers, sentencepiece, huggingface-hub, transformers, sentence_transformers\n",
            "Successfully installed huggingface-hub-0.12.0 sentence_transformers-2.2.2 sentencepiece-0.1.97 tokenizers-0.13.2 transformers-4.26.0\n"
          ]
        }
      ]
    },
    {
      "cell_type": "code",
      "source": [
        "import urllib.request\n",
        "# download the raw data online\n",
        "urllib.request.urlretrieve(\"http://john.ccac.rwth-aachen.de:8000/ftp/dilbert/garfield.txt\", \"garfield.txt\")"
      ],
      "metadata": {
        "id": "tvd-1GTL1f3a",
        "outputId": "fce98a88-c513-4c50-f971-44b410cd5e63",
        "colab": {
          "base_uri": "https://localhost:8080/"
        },
        "execution": {
          "iopub.status.busy": "2023-02-06T14:00:10.334105Z",
          "iopub.execute_input": "2023-02-06T14:00:10.334572Z",
          "iopub.status.idle": "2023-02-06T14:00:12.070277Z",
          "shell.execute_reply.started": "2023-02-06T14:00:10.334528Z",
          "shell.execute_reply": "2023-02-06T14:00:12.069301Z"
        },
        "trusted": true
      },
      "execution_count": null,
      "outputs": [
        {
          "output_type": "execute_result",
          "data": {
            "text/plain": [
              "('garfield.txt', <http.client.HTTPMessage at 0x7efc33f36be0>)"
            ]
          },
          "metadata": {},
          "execution_count": 2
        }
      ]
    },
    {
      "cell_type": "code",
      "source": [
        "import pandas as pd\n",
        "import numpy as np\n",
        "import seaborn as sns\n",
        "import matplotlib.pyplot as plt\n",
        "import gensim\n",
        "#plt.rcParams[\"figure.figsize\"] = (25, 10)\n",
        "#plt.rcParams['figure.dpi'] = 450\n",
        "#plt.rcParams['axes.xmargin'] = 0\n",
        "#plt.rcParams['axes.ymargin'] = 0"
      ],
      "metadata": {
        "id": "P8Y6brrp2Rop",
        "execution": {
          "iopub.status.busy": "2023-02-06T14:00:12.072443Z",
          "iopub.execute_input": "2023-02-06T14:00:12.073181Z",
          "iopub.status.idle": "2023-02-06T14:00:12.994239Z",
          "shell.execute_reply.started": "2023-02-06T14:00:12.073139Z",
          "shell.execute_reply": "2023-02-06T14:00:12.993226Z"
        },
        "trusted": true
      },
      "execution_count": null,
      "outputs": []
    },
    {
      "cell_type": "code",
      "source": [
        "# read text file into pandas DataFrame\n",
        "df = pd.read_csv(\"garfield.txt\", sep=\" -- \", encoding = 'latin1', names=[\"stripID\", \"text\"], engine='python')"
      ],
      "metadata": {
        "id": "9nrRkwEN2S5V",
        "execution": {
          "iopub.status.busy": "2023-02-06T14:00:12.997190Z",
          "iopub.execute_input": "2023-02-06T14:00:12.997590Z",
          "iopub.status.idle": "2023-02-06T14:00:13.064872Z",
          "shell.execute_reply.started": "2023-02-06T14:00:12.997551Z",
          "shell.execute_reply": "2023-02-06T14:00:13.064020Z"
        },
        "trusted": true
      },
      "execution_count": null,
      "outputs": []
    },
    {
      "cell_type": "code",
      "source": [
        "df = df.dropna().copy()"
      ],
      "metadata": {
        "id": "PAWvaieL72__",
        "execution": {
          "iopub.status.busy": "2023-02-06T14:00:13.067212Z",
          "iopub.execute_input": "2023-02-06T14:00:13.068146Z",
          "iopub.status.idle": "2023-02-06T14:00:13.081503Z",
          "shell.execute_reply.started": "2023-02-06T14:00:13.068108Z",
          "shell.execute_reply": "2023-02-06T14:00:13.080701Z"
        },
        "trusted": true
      },
      "execution_count": null,
      "outputs": []
    },
    {
      "cell_type": "code",
      "source": [
        "df"
      ],
      "metadata": {
        "id": "Z8SbzG2o23d4",
        "outputId": "ed8086a1-21c0-4f04-ecd8-3e1a1fef7fac",
        "colab": {
          "base_uri": "https://localhost:8080/",
          "height": 424
        },
        "execution": {
          "iopub.status.busy": "2023-02-06T14:00:13.083065Z",
          "iopub.execute_input": "2023-02-06T14:00:13.083755Z",
          "iopub.status.idle": "2023-02-06T14:00:13.101874Z",
          "shell.execute_reply.started": "2023-02-06T14:00:13.083716Z",
          "shell.execute_reply": "2023-02-06T14:00:13.100537Z"
        },
        "trusted": true
      },
      "execution_count": null,
      "outputs": [
        {
          "output_type": "execute_result",
          "data": {
            "text/plain": [
              "        stripID                                               text\n",
              "0      ga780619  Hi, there...I'm Jon Arbuckle. I'm a cartoonist...\n",
              "1      ga780620  Happy birthday, Garfield. I have a surprise fo...\n",
              "2      ga780621  A MOUSE! GET IT! - Garfield! You didn't even t...\n",
              "3      ga780622  I'm putting you on a diet, Garfield...here's y...\n",
              "4      ga780623  - Ahhhhh... - Happiness is a warm television set.\n",
              "...         ...                                                ...\n",
              "17133  ga230201  Garfield... - Pizza is not a healthy breakfast...\n",
              "17134  ga230202  What's the key to a successful diet? - Portion...\n",
              "17135  ga230203  Jon, you've been sitting there a long time. - ...\n",
              "17136  ga230204  Look! Irma's Diner just expanded their menu. -...\n",
              "17137  ga230205  - - WAIT HERE FOR SURPRISE - - - - It's sure q...\n",
              "\n",
              "[17126 rows x 2 columns]"
            ],
            "text/html": [
              "\n",
              "  <div id=\"df-3ad78e85-63a1-49d7-bd0f-7e9ff7dc6829\">\n",
              "    <div class=\"colab-df-container\">\n",
              "      <div>\n",
              "<style scoped>\n",
              "    .dataframe tbody tr th:only-of-type {\n",
              "        vertical-align: middle;\n",
              "    }\n",
              "\n",
              "    .dataframe tbody tr th {\n",
              "        vertical-align: top;\n",
              "    }\n",
              "\n",
              "    .dataframe thead th {\n",
              "        text-align: right;\n",
              "    }\n",
              "</style>\n",
              "<table border=\"1\" class=\"dataframe\">\n",
              "  <thead>\n",
              "    <tr style=\"text-align: right;\">\n",
              "      <th></th>\n",
              "      <th>stripID</th>\n",
              "      <th>text</th>\n",
              "    </tr>\n",
              "  </thead>\n",
              "  <tbody>\n",
              "    <tr>\n",
              "      <th>0</th>\n",
              "      <td>ga780619</td>\n",
              "      <td>Hi, there...I'm Jon Arbuckle. I'm a cartoonist...</td>\n",
              "    </tr>\n",
              "    <tr>\n",
              "      <th>1</th>\n",
              "      <td>ga780620</td>\n",
              "      <td>Happy birthday, Garfield. I have a surprise fo...</td>\n",
              "    </tr>\n",
              "    <tr>\n",
              "      <th>2</th>\n",
              "      <td>ga780621</td>\n",
              "      <td>A MOUSE! GET IT! - Garfield! You didn't even t...</td>\n",
              "    </tr>\n",
              "    <tr>\n",
              "      <th>3</th>\n",
              "      <td>ga780622</td>\n",
              "      <td>I'm putting you on a diet, Garfield...here's y...</td>\n",
              "    </tr>\n",
              "    <tr>\n",
              "      <th>4</th>\n",
              "      <td>ga780623</td>\n",
              "      <td>- Ahhhhh... - Happiness is a warm television set.</td>\n",
              "    </tr>\n",
              "    <tr>\n",
              "      <th>...</th>\n",
              "      <td>...</td>\n",
              "      <td>...</td>\n",
              "    </tr>\n",
              "    <tr>\n",
              "      <th>17133</th>\n",
              "      <td>ga230201</td>\n",
              "      <td>Garfield... - Pizza is not a healthy breakfast...</td>\n",
              "    </tr>\n",
              "    <tr>\n",
              "      <th>17134</th>\n",
              "      <td>ga230202</td>\n",
              "      <td>What's the key to a successful diet? - Portion...</td>\n",
              "    </tr>\n",
              "    <tr>\n",
              "      <th>17135</th>\n",
              "      <td>ga230203</td>\n",
              "      <td>Jon, you've been sitting there a long time. - ...</td>\n",
              "    </tr>\n",
              "    <tr>\n",
              "      <th>17136</th>\n",
              "      <td>ga230204</td>\n",
              "      <td>Look! Irma's Diner just expanded their menu. -...</td>\n",
              "    </tr>\n",
              "    <tr>\n",
              "      <th>17137</th>\n",
              "      <td>ga230205</td>\n",
              "      <td>- - WAIT HERE FOR SURPRISE - - - - It's sure q...</td>\n",
              "    </tr>\n",
              "  </tbody>\n",
              "</table>\n",
              "<p>17126 rows × 2 columns</p>\n",
              "</div>\n",
              "      <button class=\"colab-df-convert\" onclick=\"convertToInteractive('df-3ad78e85-63a1-49d7-bd0f-7e9ff7dc6829')\"\n",
              "              title=\"Convert this dataframe to an interactive table.\"\n",
              "              style=\"display:none;\">\n",
              "        \n",
              "  <svg xmlns=\"http://www.w3.org/2000/svg\" height=\"24px\"viewBox=\"0 0 24 24\"\n",
              "       width=\"24px\">\n",
              "    <path d=\"M0 0h24v24H0V0z\" fill=\"none\"/>\n",
              "    <path d=\"M18.56 5.44l.94 2.06.94-2.06 2.06-.94-2.06-.94-.94-2.06-.94 2.06-2.06.94zm-11 1L8.5 8.5l.94-2.06 2.06-.94-2.06-.94L8.5 2.5l-.94 2.06-2.06.94zm10 10l.94 2.06.94-2.06 2.06-.94-2.06-.94-.94-2.06-.94 2.06-2.06.94z\"/><path d=\"M17.41 7.96l-1.37-1.37c-.4-.4-.92-.59-1.43-.59-.52 0-1.04.2-1.43.59L10.3 9.45l-7.72 7.72c-.78.78-.78 2.05 0 2.83L4 21.41c.39.39.9.59 1.41.59.51 0 1.02-.2 1.41-.59l7.78-7.78 2.81-2.81c.8-.78.8-2.07 0-2.86zM5.41 20L4 18.59l7.72-7.72 1.47 1.35L5.41 20z\"/>\n",
              "  </svg>\n",
              "      </button>\n",
              "      \n",
              "  <style>\n",
              "    .colab-df-container {\n",
              "      display:flex;\n",
              "      flex-wrap:wrap;\n",
              "      gap: 12px;\n",
              "    }\n",
              "\n",
              "    .colab-df-convert {\n",
              "      background-color: #E8F0FE;\n",
              "      border: none;\n",
              "      border-radius: 50%;\n",
              "      cursor: pointer;\n",
              "      display: none;\n",
              "      fill: #1967D2;\n",
              "      height: 32px;\n",
              "      padding: 0 0 0 0;\n",
              "      width: 32px;\n",
              "    }\n",
              "\n",
              "    .colab-df-convert:hover {\n",
              "      background-color: #E2EBFA;\n",
              "      box-shadow: 0px 1px 2px rgba(60, 64, 67, 0.3), 0px 1px 3px 1px rgba(60, 64, 67, 0.15);\n",
              "      fill: #174EA6;\n",
              "    }\n",
              "\n",
              "    [theme=dark] .colab-df-convert {\n",
              "      background-color: #3B4455;\n",
              "      fill: #D2E3FC;\n",
              "    }\n",
              "\n",
              "    [theme=dark] .colab-df-convert:hover {\n",
              "      background-color: #434B5C;\n",
              "      box-shadow: 0px 1px 3px 1px rgba(0, 0, 0, 0.15);\n",
              "      filter: drop-shadow(0px 1px 2px rgba(0, 0, 0, 0.3));\n",
              "      fill: #FFFFFF;\n",
              "    }\n",
              "  </style>\n",
              "\n",
              "      <script>\n",
              "        const buttonEl =\n",
              "          document.querySelector('#df-3ad78e85-63a1-49d7-bd0f-7e9ff7dc6829 button.colab-df-convert');\n",
              "        buttonEl.style.display =\n",
              "          google.colab.kernel.accessAllowed ? 'block' : 'none';\n",
              "\n",
              "        async function convertToInteractive(key) {\n",
              "          const element = document.querySelector('#df-3ad78e85-63a1-49d7-bd0f-7e9ff7dc6829');\n",
              "          const dataTable =\n",
              "            await google.colab.kernel.invokeFunction('convertToInteractive',\n",
              "                                                     [key], {});\n",
              "          if (!dataTable) return;\n",
              "\n",
              "          const docLinkHtml = 'Like what you see? Visit the ' +\n",
              "            '<a target=\"_blank\" href=https://colab.research.google.com/notebooks/data_table.ipynb>data table notebook</a>'\n",
              "            + ' to learn more about interactive tables.';\n",
              "          element.innerHTML = '';\n",
              "          dataTable['output_type'] = 'display_data';\n",
              "          await google.colab.output.renderOutput(dataTable, element);\n",
              "          const docLink = document.createElement('div');\n",
              "          docLink.innerHTML = docLinkHtml;\n",
              "          element.appendChild(docLink);\n",
              "        }\n",
              "      </script>\n",
              "    </div>\n",
              "  </div>\n",
              "  "
            ]
          },
          "metadata": {},
          "execution_count": 6
        }
      ]
    },
    {
      "cell_type": "markdown",
      "source": [
        "## Dataframe setup"
      ],
      "metadata": {
        "id": "u1XtAjyt4bWu"
      }
    },
    {
      "cell_type": "markdown",
      "source": [
        "### Adding date information to dataframe\n",
        "\n",
        "Using the format specifications of `datetime` and `pandas`, a timestamp is extracted from the `stripID` column and added as a `Date` column.\n",
        "\n",
        "The code below tries to avoid throwing away some strips (~10) that have parsing errors in the `StripID` column."
      ],
      "metadata": {
        "id": "WjliNKCN2FBk"
      }
    },
    {
      "cell_type": "code",
      "source": [
        "preformat_dates = df['stripID'].to_numpy()\n",
        "formatted_dates = preformat_dates.copy()\n",
        "for index, stripID in enumerate(preformat_dates):\n",
        "  try:\n",
        "    formatted_dates[index] = pd.to_datetime(stripID, format=\"ga%y%m%d\")\n",
        "  except: \n",
        "    # fix abnormal month using the same as the previous strip (they are temporally ordered)\n",
        "    previous_date_month = formatted_dates[index-1].strftime('%m')\n",
        "    # avoids mistakes in the first two characters (eg. gs instead of ga)\n",
        "    stripID = 'ga' + stripID[2:4] + previous_date_month + stripID[-2:]\n",
        "    formatted_dates[index] = pd.to_datetime(stripID, format=\"ga%y%m%d\")\n",
        "    print(f'Fixed string with error {preformat_dates[index]} to correct timestamp {formatted_dates[index]}')\n",
        "    preformat_dates[index] = stripID\n",
        "\n",
        "# add the date column and also the correct stripID\n",
        "df['Date'] = formatted_dates\n",
        "df['stripID'] = preformat_dates"
      ],
      "metadata": {
        "id": "9SMnYU6z36c8",
        "execution": {
          "iopub.status.busy": "2023-02-06T14:00:13.104162Z",
          "iopub.execute_input": "2023-02-06T14:00:13.104817Z",
          "iopub.status.idle": "2023-02-06T14:00:14.859615Z",
          "shell.execute_reply.started": "2023-02-06T14:00:13.104782Z",
          "shell.execute_reply": "2023-02-06T14:00:14.858542Z"
        },
        "trusted": true,
        "colab": {
          "base_uri": "https://localhost:8080/"
        },
        "outputId": "b16bdfee-ff4b-4a2b-ff17-c41461209088"
      },
      "execution_count": null,
      "outputs": [
        {
          "output_type": "stream",
          "name": "stdout",
          "text": [
            "Fixed string with error ga929927 to correct timestamp 1992-09-27 00:00:00\n",
            "Fixed string with error ga982023 to correct timestamp 1998-10-23 00:00:00\n",
            "Fixed string with error ga130015 to correct timestamp 2013-01-15 00:00:00\n",
            "Fixed string with error ga131302 to correct timestamp 2013-12-02 00:00:00\n",
            "Fixed string with error ga131323 to correct timestamp 2013-12-23 00:00:00\n",
            "Fixed string with error ga159829 to correct timestamp 2015-08-29 00:00:00\n",
            "Fixed string with error ga160017 to correct timestamp 2016-01-17 00:00:00\n",
            "Fixed string with error gs161008 to correct timestamp 2016-10-08 00:00:00\n",
            "Fixed string with error ga170017 to correct timestamp 2017-01-17 00:00:00\n",
            "Fixed string with error ga182130 to correct timestamp 2018-12-30 00:00:00\n",
            "Fixed string with error ga192224 to correct timestamp 2019-12-24 00:00:00\n",
            "Fixed string with error ga210019 to correct timestamp 2021-01-19 00:00:00\n",
            "Fixed string with error ga221313 to correct timestamp 2022-12-13 00:00:00\n"
          ]
        }
      ]
    },
    {
      "cell_type": "markdown",
      "source": [
        "### Concatenating text from the same strips together in a single dataframe row\n",
        "\n",
        "As the .txt file the dataset is built upon contains text from the same strip on different lines, grouping by `stripID` is performed and the `text` features are concatenated using the `sum` operator for strings."
      ],
      "metadata": {
        "id": "uzGoPGEaC3M6"
      }
    },
    {
      "cell_type": "code",
      "source": [
        "unique_strips = len(df['stripID'].unique())\n",
        "print(f'Unique stripIDs in dataset: {unique_strips}. Total rows in dataset: {df.shape[0]}')"
      ],
      "metadata": {
        "id": "sZUxHbAKDzY-",
        "outputId": "a3425b85-f674-470d-bfea-ed726ae03951",
        "colab": {
          "base_uri": "https://localhost:8080/"
        },
        "execution": {
          "iopub.status.busy": "2023-02-06T14:00:14.861260Z",
          "iopub.execute_input": "2023-02-06T14:00:14.861648Z",
          "iopub.status.idle": "2023-02-06T14:00:14.872176Z",
          "shell.execute_reply.started": "2023-02-06T14:00:14.861612Z",
          "shell.execute_reply": "2023-02-06T14:00:14.871008Z"
        },
        "trusted": true
      },
      "execution_count": null,
      "outputs": [
        {
          "output_type": "stream",
          "name": "stdout",
          "text": [
            "Unique stripIDs in dataset: 16262. Total rows in dataset: 17126\n"
          ]
        }
      ]
    },
    {
      "cell_type": "code",
      "source": [
        "# groupd documents as same strip id\n",
        "df_grouped = df.groupby(\"stripID\", as_index=False).agg({'Date': 'first', 'text':'sum'})\n",
        "print(f'Unique stripIDs in dataset: {unique_strips}. Total rows now in dataset: {df_grouped.shape[0]}')\n",
        "df_grouped.head()"
      ],
      "metadata": {
        "id": "PhlXjSlY-5hB",
        "outputId": "007e6380-4e4b-4a49-f6f7-4b7a2c988190",
        "colab": {
          "base_uri": "https://localhost:8080/",
          "height": 224
        },
        "execution": {
          "iopub.status.busy": "2023-02-06T14:00:14.873885Z",
          "iopub.execute_input": "2023-02-06T14:00:14.875149Z",
          "iopub.status.idle": "2023-02-06T14:00:14.912533Z",
          "shell.execute_reply.started": "2023-02-06T14:00:14.875112Z",
          "shell.execute_reply": "2023-02-06T14:00:14.911591Z"
        },
        "trusted": true
      },
      "execution_count": null,
      "outputs": [
        {
          "output_type": "stream",
          "name": "stdout",
          "text": [
            "Unique stripIDs in dataset: 16262. Total rows now in dataset: 16262\n"
          ]
        },
        {
          "output_type": "execute_result",
          "data": {
            "text/plain": [
              "    stripID       Date                                               text\n",
              "0  ga000101 2000-01-01  A toast: to the new year! - clink - This does ...\n",
              "1  ga000102 2000-01-02         - - - - - - Happy new year. Not so louuud.\n",
              "2  ga000103 2000-01-03  Garfield, let's just sit here and think deep t...\n",
              "3  ga000104 2000-01-04  I take no pleasure in kicking Odie. - BOOT! - ...\n",
              "4  ga000105 2000-01-05  Getting a little plump, aren't we? Plump? - Pl..."
            ],
            "text/html": [
              "\n",
              "  <div id=\"df-fc34422a-993a-4dc9-846e-80ac8aa2df72\">\n",
              "    <div class=\"colab-df-container\">\n",
              "      <div>\n",
              "<style scoped>\n",
              "    .dataframe tbody tr th:only-of-type {\n",
              "        vertical-align: middle;\n",
              "    }\n",
              "\n",
              "    .dataframe tbody tr th {\n",
              "        vertical-align: top;\n",
              "    }\n",
              "\n",
              "    .dataframe thead th {\n",
              "        text-align: right;\n",
              "    }\n",
              "</style>\n",
              "<table border=\"1\" class=\"dataframe\">\n",
              "  <thead>\n",
              "    <tr style=\"text-align: right;\">\n",
              "      <th></th>\n",
              "      <th>stripID</th>\n",
              "      <th>Date</th>\n",
              "      <th>text</th>\n",
              "    </tr>\n",
              "  </thead>\n",
              "  <tbody>\n",
              "    <tr>\n",
              "      <th>0</th>\n",
              "      <td>ga000101</td>\n",
              "      <td>2000-01-01</td>\n",
              "      <td>A toast: to the new year! - clink - This does ...</td>\n",
              "    </tr>\n",
              "    <tr>\n",
              "      <th>1</th>\n",
              "      <td>ga000102</td>\n",
              "      <td>2000-01-02</td>\n",
              "      <td>- - - - - - Happy new year. Not so louuud.</td>\n",
              "    </tr>\n",
              "    <tr>\n",
              "      <th>2</th>\n",
              "      <td>ga000103</td>\n",
              "      <td>2000-01-03</td>\n",
              "      <td>Garfield, let's just sit here and think deep t...</td>\n",
              "    </tr>\n",
              "    <tr>\n",
              "      <th>3</th>\n",
              "      <td>ga000104</td>\n",
              "      <td>2000-01-04</td>\n",
              "      <td>I take no pleasure in kicking Odie. - BOOT! - ...</td>\n",
              "    </tr>\n",
              "    <tr>\n",
              "      <th>4</th>\n",
              "      <td>ga000105</td>\n",
              "      <td>2000-01-05</td>\n",
              "      <td>Getting a little plump, aren't we? Plump? - Pl...</td>\n",
              "    </tr>\n",
              "  </tbody>\n",
              "</table>\n",
              "</div>\n",
              "      <button class=\"colab-df-convert\" onclick=\"convertToInteractive('df-fc34422a-993a-4dc9-846e-80ac8aa2df72')\"\n",
              "              title=\"Convert this dataframe to an interactive table.\"\n",
              "              style=\"display:none;\">\n",
              "        \n",
              "  <svg xmlns=\"http://www.w3.org/2000/svg\" height=\"24px\"viewBox=\"0 0 24 24\"\n",
              "       width=\"24px\">\n",
              "    <path d=\"M0 0h24v24H0V0z\" fill=\"none\"/>\n",
              "    <path d=\"M18.56 5.44l.94 2.06.94-2.06 2.06-.94-2.06-.94-.94-2.06-.94 2.06-2.06.94zm-11 1L8.5 8.5l.94-2.06 2.06-.94-2.06-.94L8.5 2.5l-.94 2.06-2.06.94zm10 10l.94 2.06.94-2.06 2.06-.94-2.06-.94-.94-2.06-.94 2.06-2.06.94z\"/><path d=\"M17.41 7.96l-1.37-1.37c-.4-.4-.92-.59-1.43-.59-.52 0-1.04.2-1.43.59L10.3 9.45l-7.72 7.72c-.78.78-.78 2.05 0 2.83L4 21.41c.39.39.9.59 1.41.59.51 0 1.02-.2 1.41-.59l7.78-7.78 2.81-2.81c.8-.78.8-2.07 0-2.86zM5.41 20L4 18.59l7.72-7.72 1.47 1.35L5.41 20z\"/>\n",
              "  </svg>\n",
              "      </button>\n",
              "      \n",
              "  <style>\n",
              "    .colab-df-container {\n",
              "      display:flex;\n",
              "      flex-wrap:wrap;\n",
              "      gap: 12px;\n",
              "    }\n",
              "\n",
              "    .colab-df-convert {\n",
              "      background-color: #E8F0FE;\n",
              "      border: none;\n",
              "      border-radius: 50%;\n",
              "      cursor: pointer;\n",
              "      display: none;\n",
              "      fill: #1967D2;\n",
              "      height: 32px;\n",
              "      padding: 0 0 0 0;\n",
              "      width: 32px;\n",
              "    }\n",
              "\n",
              "    .colab-df-convert:hover {\n",
              "      background-color: #E2EBFA;\n",
              "      box-shadow: 0px 1px 2px rgba(60, 64, 67, 0.3), 0px 1px 3px 1px rgba(60, 64, 67, 0.15);\n",
              "      fill: #174EA6;\n",
              "    }\n",
              "\n",
              "    [theme=dark] .colab-df-convert {\n",
              "      background-color: #3B4455;\n",
              "      fill: #D2E3FC;\n",
              "    }\n",
              "\n",
              "    [theme=dark] .colab-df-convert:hover {\n",
              "      background-color: #434B5C;\n",
              "      box-shadow: 0px 1px 3px 1px rgba(0, 0, 0, 0.15);\n",
              "      filter: drop-shadow(0px 1px 2px rgba(0, 0, 0, 0.3));\n",
              "      fill: #FFFFFF;\n",
              "    }\n",
              "  </style>\n",
              "\n",
              "      <script>\n",
              "        const buttonEl =\n",
              "          document.querySelector('#df-fc34422a-993a-4dc9-846e-80ac8aa2df72 button.colab-df-convert');\n",
              "        buttonEl.style.display =\n",
              "          google.colab.kernel.accessAllowed ? 'block' : 'none';\n",
              "\n",
              "        async function convertToInteractive(key) {\n",
              "          const element = document.querySelector('#df-fc34422a-993a-4dc9-846e-80ac8aa2df72');\n",
              "          const dataTable =\n",
              "            await google.colab.kernel.invokeFunction('convertToInteractive',\n",
              "                                                     [key], {});\n",
              "          if (!dataTable) return;\n",
              "\n",
              "          const docLinkHtml = 'Like what you see? Visit the ' +\n",
              "            '<a target=\"_blank\" href=https://colab.research.google.com/notebooks/data_table.ipynb>data table notebook</a>'\n",
              "            + ' to learn more about interactive tables.';\n",
              "          element.innerHTML = '';\n",
              "          dataTable['output_type'] = 'display_data';\n",
              "          await google.colab.output.renderOutput(dataTable, element);\n",
              "          const docLink = document.createElement('div');\n",
              "          docLink.innerHTML = docLinkHtml;\n",
              "          element.appendChild(docLink);\n",
              "        }\n",
              "      </script>\n",
              "    </div>\n",
              "  </div>\n",
              "  "
            ]
          },
          "metadata": {},
          "execution_count": 9
        }
      ]
    },
    {
      "cell_type": "markdown",
      "source": [
        "### Sorting values by date\n",
        "\n",
        "Now the dataframe has strips ordered by date, with each strip text in a single row."
      ],
      "metadata": {
        "id": "ucRP6cvUEc5y"
      }
    },
    {
      "cell_type": "code",
      "source": [
        "df_sorted = df_grouped.sort_values(by='Date', ascending=True).reset_index(drop=True)\n",
        "df_sorted"
      ],
      "metadata": {
        "id": "z6dWUFne_3pM",
        "outputId": "24bf0784-be15-445a-e35e-296eafebabb5",
        "colab": {
          "base_uri": "https://localhost:8080/",
          "height": 424
        },
        "execution": {
          "iopub.status.busy": "2023-02-06T14:00:14.916676Z",
          "iopub.execute_input": "2023-02-06T14:00:14.917285Z",
          "iopub.status.idle": "2023-02-06T14:00:14.937331Z",
          "shell.execute_reply.started": "2023-02-06T14:00:14.917247Z",
          "shell.execute_reply": "2023-02-06T14:00:14.936476Z"
        },
        "trusted": true
      },
      "execution_count": null,
      "outputs": [
        {
          "output_type": "execute_result",
          "data": {
            "text/plain": [
              "        stripID       Date                                               text\n",
              "0      ga780619 1978-06-19  Hi, there...I'm Jon Arbuckle. I'm a cartoonist...\n",
              "1      ga780620 1978-06-20  Happy birthday, Garfield. I have a surprise fo...\n",
              "2      ga780621 1978-06-21  A MOUSE! GET IT! - Garfield! You didn't even t...\n",
              "3      ga780622 1978-06-22  I'm putting you on a diet, Garfield...here's y...\n",
              "4      ga780623 1978-06-23  - Ahhhhh... - Happiness is a warm television set.\n",
              "...         ...        ...                                                ...\n",
              "16257  ga230201 2023-02-01  Garfield... - Pizza is not a healthy breakfast...\n",
              "16258  ga230202 2023-02-02  What's the key to a successful diet? - Portion...\n",
              "16259  ga230203 2023-02-03  Jon, you've been sitting there a long time. - ...\n",
              "16260  ga230204 2023-02-04  Look! Irma's Diner just expanded their menu. -...\n",
              "16261  ga230205 2023-02-05  - - WAIT HERE FOR SURPRISE - - - - It's sure q...\n",
              "\n",
              "[16262 rows x 3 columns]"
            ],
            "text/html": [
              "\n",
              "  <div id=\"df-acb26da6-8fde-459d-a7cc-001bfa50a512\">\n",
              "    <div class=\"colab-df-container\">\n",
              "      <div>\n",
              "<style scoped>\n",
              "    .dataframe tbody tr th:only-of-type {\n",
              "        vertical-align: middle;\n",
              "    }\n",
              "\n",
              "    .dataframe tbody tr th {\n",
              "        vertical-align: top;\n",
              "    }\n",
              "\n",
              "    .dataframe thead th {\n",
              "        text-align: right;\n",
              "    }\n",
              "</style>\n",
              "<table border=\"1\" class=\"dataframe\">\n",
              "  <thead>\n",
              "    <tr style=\"text-align: right;\">\n",
              "      <th></th>\n",
              "      <th>stripID</th>\n",
              "      <th>Date</th>\n",
              "      <th>text</th>\n",
              "    </tr>\n",
              "  </thead>\n",
              "  <tbody>\n",
              "    <tr>\n",
              "      <th>0</th>\n",
              "      <td>ga780619</td>\n",
              "      <td>1978-06-19</td>\n",
              "      <td>Hi, there...I'm Jon Arbuckle. I'm a cartoonist...</td>\n",
              "    </tr>\n",
              "    <tr>\n",
              "      <th>1</th>\n",
              "      <td>ga780620</td>\n",
              "      <td>1978-06-20</td>\n",
              "      <td>Happy birthday, Garfield. I have a surprise fo...</td>\n",
              "    </tr>\n",
              "    <tr>\n",
              "      <th>2</th>\n",
              "      <td>ga780621</td>\n",
              "      <td>1978-06-21</td>\n",
              "      <td>A MOUSE! GET IT! - Garfield! You didn't even t...</td>\n",
              "    </tr>\n",
              "    <tr>\n",
              "      <th>3</th>\n",
              "      <td>ga780622</td>\n",
              "      <td>1978-06-22</td>\n",
              "      <td>I'm putting you on a diet, Garfield...here's y...</td>\n",
              "    </tr>\n",
              "    <tr>\n",
              "      <th>4</th>\n",
              "      <td>ga780623</td>\n",
              "      <td>1978-06-23</td>\n",
              "      <td>- Ahhhhh... - Happiness is a warm television set.</td>\n",
              "    </tr>\n",
              "    <tr>\n",
              "      <th>...</th>\n",
              "      <td>...</td>\n",
              "      <td>...</td>\n",
              "      <td>...</td>\n",
              "    </tr>\n",
              "    <tr>\n",
              "      <th>16257</th>\n",
              "      <td>ga230201</td>\n",
              "      <td>2023-02-01</td>\n",
              "      <td>Garfield... - Pizza is not a healthy breakfast...</td>\n",
              "    </tr>\n",
              "    <tr>\n",
              "      <th>16258</th>\n",
              "      <td>ga230202</td>\n",
              "      <td>2023-02-02</td>\n",
              "      <td>What's the key to a successful diet? - Portion...</td>\n",
              "    </tr>\n",
              "    <tr>\n",
              "      <th>16259</th>\n",
              "      <td>ga230203</td>\n",
              "      <td>2023-02-03</td>\n",
              "      <td>Jon, you've been sitting there a long time. - ...</td>\n",
              "    </tr>\n",
              "    <tr>\n",
              "      <th>16260</th>\n",
              "      <td>ga230204</td>\n",
              "      <td>2023-02-04</td>\n",
              "      <td>Look! Irma's Diner just expanded their menu. -...</td>\n",
              "    </tr>\n",
              "    <tr>\n",
              "      <th>16261</th>\n",
              "      <td>ga230205</td>\n",
              "      <td>2023-02-05</td>\n",
              "      <td>- - WAIT HERE FOR SURPRISE - - - - It's sure q...</td>\n",
              "    </tr>\n",
              "  </tbody>\n",
              "</table>\n",
              "<p>16262 rows × 3 columns</p>\n",
              "</div>\n",
              "      <button class=\"colab-df-convert\" onclick=\"convertToInteractive('df-acb26da6-8fde-459d-a7cc-001bfa50a512')\"\n",
              "              title=\"Convert this dataframe to an interactive table.\"\n",
              "              style=\"display:none;\">\n",
              "        \n",
              "  <svg xmlns=\"http://www.w3.org/2000/svg\" height=\"24px\"viewBox=\"0 0 24 24\"\n",
              "       width=\"24px\">\n",
              "    <path d=\"M0 0h24v24H0V0z\" fill=\"none\"/>\n",
              "    <path d=\"M18.56 5.44l.94 2.06.94-2.06 2.06-.94-2.06-.94-.94-2.06-.94 2.06-2.06.94zm-11 1L8.5 8.5l.94-2.06 2.06-.94-2.06-.94L8.5 2.5l-.94 2.06-2.06.94zm10 10l.94 2.06.94-2.06 2.06-.94-2.06-.94-.94-2.06-.94 2.06-2.06.94z\"/><path d=\"M17.41 7.96l-1.37-1.37c-.4-.4-.92-.59-1.43-.59-.52 0-1.04.2-1.43.59L10.3 9.45l-7.72 7.72c-.78.78-.78 2.05 0 2.83L4 21.41c.39.39.9.59 1.41.59.51 0 1.02-.2 1.41-.59l7.78-7.78 2.81-2.81c.8-.78.8-2.07 0-2.86zM5.41 20L4 18.59l7.72-7.72 1.47 1.35L5.41 20z\"/>\n",
              "  </svg>\n",
              "      </button>\n",
              "      \n",
              "  <style>\n",
              "    .colab-df-container {\n",
              "      display:flex;\n",
              "      flex-wrap:wrap;\n",
              "      gap: 12px;\n",
              "    }\n",
              "\n",
              "    .colab-df-convert {\n",
              "      background-color: #E8F0FE;\n",
              "      border: none;\n",
              "      border-radius: 50%;\n",
              "      cursor: pointer;\n",
              "      display: none;\n",
              "      fill: #1967D2;\n",
              "      height: 32px;\n",
              "      padding: 0 0 0 0;\n",
              "      width: 32px;\n",
              "    }\n",
              "\n",
              "    .colab-df-convert:hover {\n",
              "      background-color: #E2EBFA;\n",
              "      box-shadow: 0px 1px 2px rgba(60, 64, 67, 0.3), 0px 1px 3px 1px rgba(60, 64, 67, 0.15);\n",
              "      fill: #174EA6;\n",
              "    }\n",
              "\n",
              "    [theme=dark] .colab-df-convert {\n",
              "      background-color: #3B4455;\n",
              "      fill: #D2E3FC;\n",
              "    }\n",
              "\n",
              "    [theme=dark] .colab-df-convert:hover {\n",
              "      background-color: #434B5C;\n",
              "      box-shadow: 0px 1px 3px 1px rgba(0, 0, 0, 0.15);\n",
              "      filter: drop-shadow(0px 1px 2px rgba(0, 0, 0, 0.3));\n",
              "      fill: #FFFFFF;\n",
              "    }\n",
              "  </style>\n",
              "\n",
              "      <script>\n",
              "        const buttonEl =\n",
              "          document.querySelector('#df-acb26da6-8fde-459d-a7cc-001bfa50a512 button.colab-df-convert');\n",
              "        buttonEl.style.display =\n",
              "          google.colab.kernel.accessAllowed ? 'block' : 'none';\n",
              "\n",
              "        async function convertToInteractive(key) {\n",
              "          const element = document.querySelector('#df-acb26da6-8fde-459d-a7cc-001bfa50a512');\n",
              "          const dataTable =\n",
              "            await google.colab.kernel.invokeFunction('convertToInteractive',\n",
              "                                                     [key], {});\n",
              "          if (!dataTable) return;\n",
              "\n",
              "          const docLinkHtml = 'Like what you see? Visit the ' +\n",
              "            '<a target=\"_blank\" href=https://colab.research.google.com/notebooks/data_table.ipynb>data table notebook</a>'\n",
              "            + ' to learn more about interactive tables.';\n",
              "          element.innerHTML = '';\n",
              "          dataTable['output_type'] = 'display_data';\n",
              "          await google.colab.output.renderOutput(dataTable, element);\n",
              "          const docLink = document.createElement('div');\n",
              "          docLink.innerHTML = docLinkHtml;\n",
              "          element.appendChild(docLink);\n",
              "        }\n",
              "      </script>\n",
              "    </div>\n",
              "  </div>\n",
              "  "
            ]
          },
          "metadata": {},
          "execution_count": 10
        }
      ]
    },
    {
      "cell_type": "code",
      "source": [
        "garfield_start = df_sorted['Date'].iloc[0]\n",
        "garfield_current = df_sorted['Date'].iloc[-1]\n",
        "garfield_yearspan = np.floor((garfield_current - garfield_start).days / 365.25).astype('int')\n",
        "print(f'The Garfield comic has been around from {garfield_start.strftime(\"%B %Y\")} to {garfield_current.strftime(\"%B %Y\")}, i.e. around {garfield_yearspan} years.')"
      ],
      "metadata": {
        "id": "31ePQRM6FZFa",
        "outputId": "3181340f-d6ff-49b0-d577-c20c2f73ecde",
        "colab": {
          "base_uri": "https://localhost:8080/"
        },
        "execution": {
          "iopub.status.busy": "2023-02-06T14:00:14.938522Z",
          "iopub.execute_input": "2023-02-06T14:00:14.938981Z",
          "iopub.status.idle": "2023-02-06T14:00:14.947899Z",
          "shell.execute_reply.started": "2023-02-06T14:00:14.938943Z",
          "shell.execute_reply": "2023-02-06T14:00:14.946575Z"
        },
        "trusted": true
      },
      "execution_count": null,
      "outputs": [
        {
          "output_type": "stream",
          "name": "stdout",
          "text": [
            "The Garfield comic has been around from June 1978 to February 2023, i.e. around 44 years.\n"
          ]
        }
      ]
    },
    {
      "cell_type": "markdown",
      "source": [
        "### Adding links to the strips in dataframe\n",
        "\n",
        "Just for fun."
      ],
      "metadata": {
        "id": "22mQDE8h3jke"
      }
    },
    {
      "cell_type": "code",
      "source": [
        "from IPython.display import HTML # link visualization\n",
        "def make_clickable(url, name):\n",
        "    return '<a href=\"{}\" rel=\"noopener noreferrer\" target=\"_blank\">{}</a>'.format(url,name)"
      ],
      "metadata": {
        "id": "BvOKA1dh4l1-",
        "execution": {
          "iopub.status.busy": "2023-02-06T14:00:14.949696Z",
          "iopub.execute_input": "2023-02-06T14:00:14.950880Z",
          "iopub.status.idle": "2023-02-06T14:00:14.958809Z",
          "shell.execute_reply.started": "2023-02-06T14:00:14.950838Z",
          "shell.execute_reply": "2023-02-06T14:00:14.957829Z"
        },
        "trusted": true
      },
      "execution_count": null,
      "outputs": []
    },
    {
      "cell_type": "code",
      "source": [
        "# site url\n",
        "comic_site_url = 'https://www.gocomics.com/garfield/'\n",
        "# Add url column to dataframe\n",
        "df_sorted['url'] = df_sorted['Date'].apply(lambda date: comic_site_url + date.strftime('%Y/%m/%d')).apply(lambda url: make_clickable(url=url, name='Comic'))"
      ],
      "metadata": {
        "id": "x2bMHv2I3uZ-",
        "execution": {
          "iopub.status.busy": "2023-02-06T14:00:14.962068Z",
          "iopub.execute_input": "2023-02-06T14:00:14.962508Z",
          "iopub.status.idle": "2023-02-06T14:00:15.083127Z",
          "shell.execute_reply.started": "2023-02-06T14:00:14.962478Z",
          "shell.execute_reply": "2023-02-06T14:00:15.082163Z"
        },
        "trusted": true
      },
      "execution_count": null,
      "outputs": []
    },
    {
      "cell_type": "code",
      "source": [
        "df_sorted.head().style"
      ],
      "metadata": {
        "id": "uE5l0oUP3skE",
        "outputId": "1a5ed764-1d28-46a1-c565-9a034ad301ac",
        "colab": {
          "base_uri": "https://localhost:8080/",
          "height": 206
        },
        "execution": {
          "iopub.status.busy": "2023-02-06T14:00:15.084668Z",
          "iopub.execute_input": "2023-02-06T14:00:15.085110Z",
          "iopub.status.idle": "2023-02-06T14:00:15.147468Z",
          "shell.execute_reply.started": "2023-02-06T14:00:15.085071Z",
          "shell.execute_reply": "2023-02-06T14:00:15.146507Z"
        },
        "trusted": true
      },
      "execution_count": null,
      "outputs": [
        {
          "output_type": "execute_result",
          "data": {
            "text/plain": [
              "<pandas.io.formats.style.Styler at 0x7efc215362b0>"
            ],
            "text/html": [
              "<style type=\"text/css\">\n",
              "</style>\n",
              "<table id=\"T_fa285_\" class=\"dataframe\">\n",
              "  <thead>\n",
              "    <tr>\n",
              "      <th class=\"blank level0\" >&nbsp;</th>\n",
              "      <th class=\"col_heading level0 col0\" >stripID</th>\n",
              "      <th class=\"col_heading level0 col1\" >Date</th>\n",
              "      <th class=\"col_heading level0 col2\" >text</th>\n",
              "      <th class=\"col_heading level0 col3\" >url</th>\n",
              "    </tr>\n",
              "  </thead>\n",
              "  <tbody>\n",
              "    <tr>\n",
              "      <th id=\"T_fa285_level0_row0\" class=\"row_heading level0 row0\" >0</th>\n",
              "      <td id=\"T_fa285_row0_col0\" class=\"data row0 col0\" >ga780619</td>\n",
              "      <td id=\"T_fa285_row0_col1\" class=\"data row0 col1\" >1978-06-19 00:00:00</td>\n",
              "      <td id=\"T_fa285_row0_col2\" class=\"data row0 col2\" >Hi, there...I'm Jon Arbuckle. I'm a cartoonist, and this is my cat, Garfield. - Hi, there. I'm Garfield. I'm a cat, and this is my cartoonist, Jon. - Our only thought is to entertain you. Feed me.</td>\n",
              "      <td id=\"T_fa285_row0_col3\" class=\"data row0 col3\" ><a href=\"https://www.gocomics.com/garfield/1978/06/19\" rel=\"noopener noreferrer\" target=\"_blank\">Comic</a></td>\n",
              "    </tr>\n",
              "    <tr>\n",
              "      <th id=\"T_fa285_level0_row1\" class=\"row_heading level0 row1\" >1</th>\n",
              "      <td id=\"T_fa285_row1_col0\" class=\"data row1 col0\" >ga780620</td>\n",
              "      <td id=\"T_fa285_row1_col1\" class=\"data row1 col1\" >1978-06-20 00:00:00</td>\n",
              "      <td id=\"T_fa285_row1_col2\" class=\"data row1 col2\" >Happy birthday, Garfield. I have a surprise for you. - A rubber mousey! - Could've used a little salt...</td>\n",
              "      <td id=\"T_fa285_row1_col3\" class=\"data row1 col3\" ><a href=\"https://www.gocomics.com/garfield/1978/06/20\" rel=\"noopener noreferrer\" target=\"_blank\">Comic</a></td>\n",
              "    </tr>\n",
              "    <tr>\n",
              "      <th id=\"T_fa285_level0_row2\" class=\"row_heading level0 row2\" >2</th>\n",
              "      <td id=\"T_fa285_row2_col0\" class=\"data row2 col0\" >ga780621</td>\n",
              "      <td id=\"T_fa285_row2_col1\" class=\"data row2 col1\" >1978-06-21 00:00:00</td>\n",
              "      <td id=\"T_fa285_row2_col2\" class=\"data row2 col2\" >A MOUSE! GET IT! - Garfield! You didn't even try! - Show me a good mouser, and I'll show you a cat with bad breath.</td>\n",
              "      <td id=\"T_fa285_row2_col3\" class=\"data row2 col3\" ><a href=\"https://www.gocomics.com/garfield/1978/06/21\" rel=\"noopener noreferrer\" target=\"_blank\">Comic</a></td>\n",
              "    </tr>\n",
              "    <tr>\n",
              "      <th id=\"T_fa285_level0_row3\" class=\"row_heading level0 row3\" >3</th>\n",
              "      <td id=\"T_fa285_row3_col0\" class=\"data row3 col0\" >ga780622</td>\n",
              "      <td id=\"T_fa285_row3_col1\" class=\"data row3 col1\" >1978-06-22 00:00:00</td>\n",
              "      <td id=\"T_fa285_row3_col2\" class=\"data row3 col2\" >I'm putting you on a diet, Garfield...here's your dinner. - WHA... -</td>\n",
              "      <td id=\"T_fa285_row3_col3\" class=\"data row3 col3\" ><a href=\"https://www.gocomics.com/garfield/1978/06/22\" rel=\"noopener noreferrer\" target=\"_blank\">Comic</a></td>\n",
              "    </tr>\n",
              "    <tr>\n",
              "      <th id=\"T_fa285_level0_row4\" class=\"row_heading level0 row4\" >4</th>\n",
              "      <td id=\"T_fa285_row4_col0\" class=\"data row4 col0\" >ga780623</td>\n",
              "      <td id=\"T_fa285_row4_col1\" class=\"data row4 col1\" >1978-06-23 00:00:00</td>\n",
              "      <td id=\"T_fa285_row4_col2\" class=\"data row4 col2\" >- Ahhhhh... - Happiness is a warm television set.</td>\n",
              "      <td id=\"T_fa285_row4_col3\" class=\"data row4 col3\" ><a href=\"https://www.gocomics.com/garfield/1978/06/23\" rel=\"noopener noreferrer\" target=\"_blank\">Comic</a></td>\n",
              "    </tr>\n",
              "  </tbody>\n",
              "</table>\n"
            ]
          },
          "metadata": {},
          "execution_count": 14
        }
      ]
    },
    {
      "cell_type": "markdown",
      "source": [
        "## Text preprocessing and dictionary creation\n",
        "\n",
        "Starting from the term document matrix. \n",
        "\n",
        "- Topic extraction using LSA.\n",
        "- Retrieval of strips given a textual query using cosine distance in LSA space.\n",
        "\n",
        "Comments: The document representation approach that is used is the BoW with plain term-document frequencies. Another approach could have been one that uses positional information of a word in the strip, or also using TF-IDF values in the BoW. As the strips are made of few words, just normal term counts should be enough."
      ],
      "metadata": {
        "id": "X-YSYRAWBfto"
      }
    },
    {
      "cell_type": "code",
      "source": [
        "#from gensim import corpora\n",
        "from gensim.parsing.preprocessing import remove_stopwords, strip_punctuation, preprocess_string, strip_short, stem_text\n",
        "\n",
        "# lemmatizing over stemming\n",
        "import nltk\n",
        "nltk.download('wordnet')\n",
        "nltk.download('omw-1.4')\n",
        "from nltk.stem import WordNetLemmatizer\n",
        "wnlem = WordNetLemmatizer()\n",
        "\n",
        "# preprocess given text\n",
        "def preprocess(text):\n",
        "    # clean text based on given filters\n",
        "    CUSTOM_FILTERS = [lambda x: x.lower(), \n",
        "                                remove_stopwords, \n",
        "                                strip_punctuation, \n",
        "                                strip_short, \n",
        "                                #stem_text]\n",
        "                                wnlem.lemmatize]\n",
        "    #]\n",
        "    text = preprocess_string(text, CUSTOM_FILTERS)\n",
        "    \n",
        "    return text\n",
        "\n",
        "# apply function to all reviews \n",
        "df_sorted['tokens'] = df_sorted['text'].apply(lambda x: preprocess(x))\n",
        "df_sorted.head()"
      ],
      "metadata": {
        "id": "AIYWkPM55gtx",
        "outputId": "ae23c05e-1234-4565-95f6-3f6a3eef3f99",
        "colab": {
          "base_uri": "https://localhost:8080/",
          "height": 242
        },
        "execution": {
          "iopub.status.busy": "2023-02-06T14:00:15.148779Z",
          "iopub.execute_input": "2023-02-06T14:00:15.149129Z",
          "iopub.status.idle": "2023-02-06T14:00:18.751805Z",
          "shell.execute_reply.started": "2023-02-06T14:00:15.149094Z",
          "shell.execute_reply": "2023-02-06T14:00:18.750813Z"
        },
        "trusted": true
      },
      "execution_count": null,
      "outputs": [
        {
          "output_type": "stream",
          "name": "stderr",
          "text": [
            "[nltk_data] Downloading package wordnet to /root/nltk_data...\n",
            "[nltk_data] Downloading package omw-1.4 to /root/nltk_data...\n"
          ]
        },
        {
          "output_type": "execute_result",
          "data": {
            "text/plain": [
              "    stripID       Date                                               text  \\\n",
              "0  ga780619 1978-06-19  Hi, there...I'm Jon Arbuckle. I'm a cartoonist...   \n",
              "1  ga780620 1978-06-20  Happy birthday, Garfield. I have a surprise fo...   \n",
              "2  ga780621 1978-06-21  A MOUSE! GET IT! - Garfield! You didn't even t...   \n",
              "3  ga780622 1978-06-22  I'm putting you on a diet, Garfield...here's y...   \n",
              "4  ga780623 1978-06-23  - Ahhhhh... - Happiness is a warm television set.   \n",
              "\n",
              "                                                 url  \\\n",
              "0  <a href=\"https://www.gocomics.com/garfield/197...   \n",
              "1  <a href=\"https://www.gocomics.com/garfield/197...   \n",
              "2  <a href=\"https://www.gocomics.com/garfield/197...   \n",
              "3  <a href=\"https://www.gocomics.com/garfield/197...   \n",
              "4  <a href=\"https://www.gocomics.com/garfield/197...   \n",
              "\n",
              "                                              tokens  \n",
              "0  [there, jon, arbuckle, cartoonist, cat, garfie...  \n",
              "1  [happy, birthday, garfield, surprise, you, rub...  \n",
              "2  [mouse, garfield, didn, try, good, mouser, cat...  \n",
              "3       [putting, diet, garfield, here, dinner, wha]  \n",
              "4         [ahhhhh, happiness, warm, television, set]  "
            ],
            "text/html": [
              "\n",
              "  <div id=\"df-dbdba14b-0ab2-49a6-a4cc-23cbbee7eea1\">\n",
              "    <div class=\"colab-df-container\">\n",
              "      <div>\n",
              "<style scoped>\n",
              "    .dataframe tbody tr th:only-of-type {\n",
              "        vertical-align: middle;\n",
              "    }\n",
              "\n",
              "    .dataframe tbody tr th {\n",
              "        vertical-align: top;\n",
              "    }\n",
              "\n",
              "    .dataframe thead th {\n",
              "        text-align: right;\n",
              "    }\n",
              "</style>\n",
              "<table border=\"1\" class=\"dataframe\">\n",
              "  <thead>\n",
              "    <tr style=\"text-align: right;\">\n",
              "      <th></th>\n",
              "      <th>stripID</th>\n",
              "      <th>Date</th>\n",
              "      <th>text</th>\n",
              "      <th>url</th>\n",
              "      <th>tokens</th>\n",
              "    </tr>\n",
              "  </thead>\n",
              "  <tbody>\n",
              "    <tr>\n",
              "      <th>0</th>\n",
              "      <td>ga780619</td>\n",
              "      <td>1978-06-19</td>\n",
              "      <td>Hi, there...I'm Jon Arbuckle. I'm a cartoonist...</td>\n",
              "      <td>&lt;a href=\"https://www.gocomics.com/garfield/197...</td>\n",
              "      <td>[there, jon, arbuckle, cartoonist, cat, garfie...</td>\n",
              "    </tr>\n",
              "    <tr>\n",
              "      <th>1</th>\n",
              "      <td>ga780620</td>\n",
              "      <td>1978-06-20</td>\n",
              "      <td>Happy birthday, Garfield. I have a surprise fo...</td>\n",
              "      <td>&lt;a href=\"https://www.gocomics.com/garfield/197...</td>\n",
              "      <td>[happy, birthday, garfield, surprise, you, rub...</td>\n",
              "    </tr>\n",
              "    <tr>\n",
              "      <th>2</th>\n",
              "      <td>ga780621</td>\n",
              "      <td>1978-06-21</td>\n",
              "      <td>A MOUSE! GET IT! - Garfield! You didn't even t...</td>\n",
              "      <td>&lt;a href=\"https://www.gocomics.com/garfield/197...</td>\n",
              "      <td>[mouse, garfield, didn, try, good, mouser, cat...</td>\n",
              "    </tr>\n",
              "    <tr>\n",
              "      <th>3</th>\n",
              "      <td>ga780622</td>\n",
              "      <td>1978-06-22</td>\n",
              "      <td>I'm putting you on a diet, Garfield...here's y...</td>\n",
              "      <td>&lt;a href=\"https://www.gocomics.com/garfield/197...</td>\n",
              "      <td>[putting, diet, garfield, here, dinner, wha]</td>\n",
              "    </tr>\n",
              "    <tr>\n",
              "      <th>4</th>\n",
              "      <td>ga780623</td>\n",
              "      <td>1978-06-23</td>\n",
              "      <td>- Ahhhhh... - Happiness is a warm television set.</td>\n",
              "      <td>&lt;a href=\"https://www.gocomics.com/garfield/197...</td>\n",
              "      <td>[ahhhhh, happiness, warm, television, set]</td>\n",
              "    </tr>\n",
              "  </tbody>\n",
              "</table>\n",
              "</div>\n",
              "      <button class=\"colab-df-convert\" onclick=\"convertToInteractive('df-dbdba14b-0ab2-49a6-a4cc-23cbbee7eea1')\"\n",
              "              title=\"Convert this dataframe to an interactive table.\"\n",
              "              style=\"display:none;\">\n",
              "        \n",
              "  <svg xmlns=\"http://www.w3.org/2000/svg\" height=\"24px\"viewBox=\"0 0 24 24\"\n",
              "       width=\"24px\">\n",
              "    <path d=\"M0 0h24v24H0V0z\" fill=\"none\"/>\n",
              "    <path d=\"M18.56 5.44l.94 2.06.94-2.06 2.06-.94-2.06-.94-.94-2.06-.94 2.06-2.06.94zm-11 1L8.5 8.5l.94-2.06 2.06-.94-2.06-.94L8.5 2.5l-.94 2.06-2.06.94zm10 10l.94 2.06.94-2.06 2.06-.94-2.06-.94-.94-2.06-.94 2.06-2.06.94z\"/><path d=\"M17.41 7.96l-1.37-1.37c-.4-.4-.92-.59-1.43-.59-.52 0-1.04.2-1.43.59L10.3 9.45l-7.72 7.72c-.78.78-.78 2.05 0 2.83L4 21.41c.39.39.9.59 1.41.59.51 0 1.02-.2 1.41-.59l7.78-7.78 2.81-2.81c.8-.78.8-2.07 0-2.86zM5.41 20L4 18.59l7.72-7.72 1.47 1.35L5.41 20z\"/>\n",
              "  </svg>\n",
              "      </button>\n",
              "      \n",
              "  <style>\n",
              "    .colab-df-container {\n",
              "      display:flex;\n",
              "      flex-wrap:wrap;\n",
              "      gap: 12px;\n",
              "    }\n",
              "\n",
              "    .colab-df-convert {\n",
              "      background-color: #E8F0FE;\n",
              "      border: none;\n",
              "      border-radius: 50%;\n",
              "      cursor: pointer;\n",
              "      display: none;\n",
              "      fill: #1967D2;\n",
              "      height: 32px;\n",
              "      padding: 0 0 0 0;\n",
              "      width: 32px;\n",
              "    }\n",
              "\n",
              "    .colab-df-convert:hover {\n",
              "      background-color: #E2EBFA;\n",
              "      box-shadow: 0px 1px 2px rgba(60, 64, 67, 0.3), 0px 1px 3px 1px rgba(60, 64, 67, 0.15);\n",
              "      fill: #174EA6;\n",
              "    }\n",
              "\n",
              "    [theme=dark] .colab-df-convert {\n",
              "      background-color: #3B4455;\n",
              "      fill: #D2E3FC;\n",
              "    }\n",
              "\n",
              "    [theme=dark] .colab-df-convert:hover {\n",
              "      background-color: #434B5C;\n",
              "      box-shadow: 0px 1px 3px 1px rgba(0, 0, 0, 0.15);\n",
              "      filter: drop-shadow(0px 1px 2px rgba(0, 0, 0, 0.3));\n",
              "      fill: #FFFFFF;\n",
              "    }\n",
              "  </style>\n",
              "\n",
              "      <script>\n",
              "        const buttonEl =\n",
              "          document.querySelector('#df-dbdba14b-0ab2-49a6-a4cc-23cbbee7eea1 button.colab-df-convert');\n",
              "        buttonEl.style.display =\n",
              "          google.colab.kernel.accessAllowed ? 'block' : 'none';\n",
              "\n",
              "        async function convertToInteractive(key) {\n",
              "          const element = document.querySelector('#df-dbdba14b-0ab2-49a6-a4cc-23cbbee7eea1');\n",
              "          const dataTable =\n",
              "            await google.colab.kernel.invokeFunction('convertToInteractive',\n",
              "                                                     [key], {});\n",
              "          if (!dataTable) return;\n",
              "\n",
              "          const docLinkHtml = 'Like what you see? Visit the ' +\n",
              "            '<a target=\"_blank\" href=https://colab.research.google.com/notebooks/data_table.ipynb>data table notebook</a>'\n",
              "            + ' to learn more about interactive tables.';\n",
              "          element.innerHTML = '';\n",
              "          dataTable['output_type'] = 'display_data';\n",
              "          await google.colab.output.renderOutput(dataTable, element);\n",
              "          const docLink = document.createElement('div');\n",
              "          docLink.innerHTML = docLinkHtml;\n",
              "          element.appendChild(docLink);\n",
              "        }\n",
              "      </script>\n",
              "    </div>\n",
              "  </div>\n",
              "  "
            ]
          },
          "metadata": {},
          "execution_count": 15
        }
      ]
    },
    {
      "cell_type": "markdown",
      "source": [
        "The `corpus` is the document matrix.\n",
        "\n",
        "The `dictionary` maps each text token to a numerical id.\n",
        "\n",
        "Collection frequencies `dictionary.cfs`: token_id $→$ how many instances of this token are contained in the documents.\n",
        "\n",
        "The `bow` (Bag of Words) contains one list per document. Each document list contains tuples of (`word index`, `n. of occurrences`)."
      ],
      "metadata": {
        "id": "RUcv7Zl1IzS4"
      }
    },
    {
      "cell_type": "code",
      "source": [
        "from gensim import corpora\n",
        "# create a dictionary with the corpus\n",
        "corpus = df_sorted['tokens']\n",
        "dictionary = corpora.Dictionary(corpus)\n",
        "\n",
        "# convert corpus into a bag of words\n",
        "bow = [dictionary.doc2bow(text) for text in corpus]"
      ],
      "metadata": {
        "id": "ctnynPr_8h5V",
        "execution": {
          "iopub.status.busy": "2023-02-06T14:00:18.753204Z",
          "iopub.execute_input": "2023-02-06T14:00:18.753756Z",
          "iopub.status.idle": "2023-02-06T14:00:19.464030Z",
          "shell.execute_reply.started": "2023-02-06T14:00:18.753720Z",
          "shell.execute_reply": "2023-02-06T14:00:19.462929Z"
        },
        "trusted": true
      },
      "execution_count": null,
      "outputs": []
    },
    {
      "cell_type": "code",
      "source": [
        "print(corpus, end='\\n'+'-'*100 + '\\n')\n",
        "print(dictionary, end='\\n'+'-'*100 + '\\n')\n",
        "print(bow[0], end='\\n'+'-'*100 + '\\n')\n",
        "#print(dictionary.cfs, end='\\n'+'-'*100 + '\\n')\n",
        "print(f'tokens in dictionary: {len(dictionary)}', end='\\n'+'-'*100 + '\\n')"
      ],
      "metadata": {
        "id": "9pboyjWwIrlt",
        "outputId": "e8108a4d-126a-476a-c457-4abbc5a87b72",
        "colab": {
          "base_uri": "https://localhost:8080/"
        },
        "execution": {
          "iopub.status.busy": "2023-02-06T14:00:19.465906Z",
          "iopub.execute_input": "2023-02-06T14:00:19.466329Z",
          "iopub.status.idle": "2023-02-06T14:00:19.478206Z",
          "shell.execute_reply.started": "2023-02-06T14:00:19.466289Z",
          "shell.execute_reply": "2023-02-06T14:00:19.477033Z"
        },
        "trusted": true
      },
      "execution_count": null,
      "outputs": [
        {
          "output_type": "stream",
          "name": "stdout",
          "text": [
            "0        [there, jon, arbuckle, cartoonist, cat, garfie...\n",
            "1        [happy, birthday, garfield, surprise, you, rub...\n",
            "2        [mouse, garfield, didn, try, good, mouser, cat...\n",
            "3             [putting, diet, garfield, here, dinner, wha]\n",
            "4               [ahhhhh, happiness, warm, television, set]\n",
            "                               ...                        \n",
            "16257    [garfield, pizza, healthy, breakfast, munch, m...\n",
            "16258    [what, key, successful, diet, portion, control...\n",
            "16259    [jon, you, sitting, long, time, bought, exerci...\n",
            "16260    [look, irma, diner, expanded, menu, added, kin...\n",
            "16261       [wait, surprise, sure, quiet, today, surprise]\n",
            "Name: tokens, Length: 16262, dtype: object\n",
            "----------------------------------------------------------------------------------------------------\n",
            "Dictionary(17190 unique tokens: ['arbuckle', 'cartoonist', 'cat', 'entertain', 'feed']...)\n",
            "----------------------------------------------------------------------------------------------------\n",
            "[(0, 1), (1, 2), (2, 2), (3, 1), (4, 1), (5, 2), (6, 2), (7, 2), (8, 1), (9, 1)]\n",
            "----------------------------------------------------------------------------------------------------\n",
            "tokens in dictionary: 17190\n",
            "----------------------------------------------------------------------------------------------------\n"
          ]
        }
      ]
    },
    {
      "cell_type": "markdown",
      "source": [
        "## Exploratory statistics\n",
        "\n",
        "We count the most common words in the comic strip, plot the amount of words in each strip across the Garfield comic lifespan."
      ],
      "metadata": {
        "id": "NiV7KH_GX2x9"
      }
    },
    {
      "cell_type": "markdown",
      "source": [
        "### Top 100 most frequent words\n"
      ],
      "metadata": {
        "id": "2-kI9i9pinX_"
      }
    },
    {
      "cell_type": "code",
      "source": [
        "word_id_sorted_by_frequency = sorted(dictionary.cfs, key=dictionary.cfs.get, reverse=True)\n",
        "words_sorted_by_frequency = [dictionary[word_id] for word_id in word_id_sorted_by_frequency]\n",
        "freqs = [dictionary.cfs[word_id] for word_id in word_id_sorted_by_frequency]"
      ],
      "metadata": {
        "id": "6kG28K6TQYt1",
        "execution": {
          "iopub.status.busy": "2023-02-06T14:00:19.479693Z",
          "iopub.execute_input": "2023-02-06T14:00:19.480720Z",
          "iopub.status.idle": "2023-02-06T14:00:19.513073Z",
          "shell.execute_reply.started": "2023-02-06T14:00:19.480678Z",
          "shell.execute_reply": "2023-02-06T14:00:19.511914Z"
        },
        "trusted": true
      },
      "execution_count": null,
      "outputs": []
    },
    {
      "cell_type": "code",
      "source": [
        "top_100_words = words_sorted_by_frequency[0:100]\n",
        "top_100_freqs = freqs[0:100]\n",
        "\n",
        "plt.figure(figsize=(20,10))\n",
        "plt.xticks(rotation = (45), fontsize = 10, va='top', ha='right')\n",
        "\n",
        "sns.barplot(x=top_100_words, y=top_100_freqs).set(title='Top 100 word frequencies')\n",
        "plt.show()"
      ],
      "metadata": {
        "id": "f7nYecvUS4sR",
        "outputId": "ae9276bb-6dac-4727-bccf-323c1639eb73",
        "colab": {
          "base_uri": "https://localhost:8080/",
          "height": 639
        },
        "execution": {
          "iopub.status.busy": "2023-02-06T14:00:19.514486Z",
          "iopub.execute_input": "2023-02-06T14:00:19.515466Z",
          "iopub.status.idle": "2023-02-06T14:00:20.939334Z",
          "shell.execute_reply.started": "2023-02-06T14:00:19.515427Z",
          "shell.execute_reply": "2023-02-06T14:00:20.938373Z"
        },
        "trusted": true
      },
      "execution_count": null,
      "outputs": [
        {
          "output_type": "display_data",
          "data": {
            "text/plain": [
              "<Figure size 1440x720 with 1 Axes>"
            ],
            "image/png": "[encoded data removed]"
          },
          "metadata": {
            "needs_background": "light"
          }
        }
      ]
    },
    {
      "cell_type": "markdown",
      "source": [
        "### Document length"
      ],
      "metadata": {
        "id": "YkYZLeeXXIrM"
      }
    },
    {
      "cell_type": "code",
      "source": [
        "# map document -> token count\n",
        "word_counts = corpus.apply(lambda doc: len(doc))\n",
        "word_counts_stats = word_counts.describe()\n",
        "print(word_counts_stats)\n",
        "# mark shorter documents apart from the rest\n",
        "word_colors = word_counts.apply(lambda c: '#tokens $\\\\leq 2$' if c <= 2 else '#tokens $\\\\geq 2$')"
      ],
      "metadata": {
        "id": "R2vqnrxqtDeg",
        "outputId": "f9d0f111-d264-465a-b824-12871ed39e9b",
        "colab": {
          "base_uri": "https://localhost:8080/"
        },
        "execution": {
          "iopub.status.busy": "2023-02-06T14:00:20.940935Z",
          "iopub.execute_input": "2023-02-06T14:00:20.941568Z",
          "iopub.status.idle": "2023-02-06T14:00:20.968267Z",
          "shell.execute_reply.started": "2023-02-06T14:00:20.941528Z",
          "shell.execute_reply": "2023-02-06T14:00:20.967390Z"
        },
        "trusted": true
      },
      "execution_count": null,
      "outputs": [
        {
          "output_type": "stream",
          "name": "stdout",
          "text": [
            "count    16262.000000\n",
            "mean        10.999693\n",
            "std          7.118157\n",
            "min          0.000000\n",
            "25%          7.000000\n",
            "50%         10.000000\n",
            "75%         14.000000\n",
            "max        157.000000\n",
            "Name: tokens, dtype: float64\n"
          ]
        }
      ]
    },
    {
      "cell_type": "code",
      "source": [
        "plt.figure(figsize=(20,10))\n",
        "# plot colored word counts as scatter points\n",
        "ax = sns.scatterplot(x=df_sorted.index.array, y=word_counts, hue=word_colors).set(title='Document length')\n",
        "# plot mean\n",
        "plt.hlines(xmin=0, xmax=np.max(df_sorted.index.array), y=word_counts_stats['mean'], color='red', label='mean')\n",
        "plt.xlabel('doc. index')\n",
        "plt.ylabel('#tokens')\n",
        "plt.margins(x=0, y=0)\n",
        "plt.legend()\n",
        "plt.show()\n",
        "del ax, word_colors"
      ],
      "metadata": {
        "id": "tIaFgIVOi2z7",
        "outputId": "b3a129e7-d238-4ee2-b112-d5707215a472",
        "colab": {
          "base_uri": "https://localhost:8080/",
          "height": 621
        },
        "execution": {
          "iopub.status.busy": "2023-02-06T14:00:20.969654Z",
          "iopub.execute_input": "2023-02-06T14:00:20.970119Z",
          "iopub.status.idle": "2023-02-06T14:00:22.026197Z",
          "shell.execute_reply.started": "2023-02-06T14:00:20.970082Z",
          "shell.execute_reply": "2023-02-06T14:00:22.025317Z"
        },
        "trusted": true
      },
      "execution_count": null,
      "outputs": [
        {
          "output_type": "display_data",
          "data": {
            "text/plain": [
              "<Figure size 1440x720 with 1 Axes>"
            ],
            "image/png": "[encoded data removed]"
          },
          "metadata": {
            "needs_background": "light"
          }
        }
      ]
    },
    {
      "cell_type": "code",
      "source": [
        "pd.set_option('display.max_colwidth', None)\n",
        "longest_strip_idx = np.argmax(word_counts)\n",
        "print(df_sorted.loc[longest_strip_idx, 'text'])"
      ],
      "metadata": {
        "id": "vsBsGuR8oltn",
        "outputId": "5176c858-df66-4f69-f03a-dcba3f4a1efc",
        "colab": {
          "base_uri": "https://localhost:8080/"
        },
        "execution": {
          "iopub.status.busy": "2023-02-06T14:00:22.027259Z",
          "iopub.execute_input": "2023-02-06T14:00:22.027645Z",
          "iopub.status.idle": "2023-02-06T14:00:22.037524Z",
          "shell.execute_reply.started": "2023-02-06T14:00:22.027609Z",
          "shell.execute_reply": "2023-02-06T14:00:22.036523Z"
        },
        "trusted": true
      },
      "execution_count": null,
      "outputs": [
        {
          "output_type": "stream",
          "name": "stdout",
          "text": [
            "beep beep bip bip beep boop beep - boop bip beep boop beep boop boop bip beep bip beep bip boop bip beep - boop bip bip bip boop beep beepbip beep bip boop beep boop bip beep bip bip boop beep beep bip boop beep bip beep bip bip boop beep bipbeep - beep beep boop bip boop bip bip bip beep bip boop boop boop beep boop bip bip beep beep bip boop beep beep bip boop boop beep boop bip boop bip bip boop boop beep boop bip bip boop beep beepbip beep bip bip - beep beep bip boop boopbip beep boop bip bip boop boop beep bip bip beep bip boop boop beep beep boop bip bip beep boop boop bip beep boop beep bip bip bip boop bip beep beep beep bip boop bip bip boop beep bip beep bip boop bip boop bip beep bip beep - What areyou doing? Text messaging my Christmas list. bip send -\n"
          ]
        }
      ]
    },
    {
      "cell_type": "markdown",
      "source": [
        "## Latent Semantic Analysis"
      ],
      "metadata": {
        "id": "tQzJr0hc4Gze"
      }
    },
    {
      "cell_type": "markdown",
      "source": [
        "### LSA space creation using truncated SVD"
      ],
      "metadata": {
        "id": "fCJOiVAm5WUs"
      }
    },
    {
      "cell_type": "code",
      "source": [
        "from gensim.models import LsiModel\n",
        "# create the lsi model/matrix factorization using the default #dimensions from gensim (k=200)\n",
        "lsi = LsiModel(bow, num_topics=200, id2word=dictionary)"
      ],
      "metadata": {
        "id": "5MOIlfIxplAX",
        "execution": {
          "iopub.status.busy": "2023-02-06T14:00:22.039571Z",
          "iopub.execute_input": "2023-02-06T14:00:22.040521Z",
          "iopub.status.idle": "2023-02-06T14:00:29.817633Z",
          "shell.execute_reply.started": "2023-02-06T14:00:22.040482Z",
          "shell.execute_reply": "2023-02-06T14:00:29.816300Z"
        },
        "trusted": true
      },
      "execution_count": null,
      "outputs": []
    },
    {
      "cell_type": "code",
      "source": [
        "# show U S V from the 200-rank approximation\n",
        "\n",
        "# left singular vectors - terms\n",
        "U = lsi.projection.u \n",
        "\n",
        "# eigenvalues from S\n",
        "S = lsi.projection.s\n",
        "\n",
        "# right singular vectors - docs\n",
        "V = gensim.matutils.corpus2dense(lsi[bow], len(lsi.projection.s)).T / lsi.projection.s\n",
        "Vt = np.transpose(V)"
      ],
      "metadata": {
        "id": "2RQ-sGs42H92",
        "execution": {
          "iopub.status.busy": "2023-02-06T14:00:29.819749Z",
          "iopub.execute_input": "2023-02-06T14:00:29.820502Z",
          "iopub.status.idle": "2023-02-06T14:00:32.386601Z",
          "shell.execute_reply.started": "2023-02-06T14:00:29.820449Z",
          "shell.execute_reply": "2023-02-06T14:00:32.385387Z"
        },
        "trusted": true
      },
      "execution_count": null,
      "outputs": []
    },
    {
      "cell_type": "code",
      "source": [
        "print(f'Decomposition shapes:\\nU={U.shape}, S={S.shape}, Vt={Vt.shape}')"
      ],
      "metadata": {
        "id": "vs5BeFDD2n8t",
        "outputId": "e4100135-353f-4aba-ffc4-e56f18d45903",
        "colab": {
          "base_uri": "https://localhost:8080/"
        },
        "execution": {
          "iopub.status.busy": "2023-02-06T14:00:32.388450Z",
          "iopub.execute_input": "2023-02-06T14:00:32.388918Z",
          "iopub.status.idle": "2023-02-06T14:00:32.395761Z",
          "shell.execute_reply.started": "2023-02-06T14:00:32.388874Z",
          "shell.execute_reply": "2023-02-06T14:00:32.394209Z"
        },
        "trusted": true
      },
      "execution_count": null,
      "outputs": [
        {
          "output_type": "stream",
          "name": "stdout",
          "text": [
            "Decomposition shapes:\n",
            "U=(17190, 200), S=(200,), Vt=(200, 16262)\n"
          ]
        }
      ]
    },
    {
      "cell_type": "code",
      "source": [
        "# show some topics\n",
        "lsi.show_topics()[0:10]"
      ],
      "metadata": {
        "id": "-ofgKyHvqrUi",
        "outputId": "50d9f818-98c9-4b87-8627-8994c0d17555",
        "colab": {
          "base_uri": "https://localhost:8080/"
        },
        "execution": {
          "iopub.status.busy": "2023-02-06T14:00:32.397935Z",
          "iopub.execute_input": "2023-02-06T14:00:32.398515Z",
          "iopub.status.idle": "2023-02-06T14:00:32.560698Z",
          "shell.execute_reply.started": "2023-02-06T14:00:32.398471Z",
          "shell.execute_reply": "2023-02-06T14:00:32.559219Z"
        },
        "trusted": true
      },
      "execution_count": null,
      "outputs": [
        {
          "output_type": "execute_result",
          "data": {
            "text/plain": [
              "[(0,\n",
              "  '1.000*\"hic\" + 0.015*\"hichic\" + 0.008*\"sure\" + 0.008*\"whew\" + 0.003*\"huc\" + 0.001*\"sick\" + 0.001*\"hiccups\" + 0.001*\"iccitty\" + 0.001*\"hiccitty\" + 0.001*\"dog\"'),\n",
              " (1,\n",
              "  '0.960*\"tic\" + 0.275*\"click\" + 0.019*\"you\" + 0.019*\"garfield\" + 0.016*\"that\" + 0.012*\"bark\" + 0.011*\"now\" + 0.011*\"food\" + 0.010*\"morning\" + 0.009*\"diary\"'),\n",
              " (2,\n",
              "  '0.958*\"click\" + -0.278*\"tic\" + 0.033*\"garfield\" + 0.026*\"you\" + 0.014*\"there\" + 0.013*\"jon\" + 0.012*\"like\" + 0.010*\"one\" + 0.010*\"good\" + 0.009*\"clickclick\"'),\n",
              " (3,\n",
              "  '-0.989*\"bark\" + -0.069*\"you\" + -0.059*\"dog\" + -0.050*\"garfield\" + -0.025*\"ask\" + -0.024*\"dear\" + -0.023*\"what\" + -0.022*\"like\" + -0.022*\"don\" + -0.022*\"that\"'),\n",
              " (4,\n",
              "  '0.477*\"bip\" + 0.415*\"beep\" + 0.391*\"you\" + 0.388*\"boop\" + 0.370*\"garfield\" + 0.115*\"like\" + 0.112*\"don\" + 0.103*\"jon\" + 0.102*\"that\" + 0.094*\"know\"'),\n",
              " (5,\n",
              "  '-0.439*\"you\" + 0.434*\"bip\" + -0.420*\"garfield\" + 0.372*\"beep\" + 0.347*\"boop\" + -0.124*\"like\" + -0.122*\"don\" + -0.110*\"that\" + -0.105*\"jon\" + -0.101*\"know\"'),\n",
              " (6,\n",
              "  '0.997*\"yip\" + -0.036*\"garfield\" + 0.028*\"odie\" + 0.024*\"yap\" + 0.023*\"dog\" + 0.021*\"wants\" + -0.021*\"bark\" + -0.014*\"you\" + 0.010*\"out\" + 0.009*\"dear\"'),\n",
              " (7,\n",
              "  '0.703*\"you\" + -0.669*\"garfield\" + -0.133*\"tick\" + 0.093*\"clap\" + 0.053*\"fat\" + 0.042*\"thank\" + -0.039*\"there\" + -0.039*\"time\" + -0.039*\"crunch\" + 0.038*\"bat\"'),\n",
              " (8,\n",
              "  '-0.962*\"tick\" + -0.179*\"tock\" + -0.117*\"crunch\" + 0.110*\"garfield\" + -0.082*\"you\" + -0.071*\"sniff\" + -0.024*\"squish\" + -0.020*\"chirp\" + -0.017*\"clock\" + -0.016*\"clap\"'),\n",
              " (9,\n",
              "  '0.935*\"crunch\" + -0.269*\"sniff\" + 0.194*\"squish\" + -0.098*\"tick\" + -0.047*\"dig\" + 0.021*\"you\" + -0.019*\"tock\" + -0.016*\"garfield\" + 0.014*\"goosh\" + 0.014*\"crunchcrunch\"')]"
            ]
          },
          "metadata": {},
          "execution_count": 26
        }
      ]
    },
    {
      "cell_type": "markdown",
      "source": [
        "### Queries on the LSI/LSA space\n",
        "\n",
        "Queries are a semantic extension over the boolean keyword match. The gold standard for this type of task is around 200-500 LSA dimensions (k in the low-rank approximation), so they will be performed on the 200-dim LSA space.\n",
        "\n",
        "The dataset is not annotated with relevancy measures for certain documents.\n",
        "\n",
        "For example, some manual queries:\n",
        "- 'sleep' semantically finds some comics in which usually Garfield sleeps (as indicated by the 'Z' onomatopoeia).\n",
        "- 'christmas' finds comics related to the holiday.\n",
        "> Garfield is an international character. Therefore, I don't even use seasons. The only holiday I recognize is Christmas. I don't use rhyming gags, plays on words, colloquialisms, in an effort to make Garfield apply to virtually any society where he may appear. In an effort to keep the gags broad, the humor general and applicable to everyone, I deal mainly with eating and sleeping. That applies to everyone, anywhere.\n",
        "\n",
        "   <cite>Jim Davis in an interview in Shapiro, W. (1982, December 12). LIVES: “The Cat That Rots the Intellect”. The Washington Post.</cite>\n",
        "\n",
        "For more about Garfield, please read <cite>Engel, Iris B., \"It’s Garfield’s World, We Just Live in It: An Exploration of Garfield the Cat as Icon, Money\n",
        "Maker, and Beast\" (2019).\n",
        "Senior Projects Fall 2019. 3. https://digitalcommons.bard.edu/senproj_f2019/3 </cite>"
      ],
      "metadata": {
        "id": "sim-kVsJwvEp"
      }
    },
    {
      "cell_type": "code",
      "source": [
        "# transform a doc query into the lsa space\n",
        "doc = \"christmas\"\n",
        "vec_bow = dictionary.doc2bow(doc.lower().split())\n",
        "vec_lsi = lsi[vec_bow]  # convert the query to LSI space\n",
        "#print(vec_lsi)"
      ],
      "metadata": {
        "id": "W0AKPgt-w4uk",
        "execution": {
          "iopub.status.busy": "2023-02-06T14:00:32.566835Z",
          "iopub.execute_input": "2023-02-06T14:00:32.568140Z",
          "iopub.status.idle": "2023-02-06T14:00:32.585088Z",
          "shell.execute_reply.started": "2023-02-06T14:00:32.568075Z",
          "shell.execute_reply": "2023-02-06T14:00:32.583685Z"
        },
        "trusted": true
      },
      "execution_count": null,
      "outputs": []
    },
    {
      "cell_type": "code",
      "source": [
        "from gensim import similarities\n",
        "index_lsi = similarities.MatrixSimilarity(lsi[bow])  # transform corpus (bow representation) to LSI space and index it"
      ],
      "metadata": {
        "id": "1lGXtwTgxPGn",
        "outputId": "c33bc1dc-8142-44bf-f091-76f3fc2a5d28",
        "colab": {
          "base_uri": "https://localhost:8080/"
        },
        "execution": {
          "iopub.status.busy": "2023-02-06T14:00:32.602131Z",
          "iopub.execute_input": "2023-02-06T14:00:32.603120Z",
          "iopub.status.idle": "2023-02-06T14:00:37.052334Z",
          "shell.execute_reply.started": "2023-02-06T14:00:32.603051Z",
          "shell.execute_reply": "2023-02-06T14:00:37.051322Z"
        },
        "trusted": true
      },
      "execution_count": null,
      "outputs": [
        {
          "output_type": "stream",
          "name": "stderr",
          "text": [
            "WARNING:gensim.similarities.docsim:scanning corpus to determine the number of features (consider setting `num_features` explicitly)\n"
          ]
        }
      ]
    },
    {
      "cell_type": "code",
      "source": [
        "sims = index_lsi[vec_lsi]  # perform a similarity query against the corpus\n",
        "#print(list(enumerate(sims)))  # print (document_number, document_similarity) 2-tuples"
      ],
      "metadata": {
        "id": "E21OjlJMyNqi",
        "execution": {
          "iopub.status.busy": "2023-02-06T14:00:37.057331Z",
          "iopub.execute_input": "2023-02-06T14:00:37.059850Z",
          "iopub.status.idle": "2023-02-06T14:00:37.072379Z",
          "shell.execute_reply.started": "2023-02-06T14:00:37.059808Z",
          "shell.execute_reply": "2023-02-06T14:00:37.071549Z"
        },
        "trusted": true
      },
      "execution_count": null,
      "outputs": []
    },
    {
      "cell_type": "code",
      "source": [
        "sims_sorted = sorted(enumerate(sims), key=lambda item: -item[1])\n",
        "most_relevant_docs, most_relevant_scores = list(zip(*sims_sorted))\n",
        "most_relevant_docs = list(most_relevant_docs)\n",
        "df_sorted.iloc[most_relevant_docs[0:5]].style"
      ],
      "metadata": {
        "id": "Q0CqvlvHyVFn",
        "outputId": "c8db8dda-3e03-48b9-e97a-1937254bfa34",
        "colab": {
          "base_uri": "https://localhost:8080/",
          "height": 206
        },
        "execution": {
          "iopub.status.busy": "2023-02-06T14:00:37.078198Z",
          "iopub.execute_input": "2023-02-06T14:00:37.081783Z",
          "iopub.status.idle": "2023-02-06T14:00:37.149975Z",
          "shell.execute_reply.started": "2023-02-06T14:00:37.081746Z",
          "shell.execute_reply": "2023-02-06T14:00:37.148691Z"
        },
        "trusted": true
      },
      "execution_count": null,
      "outputs": [
        {
          "output_type": "execute_result",
          "data": {
            "text/plain": [
              "<pandas.io.formats.style.Styler at 0x7efc1ebe4ac0>"
            ],
            "text/html": [
              "<style type=\"text/css\">\n",
              "</style>\n",
              "<table id=\"T_1ab9b_\" class=\"dataframe\">\n",
              "  <thead>\n",
              "    <tr>\n",
              "      <th class=\"blank level0\" >&nbsp;</th>\n",
              "      <th class=\"col_heading level0 col0\" >stripID</th>\n",
              "      <th class=\"col_heading level0 col1\" >Date</th>\n",
              "      <th class=\"col_heading level0 col2\" >text</th>\n",
              "      <th class=\"col_heading level0 col3\" >url</th>\n",
              "      <th class=\"col_heading level0 col4\" >tokens</th>\n",
              "    </tr>\n",
              "  </thead>\n",
              "  <tbody>\n",
              "    <tr>\n",
              "      <th id=\"T_1ab9b_level0_row0\" class=\"row_heading level0 row0\" >1282</th>\n",
              "      <td id=\"T_1ab9b_row0_col0\" class=\"data row0 col0\" >ga811225</td>\n",
              "      <td id=\"T_1ab9b_row0_col1\" class=\"data row0 col1\" >1981-12-25 00:00:00</td>\n",
              "      <td id=\"T_1ab9b_row0_col2\" class=\"data row0 col2\" >Christmas spirit... - It's not the giving. It's not the receiving. - It's the loving. Merry Christmas.</td>\n",
              "      <td id=\"T_1ab9b_row0_col3\" class=\"data row0 col3\" ><a href=\"https://www.gocomics.com/garfield/1981/12/25\" rel=\"noopener noreferrer\" target=\"_blank\">Comic</a></td>\n",
              "      <td id=\"T_1ab9b_row0_col4\" class=\"data row0 col4\" >['christmas', 'spirit', 'giving', 'receiving', 'loving', 'merry', 'christmas']</td>\n",
              "    </tr>\n",
              "    <tr>\n",
              "      <th id=\"T_1ab9b_level0_row1\" class=\"row_heading level0 row1\" >7477</th>\n",
              "      <td id=\"T_1ab9b_row1_col0\" class=\"data row1 col0\" >ga981225</td>\n",
              "      <td id=\"T_1ab9b_row1_col1\" class=\"data row1 col1\" >1998-12-25 00:00:00</td>\n",
              "      <td id=\"T_1ab9b_row1_col2\" class=\"data row1 col2\" >- - Merry Christmas!</td>\n",
              "      <td id=\"T_1ab9b_row1_col3\" class=\"data row1 col3\" ><a href=\"https://www.gocomics.com/garfield/1998/12/25\" rel=\"noopener noreferrer\" target=\"_blank\">Comic</a></td>\n",
              "      <td id=\"T_1ab9b_row1_col4\" class=\"data row1 col4\" >['merry', 'christmas']</td>\n",
              "    </tr>\n",
              "    <tr>\n",
              "      <th id=\"T_1ab9b_level0_row2\" class=\"row_heading level0 row2\" >11126</th>\n",
              "      <td id=\"T_1ab9b_row2_col0\" class=\"data row2 col0\" >ga081225</td>\n",
              "      <td id=\"T_1ab9b_row2_col1\" class=\"data row2 col1\" >2008-12-25 00:00:00</td>\n",
              "      <td id=\"T_1ab9b_row2_col2\" class=\"data row2 col2\" >- - Merry Christmas!</td>\n",
              "      <td id=\"T_1ab9b_row2_col3\" class=\"data row2 col3\" ><a href=\"https://www.gocomics.com/garfield/2008/12/25\" rel=\"noopener noreferrer\" target=\"_blank\">Comic</a></td>\n",
              "      <td id=\"T_1ab9b_row2_col4\" class=\"data row2 col4\" >['merry', 'christmas']</td>\n",
              "    </tr>\n",
              "    <tr>\n",
              "      <th id=\"T_1ab9b_level0_row3\" class=\"row_heading level0 row3\" >12571</th>\n",
              "      <td id=\"T_1ab9b_row3_col0\" class=\"data row3 col0\" >ga121211</td>\n",
              "      <td id=\"T_1ab9b_row3_col1\" class=\"data row3 col1\" >2012-12-11 00:00:00</td>\n",
              "      <td id=\"T_1ab9b_row3_col2\" class=\"data row3 col2\" >- - Christmas bone catalog.</td>\n",
              "      <td id=\"T_1ab9b_row3_col3\" class=\"data row3 col3\" ><a href=\"https://www.gocomics.com/garfield/2012/12/11\" rel=\"noopener noreferrer\" target=\"_blank\">Comic</a></td>\n",
              "      <td id=\"T_1ab9b_row3_col4\" class=\"data row3 col4\" >['christmas', 'bone', 'catalog']</td>\n",
              "    </tr>\n",
              "    <tr>\n",
              "      <th id=\"T_1ab9b_level0_row4\" class=\"row_heading level0 row4\" >4194</th>\n",
              "      <td id=\"T_1ab9b_row4_col0\" class=\"data row4 col0\" >ga891219</td>\n",
              "      <td id=\"T_1ab9b_row4_col1\" class=\"data row4 col1\" >1989-12-19 00:00:00</td>\n",
              "      <td id=\"T_1ab9b_row4_col2\" class=\"data row4 col2\" >- - He'll never find where I hid his Christmas present.</td>\n",
              "      <td id=\"T_1ab9b_row4_col3\" class=\"data row4 col3\" ><a href=\"https://www.gocomics.com/garfield/1989/12/19\" rel=\"noopener noreferrer\" target=\"_blank\">Comic</a></td>\n",
              "      <td id=\"T_1ab9b_row4_col4\" class=\"data row4 col4\" >['hid', 'christmas', 'present']</td>\n",
              "    </tr>\n",
              "  </tbody>\n",
              "</table>\n"
            ]
          },
          "metadata": {},
          "execution_count": 30
        }
      ]
    },
    {
      "cell_type": "code",
      "source": [
        "# convenient function to make a query and get the most relevant k comic strips\n",
        "def get_top_k_relevant_docs(query: str, k: int, index: gensim.similarities.MatrixSimilarity):\n",
        "  \"\"\"Maps the query into the latent space and computes similarity wrt each of the documents in the corpus. \n",
        "  Returns the top k documents with the highest similarity to the query.\"\"\"\n",
        "  doc = query\n",
        "  vec_bow = dictionary.doc2bow(doc.lower().split())\n",
        "  vec_lsi = lsi[vec_bow]  # convert the query to LSI space\n",
        "  sims = index[vec_lsi]  # perform a similarity query against the corpus\n",
        "  sims_sorted = sorted(enumerate(sims), key=lambda item: -item[1])\n",
        "  ranked_docs, ranked_scores = list(zip(*sims_sorted))\n",
        "  return list(ranked_docs[:k]), list(ranked_scores[:k])"
      ],
      "metadata": {
        "id": "BkoZEZWCBj95",
        "execution": {
          "iopub.status.busy": "2023-02-06T14:00:37.156381Z",
          "iopub.execute_input": "2023-02-06T14:00:37.159962Z",
          "iopub.status.idle": "2023-02-06T14:00:37.174954Z",
          "shell.execute_reply.started": "2023-02-06T14:00:37.159900Z",
          "shell.execute_reply": "2023-02-06T14:00:37.173620Z"
        },
        "trusted": true
      },
      "execution_count": null,
      "outputs": []
    },
    {
      "cell_type": "code",
      "source": [
        "top_docs, top_scores = get_top_k_relevant_docs(query='Actually, seeing the vet is not so bad', k=10, index=index_lsi)\n",
        "df_sorted.iloc[top_docs].style"
      ],
      "metadata": {
        "id": "nXsJfYhHDDXn",
        "outputId": "d3c2e38d-25e8-408c-e80c-f0197df91c67",
        "colab": {
          "base_uri": "https://localhost:8080/",
          "height": 537
        },
        "execution": {
          "iopub.status.busy": "2023-02-06T14:00:37.183687Z",
          "iopub.execute_input": "2023-02-06T14:00:37.187000Z",
          "iopub.status.idle": "2023-02-06T14:00:37.248471Z",
          "shell.execute_reply.started": "2023-02-06T14:00:37.186950Z",
          "shell.execute_reply": "2023-02-06T14:00:37.247056Z"
        },
        "trusted": true
      },
      "execution_count": null,
      "outputs": [
        {
          "output_type": "execute_result",
          "data": {
            "text/plain": [
              "<pandas.io.formats.style.Styler at 0x7efc18b4ffd0>"
            ],
            "text/html": [
              "<style type=\"text/css\">\n",
              "</style>\n",
              "<table id=\"T_6213a_\" class=\"dataframe\">\n",
              "  <thead>\n",
              "    <tr>\n",
              "      <th class=\"blank level0\" >&nbsp;</th>\n",
              "      <th class=\"col_heading level0 col0\" >stripID</th>\n",
              "      <th class=\"col_heading level0 col1\" >Date</th>\n",
              "      <th class=\"col_heading level0 col2\" >text</th>\n",
              "      <th class=\"col_heading level0 col3\" >url</th>\n",
              "      <th class=\"col_heading level0 col4\" >tokens</th>\n",
              "    </tr>\n",
              "  </thead>\n",
              "  <tbody>\n",
              "    <tr>\n",
              "      <th id=\"T_6213a_level0_row0\" class=\"row_heading level0 row0\" >3182</th>\n",
              "      <td id=\"T_6213a_row0_col0\" class=\"data row0 col0\" >ga870312</td>\n",
              "      <td id=\"T_6213a_row0_col1\" class=\"data row0 col1\" >1987-03-12 00:00:00</td>\n",
              "      <td id=\"T_6213a_row0_col2\" class=\"data row0 col2\" >Spinach. - It tastes bad. It looks bad. - SPLUT! It even sounds bad.</td>\n",
              "      <td id=\"T_6213a_row0_col3\" class=\"data row0 col3\" ><a href=\"https://www.gocomics.com/garfield/1987/03/12\" rel=\"noopener noreferrer\" target=\"_blank\">Comic</a></td>\n",
              "      <td id=\"T_6213a_row0_col4\" class=\"data row0 col4\" >['spinach', 'tastes', 'bad', 'looks', 'bad', 'splut', 'sounds', 'bad']</td>\n",
              "    </tr>\n",
              "    <tr>\n",
              "      <th id=\"T_6213a_level0_row1\" class=\"row_heading level0 row1\" >14260</th>\n",
              "      <td id=\"T_6213a_row1_col0\" class=\"data row1 col0\" >ga170806</td>\n",
              "      <td id=\"T_6213a_row1_col1\" class=\"data row1 col1\" >2017-08-06 00:00:00</td>\n",
              "      <td id=\"T_6213a_row1_col2\" class=\"data row1 col2\" >- - - - - * - YOU JUST RUINED a PERFECTLY BAD MOOD!</td>\n",
              "      <td id=\"T_6213a_row1_col3\" class=\"data row1 col3\" ><a href=\"https://www.gocomics.com/garfield/2017/08/06\" rel=\"noopener noreferrer\" target=\"_blank\">Comic</a></td>\n",
              "      <td id=\"T_6213a_row1_col4\" class=\"data row1 col4\" >['ruined', 'perfectly', 'bad', 'mood']</td>\n",
              "    </tr>\n",
              "    <tr>\n",
              "      <th id=\"T_6213a_level0_row2\" class=\"row_heading level0 row2\" >11139</th>\n",
              "      <td id=\"T_6213a_row2_col0\" class=\"data row2 col0\" >ga090108</td>\n",
              "      <td id=\"T_6213a_row2_col1\" class=\"data row2 col1\" >2009-01-08 00:00:00</td>\n",
              "      <td id=\"T_6213a_row2_col2\" class=\"data row2 col2\" >I'm elected to the bad habits hall of fame! - CRUMPLE CRUMPLE -</td>\n",
              "      <td id=\"T_6213a_row2_col3\" class=\"data row2 col3\" ><a href=\"https://www.gocomics.com/garfield/2009/01/08\" rel=\"noopener noreferrer\" target=\"_blank\">Comic</a></td>\n",
              "      <td id=\"T_6213a_row2_col4\" class=\"data row2 col4\" >['elected', 'bad', 'habits', 'hall', 'fame', 'crumple', 'crumple']</td>\n",
              "    </tr>\n",
              "    <tr>\n",
              "      <th id=\"T_6213a_level0_row3\" class=\"row_heading level0 row3\" >11394</th>\n",
              "      <td id=\"T_6213a_row3_col0\" class=\"data row3 col0\" >ga090920</td>\n",
              "      <td id=\"T_6213a_row3_col1\" class=\"data row3 col1\" >2009-09-20 00:00:00</td>\n",
              "      <td id=\"T_6213a_row3_col2\" class=\"data row3 col2\" >- - - - SPLOT - My bad.</td>\n",
              "      <td id=\"T_6213a_row3_col3\" class=\"data row3 col3\" ><a href=\"https://www.gocomics.com/garfield/2009/09/20\" rel=\"noopener noreferrer\" target=\"_blank\">Comic</a></td>\n",
              "      <td id=\"T_6213a_row3_col4\" class=\"data row3 col4\" >['splot', 'bad']</td>\n",
              "    </tr>\n",
              "    <tr>\n",
              "      <th id=\"T_6213a_level0_row4\" class=\"row_heading level0 row4\" >15898</th>\n",
              "      <td id=\"T_6213a_row4_col0\" class=\"data row4 col0\" >ga220207</td>\n",
              "      <td id=\"T_6213a_row4_col1\" class=\"data row4 col1\" >2022-02-07 00:00:00</td>\n",
              "      <td id=\"T_6213a_row4_col2\" class=\"data row4 col2\" >- I'm in a bad mood. - And its nam eis February.</td>\n",
              "      <td id=\"T_6213a_row4_col3\" class=\"data row4 col3\" ><a href=\"https://www.gocomics.com/garfield/2022/02/07\" rel=\"noopener noreferrer\" target=\"_blank\">Comic</a></td>\n",
              "      <td id=\"T_6213a_row4_col4\" class=\"data row4 col4\" >['bad', 'mood', 'nam', 'eis', 'february']</td>\n",
              "    </tr>\n",
              "    <tr>\n",
              "      <th id=\"T_6213a_level0_row5\" class=\"row_heading level0 row5\" >6960</th>\n",
              "      <td id=\"T_6213a_row5_col0\" class=\"data row5 col0\" >ga970724</td>\n",
              "      <td id=\"T_6213a_row5_col1\" class=\"data row5 col1\" >1997-07-24 00:00:00</td>\n",
              "      <td id=\"T_6213a_row5_col2\" class=\"data row5 col2\" >I'm in a bad mood. - - Relatively speaking.</td>\n",
              "      <td id=\"T_6213a_row5_col3\" class=\"data row5 col3\" ><a href=\"https://www.gocomics.com/garfield/1997/07/24\" rel=\"noopener noreferrer\" target=\"_blank\">Comic</a></td>\n",
              "      <td id=\"T_6213a_row5_col4\" class=\"data row5 col4\" >['bad', 'mood', 'relatively', 'speaking']</td>\n",
              "    </tr>\n",
              "    <tr>\n",
              "      <th id=\"T_6213a_level0_row6\" class=\"row_heading level0 row6\" >2638</th>\n",
              "      <td id=\"T_6213a_row6_col0\" class=\"data row6 col0\" >ga850914</td>\n",
              "      <td id=\"T_6213a_row6_col1\" class=\"data row6 col1\" >1985-09-14 00:00:00</td>\n",
              "      <td id=\"T_6213a_row6_col2\" class=\"data row6 col2\" >Why did we waste our evening at that movie? - And why was the photography so bad? - And why did they hand me three pairs of 3-D glasses?</td>\n",
              "      <td id=\"T_6213a_row6_col3\" class=\"data row6 col3\" ><a href=\"https://www.gocomics.com/garfield/1985/09/14\" rel=\"noopener noreferrer\" target=\"_blank\">Comic</a></td>\n",
              "      <td id=\"T_6213a_row6_col4\" class=\"data row6 col4\" >['waste', 'evening', 'movie', 'photography', 'bad', 'hand', 'pairs', 'glasses']</td>\n",
              "    </tr>\n",
              "    <tr>\n",
              "      <th id=\"T_6213a_level0_row7\" class=\"row_heading level0 row7\" >13746</th>\n",
              "      <td id=\"T_6213a_row7_col0\" class=\"data row7 col0\" >ga160305</td>\n",
              "      <td id=\"T_6213a_row7_col1\" class=\"data row7 col1\" >2016-03-05 00:00:00</td>\n",
              "      <td id=\"T_6213a_row7_col2\" class=\"data row7 col2\" >My aunt Edna has a bad habit. - She was a finger licker. - But not her own. A lonely, lonely woman.</td>\n",
              "      <td id=\"T_6213a_row7_col3\" class=\"data row7 col3\" ><a href=\"https://www.gocomics.com/garfield/2016/03/05\" rel=\"noopener noreferrer\" target=\"_blank\">Comic</a></td>\n",
              "      <td id=\"T_6213a_row7_col4\" class=\"data row7 col4\" >['aunt', 'edna', 'bad', 'habit', 'finger', 'licker', 'own', 'lonely', 'lonely', 'woman']</td>\n",
              "    </tr>\n",
              "    <tr>\n",
              "      <th id=\"T_6213a_level0_row8\" class=\"row_heading level0 row8\" >2081</th>\n",
              "      <td id=\"T_6213a_row8_col0\" class=\"data row8 col0\" >ga840306</td>\n",
              "      <td id=\"T_6213a_row8_col1\" class=\"data row8 col1\" >1984-03-06 00:00:00</td>\n",
              "      <td id=\"T_6213a_row8_col2\" class=\"data row8 col2\" >YAWN - GASP! - Waking up to my own bad breath is bad enough, but someone else's is unbearable.</td>\n",
              "      <td id=\"T_6213a_row8_col3\" class=\"data row8 col3\" ><a href=\"https://www.gocomics.com/garfield/1984/03/06\" rel=\"noopener noreferrer\" target=\"_blank\">Comic</a></td>\n",
              "      <td id=\"T_6213a_row8_col4\" class=\"data row8 col4\" >['yawn', 'gasp', 'waking', 'bad', 'breath', 'bad', 'enough', 'else', 'unbearable']</td>\n",
              "    </tr>\n",
              "    <tr>\n",
              "      <th id=\"T_6213a_level0_row9\" class=\"row_heading level0 row9\" >3019</th>\n",
              "      <td id=\"T_6213a_row9_col0\" class=\"data row9 col0\" >ga860930</td>\n",
              "      <td id=\"T_6213a_row9_col1\" class=\"data row9 col1\" >1986-09-30 00:00:00</td>\n",
              "      <td id=\"T_6213a_row9_col2\" class=\"data row9 col2\" >I gotta find something for this bad breath. - Aha! - Your breath smells funny. Yours would too if you gargled with after-shave.</td>\n",
              "      <td id=\"T_6213a_row9_col3\" class=\"data row9 col3\" ><a href=\"https://www.gocomics.com/garfield/1986/09/30\" rel=\"noopener noreferrer\" target=\"_blank\">Comic</a></td>\n",
              "      <td id=\"T_6213a_row9_col4\" class=\"data row9 col4\" >['gotta', 'bad', 'breath', 'aha', 'breath', 'smells', 'funny', 'gargled', 'after', 'shave']</td>\n",
              "    </tr>\n",
              "  </tbody>\n",
              "</table>\n"
            ]
          },
          "metadata": {},
          "execution_count": 32
        }
      ]
    },
    {
      "cell_type": "markdown",
      "source": [
        "### Unsupervised topic extraction in LSA space"
      ],
      "metadata": {
        "id": "92Gnrigy4Nc4"
      }
    },
    {
      "cell_type": "markdown",
      "source": [
        "First, we will determine using the knee-point method the #topics/#dimension for a new LSI space.\n",
        "\n",
        "Then, we will analyze the found topics."
      ],
      "metadata": {
        "id": "DBavBjyj5psJ"
      }
    },
    {
      "cell_type": "markdown",
      "source": [
        "Plot of the eigenvalues. The higher an eigenvalue for a dimension is, the more information it carries. This is because SVD outputs the best low-rank approximation for the input matrix, in this case the term x document matrix.\n",
        "\n",
        "`kneed` is a library for finding knee points."
      ],
      "metadata": {
        "id": "U4Q2SwUz6WGM"
      }
    },
    {
      "cell_type": "code",
      "source": [
        "import kneed"
      ],
      "metadata": {
        "id": "LLJJHBYK7feR",
        "execution": {
          "iopub.status.busy": "2023-02-06T14:00:37.254528Z",
          "iopub.execute_input": "2023-02-06T14:00:37.257841Z",
          "iopub.status.idle": "2023-02-06T14:00:42.277328Z",
          "shell.execute_reply.started": "2023-02-06T14:00:37.257782Z",
          "shell.execute_reply": "2023-02-06T14:00:42.276273Z"
        },
        "trusted": true
      },
      "execution_count": null,
      "outputs": []
    },
    {
      "cell_type": "code",
      "source": [
        "eigen_x = np.arange(start=0, stop=len(S))\n",
        "eigen_norm = S / np.linalg.norm(S)"
      ],
      "metadata": {
        "id": "rS0bNNSE7-F4",
        "execution": {
          "iopub.status.busy": "2023-02-06T14:00:42.278835Z",
          "iopub.execute_input": "2023-02-06T14:00:42.279554Z",
          "iopub.status.idle": "2023-02-06T14:00:42.286848Z",
          "shell.execute_reply.started": "2023-02-06T14:00:42.279513Z",
          "shell.execute_reply": "2023-02-06T14:00:42.285416Z"
        },
        "trusted": true
      },
      "execution_count": null,
      "outputs": []
    },
    {
      "cell_type": "code",
      "source": [
        "kneedle = kneed.KneeLocator(x=eigen_x, y=eigen_norm, S=1.0, curve=\"concave\", direction=\"decreasing\", online=True)\n",
        "print(kneedle.all_knees)\n",
        "num_topics_kneed = kneedle.knee\n",
        "print(f'Knee point analysis suggests using k={num_topics_kneed}')"
      ],
      "metadata": {
        "id": "nzrwq8ll7vAt",
        "outputId": "a59739fe-f35c-4c23-851d-1cbab33d689b",
        "colab": {
          "base_uri": "https://localhost:8080/"
        },
        "execution": {
          "iopub.status.busy": "2023-02-06T14:00:42.288628Z",
          "iopub.execute_input": "2023-02-06T14:00:42.289736Z",
          "iopub.status.idle": "2023-02-06T14:00:42.325513Z",
          "shell.execute_reply.started": "2023-02-06T14:00:42.289701Z",
          "shell.execute_reply": "2023-02-06T14:00:42.324218Z"
        },
        "trusted": true
      },
      "execution_count": null,
      "outputs": [
        {
          "output_type": "stream",
          "name": "stdout",
          "text": [
            "{32, 199, 10, 22, 62, 24, 28, 30}\n",
            "Knee point analysis suggests using k=10\n"
          ]
        }
      ]
    },
    {
      "cell_type": "markdown",
      "source": [
        "A knee point as local min of the curvature radius $k$ of the\n",
        "iperbole function interpolating the data. This will be $k = \\frac{y''}{{(1+y'^2)}^\\frac{3}{2}}$"
      ],
      "metadata": {
        "id": "FqDTOX1MFGGP"
      }
    },
    {
      "cell_type": "code",
      "source": [
        "# function to approximate derivative of an array\n",
        "def derivative(x_data, y_data):\n",
        "    N = len(x_data)\n",
        "    delta_x = [x_data[i+1] - x_data[i] for i in range(N - 1)]\n",
        "    x_prim = [(x_data[i+1] + x_data[i]) / 2. for i in range(N - 1)]\n",
        "    y_prim = [(y_data[i+1] - y_data[i]) / delta_x[i] for i in range(N - 1)]\n",
        "    return x_prim, y_prim\n",
        "# compute 2nd derivative by calling it two times\n",
        "x_prime, y_prime = derivative(eigen_x, eigen_norm)\n",
        "x_bis, y_bis = derivative(x_prime, y_prime)\n",
        "y_prime = y_prime[:-1]\n",
        "# compute curvature according to formula\n",
        "k = np.divide(y_bis, np.power(1 + np.square(y_prime), 1.5))"
      ],
      "metadata": {
        "id": "fP5x0F3i_jd1",
        "execution": {
          "iopub.status.busy": "2023-02-06T14:00:42.327424Z",
          "iopub.execute_input": "2023-02-06T14:00:42.327972Z",
          "iopub.status.idle": "2023-02-06T14:00:42.341682Z",
          "shell.execute_reply.started": "2023-02-06T14:00:42.327924Z",
          "shell.execute_reply": "2023-02-06T14:00:42.340724Z"
        },
        "trusted": true
      },
      "execution_count": null,
      "outputs": []
    },
    {
      "cell_type": "code",
      "source": [
        "plt.figure(figsize=(20,10))\n",
        "plt.title('Singular values analysis')\n",
        "plt.plot(eigen_x, eigen_norm, '-o', label='normalized singular values')\n",
        "plt.plot(x_bis, k, '-x', label='curvature')\n",
        "#plt.vlines(x=list(kneedle.all_knees), ymin=ykneemin, ymax=ykneemax, linestyle='--', label='knee point from kneedle algorithm')\n",
        "vlines = [plt.axvline(x = knee, color = 'black', linestyle='--') for knee in kneedle.all_knees]\n",
        "vlines[0].set_label('knee point from kneedle algorithm')\n",
        "plt.ylabel('Magnitude')\n",
        "plt.xlabel('Singular value')\n",
        "plt.xticks(eigen_x)\n",
        "plt.xlim(0,50)\n",
        "plt.legend()\n",
        "plt.show()"
      ],
      "metadata": {
        "id": "emiv6N8g6BC5",
        "outputId": "0d48ce25-6f2d-4642-8b58-67bdfa242dba",
        "colab": {
          "base_uri": "https://localhost:8080/",
          "height": 621
        },
        "execution": {
          "iopub.status.busy": "2023-02-06T14:00:42.344598Z",
          "iopub.execute_input": "2023-02-06T14:00:42.345025Z",
          "iopub.status.idle": "2023-02-06T14:00:43.240223Z",
          "shell.execute_reply.started": "2023-02-06T14:00:42.344989Z",
          "shell.execute_reply": "2023-02-06T14:00:43.239261Z"
        },
        "trusted": true
      },
      "execution_count": null,
      "outputs": [
        {
          "output_type": "display_data",
          "data": {
            "text/plain": [
              "<Figure size 1440x720 with 1 Axes>"
            ],
            "image/png": "[encoded data removed]"
          },
          "metadata": {
            "needs_background": "light"
          }
        }
      ]
    },
    {
      "cell_type": "markdown",
      "source": [
        "Or we could compute a coherence measure according to a certain number of topics.\n",
        "`CoherenceModel` does not provide stable results, though."
      ],
      "metadata": {
        "id": "SujQM6WcJDOh"
      }
    },
    {
      "cell_type": "code",
      "source": [
        "from gensim.models.coherencemodel import CoherenceModel\n",
        "coherence_scores = []\n",
        "# find the coherence score with a different number of topics\n",
        "for i in range(1, num_topics_kneed+1):\n",
        "    lsi_topics = LsiModel(bow, num_topics=i, id2word=dictionary)\n",
        "    coherence_model = CoherenceModel(model=lsi_topics, texts=df_sorted['tokens'], dictionary=dictionary, coherence='c_v', topn=10)\n",
        "    coherence_score = coherence_model.get_coherence()\n",
        "    coherence_scores.append(coherence_score)\n",
        "    print(f'Coherence score with {i} topics: {coherence_score}')"
      ],
      "metadata": {
        "id": "OQJ2lAVo4qbx",
        "outputId": "e6e29610-d59f-4ca3-b959-dd3513a770ee",
        "colab": {
          "base_uri": "https://localhost:8080/"
        },
        "execution": {
          "iopub.status.busy": "2023-02-06T14:00:43.241682Z",
          "iopub.execute_input": "2023-02-06T14:00:43.242723Z",
          "iopub.status.idle": "2023-02-06T14:00:59.556813Z",
          "shell.execute_reply.started": "2023-02-06T14:00:43.242686Z",
          "shell.execute_reply": "2023-02-06T14:00:59.555703Z"
        },
        "trusted": true
      },
      "execution_count": null,
      "outputs": [
        {
          "output_type": "stream",
          "name": "stdout",
          "text": [
            "Coherence score with 1 topics: 0.3657328176066942\n",
            "Coherence score with 2 topics: 0.35919135102487215\n",
            "Coherence score with 3 topics: 0.551908029823138\n",
            "Coherence score with 4 topics: 0.40321734306230717\n",
            "Coherence score with 5 topics: 0.3332048924342143\n",
            "Coherence score with 6 topics: 0.35809251690606864\n",
            "Coherence score with 7 topics: 0.32568592021423054\n",
            "Coherence score with 8 topics: 0.42228119838063566\n",
            "Coherence score with 9 topics: 0.3431670024260925\n",
            "Coherence score with 10 topics: 0.3382050362241908\n"
          ]
        }
      ]
    },
    {
      "cell_type": "code",
      "source": [
        "topics_range = np.arange(1, num_topics_kneed+1)\n",
        "plt.title('Coherence scores (c_v) by #topics')\n",
        "plt.plot(topics_range, coherence_scores, '-o', label='coherence scores')\n",
        "plt.ylabel('Coherence score')\n",
        "plt.xlabel('#Topics')\n",
        "plt.legend()\n",
        "plt.grid()\n",
        "plt.show()"
      ],
      "metadata": {
        "id": "3cyCPOb-JW-7",
        "outputId": "521d3acc-cbfe-4c5e-b624-0c6d3b4511ae",
        "colab": {
          "base_uri": "https://localhost:8080/",
          "height": 295
        },
        "execution": {
          "iopub.status.busy": "2023-02-06T14:00:59.558520Z",
          "iopub.execute_input": "2023-02-06T14:00:59.559234Z",
          "iopub.status.idle": "2023-02-06T14:00:59.786227Z",
          "shell.execute_reply.started": "2023-02-06T14:00:59.559188Z",
          "shell.execute_reply": "2023-02-06T14:00:59.785248Z"
        },
        "trusted": true
      },
      "execution_count": null,
      "outputs": [
        {
          "output_type": "display_data",
          "data": {
            "text/plain": [
              "<Figure size 432x288 with 1 Axes>"
            ],
            "image/png": "[encoded data removed]"
          },
          "metadata": {
            "needs_background": "light"
          }
        }
      ]
    },
    {
      "cell_type": "markdown",
      "source": [
        "## Testing with LDA (latent dirichelet allocation)"
      ],
      "metadata": {
        "id": "oFX8NBpLv9ns"
      }
    },
    {
      "cell_type": "code",
      "source": [
        "#!pip install pyLDAvis"
      ],
      "metadata": {
        "id": "4VHVOCfWs8Wp",
        "execution": {
          "iopub.status.busy": "2023-02-06T14:00:59.787760Z",
          "iopub.execute_input": "2023-02-06T14:00:59.788124Z",
          "iopub.status.idle": "2023-02-06T14:00:59.792566Z",
          "shell.execute_reply.started": "2023-02-06T14:00:59.788088Z",
          "shell.execute_reply": "2023-02-06T14:00:59.791462Z"
        },
        "trusted": true
      },
      "execution_count": null,
      "outputs": []
    },
    {
      "cell_type": "code",
      "source": [
        "#import pyLDAvis\n",
        "#import pyLDAvis.gensim_models as gensimvis\n",
        "#import pyLDAvis.gensim_models\n",
        "#from gensim.models import LdaModel\n",
        "#lda = LdaModel(bow, num_topics=2, iterations=50, passes=5)\n",
        "#pyLDAvis.enable_notebook()\n",
        "#vis = gensimvis.prepare(lda, bow, dictionary=dictionary)\n",
        "#vis"
      ],
      "metadata": {
        "id": "53Luws0Ks2lD",
        "execution": {
          "iopub.status.busy": "2023-02-06T14:00:59.794003Z",
          "iopub.execute_input": "2023-02-06T14:00:59.794446Z",
          "iopub.status.idle": "2023-02-06T14:00:59.803823Z",
          "shell.execute_reply.started": "2023-02-06T14:00:59.794410Z",
          "shell.execute_reply": "2023-02-06T14:00:59.803011Z"
        },
        "trusted": true
      },
      "execution_count": null,
      "outputs": []
    },
    {
      "cell_type": "markdown",
      "source": [
        "## Comic strip retrieval with Deep metric learning\n",
        "\n",
        "We will compare the previous basic LSI model with two sentence transformers.\n",
        "One will be a pretrained one from a very large corpora of multiple text sources, the other will be a finetuned version of the pretrained one.\n",
        "\n",
        "The finetuning will be done on 80% of the Garfield sentences, and the evaluation for all models (LSI, pretrained, finetuned) will be done on a held-out set of 20% of the sentences, and on the full dataset maybe (since this will be a common use-case)."
      ],
      "metadata": {
        "id": "Yimwb6ALrOrj"
      }
    },
    {
      "cell_type": "markdown",
      "source": [
        "## Dataframe setup for deep metric learning\n",
        "\n"
      ],
      "metadata": {
        "id": "fdyTKIfI0oXX"
      }
    },
    {
      "cell_type": "code",
      "source": [
        "import torch\n",
        "from torch import topk\n",
        "from torch.utils.data import Dataset, random_split\n",
        "from torchvision import datasets\n",
        "from torchvision.transforms import ToTensor\n",
        "import random\n",
        "\n",
        "from sentence_transformers import SentenceTransformer, util\n",
        "from tqdm import tqdm"
      ],
      "metadata": {
        "id": "JCw565_Kw1zd",
        "execution": {
          "iopub.status.busy": "2023-02-06T14:00:59.806701Z",
          "iopub.execute_input": "2023-02-06T14:00:59.806979Z",
          "iopub.status.idle": "2023-02-06T14:01:03.918209Z",
          "shell.execute_reply.started": "2023-02-06T14:00:59.806948Z",
          "shell.execute_reply": "2023-02-06T14:01:03.917242Z"
        },
        "trusted": true
      },
      "execution_count": null,
      "outputs": []
    },
    {
      "cell_type": "markdown",
      "source": [
        "### 1. Divide each strip into sentences"
      ],
      "metadata": {
        "id": "mT3CMtnKwzFi"
      }
    },
    {
      "cell_type": "code",
      "source": [
        "def metric_learning_setup_text(text):\n",
        "  # split around the panel\n",
        "  out = text.split('-')\n",
        "  # remove spaces\n",
        "  out = [sentence.strip(' ') for sentence in out]\n",
        "  # do not return empty strings\n",
        "  out = [sentence for sentence in out if len(sentence) >= 1]\n",
        "  return out"
      ],
      "metadata": {
        "id": "0tTPFzSt-p3D",
        "execution": {
          "iopub.status.busy": "2023-02-06T14:01:03.919810Z",
          "iopub.execute_input": "2023-02-06T14:01:03.920608Z",
          "iopub.status.idle": "2023-02-06T14:01:03.926327Z",
          "shell.execute_reply.started": "2023-02-06T14:01:03.920555Z",
          "shell.execute_reply": "2023-02-06T14:01:03.925396Z"
        },
        "trusted": true
      },
      "execution_count": null,
      "outputs": []
    },
    {
      "cell_type": "code",
      "source": [
        "# explode turns column with list in multiple rows with one element in each column\n",
        "sentences = df_sorted['text'].apply(metric_learning_setup_text).explode().rename(\"sentence\")\n",
        "sentences"
      ],
      "metadata": {
        "id": "_m0dZxSl05EG",
        "colab": {
          "base_uri": "https://localhost:8080/"
        },
        "outputId": "1b4d6a3b-94db-4841-c05d-35869c9e9364",
        "execution": {
          "iopub.status.busy": "2023-02-06T14:01:03.927773Z",
          "iopub.execute_input": "2023-02-06T14:01:03.928393Z",
          "iopub.status.idle": "2023-02-06T14:01:03.990251Z",
          "shell.execute_reply.started": "2023-02-06T14:01:03.928336Z",
          "shell.execute_reply": "2023-02-06T14:01:03.989291Z"
        },
        "trusted": true
      },
      "execution_count": null,
      "outputs": [
        {
          "output_type": "execute_result",
          "data": {
            "text/plain": [
              "0        Hi, there...I'm Jon Arbuckle. I'm a cartoonist, and this is my cat, Garfield.\n",
              "0                  Hi, there. I'm Garfield. I'm a cat, and this is my cartoonist, Jon.\n",
              "0                                       Our only thought is to entertain you. Feed me.\n",
              "1                                 Happy birthday, Garfield. I have a surprise for you.\n",
              "1                                                                     A rubber mousey!\n",
              "                                             ...                                      \n",
              "16260                                     Look! Irma's Diner just expanded their menu.\n",
              "16260                                      They added three kinds of meatloaf... Cool.\n",
              "16260                                                  Ooooh... And 23 kinds of bacon!\n",
              "16261                                                           WAIT HERE FOR SURPRISE\n",
              "16261                                     It's sure quiet around here today. Surprise!\n",
              "Name: sentence, Length: 52119, dtype: object"
            ]
          },
          "metadata": {},
          "execution_count": 44
        }
      ]
    },
    {
      "cell_type": "code",
      "source": [
        "df_sentences = df_sorted.join(sentences)\n",
        "#df_sentences.drop(columns='tokens', inplace=True)\n",
        "\n",
        "df_sentences.index.name = 'old index'\n",
        "df_sentences = df_sentences.reset_index(drop=False)\n",
        "df_sentences = df_sentences.dropna()\n",
        "# apply function to all sentences (for lsi model)\n",
        "df_sentences['tokens'] = df_sentences['sentence'].apply(lambda x: preprocess(x))\n",
        "df_sentences"
      ],
      "metadata": {
        "id": "5bmTHXc78ev4",
        "colab": {
          "base_uri": "https://localhost:8080/",
          "height": 728
        },
        "outputId": "b4c083b0-ab2c-4850-e0ef-835c2799705d",
        "execution": {
          "iopub.status.busy": "2023-02-06T14:01:03.991722Z",
          "iopub.execute_input": "2023-02-06T14:01:03.992099Z",
          "iopub.status.idle": "2023-02-06T14:01:04.804028Z",
          "shell.execute_reply.started": "2023-02-06T14:01:03.992062Z",
          "shell.execute_reply": "2023-02-06T14:01:04.802810Z"
        },
        "trusted": true
      },
      "execution_count": null,
      "outputs": [
        {
          "output_type": "execute_result",
          "data": {
            "text/plain": [
              "       old index   stripID       Date  \\\n",
              "0              0  ga780619 1978-06-19   \n",
              "1              0  ga780619 1978-06-19   \n",
              "2              0  ga780619 1978-06-19   \n",
              "3              1  ga780620 1978-06-20   \n",
              "4              1  ga780620 1978-06-20   \n",
              "...          ...       ...        ...   \n",
              "52114      16260  ga230204 2023-02-04   \n",
              "52115      16260  ga230204 2023-02-04   \n",
              "52116      16260  ga230204 2023-02-04   \n",
              "52117      16261  ga230205 2023-02-05   \n",
              "52118      16261  ga230205 2023-02-05   \n",
              "\n",
              "                                                                                                                                                                                                       text  \\\n",
              "0      Hi, there...I'm Jon Arbuckle. I'm a cartoonist, and this is my cat, Garfield. - Hi, there. I'm Garfield. I'm a cat, and this is my cartoonist, Jon. - Our only thought is to entertain you. Feed me.   \n",
              "1      Hi, there...I'm Jon Arbuckle. I'm a cartoonist, and this is my cat, Garfield. - Hi, there. I'm Garfield. I'm a cat, and this is my cartoonist, Jon. - Our only thought is to entertain you. Feed me.   \n",
              "2      Hi, there...I'm Jon Arbuckle. I'm a cartoonist, and this is my cat, Garfield. - Hi, there. I'm Garfield. I'm a cat, and this is my cartoonist, Jon. - Our only thought is to entertain you. Feed me.   \n",
              "3                                                                                                  Happy birthday, Garfield. I have a surprise for you. - A rubber mousey! - Could've used a little salt...   \n",
              "4                                                                                                  Happy birthday, Garfield. I have a surprise for you. - A rubber mousey! - Could've used a little salt...   \n",
              "...                                                                                                                                                                                                     ...   \n",
              "52114                                                                          Look! Irma's Diner just expanded their menu. - They added three kinds of meatloaf... Cool. - Ooooh... And 23 kinds of bacon!   \n",
              "52115                                                                          Look! Irma's Diner just expanded their menu. - They added three kinds of meatloaf... Cool. - Ooooh... And 23 kinds of bacon!   \n",
              "52116                                                                          Look! Irma's Diner just expanded their menu. - They added three kinds of meatloaf... Cool. - Ooooh... And 23 kinds of bacon!   \n",
              "52117                                                                                                                       - - WAIT HERE FOR SURPRISE - - - - It's sure quiet around here today. Surprise!   \n",
              "52118                                                                                                                       - - WAIT HERE FOR SURPRISE - - - - It's sure quiet around here today. Surprise!   \n",
              "\n",
              "                                                                                                              url  \\\n",
              "0      <a href=\"https://www.gocomics.com/garfield/1978/06/19\" rel=\"noopener noreferrer\" target=\"_blank\">Comic</a>   \n",
              "1      <a href=\"https://www.gocomics.com/garfield/1978/06/19\" rel=\"noopener noreferrer\" target=\"_blank\">Comic</a>   \n",
              "2      <a href=\"https://www.gocomics.com/garfield/1978/06/19\" rel=\"noopener noreferrer\" target=\"_blank\">Comic</a>   \n",
              "3      <a href=\"https://www.gocomics.com/garfield/1978/06/20\" rel=\"noopener noreferrer\" target=\"_blank\">Comic</a>   \n",
              "4      <a href=\"https://www.gocomics.com/garfield/1978/06/20\" rel=\"noopener noreferrer\" target=\"_blank\">Comic</a>   \n",
              "...                                                                                                           ...   \n",
              "52114  <a href=\"https://www.gocomics.com/garfield/2023/02/04\" rel=\"noopener noreferrer\" target=\"_blank\">Comic</a>   \n",
              "52115  <a href=\"https://www.gocomics.com/garfield/2023/02/04\" rel=\"noopener noreferrer\" target=\"_blank\">Comic</a>   \n",
              "52116  <a href=\"https://www.gocomics.com/garfield/2023/02/04\" rel=\"noopener noreferrer\" target=\"_blank\">Comic</a>   \n",
              "52117  <a href=\"https://www.gocomics.com/garfield/2023/02/05\" rel=\"noopener noreferrer\" target=\"_blank\">Comic</a>   \n",
              "52118  <a href=\"https://www.gocomics.com/garfield/2023/02/05\" rel=\"noopener noreferrer\" target=\"_blank\">Comic</a>   \n",
              "\n",
              "                                                  tokens  \\\n",
              "0      [there, jon, arbuckle, cartoonist, cat, garfield]   \n",
              "1                [there, garfield, cat, cartoonist, jon]   \n",
              "2                        [thought, entertain, you, feed]   \n",
              "3             [happy, birthday, garfield, surprise, you]   \n",
              "4                                       [rubber, mousey]   \n",
              "...                                                  ...   \n",
              "52114                [look, irma, diner, expanded, menu]   \n",
              "52115                     [added, kinds, meatloaf, cool]   \n",
              "52116                              [ooooh, kinds, bacon]   \n",
              "52117                                   [wait, surprise]   \n",
              "52118                     [sure, quiet, today, surprise]   \n",
              "\n",
              "                                                                            sentence  \n",
              "0      Hi, there...I'm Jon Arbuckle. I'm a cartoonist, and this is my cat, Garfield.  \n",
              "1                Hi, there. I'm Garfield. I'm a cat, and this is my cartoonist, Jon.  \n",
              "2                                     Our only thought is to entertain you. Feed me.  \n",
              "3                               Happy birthday, Garfield. I have a surprise for you.  \n",
              "4                                                                   A rubber mousey!  \n",
              "...                                                                              ...  \n",
              "52114                                   Look! Irma's Diner just expanded their menu.  \n",
              "52115                                    They added three kinds of meatloaf... Cool.  \n",
              "52116                                                Ooooh... And 23 kinds of bacon!  \n",
              "52117                                                         WAIT HERE FOR SURPRISE  \n",
              "52118                                   It's sure quiet around here today. Surprise!  \n",
              "\n",
              "[52010 rows x 7 columns]"
            ],
            "text/html": [
              "\n",
              "  <div id=\"df-ebff0995-cc37-4b33-89a1-9cf1e9801b67\">\n",
              "    <div class=\"colab-df-container\">\n",
              "      <div>\n",
              "<style scoped>\n",
              "    .dataframe tbody tr th:only-of-type {\n",
              "        vertical-align: middle;\n",
              "    }\n",
              "\n",
              "    .dataframe tbody tr th {\n",
              "        vertical-align: top;\n",
              "    }\n",
              "\n",
              "    .dataframe thead th {\n",
              "        text-align: right;\n",
              "    }\n",
              "</style>\n",
              "<table border=\"1\" class=\"dataframe\">\n",
              "  <thead>\n",
              "    <tr style=\"text-align: right;\">\n",
              "      <th></th>\n",
              "      <th>old index</th>\n",
              "      <th>stripID</th>\n",
              "      <th>Date</th>\n",
              "      <th>text</th>\n",
              "      <th>url</th>\n",
              "      <th>tokens</th>\n",
              "      <th>sentence</th>\n",
              "    </tr>\n",
              "  </thead>\n",
              "  <tbody>\n",
              "    <tr>\n",
              "      <th>0</th>\n",
              "      <td>0</td>\n",
              "      <td>ga780619</td>\n",
              "      <td>1978-06-19</td>\n",
              "      <td>Hi, there...I'm Jon Arbuckle. I'm a cartoonist, and this is my cat, Garfield. - Hi, there. I'm Garfield. I'm a cat, and this is my cartoonist, Jon. - Our only thought is to entertain you. Feed me.</td>\n",
              "      <td>&lt;a href=\"https://www.gocomics.com/garfield/1978/06/19\" rel=\"noopener noreferrer\" target=\"_blank\"&gt;Comic&lt;/a&gt;</td>\n",
              "      <td>[there, jon, arbuckle, cartoonist, cat, garfield]</td>\n",
              "      <td>Hi, there...I'm Jon Arbuckle. I'm a cartoonist, and this is my cat, Garfield.</td>\n",
              "    </tr>\n",
              "    <tr>\n",
              "      <th>1</th>\n",
              "      <td>0</td>\n",
              "      <td>ga780619</td>\n",
              "      <td>1978-06-19</td>\n",
              "      <td>Hi, there...I'm Jon Arbuckle. I'm a cartoonist, and this is my cat, Garfield. - Hi, there. I'm Garfield. I'm a cat, and this is my cartoonist, Jon. - Our only thought is to entertain you. Feed me.</td>\n",
              "      <td>&lt;a href=\"https://www.gocomics.com/garfield/1978/06/19\" rel=\"noopener noreferrer\" target=\"_blank\"&gt;Comic&lt;/a&gt;</td>\n",
              "      <td>[there, garfield, cat, cartoonist, jon]</td>\n",
              "      <td>Hi, there. I'm Garfield. I'm a cat, and this is my cartoonist, Jon.</td>\n",
              "    </tr>\n",
              "    <tr>\n",
              "      <th>2</th>\n",
              "      <td>0</td>\n",
              "      <td>ga780619</td>\n",
              "      <td>1978-06-19</td>\n",
              "      <td>Hi, there...I'm Jon Arbuckle. I'm a cartoonist, and this is my cat, Garfield. - Hi, there. I'm Garfield. I'm a cat, and this is my cartoonist, Jon. - Our only thought is to entertain you. Feed me.</td>\n",
              "      <td>&lt;a href=\"https://www.gocomics.com/garfield/1978/06/19\" rel=\"noopener noreferrer\" target=\"_blank\"&gt;Comic&lt;/a&gt;</td>\n",
              "      <td>[thought, entertain, you, feed]</td>\n",
              "      <td>Our only thought is to entertain you. Feed me.</td>\n",
              "    </tr>\n",
              "    <tr>\n",
              "      <th>3</th>\n",
              "      <td>1</td>\n",
              "      <td>ga780620</td>\n",
              "      <td>1978-06-20</td>\n",
              "      <td>Happy birthday, Garfield. I have a surprise for you. - A rubber mousey! - Could've used a little salt...</td>\n",
              "      <td>&lt;a href=\"https://www.gocomics.com/garfield/1978/06/20\" rel=\"noopener noreferrer\" target=\"_blank\"&gt;Comic&lt;/a&gt;</td>\n",
              "      <td>[happy, birthday, garfield, surprise, you]</td>\n",
              "      <td>Happy birthday, Garfield. I have a surprise for you.</td>\n",
              "    </tr>\n",
              "    <tr>\n",
              "      <th>4</th>\n",
              "      <td>1</td>\n",
              "      <td>ga780620</td>\n",
              "      <td>1978-06-20</td>\n",
              "      <td>Happy birthday, Garfield. I have a surprise for you. - A rubber mousey! - Could've used a little salt...</td>\n",
              "      <td>&lt;a href=\"https://www.gocomics.com/garfield/1978/06/20\" rel=\"noopener noreferrer\" target=\"_blank\"&gt;Comic&lt;/a&gt;</td>\n",
              "      <td>[rubber, mousey]</td>\n",
              "      <td>A rubber mousey!</td>\n",
              "    </tr>\n",
              "    <tr>\n",
              "      <th>...</th>\n",
              "      <td>...</td>\n",
              "      <td>...</td>\n",
              "      <td>...</td>\n",
              "      <td>...</td>\n",
              "      <td>...</td>\n",
              "      <td>...</td>\n",
              "      <td>...</td>\n",
              "    </tr>\n",
              "    <tr>\n",
              "      <th>52114</th>\n",
              "      <td>16260</td>\n",
              "      <td>ga230204</td>\n",
              "      <td>2023-02-04</td>\n",
              "      <td>Look! Irma's Diner just expanded their menu. - They added three kinds of meatloaf... Cool. - Ooooh... And 23 kinds of bacon!</td>\n",
              "      <td>&lt;a href=\"https://www.gocomics.com/garfield/2023/02/04\" rel=\"noopener noreferrer\" target=\"_blank\"&gt;Comic&lt;/a&gt;</td>\n",
              "      <td>[look, irma, diner, expanded, menu]</td>\n",
              "      <td>Look! Irma's Diner just expanded their menu.</td>\n",
              "    </tr>\n",
              "    <tr>\n",
              "      <th>52115</th>\n",
              "      <td>16260</td>\n",
              "      <td>ga230204</td>\n",
              "      <td>2023-02-04</td>\n",
              "      <td>Look! Irma's Diner just expanded their menu. - They added three kinds of meatloaf... Cool. - Ooooh... And 23 kinds of bacon!</td>\n",
              "      <td>&lt;a href=\"https://www.gocomics.com/garfield/2023/02/04\" rel=\"noopener noreferrer\" target=\"_blank\"&gt;Comic&lt;/a&gt;</td>\n",
              "      <td>[added, kinds, meatloaf, cool]</td>\n",
              "      <td>They added three kinds of meatloaf... Cool.</td>\n",
              "    </tr>\n",
              "    <tr>\n",
              "      <th>52116</th>\n",
              "      <td>16260</td>\n",
              "      <td>ga230204</td>\n",
              "      <td>2023-02-04</td>\n",
              "      <td>Look! Irma's Diner just expanded their menu. - They added three kinds of meatloaf... Cool. - Ooooh... And 23 kinds of bacon!</td>\n",
              "      <td>&lt;a href=\"https://www.gocomics.com/garfield/2023/02/04\" rel=\"noopener noreferrer\" target=\"_blank\"&gt;Comic&lt;/a&gt;</td>\n",
              "      <td>[ooooh, kinds, bacon]</td>\n",
              "      <td>Ooooh... And 23 kinds of bacon!</td>\n",
              "    </tr>\n",
              "    <tr>\n",
              "      <th>52117</th>\n",
              "      <td>16261</td>\n",
              "      <td>ga230205</td>\n",
              "      <td>2023-02-05</td>\n",
              "      <td>- - WAIT HERE FOR SURPRISE - - - - It's sure quiet around here today. Surprise!</td>\n",
              "      <td>&lt;a href=\"https://www.gocomics.com/garfield/2023/02/05\" rel=\"noopener noreferrer\" target=\"_blank\"&gt;Comic&lt;/a&gt;</td>\n",
              "      <td>[wait, surprise]</td>\n",
              "      <td>WAIT HERE FOR SURPRISE</td>\n",
              "    </tr>\n",
              "    <tr>\n",
              "      <th>52118</th>\n",
              "      <td>16261</td>\n",
              "      <td>ga230205</td>\n",
              "      <td>2023-02-05</td>\n",
              "      <td>- - WAIT HERE FOR SURPRISE - - - - It's sure quiet around here today. Surprise!</td>\n",
              "      <td>&lt;a href=\"https://www.gocomics.com/garfield/2023/02/05\" rel=\"noopener noreferrer\" target=\"_blank\"&gt;Comic&lt;/a&gt;</td>\n",
              "      <td>[sure, quiet, today, surprise]</td>\n",
              "      <td>It's sure quiet around here today. Surprise!</td>\n",
              "    </tr>\n",
              "  </tbody>\n",
              "</table>\n",
              "<p>52010 rows × 7 columns</p>\n",
              "</div>\n",
              "      <button class=\"colab-df-convert\" onclick=\"convertToInteractive('df-ebff0995-cc37-4b33-89a1-9cf1e9801b67')\"\n",
              "              title=\"Convert this dataframe to an interactive table.\"\n",
              "              style=\"display:none;\">\n",
              "        \n",
              "  <svg xmlns=\"http://www.w3.org/2000/svg\" height=\"24px\"viewBox=\"0 0 24 24\"\n",
              "       width=\"24px\">\n",
              "    <path d=\"M0 0h24v24H0V0z\" fill=\"none\"/>\n",
              "    <path d=\"M18.56 5.44l.94 2.06.94-2.06 2.06-.94-2.06-.94-.94-2.06-.94 2.06-2.06.94zm-11 1L8.5 8.5l.94-2.06 2.06-.94-2.06-.94L8.5 2.5l-.94 2.06-2.06.94zm10 10l.94 2.06.94-2.06 2.06-.94-2.06-.94-.94-2.06-.94 2.06-2.06.94z\"/><path d=\"M17.41 7.96l-1.37-1.37c-.4-.4-.92-.59-1.43-.59-.52 0-1.04.2-1.43.59L10.3 9.45l-7.72 7.72c-.78.78-.78 2.05 0 2.83L4 21.41c.39.39.9.59 1.41.59.51 0 1.02-.2 1.41-.59l7.78-7.78 2.81-2.81c.8-.78.8-2.07 0-2.86zM5.41 20L4 18.59l7.72-7.72 1.47 1.35L5.41 20z\"/>\n",
              "  </svg>\n",
              "      </button>\n",
              "      \n",
              "  <style>\n",
              "    .colab-df-container {\n",
              "      display:flex;\n",
              "      flex-wrap:wrap;\n",
              "      gap: 12px;\n",
              "    }\n",
              "\n",
              "    .colab-df-convert {\n",
              "      background-color: #E8F0FE;\n",
              "      border: none;\n",
              "      border-radius: 50%;\n",
              "      cursor: pointer;\n",
              "      display: none;\n",
              "      fill: #1967D2;\n",
              "      height: 32px;\n",
              "      padding: 0 0 0 0;\n",
              "      width: 32px;\n",
              "    }\n",
              "\n",
              "    .colab-df-convert:hover {\n",
              "      background-color: #E2EBFA;\n",
              "      box-shadow: 0px 1px 2px rgba(60, 64, 67, 0.3), 0px 1px 3px 1px rgba(60, 64, 67, 0.15);\n",
              "      fill: #174EA6;\n",
              "    }\n",
              "\n",
              "    [theme=dark] .colab-df-convert {\n",
              "      background-color: #3B4455;\n",
              "      fill: #D2E3FC;\n",
              "    }\n",
              "\n",
              "    [theme=dark] .colab-df-convert:hover {\n",
              "      background-color: #434B5C;\n",
              "      box-shadow: 0px 1px 3px 1px rgba(0, 0, 0, 0.15);\n",
              "      filter: drop-shadow(0px 1px 2px rgba(0, 0, 0, 0.3));\n",
              "      fill: #FFFFFF;\n",
              "    }\n",
              "  </style>\n",
              "\n",
              "      <script>\n",
              "        const buttonEl =\n",
              "          document.querySelector('#df-ebff0995-cc37-4b33-89a1-9cf1e9801b67 button.colab-df-convert');\n",
              "        buttonEl.style.display =\n",
              "          google.colab.kernel.accessAllowed ? 'block' : 'none';\n",
              "\n",
              "        async function convertToInteractive(key) {\n",
              "          const element = document.querySelector('#df-ebff0995-cc37-4b33-89a1-9cf1e9801b67');\n",
              "          const dataTable =\n",
              "            await google.colab.kernel.invokeFunction('convertToInteractive',\n",
              "                                                     [key], {});\n",
              "          if (!dataTable) return;\n",
              "\n",
              "          const docLinkHtml = 'Like what you see? Visit the ' +\n",
              "            '<a target=\"_blank\" href=https://colab.research.google.com/notebooks/data_table.ipynb>data table notebook</a>'\n",
              "            + ' to learn more about interactive tables.';\n",
              "          element.innerHTML = '';\n",
              "          dataTable['output_type'] = 'display_data';\n",
              "          await google.colab.output.renderOutput(dataTable, element);\n",
              "          const docLink = document.createElement('div');\n",
              "          docLink.innerHTML = docLinkHtml;\n",
              "          element.appendChild(docLink);\n",
              "        }\n",
              "      </script>\n",
              "    </div>\n",
              "  </div>\n",
              "  "
            ]
          },
          "metadata": {},
          "execution_count": 45
        }
      ]
    },
    {
      "cell_type": "code",
      "source": [
        "# verify that indexes still have the correct form\n",
        "#for i in range(len(df_sentences_train)):\n",
        "#    old_index = df_sentences_train.loc[i, 'old index']\n",
        "#    strip_eval = df_sentences_train.loc[i, 'stripID']\n",
        "#    strip_sorted = df_sorted.iloc[old_index]['stripID']\n",
        "#    #print(strip, samestrip)\n",
        "#    assert(strip_eval=='strip_sorted')"
      ],
      "metadata": {
        "execution": {
          "iopub.status.busy": "2023-02-06T14:01:04.805761Z",
          "iopub.execute_input": "2023-02-06T14:01:04.806456Z",
          "iopub.status.idle": "2023-02-06T14:01:04.811106Z",
          "shell.execute_reply.started": "2023-02-06T14:01:04.806418Z",
          "shell.execute_reply": "2023-02-06T14:01:04.810074Z"
        },
        "trusted": true,
        "id": "6Bhyl_v5G6gb"
      },
      "execution_count": null,
      "outputs": []
    },
    {
      "cell_type": "markdown",
      "source": [
        " ### 2. Train - test split\n",
        " - Take out 500 strips for testing purposes, so that their sentences will not be trained on\n",
        " - Use remaining strips for training the `SentenceTransformer`"
      ],
      "metadata": {
        "id": "yNhoq0dPPXgG"
      }
    },
    {
      "cell_type": "code",
      "source": [
        "# ON KAGGLE IT DOES NOT WORK\n",
        "#train_stripIDs, val_stripIDs, test_stripIDs = random_split(df_sorted['stripID'], [0.8, 0.1, 0.1], generator=torch.Generator().manual_seed(42))\n",
        "#train_stripIDs = train_stripIDs.dataset[train_stripIDs.indices].values\n",
        "#val_stripIDs = val_stripIDs.dataset[val_stripIDs.indices].values\n",
        "#test_stripIDs = test_stripIDs.dataset[test_stripIDs.indices].values"
      ],
      "metadata": {
        "id": "zhT5dAfonthm",
        "execution": {
          "iopub.status.busy": "2023-02-06T14:01:04.812694Z",
          "iopub.execute_input": "2023-02-06T14:01:04.813394Z",
          "iopub.status.idle": "2023-02-06T14:01:04.821275Z",
          "shell.execute_reply.started": "2023-02-06T14:01:04.813333Z",
          "shell.execute_reply": "2023-02-06T14:01:04.820396Z"
        },
        "trusted": true
      },
      "execution_count": null,
      "outputs": []
    },
    {
      "cell_type": "code",
      "source": [
        "#train_stripIDs, val_stripIDs, test_stripIDs = np.split(df_sorted['stripID'].sample(frac=1, random_state=42),\n",
        "#                                [int(.8*len(df_sorted)), int(.9*len(df_sorted))])\n",
        "test_stripIDs = df_sorted['stripID'].sample(n=500, random_state=42)\n",
        "len(test_stripIDs.unique())"
      ],
      "metadata": {
        "id": "283GklUrnthm",
        "execution": {
          "iopub.status.busy": "2023-02-06T14:01:04.822872Z",
          "iopub.execute_input": "2023-02-06T14:01:04.823229Z",
          "iopub.status.idle": "2023-02-06T14:01:04.843237Z",
          "shell.execute_reply.started": "2023-02-06T14:01:04.823193Z",
          "shell.execute_reply": "2023-02-06T14:01:04.842392Z"
        },
        "trusted": true,
        "colab": {
          "base_uri": "https://localhost:8080/"
        },
        "outputId": "f1d1252b-27c2-4946-c81a-8f460a7e9d09"
      },
      "execution_count": null,
      "outputs": [
        {
          "output_type": "execute_result",
          "data": {
            "text/plain": [
              "500"
            ]
          },
          "metadata": {},
          "execution_count": 48
        }
      ]
    },
    {
      "cell_type": "code",
      "source": [
        "#print(len(train_stripIDs), len(val_stripIDs), len(test_stripIDs))\n",
        "#print(len(train_stripIDs), len(test_stripIDs))\n",
        "is_test = df_sentences['stripID'].isin(test_stripIDs)\n",
        "df_sentences_test = df_sentences[is_test].reset_index(drop=True)\n",
        "\n",
        "df_sentences_train = df_sentences[~is_test].reset_index(drop=True)\n",
        "\n",
        "#is_val = df_sentences['stripID'].isin(val_stripIDs)\n",
        "#df_sentences_val = df_sentences[is_val].reset_index(drop=True)\n",
        "\n",
        "#print(df_sentences_train.shape, df_sentences_val.shape, df_sentences_test.shape)\n",
        "print(df_sentences_train.shape, df_sentences_test.shape)\n",
        "\n",
        "df_sentences_train.loc[40:50]"
      ],
      "metadata": {
        "id": "VxxYy-1NTZ2z",
        "colab": {
          "base_uri": "https://localhost:8080/",
          "height": 717
        },
        "outputId": "04a989f7-ed06-47c9-80d0-597e409e257b",
        "execution": {
          "iopub.status.busy": "2023-02-06T14:01:04.844863Z",
          "iopub.execute_input": "2023-02-06T14:01:04.845250Z",
          "iopub.status.idle": "2023-02-06T14:01:04.882782Z",
          "shell.execute_reply.started": "2023-02-06T14:01:04.845210Z",
          "shell.execute_reply": "2023-02-06T14:01:04.881819Z"
        },
        "trusted": true
      },
      "execution_count": null,
      "outputs": [
        {
          "output_type": "stream",
          "name": "stdout",
          "text": [
            "(50464, 7) (1546, 7)\n"
          ]
        },
        {
          "output_type": "execute_result",
          "data": {
            "text/plain": [
              "    old index   stripID       Date  \\\n",
              "40         15  ga780704 1978-07-04   \n",
              "41         15  ga780704 1978-07-04   \n",
              "42         16  ga780705 1978-07-05   \n",
              "43         16  ga780705 1978-07-05   \n",
              "44         16  ga780705 1978-07-05   \n",
              "45         17  ga780706 1978-07-06   \n",
              "46         17  ga780706 1978-07-06   \n",
              "47         17  ga780706 1978-07-06   \n",
              "48         18  ga780707 1978-07-07   \n",
              "49         18  ga780707 1978-07-07   \n",
              "50         18  ga780707 1978-07-07   \n",
              "\n",
              "                                                                                                              text  \\\n",
              "40                                             I really shouldn't eat that fish... - - Call it an ethnic weakness.   \n",
              "41                                             I really shouldn't eat that fish... - - Call it an ethnic weakness.   \n",
              "42  itch scratch scratch - scratch! scratch! scratch! scratch! itch scratch! scratch! scratch! scratch! - AARRRGH!   \n",
              "43  itch scratch scratch - scratch! scratch! scratch! scratch! itch scratch! scratch! scratch! scratch! - AARRRGH!   \n",
              "44  itch scratch scratch - scratch! scratch! scratch! scratch! itch scratch! scratch! scratch! scratch! - AARRRGH!   \n",
              "45                                              SNIFF! - Cat food... - The bouquet leaves something to be desired.   \n",
              "46                                              SNIFF! - Cat food... - The bouquet leaves something to be desired.   \n",
              "47                                              SNIFF! - Cat food... - The bouquet leaves something to be desired.   \n",
              "48                                           Ah, a curtain upon which to sharpen my claws. - - I hate double-knit.   \n",
              "49                                           Ah, a curtain upon which to sharpen my claws. - - I hate double-knit.   \n",
              "50                                           Ah, a curtain upon which to sharpen my claws. - - I hate double-knit.   \n",
              "\n",
              "                                                                                                           url  \\\n",
              "40  <a href=\"https://www.gocomics.com/garfield/1978/07/04\" rel=\"noopener noreferrer\" target=\"_blank\">Comic</a>   \n",
              "41  <a href=\"https://www.gocomics.com/garfield/1978/07/04\" rel=\"noopener noreferrer\" target=\"_blank\">Comic</a>   \n",
              "42  <a href=\"https://www.gocomics.com/garfield/1978/07/05\" rel=\"noopener noreferrer\" target=\"_blank\">Comic</a>   \n",
              "43  <a href=\"https://www.gocomics.com/garfield/1978/07/05\" rel=\"noopener noreferrer\" target=\"_blank\">Comic</a>   \n",
              "44  <a href=\"https://www.gocomics.com/garfield/1978/07/05\" rel=\"noopener noreferrer\" target=\"_blank\">Comic</a>   \n",
              "45  <a href=\"https://www.gocomics.com/garfield/1978/07/06\" rel=\"noopener noreferrer\" target=\"_blank\">Comic</a>   \n",
              "46  <a href=\"https://www.gocomics.com/garfield/1978/07/06\" rel=\"noopener noreferrer\" target=\"_blank\">Comic</a>   \n",
              "47  <a href=\"https://www.gocomics.com/garfield/1978/07/06\" rel=\"noopener noreferrer\" target=\"_blank\">Comic</a>   \n",
              "48  <a href=\"https://www.gocomics.com/garfield/1978/07/07\" rel=\"noopener noreferrer\" target=\"_blank\">Comic</a>   \n",
              "49  <a href=\"https://www.gocomics.com/garfield/1978/07/07\" rel=\"noopener noreferrer\" target=\"_blank\">Comic</a>   \n",
              "50  <a href=\"https://www.gocomics.com/garfield/1978/07/07\" rel=\"noopener noreferrer\" target=\"_blank\">Comic</a>   \n",
              "\n",
              "                                                                            tokens  \\\n",
              "40                                                            [shouldn, eat, fish]   \n",
              "41                                                              [ethnic, weakness]   \n",
              "42                                                        [itch, scratch, scratch]   \n",
              "43  [scratch, scratch, scratch, scratch, itch, scratch, scratch, scratch, scratch]   \n",
              "44                                                                       [aarrrgh]   \n",
              "45                                                                         [sniff]   \n",
              "46                                                                     [cat, food]   \n",
              "47                                                      [bouquet, leaves, desired]   \n",
              "48                                                       [curtain, sharpen, claws]   \n",
              "49                                                                  [hate, double]   \n",
              "50                                                                          [knit]   \n",
              "\n",
              "                                                                        sentence  \n",
              "40                                           I really shouldn't eat that fish...  \n",
              "41                                                   Call it an ethnic weakness.  \n",
              "42                                                          itch scratch scratch  \n",
              "43  scratch! scratch! scratch! scratch! itch scratch! scratch! scratch! scratch!  \n",
              "44                                                                      AARRRGH!  \n",
              "45                                                                        SNIFF!  \n",
              "46                                                                   Cat food...  \n",
              "47                                   The bouquet leaves something to be desired.  \n",
              "48                                 Ah, a curtain upon which to sharpen my claws.  \n",
              "49                                                                 I hate double  \n",
              "50                                                                         knit.  "
            ],
            "text/html": [
              "\n",
              "  <div id=\"df-620c41ba-9ca8-49e7-a707-581a94e9d58c\">\n",
              "    <div class=\"colab-df-container\">\n",
              "      <div>\n",
              "<style scoped>\n",
              "    .dataframe tbody tr th:only-of-type {\n",
              "        vertical-align: middle;\n",
              "    }\n",
              "\n",
              "    .dataframe tbody tr th {\n",
              "        vertical-align: top;\n",
              "    }\n",
              "\n",
              "    .dataframe thead th {\n",
              "        text-align: right;\n",
              "    }\n",
              "</style>\n",
              "<table border=\"1\" class=\"dataframe\">\n",
              "  <thead>\n",
              "    <tr style=\"text-align: right;\">\n",
              "      <th></th>\n",
              "      <th>old index</th>\n",
              "      <th>stripID</th>\n",
              "      <th>Date</th>\n",
              "      <th>text</th>\n",
              "      <th>url</th>\n",
              "      <th>tokens</th>\n",
              "      <th>sentence</th>\n",
              "    </tr>\n",
              "  </thead>\n",
              "  <tbody>\n",
              "    <tr>\n",
              "      <th>40</th>\n",
              "      <td>15</td>\n",
              "      <td>ga780704</td>\n",
              "      <td>1978-07-04</td>\n",
              "      <td>I really shouldn't eat that fish... - - Call it an ethnic weakness.</td>\n",
              "      <td>&lt;a href=\"https://www.gocomics.com/garfield/1978/07/04\" rel=\"noopener noreferrer\" target=\"_blank\"&gt;Comic&lt;/a&gt;</td>\n",
              "      <td>[shouldn, eat, fish]</td>\n",
              "      <td>I really shouldn't eat that fish...</td>\n",
              "    </tr>\n",
              "    <tr>\n",
              "      <th>41</th>\n",
              "      <td>15</td>\n",
              "      <td>ga780704</td>\n",
              "      <td>1978-07-04</td>\n",
              "      <td>I really shouldn't eat that fish... - - Call it an ethnic weakness.</td>\n",
              "      <td>&lt;a href=\"https://www.gocomics.com/garfield/1978/07/04\" rel=\"noopener noreferrer\" target=\"_blank\"&gt;Comic&lt;/a&gt;</td>\n",
              "      <td>[ethnic, weakness]</td>\n",
              "      <td>Call it an ethnic weakness.</td>\n",
              "    </tr>\n",
              "    <tr>\n",
              "      <th>42</th>\n",
              "      <td>16</td>\n",
              "      <td>ga780705</td>\n",
              "      <td>1978-07-05</td>\n",
              "      <td>itch scratch scratch - scratch! scratch! scratch! scratch! itch scratch! scratch! scratch! scratch! - AARRRGH!</td>\n",
              "      <td>&lt;a href=\"https://www.gocomics.com/garfield/1978/07/05\" rel=\"noopener noreferrer\" target=\"_blank\"&gt;Comic&lt;/a&gt;</td>\n",
              "      <td>[itch, scratch, scratch]</td>\n",
              "      <td>itch scratch scratch</td>\n",
              "    </tr>\n",
              "    <tr>\n",
              "      <th>43</th>\n",
              "      <td>16</td>\n",
              "      <td>ga780705</td>\n",
              "      <td>1978-07-05</td>\n",
              "      <td>itch scratch scratch - scratch! scratch! scratch! scratch! itch scratch! scratch! scratch! scratch! - AARRRGH!</td>\n",
              "      <td>&lt;a href=\"https://www.gocomics.com/garfield/1978/07/05\" rel=\"noopener noreferrer\" target=\"_blank\"&gt;Comic&lt;/a&gt;</td>\n",
              "      <td>[scratch, scratch, scratch, scratch, itch, scratch, scratch, scratch, scratch]</td>\n",
              "      <td>scratch! scratch! scratch! scratch! itch scratch! scratch! scratch! scratch!</td>\n",
              "    </tr>\n",
              "    <tr>\n",
              "      <th>44</th>\n",
              "      <td>16</td>\n",
              "      <td>ga780705</td>\n",
              "      <td>1978-07-05</td>\n",
              "      <td>itch scratch scratch - scratch! scratch! scratch! scratch! itch scratch! scratch! scratch! scratch! - AARRRGH!</td>\n",
              "      <td>&lt;a href=\"https://www.gocomics.com/garfield/1978/07/05\" rel=\"noopener noreferrer\" target=\"_blank\"&gt;Comic&lt;/a&gt;</td>\n",
              "      <td>[aarrrgh]</td>\n",
              "      <td>AARRRGH!</td>\n",
              "    </tr>\n",
              "    <tr>\n",
              "      <th>45</th>\n",
              "      <td>17</td>\n",
              "      <td>ga780706</td>\n",
              "      <td>1978-07-06</td>\n",
              "      <td>SNIFF! - Cat food... - The bouquet leaves something to be desired.</td>\n",
              "      <td>&lt;a href=\"https://www.gocomics.com/garfield/1978/07/06\" rel=\"noopener noreferrer\" target=\"_blank\"&gt;Comic&lt;/a&gt;</td>\n",
              "      <td>[sniff]</td>\n",
              "      <td>SNIFF!</td>\n",
              "    </tr>\n",
              "    <tr>\n",
              "      <th>46</th>\n",
              "      <td>17</td>\n",
              "      <td>ga780706</td>\n",
              "      <td>1978-07-06</td>\n",
              "      <td>SNIFF! - Cat food... - The bouquet leaves something to be desired.</td>\n",
              "      <td>&lt;a href=\"https://www.gocomics.com/garfield/1978/07/06\" rel=\"noopener noreferrer\" target=\"_blank\"&gt;Comic&lt;/a&gt;</td>\n",
              "      <td>[cat, food]</td>\n",
              "      <td>Cat food...</td>\n",
              "    </tr>\n",
              "    <tr>\n",
              "      <th>47</th>\n",
              "      <td>17</td>\n",
              "      <td>ga780706</td>\n",
              "      <td>1978-07-06</td>\n",
              "      <td>SNIFF! - Cat food... - The bouquet leaves something to be desired.</td>\n",
              "      <td>&lt;a href=\"https://www.gocomics.com/garfield/1978/07/06\" rel=\"noopener noreferrer\" target=\"_blank\"&gt;Comic&lt;/a&gt;</td>\n",
              "      <td>[bouquet, leaves, desired]</td>\n",
              "      <td>The bouquet leaves something to be desired.</td>\n",
              "    </tr>\n",
              "    <tr>\n",
              "      <th>48</th>\n",
              "      <td>18</td>\n",
              "      <td>ga780707</td>\n",
              "      <td>1978-07-07</td>\n",
              "      <td>Ah, a curtain upon which to sharpen my claws. - - I hate double-knit.</td>\n",
              "      <td>&lt;a href=\"https://www.gocomics.com/garfield/1978/07/07\" rel=\"noopener noreferrer\" target=\"_blank\"&gt;Comic&lt;/a&gt;</td>\n",
              "      <td>[curtain, sharpen, claws]</td>\n",
              "      <td>Ah, a curtain upon which to sharpen my claws.</td>\n",
              "    </tr>\n",
              "    <tr>\n",
              "      <th>49</th>\n",
              "      <td>18</td>\n",
              "      <td>ga780707</td>\n",
              "      <td>1978-07-07</td>\n",
              "      <td>Ah, a curtain upon which to sharpen my claws. - - I hate double-knit.</td>\n",
              "      <td>&lt;a href=\"https://www.gocomics.com/garfield/1978/07/07\" rel=\"noopener noreferrer\" target=\"_blank\"&gt;Comic&lt;/a&gt;</td>\n",
              "      <td>[hate, double]</td>\n",
              "      <td>I hate double</td>\n",
              "    </tr>\n",
              "    <tr>\n",
              "      <th>50</th>\n",
              "      <td>18</td>\n",
              "      <td>ga780707</td>\n",
              "      <td>1978-07-07</td>\n",
              "      <td>Ah, a curtain upon which to sharpen my claws. - - I hate double-knit.</td>\n",
              "      <td>&lt;a href=\"https://www.gocomics.com/garfield/1978/07/07\" rel=\"noopener noreferrer\" target=\"_blank\"&gt;Comic&lt;/a&gt;</td>\n",
              "      <td>[knit]</td>\n",
              "      <td>knit.</td>\n",
              "    </tr>\n",
              "  </tbody>\n",
              "</table>\n",
              "</div>\n",
              "      <button class=\"colab-df-convert\" onclick=\"convertToInteractive('df-620c41ba-9ca8-49e7-a707-581a94e9d58c')\"\n",
              "              title=\"Convert this dataframe to an interactive table.\"\n",
              "              style=\"display:none;\">\n",
              "        \n",
              "  <svg xmlns=\"http://www.w3.org/2000/svg\" height=\"24px\"viewBox=\"0 0 24 24\"\n",
              "       width=\"24px\">\n",
              "    <path d=\"M0 0h24v24H0V0z\" fill=\"none\"/>\n",
              "    <path d=\"M18.56 5.44l.94 2.06.94-2.06 2.06-.94-2.06-.94-.94-2.06-.94 2.06-2.06.94zm-11 1L8.5 8.5l.94-2.06 2.06-.94-2.06-.94L8.5 2.5l-.94 2.06-2.06.94zm10 10l.94 2.06.94-2.06 2.06-.94-2.06-.94-.94-2.06-.94 2.06-2.06.94z\"/><path d=\"M17.41 7.96l-1.37-1.37c-.4-.4-.92-.59-1.43-.59-.52 0-1.04.2-1.43.59L10.3 9.45l-7.72 7.72c-.78.78-.78 2.05 0 2.83L4 21.41c.39.39.9.59 1.41.59.51 0 1.02-.2 1.41-.59l7.78-7.78 2.81-2.81c.8-.78.8-2.07 0-2.86zM5.41 20L4 18.59l7.72-7.72 1.47 1.35L5.41 20z\"/>\n",
              "  </svg>\n",
              "      </button>\n",
              "      \n",
              "  <style>\n",
              "    .colab-df-container {\n",
              "      display:flex;\n",
              "      flex-wrap:wrap;\n",
              "      gap: 12px;\n",
              "    }\n",
              "\n",
              "    .colab-df-convert {\n",
              "      background-color: #E8F0FE;\n",
              "      border: none;\n",
              "      border-radius: 50%;\n",
              "      cursor: pointer;\n",
              "      display: none;\n",
              "      fill: #1967D2;\n",
              "      height: 32px;\n",
              "      padding: 0 0 0 0;\n",
              "      width: 32px;\n",
              "    }\n",
              "\n",
              "    .colab-df-convert:hover {\n",
              "      background-color: #E2EBFA;\n",
              "      box-shadow: 0px 1px 2px rgba(60, 64, 67, 0.3), 0px 1px 3px 1px rgba(60, 64, 67, 0.15);\n",
              "      fill: #174EA6;\n",
              "    }\n",
              "\n",
              "    [theme=dark] .colab-df-convert {\n",
              "      background-color: #3B4455;\n",
              "      fill: #D2E3FC;\n",
              "    }\n",
              "\n",
              "    [theme=dark] .colab-df-convert:hover {\n",
              "      background-color: #434B5C;\n",
              "      box-shadow: 0px 1px 3px 1px rgba(0, 0, 0, 0.15);\n",
              "      filter: drop-shadow(0px 1px 2px rgba(0, 0, 0, 0.3));\n",
              "      fill: #FFFFFF;\n",
              "    }\n",
              "  </style>\n",
              "\n",
              "      <script>\n",
              "        const buttonEl =\n",
              "          document.querySelector('#df-620c41ba-9ca8-49e7-a707-581a94e9d58c button.colab-df-convert');\n",
              "        buttonEl.style.display =\n",
              "          google.colab.kernel.accessAllowed ? 'block' : 'none';\n",
              "\n",
              "        async function convertToInteractive(key) {\n",
              "          const element = document.querySelector('#df-620c41ba-9ca8-49e7-a707-581a94e9d58c');\n",
              "          const dataTable =\n",
              "            await google.colab.kernel.invokeFunction('convertToInteractive',\n",
              "                                                     [key], {});\n",
              "          if (!dataTable) return;\n",
              "\n",
              "          const docLinkHtml = 'Like what you see? Visit the ' +\n",
              "            '<a target=\"_blank\" href=https://colab.research.google.com/notebooks/data_table.ipynb>data table notebook</a>'\n",
              "            + ' to learn more about interactive tables.';\n",
              "          element.innerHTML = '';\n",
              "          dataTable['output_type'] = 'display_data';\n",
              "          await google.colab.output.renderOutput(dataTable, element);\n",
              "          const docLink = document.createElement('div');\n",
              "          docLink.innerHTML = docLinkHtml;\n",
              "          element.appendChild(docLink);\n",
              "        }\n",
              "      </script>\n",
              "    </div>\n",
              "  </div>\n",
              "  "
            ]
          },
          "metadata": {},
          "execution_count": 49
        }
      ]
    },
    {
      "cell_type": "markdown",
      "source": [
        "### 3. Make a dataset with previous that outputs tuples of (query, positive, negative, stripID)"
      ],
      "metadata": {
        "id": "Jdewc4glDt1z"
      }
    },
    {
      "cell_type": "code",
      "source": [
        "from sentence_transformers import InputExample"
      ],
      "metadata": {
        "id": "Px1kLkDhjGbD",
        "execution": {
          "iopub.status.busy": "2023-02-06T14:01:04.884189Z",
          "iopub.execute_input": "2023-02-06T14:01:04.884546Z",
          "iopub.status.idle": "2023-02-06T14:01:04.889321Z",
          "shell.execute_reply.started": "2023-02-06T14:01:04.884512Z",
          "shell.execute_reply": "2023-02-06T14:01:04.888052Z"
        },
        "trusted": true
      },
      "execution_count": null,
      "outputs": []
    },
    {
      "cell_type": "code",
      "source": [
        "class GarfieldDataset(Dataset):\n",
        "  def __init__(self, dataset, mode='triplet'):\n",
        "    self.dataset = dataset\n",
        "    self.strip_number = dataset['old index'].values\n",
        "    self.sentences = dataset['sentence'].values\n",
        "    self.mode = mode\n",
        "    \n",
        "  def __len__(self):\n",
        "    return len(self.dataset)\n",
        "\n",
        "  def __getitem__(self, idx):\n",
        "    # return query, positive, negative and stripID for query index if mode is for triplet loss, otherwise \n",
        "    # only query and positive (assumed for multiplenegativeloss)\n",
        "    query = self.dataset.loc[idx, 'sentence']\n",
        "\n",
        "    # pos = another sentence in the same strip\n",
        "    positives_list = self.sentences[(self.strip_number == self.dataset.loc[idx, 'old index'])]\n",
        "    positives_list = positives_list[positives_list != query]\n",
        "    try:\n",
        "        positive = random.choice(positives_list)\n",
        "    except: positive = ''\n",
        "\n",
        "    #stripID = self.dataset.loc[idx, 'stripID']\n",
        "    example = None\n",
        "    if self.mode == 'triplet':\n",
        "        negatives_list = self.sentences[(self.strip_number != self.dataset.loc[idx, 'old index'])]\n",
        "        negatives_list = negatives_list[negatives_list != query]\n",
        "\n",
        "        negative = random.choice(negatives_list)\n",
        "        example = InputExample(texts = [query, positive, negative])\n",
        "    elif self.mode=='mn': \n",
        "        example = InputExample(texts = [query, positive])\n",
        "    #return query, positive, negative, stripID\n",
        "    return example"
      ],
      "metadata": {
        "id": "TKubZHMfEGYi",
        "execution": {
          "iopub.status.busy": "2023-02-06T14:01:04.890957Z",
          "iopub.execute_input": "2023-02-06T14:01:04.892727Z",
          "iopub.status.idle": "2023-02-06T14:01:04.903995Z",
          "shell.execute_reply.started": "2023-02-06T14:01:04.892690Z",
          "shell.execute_reply": "2023-02-06T14:01:04.903168Z"
        },
        "trusted": true
      },
      "execution_count": null,
      "outputs": []
    },
    {
      "cell_type": "markdown",
      "source": [
        "Split the data in train, test"
      ],
      "metadata": {
        "id": "ts7LP5X2J5JQ"
      }
    },
    {
      "cell_type": "code",
      "source": [
        "train_triplet = GarfieldDataset(df_sentences_train, mode='triplet')\n",
        "train_mn = GarfieldDataset(df_sentences_train, mode='mn')"
      ],
      "metadata": {
        "id": "q69_PAzbEYmx",
        "execution": {
          "iopub.status.busy": "2023-02-06T14:01:04.905373Z",
          "iopub.execute_input": "2023-02-06T14:01:04.906540Z",
          "iopub.status.idle": "2023-02-06T14:01:04.920112Z",
          "shell.execute_reply.started": "2023-02-06T14:01:04.906504Z",
          "shell.execute_reply": "2023-02-06T14:01:04.919094Z"
        },
        "trusted": true
      },
      "execution_count": null,
      "outputs": []
    },
    {
      "cell_type": "code",
      "source": [
        "print('Triplet example:', train_triplet.__getitem__(0).texts)\n",
        "print('MN example:', train_mn.__getitem__(0).texts)"
      ],
      "metadata": {
        "id": "d2HxtVY3KUee",
        "colab": {
          "base_uri": "https://localhost:8080/"
        },
        "outputId": "2618709c-1175-43eb-c161-091154100fbf",
        "execution": {
          "iopub.status.busy": "2023-02-06T14:01:04.921590Z",
          "iopub.execute_input": "2023-02-06T14:01:04.922017Z",
          "iopub.status.idle": "2023-02-06T14:01:04.936291Z",
          "shell.execute_reply.started": "2023-02-06T14:01:04.921983Z",
          "shell.execute_reply": "2023-02-06T14:01:04.935076Z"
        },
        "trusted": true
      },
      "execution_count": null,
      "outputs": [
        {
          "output_type": "stream",
          "name": "stdout",
          "text": [
            "Triplet example: [\"Hi, there...I'm Jon Arbuckle. I'm a cartoonist, and this is my cat, Garfield.\", \"Hi, there. I'm Garfield. I'm a cat, and this is my cartoonist, Jon.\", \"I'll feed you in a minute, Garfield.\"]\n",
            "MN example: [\"Hi, there...I'm Jon Arbuckle. I'm a cartoonist, and this is my cat, Garfield.\", 'Our only thought is to entertain you. Feed me.']\n"
          ]
        }
      ]
    },
    {
      "cell_type": "markdown",
      "source": [
        "## Sentence Transformer model setup and training"
      ],
      "metadata": {
        "id": "09JBZUaUibCf"
      }
    },
    {
      "cell_type": "code",
      "source": [
        "# https://huggingface.co/blog/how-to-train-sentence-transformers\n",
        "from sentence_transformers import SentenceTransformer\n",
        "from torch.utils.data import DataLoader\n",
        "from sentence_transformers import losses\n",
        "#https://www.sbert.net/docs/package_reference/evaluation.html"
      ],
      "metadata": {
        "id": "GZoQrNFVlHbX",
        "execution": {
          "iopub.status.busy": "2023-02-06T14:01:04.938288Z",
          "iopub.execute_input": "2023-02-06T14:01:04.938677Z",
          "iopub.status.idle": "2023-02-06T14:01:06.308815Z",
          "shell.execute_reply.started": "2023-02-06T14:01:04.938642Z",
          "shell.execute_reply": "2023-02-06T14:01:06.307620Z"
        },
        "trusted": true
      },
      "execution_count": null,
      "outputs": []
    },
    {
      "cell_type": "code",
      "source": [
        "import shutil\n",
        "import os\n",
        "import gc"
      ],
      "metadata": {
        "execution": {
          "iopub.status.busy": "2023-02-06T14:03:22.664276Z",
          "iopub.execute_input": "2023-02-06T14:03:22.665321Z",
          "iopub.status.idle": "2023-02-06T14:03:22.670245Z",
          "shell.execute_reply.started": "2023-02-06T14:03:22.665283Z",
          "shell.execute_reply": "2023-02-06T14:03:22.669009Z"
        },
        "trusted": true,
        "id": "4jTxMX1cG6ge"
      },
      "execution_count": null,
      "outputs": []
    },
    {
      "cell_type": "markdown",
      "source": [
        "Consider having the .zip files in the local directory"
      ],
      "metadata": {
        "id": "oLNLa-mIG6ge"
      }
    },
    {
      "cell_type": "code",
      "source": [
        "!git clone https://github.com/EnricoBenedetti/GarfieldRetrieve"
      ],
      "metadata": {
        "colab": {
          "base_uri": "https://localhost:8080/"
        },
        "id": "VFVdTVTrJX6W",
        "outputId": "3da75db8-e7ee-4ded-e6f2-f852063fd8f5"
      },
      "execution_count": null,
      "outputs": [
        {
          "output_type": "stream",
          "name": "stdout",
          "text": [
            "Cloning into 'GarfieldRetrieve'...\n",
            "remote: Enumerating objects: 17, done.\u001b[K\n",
            "remote: Counting objects: 100% (3/3), done.\u001b[K\n",
            "remote: Compressing objects: 100% (3/3), done.\u001b[K\n",
            "remote: Total 17 (delta 0), reused 2 (delta 0), pack-reused 14\u001b[K\n",
            "Unpacking objects: 100% (17/17), 214.52 MiB | 10.10 MiB/s, done.\n"
          ]
        }
      ]
    },
    {
      "cell_type": "code",
      "source": [
        "load_finetuned_from_local = True\n",
        "\n",
        "model_id = \"sentence-transformers/all-MiniLM-L6-v2\"\n",
        "# load base pretrained\n",
        "model_base = SentenceTransformer(model_id)\n",
        "model_finetuned_triplet = SentenceTransformer(model_id)\n",
        "model_finetuned_mn = SentenceTransformer(model_id)\n",
        "\n",
        "# load finetuned state_dict from my repository\n",
        "if load_finetuned_from_local:\n",
        "    os.chdir(\"/content/GarfieldRetrieve\")\n",
        "    #shutil.unpack_archive('finetuned_garfield_triplet.zip', 'finetuned_garfield_triplet')\n",
        "    #os.chdir(\"finetuned_garfield_triplet/\")\n",
        "    #model_finetuned_triplet = SentenceTransformer('finetuned_garfield_triplet')\n",
        "    \n",
        "    model_finetuned_triplet.load_state_dict(torch.load('garfield_finetuned_triplet_state'))\n",
        "    model_finetuned_mn.load_state_dict(torch.load('garfield_finetuned_mn_state', weights_only=True))\n",
        "    #os.chdir(\"/content/GarfieldRetrieve\")\n",
        "    #shutil.unpack_archive('finetuned_garfield_mn.zip', 'finetuned_garfield_mn')\n",
        "    #os.chdir(\"finetuned_garfield_mn/\")\n",
        "    #model_finetuned_mn = SentenceTransformer('finetuned_garfield_mn')\n",
        "    os.chdir(\"/content\")\n",
        "    print('Loaded finetuned models from folder.')"
      ],
      "metadata": {
        "id": "7mxDdoHdifLM",
        "colab": {
          "base_uri": "https://localhost:8080/"
        },
        "outputId": "12b78eeb-1b85-41c3-fd39-d1e1f291ec50",
        "execution": {
          "iopub.status.busy": "2023-02-06T14:21:32.291007Z",
          "iopub.execute_input": "2023-02-06T14:21:32.291394Z",
          "iopub.status.idle": "2023-02-06T14:21:33.183282Z",
          "shell.execute_reply.started": "2023-02-06T14:21:32.291339Z",
          "shell.execute_reply": "2023-02-06T14:21:33.182215Z"
        },
        "trusted": true
      },
      "execution_count": null,
      "outputs": [
        {
          "output_type": "stream",
          "name": "stdout",
          "text": [
            "Loaded from folder.\n"
          ]
        }
      ]
    },
    {
      "cell_type": "markdown",
      "source": [
        "Losses\n",
        "\n",
        "`MultipleNegativesRankingLoss`: The examples are a pair of positive sentences without a label. In this case, the positive for a sentence is another sentence from the same strip. Since the majority of all the sentences in the dataset are then negative for a query (because they come from different strips), this loss should be okay to embed closer together sentences from the same strip.\n",
        "\n",
        "`TripletLoss`: The example is a triplet (anchor, positive, negative) without classes or labels for the sentences. In this case the anchor is a sentence from strip X, positive is another sentence in strip X, and negative is a sentence from a different strip. With this loss sometimes the example are already too easy (distance anchor-positive is already smaller than the distance anchor-negative), so hard and semi-hard negative mining could be adopted to improve training."
      ],
      "metadata": {
        "id": "sdORIKVsG6ge"
      }
    },
    {
      "cell_type": "code",
      "source": [
        "train_loss_triplet = losses.TripletLoss(model=model_finetuned_triplet)\n",
        "train_loss_mn = losses.MultipleNegativesRankingLoss(model=model_finetuned_mn)\n",
        "\n",
        "train_dataloader_triplet = DataLoader(train_triplet, shuffle=True, batch_size=32)\n",
        "train_dataloader_mn = DataLoader(train_mn, shuffle=True, batch_size=32)"
      ],
      "metadata": {
        "id": "4wN2uX0FlEx8",
        "execution": {
          "iopub.status.busy": "2023-02-06T14:21:36.885516Z",
          "iopub.execute_input": "2023-02-06T14:21:36.886720Z",
          "iopub.status.idle": "2023-02-06T14:21:36.893209Z",
          "shell.execute_reply.started": "2023-02-06T14:21:36.886663Z",
          "shell.execute_reply": "2023-02-06T14:21:36.891951Z"
        },
        "trusted": true
      },
      "execution_count": null,
      "outputs": []
    },
    {
      "cell_type": "markdown",
      "source": [
        "Finetune with Triplet Loss"
      ],
      "metadata": {
        "id": "k7jO8n_TG6gf"
      }
    },
    {
      "cell_type": "code",
      "source": [
        "gc.collect()\n",
        "torch.cuda.empty_cache()\n",
        "\n",
        "model_finetuned_triplet.fit(train_objectives=[(train_dataloader_triplet, train_loss_triplet)], epochs=10) \n",
        "\n",
        "#model_finetuned_triplet.save('finetuned_garfield_triplet')\n",
        "#shutil.make_archive('finetuned_garfield_triplet', 'zip', base_dir='finetuned_garfield_triplet')\n",
        "\n",
        "torch.save(model_finetuned_triplet.state_dict(),'garfield_finetuned_triplet_state')"
      ],
      "metadata": {
        "id": "y3Yr2Mm4lQfR",
        "outputId": "28c37a2a-80ba-4c7e-f6ae-23555a4d82e3",
        "colab": {
          "base_uri": "https://localhost:8080/",
          "height": 400,
          "referenced_widgets": [
            "3203af2e2c7f40dab1ca6148b7e4deaf",
            "0bd5732442da4664923fcd9ecec7a2c8",
            "74b534f69c6249b797327ca34622b96b",
            "7186c560a30d46639af36a71ef8952cf",
            "2e30bee038de4fc48a594ce3f9c21226",
            "ac72416bb41e46c29e9a45a885406cb5",
            "9d81c14286e34018b0e5354f01f7f175",
            "5dddb4652f6a45f6afdf43ba4df29292",
            "d8d666c5de5a46e5ab969b20c46ec724",
            "64b79d538c5c4decbc2534928043fb45",
            "928ad680627640f08e863d91c4d48cd0",
            "68c4f714683b4afb8c9e3273a583263a",
            "e87502bf05d74facab05cdaa2e6ffea0",
            "17776078d12a4c3aa1b97bbf35eaf8b2",
            "55df1d2ee6e54cb7af7f5c34942e709f",
            "03fa365f9ef142549e3ae1dcc9733e8d",
            "507863faab0348bea724418583d995ba",
            "83215425783b479f9229015a11b537f8",
            "f7fda92d27e4490fbebc9b00155413fb",
            "9c8a9fa19c2549b9ba4c2514dadfdeac",
            "1ba605277722406ebade3df42cfd54c1",
            "4994ce3e8a33432ea1730921a72cdf8e",
            "a3847c486970435da710d43643b2fec1",
            "ccdc1cacd3df4b9f9308518e1ddedee5"
          ]
        },
        "execution": {
          "iopub.status.busy": "2023-02-06T14:22:16.885247Z",
          "iopub.execute_input": "2023-02-06T14:22:16.886294Z"
        },
        "trusted": true
      },
      "execution_count": null,
      "outputs": [
        {
          "output_type": "display_data",
          "data": {
            "text/plain": "Epoch:   0%|          | 0/5 [00:00<?, ?it/s]",
            "application/vnd.jupyter.widget-view+json": {
              "version_major": 2,
              "version_minor": 0,
              "model_id": "a3847c486970435da710d43643b2fec1"
            }
          },
          "metadata": {}
        },
        {
          "output_type": "display_data",
          "data": {
            "text/plain": "Iteration:   0%|          | 0/1577 [00:00<?, ?it/s]",
            "application/vnd.jupyter.widget-view+json": {
              "version_major": 2,
              "version_minor": 0,
              "model_id": "ccdc1cacd3df4b9f9308518e1ddedee5"
            }
          },
          "metadata": {}
        }
      ]
    },
    {
      "cell_type": "markdown",
      "source": [
        "Finetune with Multiple Negatives Loss"
      ],
      "metadata": {
        "id": "076j-4QGG6gg"
      }
    },
    {
      "cell_type": "code",
      "source": [
        "gc.collect()\n",
        "torch.cuda.empty_cache()\n",
        "\n",
        "model_finetuned_mn.fit(train_objectives=[(train_dataloader_mn, train_loss_mn)], epochs=10) \n",
        "\n",
        "#model_finetuned_mn.save('finetuned_garfield_mn')\n",
        "#shutil.make_archive('finetuned_garfield_mn', 'zip', base_dir='finetuned_garfield_mn')\n",
        "torch.save(model_finetuned_mn.state_dict(),'garfield_finetuned_mn_state')"
      ],
      "metadata": {
        "trusted": true,
        "id": "2tunJ_dyG6gg"
      },
      "execution_count": null,
      "outputs": []
    },
    {
      "cell_type": "markdown",
      "source": [
        "## Computing Embeddings\n",
        "\n",
        "In this section all strips in the corpus are encoded passing through the models. (GPU is needed to avoid using up a lot of time)"
      ],
      "metadata": {
        "id": "pDDvdlWprtcL"
      }
    },
    {
      "cell_type": "code",
      "source": [
        "embeddings_base = model_base.encode(df_sorted['text'], convert_to_tensor=True)\n",
        "embeddings_finetuned_triplet = model_finetuned_triplet.encode(df_sorted['text'], convert_to_tensor=True)\n",
        "embeddings_finetuned_mn = model_finetuned_mn.encode(df_sorted['text'], convert_to_tensor=True)"
      ],
      "metadata": {
        "id": "oOrNBq-zvJdd",
        "execution": {
          "iopub.status.busy": "2023-02-06T14:18:43.717179Z",
          "iopub.execute_input": "2023-02-06T14:18:43.717556Z",
          "iopub.status.idle": "2023-02-06T14:18:51.971543Z",
          "shell.execute_reply.started": "2023-02-06T14:18:43.717525Z",
          "shell.execute_reply": "2023-02-06T14:18:51.970650Z"
        },
        "trusted": true
      },
      "execution_count": null,
      "outputs": []
    },
    {
      "cell_type": "code",
      "source": [
        "# Find the closest k documents of the corpus for each query sentence based on cosine similarity on a certain model\n",
        "def top_k_retrieval(query, df, corpus_embeddings, model, k=5, verbose=False):\n",
        "    k = min(k, len(corpus_embeddings))\n",
        "    query_embedding = model.encode(query, convert_to_tensor=True, show_progress_bar=False)\n",
        "\n",
        "    # We use cosine-similarity and torch.topk to find the highest scores\n",
        "    cos_scores = util.cos_sim(query_embedding, corpus_embeddings)[0]\n",
        "    top_results = torch.topk(cos_scores, k=k)\n",
        "    if verbose:\n",
        "        print(top_results)\n",
        "        print(\"\\n\\n======================\\n\\n\")\n",
        "        print(\"Query:\", query)\n",
        "        print(f\"\\nTop {k} most similar sentences in corpus:\")\n",
        "\n",
        "        for score, idx in zip(top_results[0], top_results[1]):\n",
        "          print(df.iloc[int(idx)]['text'], \"(Score: {:.4f})\".format(score))\n",
        "    return top_results[0].cpu().numpy(), top_results[1].cpu().numpy().astype('int')"
      ],
      "metadata": {
        "id": "UAW3ZwE9sI-B",
        "execution": {
          "iopub.status.busy": "2023-02-06T14:04:48.978287Z",
          "iopub.execute_input": "2023-02-06T14:04:48.979015Z",
          "iopub.status.idle": "2023-02-06T14:04:48.987176Z",
          "shell.execute_reply.started": "2023-02-06T14:04:48.978976Z",
          "shell.execute_reply": "2023-02-06T14:04:48.986143Z"
        },
        "trusted": true
      },
      "execution_count": null,
      "outputs": []
    },
    {
      "cell_type": "code",
      "source": [
        "# Query sentences:\n",
        "query = \"Hi, there...I'm Jon Arbuckle. I'm a cartoonist, and this is my cat, Garfield.\"\n",
        "top_k_retrieval(query, df_sorted, embeddings_base, model_base, k=10, verbose=True)"
      ],
      "metadata": {
        "id": "hu__zVURt2WC",
        "execution": {
          "iopub.status.busy": "2023-02-06T14:04:49.006015Z",
          "iopub.execute_input": "2023-02-06T14:04:49.008004Z",
          "iopub.status.idle": "2023-02-06T14:04:49.082671Z",
          "shell.execute_reply.started": "2023-02-06T14:04:49.007964Z",
          "shell.execute_reply": "2023-02-06T14:04:49.081428Z"
        },
        "trusted": true,
        "colab": {
          "base_uri": "https://localhost:8080/"
        },
        "outputId": "732d6b63-0116-4921-f1f9-071de554330a"
      },
      "execution_count": null,
      "outputs": [
        {
          "output_type": "stream",
          "name": "stdout",
          "text": [
            "torch.return_types.topk(\n",
            "values=tensor([0.9028, 0.7011, 0.6851, 0.6671, 0.6616, 0.6605, 0.6595, 0.6543, 0.6498,\n",
            "        0.6491], device='cuda:0'),\n",
            "indices=tensor([    0,   587,  2353, 13412,  8007,  1198, 12617,  5365, 11603,   643],\n",
            "       device='cuda:0'))\n",
            "\n",
            "\n",
            "======================\n",
            "\n",
            "\n",
            "Query: Hi, there...I'm Jon Arbuckle. I'm a cartoonist, and this is my cat, Garfield.\n",
            "\n",
            "Top 10 most similar sentences in corpus:\n",
            "Hi, there...I'm Jon Arbuckle. I'm a cartoonist, and this is my cat, Garfield. - Hi, there. I'm Garfield. I'm a cat, and this is my cartoonist, Jon. - Our only thought is to entertain you. Feed me. (Score: 0.9028)\n",
            "Morning, Liz. Jon here. I'm bringing Garfield in for a checkup today. - I know you've been wanting to get to know me better, so why don't you make it a late appointment and we'll go to dinner afterward. - Jon...Jon Arbuckle. (Score: 0.7011)\n",
            "Garfield, I'm going to a cartoonists' convention, and the motel where I'm staying won't accept pets. - Sorry, Odie. You can't go. - Garfield, YOU are a pet. snap! Rats! I keep forgetting. (Score: 0.6851)\n",
            "Garfield, sometimes I wish I could understand what you're thinking. - - Or, maybe not. Come to the cat side. (Score: 0.6671)\n",
            "Garfield is here for his checkup. - - Species? Cat. And you, lady? (Score: 0.6616)\n",
            "I've psychoanalyzed your cat, Mr. Arbuckle... - He's just fine. Great! - It's good to know you're normal, Garfield. My friends call me moon unit. (Score: 0.6605)\n",
            "Garfield, you would look adorable with some ribbon in your hair. Excuse mse. . OW! - What was that? I clawed Jon. (Score: 0.6595)\n",
            "Garfield, you're lazy! - I am NOT, Jon! - Thanks. (Score: 0.6543)\n",
            "Garfield! Jon, Jon, Jon, Jon. - - Why are you staring at me like that? You owe me three \"Garfields\". (Score: 0.6498)\n",
            "Guess what, Garfield? I'm entering you in a cat show. - That should be fun... - I'll be dynamite in the swimsuit competition. (Score: 0.6491)\n"
          ]
        },
        {
          "output_type": "execute_result",
          "data": {
            "text/plain": [
              "(array([0.9027651 , 0.7010516 , 0.6850813 , 0.6671114 , 0.6615506 ,\n",
              "        0.66048455, 0.6595343 , 0.65434575, 0.64977705, 0.6491077 ],\n",
              "       dtype=float32),\n",
              " array([    0,   587,  2353, 13412,  8007,  1198, 12617,  5365, 11603,\n",
              "          643]))"
            ]
          },
          "metadata": {},
          "execution_count": 68
        }
      ]
    },
    {
      "cell_type": "markdown",
      "source": [
        "## Retrieval System evaluation\n",
        "\n",
        "The performance of `SentenceTransformer`-based retrieval is compared across different training conditions (no finetuning, finetuning with triplet loss, finetuning with multiple negatives loss) and against the `LSI` model.\n",
        "\n",
        "Measures: Precision, Recall, F-measure up to $k$ strips retrieved, ordered by similarity wrt the query.\n",
        "\n",
        "The test queries are the sentences from the held-out set. The `SentenceTransformers` that have trained have not seen these strips, while the `LSI` model has been created using all comics."
      ],
      "metadata": {
        "id": "-R6S10v9nths"
      }
    },
    {
      "cell_type": "code",
      "source": [
        "df_evaluation = df_sentences_test"
      ],
      "metadata": {
        "id": "qtkb0Pu2nths",
        "execution": {
          "iopub.status.busy": "2023-02-06T14:04:49.084794Z",
          "iopub.execute_input": "2023-02-06T14:04:49.085504Z",
          "iopub.status.idle": "2023-02-06T14:04:49.090188Z",
          "shell.execute_reply.started": "2023-02-06T14:04:49.085459Z",
          "shell.execute_reply": "2023-02-06T14:04:49.089191Z"
        },
        "trusted": true
      },
      "execution_count": null,
      "outputs": []
    },
    {
      "cell_type": "markdown",
      "source": [
        "### Functions for query analysis"
      ],
      "metadata": {
        "id": "ZB4hvBJnuuOs"
      }
    },
    {
      "cell_type": "code",
      "source": [
        "# adapted from https://www.audiolabs-erlangen.de/resources/MIR/FMP/C7/C7S3_Evaluation.html\n",
        "def plot_PR_curve(P_Q, R_Q, figsize=(3, 3)):\n",
        "    fig, ax = plt.subplots(1, 1, figsize=figsize)\n",
        "    plt.plot(R_Q, P_Q, linestyle='--', marker='o', color='k', mfc='r')\n",
        "    plt.xlim([0, 1.1])\n",
        "    plt.ylim([0, 1.1])\n",
        "    ax.set_aspect('equal', 'box')\n",
        "    plt.title('PR curve')\n",
        "    plt.xlabel('Recall')\n",
        "    plt.ylabel('Precision')\n",
        "    plt.grid()\n",
        "    plt.tight_layout()\n",
        "    return fig, ax\n",
        "\n",
        "def compute_prf_metrics(I, score, I_Q):\n",
        "    \"\"\"Compute precision, recall, F-measures and other\n",
        "    evaluation metrics for document-level retrieval\n",
        "\n",
        "    Notebook: C7/C7S3_Evaluation.ipynb\n",
        "\n",
        "    Args:\n",
        "        I (np.ndarray): Array of items\n",
        "        score (np.ndarray): Array containing the score values of the times\n",
        "        I_Q (np.ndarray): Array of relevant (positive) items\n",
        "\n",
        "    Returns:\n",
        "        P_Q (float): Precision\n",
        "        R_Q (float): Recall\n",
        "        F_Q (float): F-measures sorted by rank\n",
        "        BEP (float): Break-even point\n",
        "        F_max (float): Maximal F-measure\n",
        "        P_average (float): Mean average\n",
        "        X_Q (np.ndarray): Relevance function\n",
        "        rank (np.ndarray): Array of rank values\n",
        "        I_sorted (np.ndarray): Array of items sorted by rank\n",
        "        rank_sorted (np.ndarray): Array of rank values sorted by rank\n",
        "    \"\"\"\n",
        "    # Compute rank and sort documents according to rank\n",
        "    K = len(I)\n",
        "    index_sorted = np.flip(np.argsort(score))\n",
        "    I_sorted = I[index_sorted]\n",
        "    rank = np.argsort(index_sorted) + 1\n",
        "    rank_sorted = np.arange(1, K+1)\n",
        "\n",
        "    # Compute relevance function X_Q (indexing starts with zero)\n",
        "    X_Q = np.isin(I_sorted, I_Q)\n",
        "\n",
        "    # Compute precision and recall values (indexing starts with zero)\n",
        "    M = len(I_Q)\n",
        "    P_Q = np.cumsum(X_Q) / np.arange(1, K+1)\n",
        "    R_Q = np.cumsum(X_Q) / M\n",
        "\n",
        "    # Break-even point\n",
        "    BEP = P_Q[M-1]\n",
        "    # Maximal F-measure\n",
        "    sum_PR = P_Q + R_Q\n",
        "    sum_PR[sum_PR == 0] = 1  # Avoid division by zero\n",
        "    F_Q = 2 * (P_Q * R_Q) / sum_PR\n",
        "    F_max = F_Q.max()\n",
        "    # Average precision\n",
        "    P_average = np.sum(P_Q * X_Q) / len(I_Q)\n",
        "\n",
        "    return P_Q, R_Q, F_Q, BEP, F_max, P_average, X_Q, rank, I_sorted, rank_sorted\n",
        "\n",
        "def full_query_analysis(I, score, I_Q):\n",
        "    output = compute_prf_metrics(I, score, I_Q)\n",
        "    P_Q, R_Q, F_Q, BEP, F_max, P_average, X_Q, rank, I_sorted, rank_sorted = output\n",
        "\n",
        "    # Arrange output as tables\n",
        "    score_sorted = np.flip(np.sort(score))\n",
        "    df_query_metrics = pd.DataFrame({'Rank': rank_sorted, 'ID': I_sorted,\n",
        "                   'Score': score_sorted,\n",
        "                   'Is Relevant': X_Q, \n",
        "                   'Prec(r)': P_Q, \n",
        "                   'Rec(r)': R_Q,\n",
        "                   'F-score(r)': F_Q})\n",
        "    fig, ax = plot_PR_curve(P_Q, R_Q, figsize=(3,3))\n",
        "    ax.plot(BEP, BEP, color='green', marker='o', fillstyle='none', markersize=15)\n",
        "    ax.set_title('PR curve')\n",
        "\n",
        "    plt.show()\n",
        "\n",
        "    print('Break-even point = %.2f' % BEP)\n",
        "    print('F_max = %.2f' % F_max)\n",
        "    print('Average precision =', np.round(P_average, 5))\n",
        "    print(df_query_metrics)"
      ],
      "metadata": {
        "id": "tIHqMN5snths",
        "execution": {
          "iopub.status.busy": "2023-02-06T14:04:49.091744Z",
          "iopub.execute_input": "2023-02-06T14:04:49.092412Z",
          "iopub.status.idle": "2023-02-06T14:04:49.110926Z",
          "shell.execute_reply.started": "2023-02-06T14:04:49.092356Z",
          "shell.execute_reply": "2023-02-06T14:04:49.109721Z"
        },
        "trusted": true
      },
      "execution_count": null,
      "outputs": []
    },
    {
      "cell_type": "markdown",
      "source": [
        "### Functions that compute (I, I_Q, score) for the different models\n",
        "\n",
        "- I: the relevant documents retrieved;\n",
        "- I_Q: the ground truth relevant document/strip,\n",
        "- score: the similarity scores i.e. cosine similarity, of query wrt I"
      ],
      "metadata": {
        "id": "hfT_KkjPuNZt"
      }
    },
    {
      "cell_type": "code",
      "source": [
        "def get_I_score_I_Q_for_sentence_embedder(query_idx, df, embeddings, model, k=10):\n",
        "    query = df.loc[query_idx, 'sentence']\n",
        "    I_Q = [df.loc[query_idx, 'old index']]\n",
        "    score, I = top_k_retrieval(query, df, embeddings, model, k=k, verbose=False)\n",
        "    return I, score, I_Q"
      ],
      "metadata": {
        "id": "UfzqAAnEntht",
        "execution": {
          "iopub.status.busy": "2023-02-06T14:04:49.115173Z",
          "iopub.execute_input": "2023-02-06T14:04:49.116242Z",
          "iopub.status.idle": "2023-02-06T14:04:49.127745Z",
          "shell.execute_reply.started": "2023-02-06T14:04:49.116190Z",
          "shell.execute_reply": "2023-02-06T14:04:49.126643Z"
        },
        "trusted": true
      },
      "execution_count": null,
      "outputs": []
    },
    {
      "cell_type": "code",
      "source": [
        "query_idx = 1002\n",
        "I, score, I_Q = get_I_score_I_Q_for_sentence_embedder(query_idx, df_evaluation, embeddings_base, model_base, k=10)\n",
        "query = df_evaluation.loc[query_idx, 'sentence']\n",
        "print(f\"Query sentence: {query}.\\nRelevant strip: {I_Q, df_evaluation.loc[query_idx, 'stripID']}\")\n",
        "print(f\"Full text: {df_evaluation.loc[query_idx, 'text']}\")\n",
        "full_query_analysis(I, score, I_Q)"
      ],
      "metadata": {
        "id": "oBhrZ2Ggntht",
        "execution": {
          "iopub.status.busy": "2023-02-06T14:04:49.130295Z",
          "iopub.execute_input": "2023-02-06T14:04:49.131217Z",
          "iopub.status.idle": "2023-02-06T14:04:49.386797Z",
          "shell.execute_reply.started": "2023-02-06T14:04:49.131178Z",
          "shell.execute_reply": "2023-02-06T14:04:49.385664Z"
        },
        "trusted": true,
        "colab": {
          "base_uri": "https://localhost:8080/",
          "height": 529
        },
        "outputId": "89e13d87-3b9c-4b15-91c1-7f911d217ee7"
      },
      "execution_count": null,
      "outputs": [
        {
          "output_type": "stream",
          "name": "stdout",
          "text": [
            "Query sentence: What are those for? My snow fly..\n",
            "Relevant strip: ([10418], 'ga070117')\n",
            "Full text: Paddles and cookies? - What are those for? My snow fly. -\n"
          ]
        },
        {
          "output_type": "display_data",
          "data": {
            "text/plain": [
              "<Figure size 216x216 with 1 Axes>"
            ],
            "image/png": "[encoded data removed]"
          },
          "metadata": {
            "needs_background": "light"
          }
        },
        {
          "output_type": "stream",
          "name": "stdout",
          "text": [
            "Break-even point = 1.00\n",
            "F_max = 1.00\n",
            "Average precision = 1.0\n",
            "   Rank     ID     Score  Is Relevant   Prec(r)  Rec(r)  F-score(r)\n",
            "0     1  10418  0.733150         True  1.000000     1.0    1.000000\n",
            "1     2   1753  0.471770        False  0.500000     1.0    0.666667\n",
            "2     3  12556  0.430098        False  0.333333     1.0    0.500000\n",
            "3     4   9727  0.400390        False  0.250000     1.0    0.400000\n",
            "4     5   7346  0.382432        False  0.200000     1.0    0.333333\n",
            "5     6     88  0.376588        False  0.166667     1.0    0.285714\n",
            "6     7  10823  0.373618        False  0.142857     1.0    0.250000\n",
            "7     8   2963  0.372670        False  0.125000     1.0    0.222222\n",
            "8     9   2323  0.364746        False  0.111111     1.0    0.200000\n",
            "9    10  13009  0.364636        False  0.100000     1.0    0.181818\n"
          ]
        }
      ]
    },
    {
      "cell_type": "code",
      "source": [
        "query_idx = 1002\n",
        "I, score, I_Q = get_I_score_I_Q_for_sentence_embedder(query_idx, df_evaluation, embeddings_finetuned_triplet, model_finetuned_triplet, k=10)\n",
        "query = df_evaluation.loc[query_idx, 'sentence']\n",
        "print(f\"Query sentence: {query}.\\nRelevant strip: {I_Q, df_evaluation.loc[query_idx, 'stripID']}\")\n",
        "print(f\"Full text: {df_evaluation.loc[query_idx, 'text']}\")\n",
        "full_query_analysis(I, score, I_Q)"
      ],
      "metadata": {
        "id": "LMPBWUU1zonB",
        "execution": {
          "iopub.status.busy": "2023-02-06T14:04:49.389975Z",
          "iopub.execute_input": "2023-02-06T14:04:49.390427Z",
          "iopub.status.idle": "2023-02-06T14:04:49.638477Z",
          "shell.execute_reply.started": "2023-02-06T14:04:49.390359Z",
          "shell.execute_reply": "2023-02-06T14:04:49.637390Z"
        },
        "trusted": true,
        "colab": {
          "base_uri": "https://localhost:8080/",
          "height": 529
        },
        "outputId": "90cb8652-4d2d-4027-a9ae-8ca2e496dc84"
      },
      "execution_count": null,
      "outputs": [
        {
          "output_type": "stream",
          "name": "stdout",
          "text": [
            "Query sentence: What are those for? My snow fly..\n",
            "Relevant strip: ([10418], 'ga070117')\n",
            "Full text: Paddles and cookies? - What are those for? My snow fly. -\n"
          ]
        },
        {
          "output_type": "display_data",
          "data": {
            "text/plain": [
              "<Figure size 216x216 with 1 Axes>"
            ],
            "image/png": "[encoded data removed]"
          },
          "metadata": {
            "needs_background": "light"
          }
        },
        {
          "output_type": "stream",
          "name": "stdout",
          "text": [
            "Break-even point = 1.00\n",
            "F_max = 1.00\n",
            "Average precision = 1.0\n",
            "   Rank     ID     Score  Is Relevant   Prec(r)  Rec(r)  F-score(r)\n",
            "0     1  10418  0.733150         True  1.000000     1.0    1.000000\n",
            "1     2   1753  0.471770        False  0.500000     1.0    0.666667\n",
            "2     3  12556  0.430098        False  0.333333     1.0    0.500000\n",
            "3     4   9727  0.400390        False  0.250000     1.0    0.400000\n",
            "4     5   7346  0.382432        False  0.200000     1.0    0.333333\n",
            "5     6     88  0.376588        False  0.166667     1.0    0.285714\n",
            "6     7  10823  0.373618        False  0.142857     1.0    0.250000\n",
            "7     8   2963  0.372670        False  0.125000     1.0    0.222222\n",
            "8     9   2323  0.364746        False  0.111111     1.0    0.200000\n",
            "9    10  13009  0.364636        False  0.100000     1.0    0.181818\n"
          ]
        }
      ]
    },
    {
      "cell_type": "code",
      "source": [
        "def get_I_score_I_Q_for_LSI_model(query_idx, df, embeddings, model, k=10):\n",
        "  \"\"\"Maps the query into the latent space and computes similarity wrt each of the documents in the corpus. \n",
        "  Returns the top k documents with the highest similarity to the query.\"\"\"\n",
        "  doc = df.loc[query_idx,'tokens']\n",
        "  vec_bow = dictionary.doc2bow(doc)\n",
        "  vec_lsi = lsi[vec_bow]  # convert the query to LSI space\n",
        "  sims = index_lsi[vec_lsi]  # perform a similarity query against the corpus\n",
        "  sims_sorted = sorted(enumerate(sims), key=lambda item: -item[1])\n",
        "  ranked_docs, ranked_scores = list(zip(*sims_sorted))\n",
        "  I = np.array(ranked_docs[:k])\n",
        "  score = np.array(ranked_scores[:k])\n",
        "  I_Q = [df.loc[query_idx, 'old index']]\n",
        "  return I, score, I_Q"
      ],
      "metadata": {
        "id": "2Zc7axchuEQC",
        "execution": {
          "iopub.status.busy": "2023-02-06T14:04:49.640046Z",
          "iopub.execute_input": "2023-02-06T14:04:49.640838Z",
          "iopub.status.idle": "2023-02-06T14:04:49.649544Z",
          "shell.execute_reply.started": "2023-02-06T14:04:49.640795Z",
          "shell.execute_reply": "2023-02-06T14:04:49.648583Z"
        },
        "trusted": true
      },
      "execution_count": null,
      "outputs": []
    },
    {
      "cell_type": "code",
      "source": [
        "query_idx = 1002\n",
        "print('Query:', df_evaluation.loc[query_idx,'sentence'])\n",
        "I, score, I_Q = get_I_score_I_Q_for_LSI_model(query_idx, df_evaluation, index_lsi, lsi, k=10)\n",
        "print('Retrieved: ', df_sorted.iloc[I]['text'])\n",
        "full_query_analysis(I, score, I_Q)"
      ],
      "metadata": {
        "id": "gvRN-bnpuDux",
        "execution": {
          "iopub.status.busy": "2023-02-06T14:04:49.651231Z",
          "iopub.execute_input": "2023-02-06T14:04:49.651820Z",
          "iopub.status.idle": "2023-02-06T14:04:49.953776Z",
          "shell.execute_reply.started": "2023-02-06T14:04:49.651782Z",
          "shell.execute_reply": "2023-02-06T14:04:49.952643Z"
        },
        "trusted": true,
        "colab": {
          "base_uri": "https://localhost:8080/",
          "height": 710
        },
        "outputId": "8195fd95-5fb6-4ab0-b10b-5117536da3d0"
      },
      "execution_count": null,
      "outputs": [
        {
          "output_type": "stream",
          "name": "stdout",
          "text": [
            "Query: What are those for? My snow fly.\n",
            "Retrieved:  10447                                                                                                                                                Snow! - It's a blizzard! - I'm flattered.\n",
            "10418                                                                                                                                Paddles and cookies? - What are those for? My snow fly. -\n",
            "8255                                                                                                             - I'm pretty much sick of winter. - ENOUGH WITH tHE SNOW ALREADY! - - - - zip\n",
            "7241                                                                                                                                                             plip - bzzzzzzzz - Fly paper.\n",
            "10610                                                                                                   - Uh-oh. - I've forgotten what I'm on hold for. We refer to this as a \"senior moment\".\n",
            "5295                                                                                                                                                   - - What are you waiting for? Midnight.\n",
            "6566                                                                                                                                I bring you a message from the other spiders. - phhhhht! -\n",
            "5690                                                                                          They say watching too much TV makes you passive. - - Not that I'm complaining. Not that we care.\n",
            "14750                                                                                                                                               - - Did you see my giant inflatable Santa?\n",
            "12161    Mr. Mayor! A giant cheesy fake rubber spider is invading the city! - You can see the wires and everything! - Thrn call out the tiny toy tanks! Pardon me, but your budget is showing.\n",
            "Name: text, dtype: object\n"
          ]
        },
        {
          "output_type": "display_data",
          "data": {
            "text/plain": [
              "<Figure size 216x216 with 1 Axes>"
            ],
            "image/png": "[encoded data removed]"
          },
          "metadata": {
            "needs_background": "light"
          }
        },
        {
          "output_type": "stream",
          "name": "stdout",
          "text": [
            "Break-even point = 0.00\n",
            "F_max = 0.67\n",
            "Average precision = 0.5\n",
            "   Rank     ID     Score  Is Relevant   Prec(r)  Rec(r)  F-score(r)\n",
            "0     1  10447  0.607052        False  0.000000     0.0    0.000000\n",
            "1     2  10418  0.593204         True  0.500000     1.0    0.666667\n",
            "2     3   8255  0.422151        False  0.333333     1.0    0.500000\n",
            "3     4   7241  0.399640        False  0.250000     1.0    0.400000\n",
            "4     5  10610  0.367159        False  0.200000     1.0    0.333333\n",
            "5     6   5295  0.362901        False  0.166667     1.0    0.285714\n",
            "6     7   6566  0.331235        False  0.142857     1.0    0.250000\n",
            "7     8   5690  0.329758        False  0.125000     1.0    0.222222\n",
            "8     9  14750  0.329264        False  0.111111     1.0    0.200000\n",
            "9    10  12161  0.327909        False  0.100000     1.0    0.181818\n"
          ]
        }
      ]
    },
    {
      "cell_type": "markdown",
      "source": [
        "### Comparison of results across the considered models"
      ],
      "metadata": {
        "id": "SqwheFVOuc15"
      }
    },
    {
      "cell_type": "code",
      "source": [
        "def compute_performances_on_whole_dataset(k, df, retrieval_function, kwargs):\n",
        "    \"\"\"Compute precision, recall, F-measures and other\n",
        "    evaluation metrics for document-level retrieval on all queries in dataframe for rank up to k.\n",
        "\n",
        "    Args:\n",
        "        df: Dataframe with columns \"sentence\", \"old index\".\n",
        "        retrieval_function: function that retrieves I, score, I_Q.\n",
        "        k: max number of documents retrieved.\n",
        "        kwargs = Arguments for retrieval_function, such as the embeddings of the corpus documents, etc.\n",
        "\n",
        "    Returns:\n",
        "        Dataframe with MAP, Precision, Recall, Fscore@1,5,10 columms.\"\"\"\n",
        "\n",
        "    avg_precision = np.zeros(k)\n",
        "    avg_recall = np.zeros(k)\n",
        "    avg_fscore = np.zeros(k)\n",
        "    avg_MAP = 0\n",
        "    \n",
        "    for query_idx in tqdm(range(len(df))):\n",
        "        # compute metrics for each query, and accumulate them\n",
        "        #score, I = top_k_retrieval(df['sentence'][query_idx], embeddings, model, k=k, verbose=False)\n",
        "        #I_Q = [df.loc[query_idx, 'old index']]\n",
        "        I, score, I_Q = retrieval_function(query_idx = query_idx, **kwargs)\n",
        "        output = compute_prf_metrics(I, score, I_Q)\n",
        "        P_Q, R_Q, F_Q, BEP, F_max, P_average, X_Q, rank, I_sorted, rank_sorted = output\n",
        "\n",
        "        avg_precision += P_Q\n",
        "        avg_recall += R_Q\n",
        "        avg_fscore += F_Q\n",
        "        avg_MAP += P_average\n",
        "        \n",
        "    # divide by n. of queries made\n",
        "    avg_precision /= len(df)\n",
        "    avg_recall /= len(df)\n",
        "    avg_fscore /= len(df)\n",
        "    avg_MAP /= len(df)\n",
        "    \n",
        "    results = pd.DataFrame({'MAP' : avg_MAP, \n",
        "                            'Precision@k' : [avg_precision],\n",
        "                            'Recall@k' : [avg_recall],\n",
        "                            'Fscore@k' : [avg_fscore]})\n",
        "    #for ki in range(k):\n",
        "    #    results[f'Precision@{ki+1}'] = avg_precision[ki] \n",
        "    #    results[f'Recall@{ki+1}'] = avg_recall[ki]\n",
        "    #    results[f'Fscore@{ki+1}'] = avg_fscore[ki]\n",
        "    #results.loc[0, f'Precision@k'] = avg_precision[0]\n",
        "    #results.loc[0, f'Recall@k'] = avg_precision[0]\n",
        "    #results.loc[0, f'Fscore@k'] = avg_precision[0]\n",
        "    \n",
        "    return results"
      ],
      "metadata": {
        "id": "b-n4C63antht",
        "execution": {
          "iopub.status.busy": "2023-02-06T14:04:49.957786Z",
          "iopub.execute_input": "2023-02-06T14:04:49.958092Z",
          "iopub.status.idle": "2023-02-06T14:04:49.969541Z",
          "shell.execute_reply.started": "2023-02-06T14:04:49.958064Z",
          "shell.execute_reply": "2023-02-06T14:04:49.968402Z"
        },
        "trusted": true
      },
      "execution_count": null,
      "outputs": []
    },
    {
      "cell_type": "code",
      "source": [
        "def create_results_df(df_evaluation):\n",
        "    models = [model_base, model_finetuned_triplet, model_finetuned_mn, lsi]\n",
        "    embeddings = [embeddings_base, embeddings_finetuned_triplet, embeddings_finetuned_mn, index_lsi]\n",
        "    names = ['base', 'finetuned_triplet', 'finetuned_mn', 'lsi']\n",
        "    partial_results = []\n",
        "    # compute metrics for each model\n",
        "    for model, embedding, name in zip(models, embeddings, names):\n",
        "        print(f'Evaluating {name}')\n",
        "        if not(name == \"lsi\"):\n",
        "            partial_result = compute_performances_on_whole_dataset(k=10, \n",
        "                                                     df=df_evaluation,\n",
        "                                                     retrieval_function=get_I_score_I_Q_for_sentence_embedder,\n",
        "                                                     kwargs={'df':df_evaluation,\n",
        "                                                           'embeddings': embedding,\n",
        "                                                           'model': model})\n",
        "        else:\n",
        "            partial_result = compute_performances_on_whole_dataset(k=10, \n",
        "                                                     df=df_evaluation[:100],\n",
        "                                                     retrieval_function=get_I_score_I_Q_for_LSI_model,\n",
        "                                                     kwargs={'df':df_evaluation,\n",
        "                                                           'embeddings': embedding,\n",
        "                                                           'model': model})\n",
        "        # name\n",
        "        partial_result.rename(index={0: name}, inplace=True)\n",
        "        # add\n",
        "        partial_results.append(partial_result)\n",
        "    results = pd.concat(partial_results)\n",
        "    return results"
      ],
      "metadata": {
        "id": "pA5k3rvMntht",
        "execution": {
          "iopub.status.busy": "2023-02-06T14:11:35.549725Z",
          "iopub.execute_input": "2023-02-06T14:11:35.550139Z",
          "iopub.status.idle": "2023-02-06T14:11:35.561209Z",
          "shell.execute_reply.started": "2023-02-06T14:11:35.550100Z",
          "shell.execute_reply": "2023-02-06T14:11:35.559997Z"
        },
        "trusted": true
      },
      "execution_count": null,
      "outputs": []
    },
    {
      "cell_type": "markdown",
      "source": [
        "Regarding the task of strip retrieval from a sentence, we compute the metrics wrt to multiple sets of queries.\n",
        "\n",
        "- Sentences in the whole dataset. We will see that the finedtuned version using multiple negatives loss outperforms the base sentence encoder.\n",
        "- Held-out sentences in the test dataset. We can observe that the general pretrained-version is still better at generalizing."
      ],
      "metadata": {
        "id": "L-wxQnZEG6gm"
      }
    },
    {
      "cell_type": "code",
      "source": [
        "results_general = create_results_df(df_evaluation = df_sentences_train) # this runs for a long time, we can take a subset of them as sample\n",
        "results_test = create_results_df(df_evaluation = df_sentences_test)"
      ],
      "metadata": {
        "execution": {
          "iopub.status.busy": "2023-02-06T14:19:03.493344Z",
          "iopub.execute_input": "2023-02-06T14:19:03.493969Z",
          "iopub.status.idle": "2023-02-06T14:19:52.947930Z",
          "shell.execute_reply.started": "2023-02-06T14:19:03.493926Z",
          "shell.execute_reply": "2023-02-06T14:19:52.946858Z"
        },
        "trusted": true,
        "colab": {
          "base_uri": "https://localhost:8080/"
        },
        "id": "aym24BHlG6gm",
        "outputId": "0683a40c-2ae1-4711-f60d-d0d4973bb9f8"
      },
      "execution_count": null,
      "outputs": [
        {
          "output_type": "stream",
          "name": "stdout",
          "text": [
            "Evaluating base\n"
          ]
        },
        {
          "output_type": "stream",
          "name": "stderr",
          "text": [
            "100%|██████████| 1546/1546 [00:12<00:00, 122.83it/s]\n"
          ]
        },
        {
          "output_type": "stream",
          "name": "stdout",
          "text": [
            "Evaluating finetuned_triplet\n"
          ]
        },
        {
          "output_type": "stream",
          "name": "stderr",
          "text": [
            "100%|██████████| 1546/1546 [00:13<00:00, 114.68it/s]\n"
          ]
        },
        {
          "output_type": "stream",
          "name": "stdout",
          "text": [
            "Evaluating finetuned_mn\n"
          ]
        },
        {
          "output_type": "stream",
          "name": "stderr",
          "text": [
            "100%|██████████| 1546/1546 [00:12<00:00, 123.49it/s]\n"
          ]
        },
        {
          "output_type": "stream",
          "name": "stdout",
          "text": [
            "Evaluating lsi\n"
          ]
        },
        {
          "output_type": "stream",
          "name": "stderr",
          "text": [
            "100%|██████████| 100/100 [00:03<00:00, 28.32it/s]\n"
          ]
        }
      ]
    },
    {
      "cell_type": "code",
      "source": [
        "def plot_results(x, y, label, filled_marker_style):\n",
        "  plt.plot(x, y, fillstyle = \"none\", label=label, **filled_marker_style)\n",
        "\n",
        "def plot_metrics_multiple_models(dataframe, title, metric): #the metric you want to print: \"f1-score\", \"precision\", \"recall\"\n",
        "  colors = ['blue', 'orange', 'green', 'red']\n",
        "  filled_marker_style = dict(marker='x', linestyle='-', markersize=6,\n",
        "                           color='blue',\n",
        "                           markerfacecolor='white',\n",
        "                           #markerfacecoloralt='tab:blue',\n",
        "                           markeredgecolor='blue')\n",
        "  \n",
        "  series = dataframe[metric]\n",
        "  k_range = range(1, len(series[0])+1)\n",
        "\n",
        "  plt.figure(figsize=(10,4))\n",
        "  plt.grid(linestyle=\"--\")\n",
        "  plt.suptitle(title)\n",
        "  plt.ylim(0.0, 1.0)\n",
        "  plt.ylabel(metric)\n",
        "  plt.xlabel('k (rank)')\n",
        "  plt.yticks(np.arange(0, 1.1, step=0.1 ))\n",
        "  plt.xticks(k_range)\n",
        "\n",
        "  for i, (name, values) in enumerate(zip(series.index, series.values)):\n",
        "    filled_marker_style['color'] = colors[i]\n",
        "    filled_marker_style['markeredgecolor'] = colors[i]\n",
        "    plot_results(k_range, values, name, filled_marker_style)\n",
        "  \n",
        "  plt.legend()\n",
        "  plt.plot()"
      ],
      "metadata": {
        "id": "i_uzxfhbntht",
        "execution": {
          "iopub.status.busy": "2023-02-06T14:05:37.934966Z",
          "iopub.execute_input": "2023-02-06T14:05:37.940518Z",
          "iopub.status.idle": "2023-02-06T14:05:37.975307Z",
          "shell.execute_reply.started": "2023-02-06T14:05:37.940456Z",
          "shell.execute_reply": "2023-02-06T14:05:37.974136Z"
        },
        "trusted": true
      },
      "execution_count": null,
      "outputs": []
    },
    {
      "cell_type": "code",
      "source": [
        "title = \"Results comparison on all sentences\"\n",
        "for index in results_general.index:\n",
        "    print(f\"Mean Average Precision for model {index}: {results_general['MAP'][index]:.3f}\")\n",
        "plot_metrics_multiple_models(results_general, title + \" - Fscore\", 'Fscore@k')\n",
        "plot_metrics_multiple_models(results_general, title +\" - Recall\", 'Recall@k')\n",
        "plot_metrics_multiple_models(results_general, title +\" - Precision\", 'Precision@k')\n"
      ],
      "metadata": {
        "id": "9ZkRygMhnthu",
        "execution": {
          "iopub.status.busy": "2023-02-06T14:05:37.981076Z",
          "iopub.execute_input": "2023-02-06T14:05:37.984881Z",
          "iopub.status.idle": "2023-02-06T14:05:38.048412Z",
          "shell.execute_reply.started": "2023-02-06T14:05:37.984839Z",
          "shell.execute_reply": "2023-02-06T14:05:38.043557Z"
        },
        "trusted": true,
        "outputId": "1179a62f-055d-471e-c55a-7cb5cf62b6c8"
      },
      "execution_count": null,
      "outputs": [
        {
          "traceback": [
            "\u001b[0;31m---------------------------------------------------------------------------\u001b[0m",
            "\u001b[0;31mNameError\u001b[0m                                 Traceback (most recent call last)",
            "\u001b[0;32m/tmp/ipykernel_23/1910899615.py\u001b[0m in \u001b[0;36m<module>\u001b[0;34m\u001b[0m\n\u001b[1;32m      1\u001b[0m \u001b[0mtitle\u001b[0m \u001b[0;34m=\u001b[0m \u001b[0;34m\"Results comparison on all sentences\"\u001b[0m\u001b[0;34m\u001b[0m\u001b[0;34m\u001b[0m\u001b[0m\n\u001b[0;32m----> 2\u001b[0;31m \u001b[0;32mfor\u001b[0m \u001b[0mindex\u001b[0m \u001b[0;32min\u001b[0m \u001b[0mresults\u001b[0m\u001b[0;34m.\u001b[0m\u001b[0mindex\u001b[0m\u001b[0;34m:\u001b[0m\u001b[0;34m\u001b[0m\u001b[0;34m\u001b[0m\u001b[0m\n\u001b[0m\u001b[1;32m      3\u001b[0m     \u001b[0mprint\u001b[0m\u001b[0;34m(\u001b[0m\u001b[0;34mf\"Mean Average Precision for model {index}: {results_general['MAP'][index]:.3f}\"\u001b[0m\u001b[0;34m)\u001b[0m\u001b[0;34m\u001b[0m\u001b[0;34m\u001b[0m\u001b[0m\n\u001b[1;32m      4\u001b[0m \u001b[0mplot_metrics_multiple_models\u001b[0m\u001b[0;34m(\u001b[0m\u001b[0mresults_general\u001b[0m\u001b[0;34m,\u001b[0m \u001b[0mtitle\u001b[0m \u001b[0;34m+\u001b[0m \u001b[0;34m\" - Fscore\"\u001b[0m\u001b[0;34m,\u001b[0m \u001b[0;34m'Fscore@k'\u001b[0m\u001b[0;34m)\u001b[0m\u001b[0;34m\u001b[0m\u001b[0;34m\u001b[0m\u001b[0m\n\u001b[1;32m      5\u001b[0m \u001b[0mplot_metrics_multiple_models\u001b[0m\u001b[0;34m(\u001b[0m\u001b[0mresults_general\u001b[0m\u001b[0;34m,\u001b[0m \u001b[0mtitle\u001b[0m \u001b[0;34m+\u001b[0m\u001b[0;34m\" - Recall\"\u001b[0m\u001b[0;34m,\u001b[0m \u001b[0;34m'Recall@k'\u001b[0m\u001b[0;34m)\u001b[0m\u001b[0;34m\u001b[0m\u001b[0;34m\u001b[0m\u001b[0m\n",
            "\u001b[0;31mNameError\u001b[0m: name 'results' is not defined"
          ],
          "ename": "NameError",
          "evalue": "name 'results' is not defined",
          "output_type": "error"
        }
      ]
    },
    {
      "cell_type": "code",
      "source": [
        "title = \"Results comparison on test sentences\"\n",
        "for index in results_test.index:\n",
        "    print(f\"Mean Average Precision for model {index}: {results_test['MAP'][index]:.3f}\")\n",
        "plot_metrics_multiple_models(results_test, title + \" - Fscore\", 'Fscore@k')\n",
        "plot_metrics_multiple_models(results_test, title +\" - Recall\", 'Recall@k')\n",
        "plot_metrics_multiple_models(results_test, title +\" - Precision\", 'Precision@k')"
      ],
      "metadata": {
        "execution": {
          "iopub.status.busy": "2023-02-06T14:20:18.406788Z",
          "iopub.execute_input": "2023-02-06T14:20:18.407246Z",
          "iopub.status.idle": "2023-02-06T14:20:19.416411Z",
          "shell.execute_reply.started": "2023-02-06T14:20:18.407201Z",
          "shell.execute_reply": "2023-02-06T14:20:19.415419Z"
        },
        "trusted": true,
        "colab": {
          "base_uri": "https://localhost:8080/",
          "height": 961
        },
        "id": "A2C7HU0UG6gm",
        "outputId": "be5fa8b5-f597-4767-a11d-e757e426f36f"
      },
      "execution_count": null,
      "outputs": [
        {
          "output_type": "stream",
          "name": "stdout",
          "text": [
            "Mean Average Precision for model base: 0.552\n",
            "Mean Average Precision for model finetuned_triplet: 0.552\n",
            "Mean Average Precision for model finetuned_mn: 0.534\n",
            "Mean Average Precision for model lsi: 0.213\n"
          ]
        },
        {
          "output_type": "display_data",
          "data": {
            "text/plain": [
              "<Figure size 720x288 with 1 Axes>"
            ],
            "image/png": "[encoded data removed]"
          },
          "metadata": {
            "needs_background": "light"
          }
        },
        {
          "output_type": "display_data",
          "data": {
            "text/plain": [
              "<Figure size 720x288 with 1 Axes>"
            ],
            "image/png": "[encoded data removed]"
          },
          "metadata": {
            "needs_background": "light"
          }
        },
        {
          "output_type": "display_data",
          "data": {
            "text/plain": [
              "<Figure size 720x288 with 1 Axes>"
            ],
            "image/png": "[encoded data removed]"
          },
          "metadata": {
            "needs_background": "light"
          }
        }
      ]
    },
    {
      "cell_type": "markdown",
      "source": [
        "## Top2Vec topic mining"
      ],
      "metadata": {
        "id": "lVGZ0C3WxxNC"
      }
    },
    {
      "cell_type": "markdown",
      "source": [
        "### Installs"
      ],
      "metadata": {
        "id": "CCcjc3-Ax8TI"
      }
    },
    {
      "cell_type": "code",
      "source": [
        "#!pip install top2vec\n",
        "!pip install top2vec[sentence_encoders]"
      ],
      "metadata": {
        "id": "p21qnqMYx2EQ",
        "execution": {
          "iopub.status.busy": "2023-02-06T14:05:38.062759Z",
          "iopub.status.idle": "2023-02-06T14:05:38.066871Z",
          "shell.execute_reply.started": "2023-02-06T14:05:38.066579Z",
          "shell.execute_reply": "2023-02-06T14:05:38.066608Z"
        },
        "trusted": true
      },
      "execution_count": null,
      "outputs": []
    },
    {
      "cell_type": "code",
      "source": [
        "from top2vec import Top2Vec"
      ],
      "metadata": {
        "id": "Pcij11LhyB1G",
        "execution": {
          "iopub.status.busy": "2023-02-06T14:05:38.068775Z",
          "iopub.status.idle": "2023-02-06T14:05:38.075211Z",
          "shell.execute_reply.started": "2023-02-06T14:05:38.074891Z",
          "shell.execute_reply": "2023-02-06T14:05:38.074920Z"
        },
        "trusted": true
      },
      "execution_count": null,
      "outputs": []
    },
    {
      "cell_type": "markdown",
      "source": [
        "### Using top2vec tutorial"
      ],
      "metadata": {
        "id": "b4YI2s0sx-Cy"
      }
    },
    {
      "cell_type": "code",
      "source": [
        "documents = df_sorted['text'].values"
      ],
      "metadata": {
        "id": "j-NDaK6syul9",
        "execution": {
          "iopub.status.busy": "2023-02-06T14:05:38.078141Z",
          "iopub.status.idle": "2023-02-06T14:05:38.079287Z",
          "shell.execute_reply.started": "2023-02-06T14:05:38.078941Z",
          "shell.execute_reply": "2023-02-06T14:05:38.078983Z"
        },
        "trusted": true
      },
      "execution_count": null,
      "outputs": []
    },
    {
      "cell_type": "code",
      "source": [
        "documents"
      ],
      "metadata": {
        "id": "QyXXkea02CjU",
        "execution": {
          "iopub.status.busy": "2023-02-06T14:05:38.082165Z",
          "iopub.status.idle": "2023-02-06T14:05:38.084243Z",
          "shell.execute_reply.started": "2023-02-06T14:05:38.083952Z",
          "shell.execute_reply": "2023-02-06T14:05:38.083991Z"
        },
        "trusted": true
      },
      "execution_count": null,
      "outputs": []
    },
    {
      "cell_type": "code",
      "source": [
        "model = Top2Vec(documents, min_count=1, ngram_vocab=True, tokenizer=preprocess, embedding_model='universal-sentence-encoder', workers=100, speed='deep-learn')\n"
      ],
      "metadata": {
        "id": "aMiyGIw1xzOD",
        "execution": {
          "iopub.status.busy": "2023-02-06T14:05:38.093230Z",
          "iopub.status.idle": "2023-02-06T14:05:38.094049Z",
          "shell.execute_reply.started": "2023-02-06T14:05:38.093787Z",
          "shell.execute_reply": "2023-02-06T14:05:38.093811Z"
        },
        "trusted": true
      },
      "execution_count": null,
      "outputs": []
    },
    {
      "cell_type": "code",
      "source": [
        "model.save('top2vec_model')"
      ],
      "metadata": {
        "execution": {
          "iopub.status.busy": "2023-02-06T14:05:38.095538Z",
          "iopub.status.idle": "2023-02-06T14:05:38.096566Z",
          "shell.execute_reply.started": "2023-02-06T14:05:38.096271Z",
          "shell.execute_reply": "2023-02-06T14:05:38.096297Z"
        },
        "trusted": true,
        "id": "Ur4Yaf3eG6go"
      },
      "execution_count": null,
      "outputs": []
    },
    {
      "cell_type": "code",
      "source": [
        "model.load('top2vec_model')"
      ],
      "metadata": {
        "id": "YqADjWDRzAHx",
        "execution": {
          "iopub.status.busy": "2023-02-06T14:05:38.098183Z",
          "iopub.status.idle": "2023-02-06T14:05:38.099082Z",
          "shell.execute_reply.started": "2023-02-06T14:05:38.098791Z",
          "shell.execute_reply": "2023-02-06T14:05:38.098820Z"
        },
        "trusted": true
      },
      "execution_count": null,
      "outputs": []
    },
    {
      "cell_type": "code",
      "source": [
        "model.get_num_topics()"
      ],
      "metadata": {
        "id": "qOFclT16zQTk",
        "execution": {
          "iopub.status.busy": "2023-02-06T14:05:38.100888Z",
          "iopub.status.idle": "2023-02-06T14:05:38.101686Z",
          "shell.execute_reply.started": "2023-02-06T14:05:38.101432Z",
          "shell.execute_reply": "2023-02-06T14:05:38.101457Z"
        },
        "trusted": true
      },
      "execution_count": null,
      "outputs": []
    },
    {
      "cell_type": "code",
      "source": [
        "model.get_topic_sizes()"
      ],
      "metadata": {
        "id": "Au6VhOUKzTqI",
        "execution": {
          "iopub.status.busy": "2023-02-06T14:05:38.109895Z",
          "iopub.status.idle": "2023-02-06T14:05:38.110790Z",
          "shell.execute_reply.started": "2023-02-06T14:05:38.110553Z",
          "shell.execute_reply": "2023-02-06T14:05:38.110577Z"
        },
        "trusted": true
      },
      "execution_count": null,
      "outputs": []
    },
    {
      "cell_type": "code",
      "source": [
        "model.get_topics()"
      ],
      "metadata": {
        "id": "j2sKZe1gzal8",
        "execution": {
          "iopub.status.busy": "2023-02-06T14:05:38.112344Z",
          "iopub.status.idle": "2023-02-06T14:05:38.113321Z",
          "shell.execute_reply.started": "2023-02-06T14:05:38.113049Z",
          "shell.execute_reply": "2023-02-06T14:05:38.113074Z"
        },
        "trusted": true
      },
      "execution_count": null,
      "outputs": []
    },
    {
      "cell_type": "code",
      "source": [
        "model.query_documents('My name is jon arbuckle i am a cartoonist', num_docs=10)"
      ],
      "metadata": {
        "id": "QaPZe4mvzqMT",
        "execution": {
          "iopub.status.busy": "2023-02-06T14:05:38.114815Z",
          "iopub.status.idle": "2023-02-06T14:05:38.115780Z",
          "shell.execute_reply.started": "2023-02-06T14:05:38.115516Z",
          "shell.execute_reply": "2023-02-06T14:05:38.115543Z"
        },
        "trusted": true
      },
      "execution_count": null,
      "outputs": []
    },
    {
      "cell_type": "code",
      "source": [
        "model.query_documents('I can''t sleep.', num_docs=10)"
      ],
      "metadata": {
        "id": "re4hACMX8Lg-",
        "execution": {
          "iopub.status.busy": "2023-02-06T14:05:38.117372Z",
          "iopub.status.idle": "2023-02-06T14:05:38.118261Z",
          "shell.execute_reply.started": "2023-02-06T14:05:38.117954Z",
          "shell.execute_reply": "2023-02-06T14:05:38.117995Z"
        },
        "trusted": true
      },
      "execution_count": null,
      "outputs": []
    },
    {
      "cell_type": "code",
      "source": [
        "#topic_words, word_scores, topic_scores, topic_nums = model.search_topics(keywords=[\"monday\", 'mondays'], num_topics=5)\n",
        "#for topic in topic_nums:\n",
        "#    model.generate_topic_wordcloud(topic)"
      ],
      "metadata": {
        "id": "sbYnJbi08nYP",
        "execution": {
          "iopub.status.busy": "2023-02-06T14:05:38.119945Z",
          "iopub.status.idle": "2023-02-06T14:05:38.123206Z",
          "shell.execute_reply.started": "2023-02-06T14:05:38.122921Z",
          "shell.execute_reply": "2023-02-06T14:05:38.122950Z"
        },
        "trusted": true
      },
      "execution_count": null,
      "outputs": []
    },
    {
      "cell_type": "markdown",
      "source": [
        "## Text completion and generation\n"
      ],
      "metadata": {
        "id": "U4sYJZWsIGgq"
      }
    },
    {
      "cell_type": "markdown",
      "source": [
        "The hope is to train a generator model that can generate sentences to put in garfield strips.\n",
        "\n",
        "Notable examples online are [Garkov](http://joshmillard.com/garkov/), GPT3, ecc.\n",
        "\n",
        "IDK I am going to fine-tune a DistilRoberta to build a language model.\n",
        "\n",
        "HOW TO EVALUATE during training: CROSS ENTROPY LOSS BASED ON TRAIN/VAL/SPLIT\n",
        "\n",
        "MAKE A TRIGRAM MODEL ALSO (?)\n",
        "\n",
        "FINAL TASK: \n",
        "\n",
        "\n",
        "test set: blanks the last phrase, the model predicts it. -> metric is the f1 based on the overlap between the prediction and the ground truth..."
      ],
      "metadata": {
        "id": "3AggrxtAIP0B"
      }
    },
    {
      "cell_type": "markdown",
      "source": [
        "### Dataframe setup for sentence completion\n",
        "\n",
        "We need to\n",
        "- tokenize into a numerical format the bow.\n",
        "- mask some parts for training our language model."
      ],
      "metadata": {
        "id": "qpuUrCouSuG9"
      }
    },
    {
      "cell_type": "code",
      "source": [
        "# for training, discard rows that have empty strips.\n",
        "df_gen = df_sorted[df_sorted['tokens'].map(len) > 0].copy().reset_index(drop=True)\n",
        "\n",
        "# map text in dataframe to numerical indexes\n",
        "df_gen['tokens_int'] = df_gen['tokens'].apply(lambda token_list: [dictionary.token2id[token] for token in token_list])"
      ],
      "metadata": {
        "id": "Ns8lqq5fSxim",
        "execution": {
          "iopub.status.busy": "2023-02-06T14:05:38.124848Z",
          "iopub.status.idle": "2023-02-06T14:05:38.126677Z",
          "shell.execute_reply.started": "2023-02-06T14:05:38.125618Z",
          "shell.execute_reply": "2023-02-06T14:05:38.125648Z"
        },
        "trusted": true
      },
      "execution_count": null,
      "outputs": []
    },
    {
      "cell_type": "code",
      "source": [
        "df_gen"
      ],
      "metadata": {
        "id": "vS4hxNQRaaNq",
        "execution": {
          "iopub.status.busy": "2023-02-06T14:05:38.129803Z",
          "iopub.status.idle": "2023-02-06T14:05:38.132195Z",
          "shell.execute_reply.started": "2023-02-06T14:05:38.131818Z",
          "shell.execute_reply": "2023-02-06T14:05:38.131847Z"
        },
        "trusted": true
      },
      "execution_count": null,
      "outputs": []
    },
    {
      "cell_type": "code",
      "source": [
        "TRY THIS\n",
        "\n",
        "https://www.sbert.net/index.html\n",
        "\n",
        "https://stats.stackexchange.com/questions/274478/understanding-input-shape-parameter-in-lstm-with-keras\n",
        "x_train=x_train.reshape(x_train.shape[0],x_train.shape[1],1))"
      ],
      "metadata": {
        "id": "s2nOHzMWl07R",
        "execution": {
          "iopub.status.busy": "2023-02-06T14:05:38.134959Z",
          "iopub.status.idle": "2023-02-06T14:05:38.135887Z",
          "shell.execute_reply.started": "2023-02-06T14:05:38.135493Z",
          "shell.execute_reply": "2023-02-06T14:05:38.135516Z"
        },
        "trusted": true
      },
      "execution_count": null,
      "outputs": []
    },
    {
      "cell_type": "code",
      "source": [
        "from gensim.models import FastText\n",
        "import tensorflow as tf\n",
        "import keras\n",
        "from keras import Model, Sequential\n",
        "from keras.layers import Input, Embedding, LSTM, Dense, Bidirectional\n",
        "\n",
        "# prepare text for keras neural network\n",
        "\n",
        "max_len = 30\n",
        "sequence_docs = tf.keras.preprocessing.sequence.pad_sequences(df_gen['tokens_int'], maxlen=max_len, value=-1)\n",
        "\n",
        "print(sequence_docs[0:10])\n",
        "\n",
        "# define a keras model and load the pretrained fasttext weights matrix\n",
        "model = Sequential()\n",
        "\n",
        "inp = Input(shape=(max_len,1))\n",
        "model.add(inp)\n",
        "\n",
        "#model.add(Embedding(100, 10, input_length=max_len))\n",
        "\n",
        "lstm_layer = LSTM(100, return_sequences=False, input_shape=(max_len,1))\n",
        "model.add(lstm_layer)\n",
        "\n",
        "#model.add(Dense(1))\n",
        "\n",
        "model.build()\n",
        "model.summary()\n",
        "\n",
        "output = model.predict(sequence_docs)"
      ],
      "metadata": {
        "id": "wa1Eds4sWlIw",
        "execution": {
          "iopub.status.busy": "2023-02-06T14:05:38.144040Z",
          "iopub.status.idle": "2023-02-06T14:05:38.144901Z",
          "shell.execute_reply.started": "2023-02-06T14:05:38.144641Z",
          "shell.execute_reply": "2023-02-06T14:05:38.144665Z"
        },
        "trusted": true
      },
      "execution_count": null,
      "outputs": []
    },
    {
      "cell_type": "code",
      "source": [
        "output.shape"
      ],
      "metadata": {
        "id": "IZst9aL1ksAj",
        "execution": {
          "iopub.status.busy": "2023-02-06T14:05:38.146649Z",
          "iopub.status.idle": "2023-02-06T14:05:38.147550Z",
          "shell.execute_reply.started": "2023-02-06T14:05:38.147260Z",
          "shell.execute_reply": "2023-02-06T14:05:38.147285Z"
        },
        "trusted": true
      },
      "execution_count": null,
      "outputs": []
    },
    {
      "cell_type": "code",
      "source": [
        "https://medium.com/analytics-vidhya/a-comprehensive-guide-to-build-your-own-language-model-in-python-5141b3917d6d"
      ],
      "metadata": {
        "id": "zbIfUxdaQazz",
        "execution": {
          "iopub.status.busy": "2023-02-06T14:05:38.149158Z",
          "iopub.status.idle": "2023-02-06T14:05:38.150209Z",
          "shell.execute_reply.started": "2023-02-06T14:05:38.149918Z",
          "shell.execute_reply": "2023-02-06T14:05:38.149947Z"
        },
        "trusted": true
      },
      "execution_count": null,
      "outputs": []
    }
  ]
}