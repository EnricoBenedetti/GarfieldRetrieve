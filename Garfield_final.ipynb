{
  "metadata": {
    "kernelspec": {
      "language": "python",
      "display_name": "Python 3",
      "name": "python3"
    },
    "language_info": {
      "name": "python",
      "version": "3.7.12",
      "mimetype": "text/x-python",
      "codemirror_mode": {
        "name": "ipython",
        "version": 3
      },
      "pygments_lexer": "ipython3",
      "nbconvert_exporter": "python",
      "file_extension": ".py"
    },
    "colab": {
      "provenance": [],
      "toc_visible": true
    },
    "gpuClass": "standard"
  },
  "nbformat_minor": 0,
  "nbformat": 4,
  "cells": [
    {
      "cell_type": "markdown",
      "source": [
        "#  Garfield: topic extraction and retrieval system\n",
        "\n",
        "    Project and Project Work in Text Mining, Data Mining and Big Data Analytics\n",
        "    Author: Enrico Benedetti\n",
        "    Email: enrico.benedetti5 [at] studio.unibo.it\n",
        "    GitHub: https://github.com/EnricoBenedetti"
      ],
      "metadata": {
        "id": "qnD9KklxFkrD",
        "execution": {
          "iopub.status.busy": "2023-02-06T08:44:07.490605Z",
          "iopub.execute_input": "2023-02-06T08:44:07.491032Z",
          "iopub.status.idle": "2023-02-06T08:44:07.499799Z",
          "shell.execute_reply.started": "2023-02-06T08:44:07.490999Z",
          "shell.execute_reply": "2023-02-06T08:44:07.497467Z"
        }
      }
    },
    {
      "cell_type": "markdown",
      "source": [
        "# Topic extraction"
      ],
      "metadata": {
        "id": "WSuOjuw14fcT"
      }
    },
    {
      "cell_type": "markdown",
      "source": [
        "## Download and first look at the Garfield Dataset"
      ],
      "metadata": {
        "id": "OB3t489XAC-5"
      }
    },
    {
      "cell_type": "code",
      "source": [
        "#!pip install --upgrade numpy\n",
        "#!pip install --upgrade gensim\n",
        "!pip install gensim==4.1.0\n",
        "!pip install kneed\n",
        "!pip install sentence_transformers\n",
        "#!pip install torch==1.12.0"
      ],
      "metadata": {
        "id": "htoNP9XZM831",
        "outputId": "b6f564af-462b-450a-f71b-032ff22beed0",
        "colab": {
          "base_uri": "https://localhost:8080/"
        },
        "execution": {
          "iopub.status.busy": "2023-02-06T13:59:31.667939Z",
          "iopub.execute_input": "2023-02-06T13:59:31.668972Z",
          "iopub.status.idle": "2023-02-06T14:00:10.331190Z",
          "shell.execute_reply.started": "2023-02-06T13:59:31.668846Z",
          "shell.execute_reply": "2023-02-06T14:00:10.329851Z"
        },
        "trusted": true
      },
      "execution_count": 1,
      "outputs": [
        {
          "output_type": "stream",
          "name": "stdout",
          "text": [
            "Looking in indexes: https://pypi.org/simple, https://us-python.pkg.dev/colab-wheels/public/simple/\n",
            "Collecting gensim==4.1.0\n",
            "  Downloading gensim-4.1.0-cp38-cp38-manylinux_2_12_x86_64.manylinux2010_x86_64.whl (24.0 MB)\n",
            "\u001b[2K     \u001b[90m━━━━━━━━━━━━━━━━━━━━━━━━━━━━━━━━━━━━━━━━\u001b[0m \u001b[32m24.0/24.0 MB\u001b[0m \u001b[31m25.2 MB/s\u001b[0m eta \u001b[36m0:00:00\u001b[0m\n",
            "\u001b[?25hRequirement already satisfied: numpy>=1.17.0 in /usr/local/lib/python3.8/dist-packages (from gensim==4.1.0) (1.21.6)\n",
            "Requirement already satisfied: scipy>=0.18.1 in /usr/local/lib/python3.8/dist-packages (from gensim==4.1.0) (1.7.3)\n",
            "Requirement already satisfied: smart-open>=1.8.1 in /usr/local/lib/python3.8/dist-packages (from gensim==4.1.0) (6.3.0)\n",
            "Installing collected packages: gensim\n",
            "  Attempting uninstall: gensim\n",
            "    Found existing installation: gensim 3.6.0\n",
            "    Uninstalling gensim-3.6.0:\n",
            "      Successfully uninstalled gensim-3.6.0\n",
            "Successfully installed gensim-4.1.0\n",
            "Looking in indexes: https://pypi.org/simple, https://us-python.pkg.dev/colab-wheels/public/simple/\n",
            "Collecting kneed\n",
            "  Downloading kneed-0.8.2-py3-none-any.whl (10 kB)\n",
            "Requirement already satisfied: scipy>=1.0.0 in /usr/local/lib/python3.8/dist-packages (from kneed) (1.7.3)\n",
            "Requirement already satisfied: numpy>=1.14.2 in /usr/local/lib/python3.8/dist-packages (from kneed) (1.21.6)\n",
            "Installing collected packages: kneed\n",
            "Successfully installed kneed-0.8.2\n",
            "Looking in indexes: https://pypi.org/simple, https://us-python.pkg.dev/colab-wheels/public/simple/\n",
            "Collecting sentence_transformers\n",
            "  Downloading sentence-transformers-2.2.2.tar.gz (85 kB)\n",
            "\u001b[2K     \u001b[90m━━━━━━━━━━━━━━━━━━━━━━━━━━━━━━━━━━━━━━━━\u001b[0m \u001b[32m86.0/86.0 KB\u001b[0m \u001b[31m3.3 MB/s\u001b[0m eta \u001b[36m0:00:00\u001b[0m\n",
            "\u001b[?25h  Preparing metadata (setup.py) ... \u001b[?25l\u001b[?25hdone\n",
            "Collecting transformers<5.0.0,>=4.6.0\n",
            "  Downloading transformers-4.26.0-py3-none-any.whl (6.3 MB)\n",
            "\u001b[2K     \u001b[90m━━━━━━━━━━━━━━━━━━━━━━━━━━━━━━━━━━━━━━━━\u001b[0m \u001b[32m6.3/6.3 MB\u001b[0m \u001b[31m37.8 MB/s\u001b[0m eta \u001b[36m0:00:00\u001b[0m\n",
            "\u001b[?25hRequirement already satisfied: tqdm in /usr/local/lib/python3.8/dist-packages (from sentence_transformers) (4.64.1)\n",
            "Requirement already satisfied: torch>=1.6.0 in /usr/local/lib/python3.8/dist-packages (from sentence_transformers) (1.13.1+cu116)\n",
            "Requirement already satisfied: torchvision in /usr/local/lib/python3.8/dist-packages (from sentence_transformers) (0.14.1+cu116)\n",
            "Requirement already satisfied: numpy in /usr/local/lib/python3.8/dist-packages (from sentence_transformers) (1.21.6)\n",
            "Requirement already satisfied: scikit-learn in /usr/local/lib/python3.8/dist-packages (from sentence_transformers) (1.0.2)\n",
            "Requirement already satisfied: scipy in /usr/local/lib/python3.8/dist-packages (from sentence_transformers) (1.7.3)\n",
            "Requirement already satisfied: nltk in /usr/local/lib/python3.8/dist-packages (from sentence_transformers) (3.7)\n",
            "Collecting sentencepiece\n",
            "  Downloading sentencepiece-0.1.97-cp38-cp38-manylinux_2_17_x86_64.manylinux2014_x86_64.whl (1.3 MB)\n",
            "\u001b[2K     \u001b[90m━━━━━━━━━━━━━━━━━━━━━━━━━━━━━━━━━━━━━━━━\u001b[0m \u001b[32m1.3/1.3 MB\u001b[0m \u001b[31m34.0 MB/s\u001b[0m eta \u001b[36m0:00:00\u001b[0m\n",
            "\u001b[?25hCollecting huggingface-hub>=0.4.0\n",
            "  Downloading huggingface_hub-0.12.0-py3-none-any.whl (190 kB)\n",
            "\u001b[2K     \u001b[90m━━━━━━━━━━━━━━━━━━━━━━━━━━━━━━━━━━━━━━\u001b[0m \u001b[32m190.3/190.3 KB\u001b[0m \u001b[31m19.1 MB/s\u001b[0m eta \u001b[36m0:00:00\u001b[0m\n",
            "\u001b[?25hRequirement already satisfied: typing-extensions>=3.7.4.3 in /usr/local/lib/python3.8/dist-packages (from huggingface-hub>=0.4.0->sentence_transformers) (4.4.0)\n",
            "Requirement already satisfied: requests in /usr/local/lib/python3.8/dist-packages (from huggingface-hub>=0.4.0->sentence_transformers) (2.25.1)\n",
            "Requirement already satisfied: packaging>=20.9 in /usr/local/lib/python3.8/dist-packages (from huggingface-hub>=0.4.0->sentence_transformers) (23.0)\n",
            "Requirement already satisfied: pyyaml>=5.1 in /usr/local/lib/python3.8/dist-packages (from huggingface-hub>=0.4.0->sentence_transformers) (6.0)\n",
            "Requirement already satisfied: filelock in /usr/local/lib/python3.8/dist-packages (from huggingface-hub>=0.4.0->sentence_transformers) (3.9.0)\n",
            "Requirement already satisfied: regex!=2019.12.17 in /usr/local/lib/python3.8/dist-packages (from transformers<5.0.0,>=4.6.0->sentence_transformers) (2022.6.2)\n",
            "Collecting tokenizers!=0.11.3,<0.14,>=0.11.1\n",
            "  Downloading tokenizers-0.13.2-cp38-cp38-manylinux_2_17_x86_64.manylinux2014_x86_64.whl (7.6 MB)\n",
            "\u001b[2K     \u001b[90m━━━━━━━━━━━━━━━━━━━━━━━━━━━━━━━━━━━━━━━━\u001b[0m \u001b[32m7.6/7.6 MB\u001b[0m \u001b[31m27.1 MB/s\u001b[0m eta \u001b[36m0:00:00\u001b[0m\n",
            "\u001b[?25hRequirement already satisfied: joblib in /usr/local/lib/python3.8/dist-packages (from nltk->sentence_transformers) (1.2.0)\n",
            "Requirement already satisfied: click in /usr/local/lib/python3.8/dist-packages (from nltk->sentence_transformers) (7.1.2)\n",
            "Requirement already satisfied: threadpoolctl>=2.0.0 in /usr/local/lib/python3.8/dist-packages (from scikit-learn->sentence_transformers) (3.1.0)\n",
            "Requirement already satisfied: pillow!=8.3.*,>=5.3.0 in /usr/local/lib/python3.8/dist-packages (from torchvision->sentence_transformers) (7.1.2)\n",
            "Requirement already satisfied: certifi>=2017.4.17 in /usr/local/lib/python3.8/dist-packages (from requests->huggingface-hub>=0.4.0->sentence_transformers) (2022.12.7)\n",
            "Requirement already satisfied: urllib3<1.27,>=1.21.1 in /usr/local/lib/python3.8/dist-packages (from requests->huggingface-hub>=0.4.0->sentence_transformers) (1.24.3)\n",
            "Requirement already satisfied: chardet<5,>=3.0.2 in /usr/local/lib/python3.8/dist-packages (from requests->huggingface-hub>=0.4.0->sentence_transformers) (4.0.0)\n",
            "Requirement already satisfied: idna<3,>=2.5 in /usr/local/lib/python3.8/dist-packages (from requests->huggingface-hub>=0.4.0->sentence_transformers) (2.10)\n",
            "Building wheels for collected packages: sentence_transformers\n",
            "  Building wheel for sentence_transformers (setup.py) ... \u001b[?25l\u001b[?25hdone\n",
            "  Created wheel for sentence_transformers: filename=sentence_transformers-2.2.2-py3-none-any.whl size=125938 sha256=5a6ebb6caee8ca2781899ac8fb9419988a0c553b9bb9b1a658dca9fd1fc97150\n",
            "  Stored in directory: /root/.cache/pip/wheels/5e/6f/8c/d88aec621f3f542d26fac0342bef5e693335d125f4e54aeffe\n",
            "Successfully built sentence_transformers\n",
            "Installing collected packages: tokenizers, sentencepiece, huggingface-hub, transformers, sentence_transformers\n",
            "Successfully installed huggingface-hub-0.12.0 sentence_transformers-2.2.2 sentencepiece-0.1.97 tokenizers-0.13.2 transformers-4.26.0\n"
          ]
        }
      ]
    },
    {
      "cell_type": "code",
      "source": [
        "import urllib.request\n",
        "# download the raw data online\n",
        "urllib.request.urlretrieve(\"http://john.ccac.rwth-aachen.de:8000/ftp/dilbert/garfield.txt\", \"garfield.txt\")"
      ],
      "metadata": {
        "id": "tvd-1GTL1f3a",
        "outputId": "400d6399-3c02-4240-aecf-e45c9aae6e88",
        "colab": {
          "base_uri": "https://localhost:8080/"
        },
        "execution": {
          "iopub.status.busy": "2023-02-06T14:00:10.334105Z",
          "iopub.execute_input": "2023-02-06T14:00:10.334572Z",
          "iopub.status.idle": "2023-02-06T14:00:12.070277Z",
          "shell.execute_reply.started": "2023-02-06T14:00:10.334528Z",
          "shell.execute_reply": "2023-02-06T14:00:12.069301Z"
        },
        "trusted": true
      },
      "execution_count": 2,
      "outputs": [
        {
          "output_type": "execute_result",
          "data": {
            "text/plain": [
              "('garfield.txt', <http.client.HTTPMessage at 0x7f2ebd33c070>)"
            ]
          },
          "metadata": {},
          "execution_count": 2
        }
      ]
    },
    {
      "cell_type": "code",
      "source": [
        "import pandas as pd\n",
        "import numpy as np\n",
        "import seaborn as sns\n",
        "import matplotlib.pyplot as plt\n",
        "import gensim\n",
        "\n",
        "#plt.rcParams[\"figure.figsize\"] = (25, 10)\n",
        "#plt.rcParams['figure.dpi'] = 450\n",
        "#plt.rcParams['axes.xmargin'] = 0\n",
        "#plt.rcParams['axes.ymargin'] = 0"
      ],
      "metadata": {
        "id": "P8Y6brrp2Rop",
        "execution": {
          "iopub.status.busy": "2023-02-06T14:00:12.072443Z",
          "iopub.execute_input": "2023-02-06T14:00:12.073181Z",
          "iopub.status.idle": "2023-02-06T14:00:12.994239Z",
          "shell.execute_reply.started": "2023-02-06T14:00:12.073139Z",
          "shell.execute_reply": "2023-02-06T14:00:12.993226Z"
        },
        "trusted": true
      },
      "execution_count": 3,
      "outputs": []
    },
    {
      "cell_type": "code",
      "source": [
        "# read text file into pandas DataFrame\n",
        "df = pd.read_csv(\"garfield.txt\", sep=\" -- \", encoding = 'latin1', names=[\"stripID\", \"text\"], engine='python')"
      ],
      "metadata": {
        "id": "9nrRkwEN2S5V",
        "execution": {
          "iopub.status.busy": "2023-02-06T14:00:12.997190Z",
          "iopub.execute_input": "2023-02-06T14:00:12.997590Z",
          "iopub.status.idle": "2023-02-06T14:00:13.064872Z",
          "shell.execute_reply.started": "2023-02-06T14:00:12.997551Z",
          "shell.execute_reply": "2023-02-06T14:00:13.064020Z"
        },
        "trusted": true
      },
      "execution_count": 4,
      "outputs": []
    },
    {
      "cell_type": "code",
      "source": [
        "df = df.dropna().copy()"
      ],
      "metadata": {
        "id": "PAWvaieL72__",
        "execution": {
          "iopub.status.busy": "2023-02-06T14:00:13.067212Z",
          "iopub.execute_input": "2023-02-06T14:00:13.068146Z",
          "iopub.status.idle": "2023-02-06T14:00:13.081503Z",
          "shell.execute_reply.started": "2023-02-06T14:00:13.068108Z",
          "shell.execute_reply": "2023-02-06T14:00:13.080701Z"
        },
        "trusted": true
      },
      "execution_count": 5,
      "outputs": []
    },
    {
      "cell_type": "code",
      "source": [
        "df"
      ],
      "metadata": {
        "id": "Z8SbzG2o23d4",
        "outputId": "b63c6c1d-866d-455a-a9a7-efa2edc2fbd6",
        "colab": {
          "base_uri": "https://localhost:8080/",
          "height": 424
        },
        "execution": {
          "iopub.status.busy": "2023-02-06T14:00:13.083065Z",
          "iopub.execute_input": "2023-02-06T14:00:13.083755Z",
          "iopub.status.idle": "2023-02-06T14:00:13.101874Z",
          "shell.execute_reply.started": "2023-02-06T14:00:13.083716Z",
          "shell.execute_reply": "2023-02-06T14:00:13.100537Z"
        },
        "trusted": true
      },
      "execution_count": 6,
      "outputs": [
        {
          "output_type": "execute_result",
          "data": {
            "text/plain": [
              "        stripID                                               text\n",
              "0      ga780619  Hi, there...I'm Jon Arbuckle. I'm a cartoonist...\n",
              "1      ga780620  Happy birthday, Garfield. I have a surprise fo...\n",
              "2      ga780621  A MOUSE! GET IT! - Garfield! You didn't even t...\n",
              "3      ga780622  I'm putting you on a diet, Garfield...here's y...\n",
              "4      ga780623  - Ahhhhh... - Happiness is a warm television set.\n",
              "...         ...                                                ...\n",
              "17133  ga230201  Garfield... - Pizza is not a healthy breakfast...\n",
              "17134  ga230202  What's the key to a successful diet? - Portion...\n",
              "17135  ga230203  Jon, you've been sitting there a long time. - ...\n",
              "17136  ga230204  Look! Irma's Diner just expanded their menu. -...\n",
              "17137  ga230205  - - WAIT HERE FOR SURPRISE - - - - It's sure q...\n",
              "\n",
              "[17126 rows x 2 columns]"
            ],
            "text/html": [
              "\n",
              "  <div id=\"df-a790867d-ca33-4163-8bc8-7104cf871501\">\n",
              "    <div class=\"colab-df-container\">\n",
              "      <div>\n",
              "<style scoped>\n",
              "    .dataframe tbody tr th:only-of-type {\n",
              "        vertical-align: middle;\n",
              "    }\n",
              "\n",
              "    .dataframe tbody tr th {\n",
              "        vertical-align: top;\n",
              "    }\n",
              "\n",
              "    .dataframe thead th {\n",
              "        text-align: right;\n",
              "    }\n",
              "</style>\n",
              "<table border=\"1\" class=\"dataframe\">\n",
              "  <thead>\n",
              "    <tr style=\"text-align: right;\">\n",
              "      <th></th>\n",
              "      <th>stripID</th>\n",
              "      <th>text</th>\n",
              "    </tr>\n",
              "  </thead>\n",
              "  <tbody>\n",
              "    <tr>\n",
              "      <th>0</th>\n",
              "      <td>ga780619</td>\n",
              "      <td>Hi, there...I'm Jon Arbuckle. I'm a cartoonist...</td>\n",
              "    </tr>\n",
              "    <tr>\n",
              "      <th>1</th>\n",
              "      <td>ga780620</td>\n",
              "      <td>Happy birthday, Garfield. I have a surprise fo...</td>\n",
              "    </tr>\n",
              "    <tr>\n",
              "      <th>2</th>\n",
              "      <td>ga780621</td>\n",
              "      <td>A MOUSE! GET IT! - Garfield! You didn't even t...</td>\n",
              "    </tr>\n",
              "    <tr>\n",
              "      <th>3</th>\n",
              "      <td>ga780622</td>\n",
              "      <td>I'm putting you on a diet, Garfield...here's y...</td>\n",
              "    </tr>\n",
              "    <tr>\n",
              "      <th>4</th>\n",
              "      <td>ga780623</td>\n",
              "      <td>- Ahhhhh... - Happiness is a warm television set.</td>\n",
              "    </tr>\n",
              "    <tr>\n",
              "      <th>...</th>\n",
              "      <td>...</td>\n",
              "      <td>...</td>\n",
              "    </tr>\n",
              "    <tr>\n",
              "      <th>17133</th>\n",
              "      <td>ga230201</td>\n",
              "      <td>Garfield... - Pizza is not a healthy breakfast...</td>\n",
              "    </tr>\n",
              "    <tr>\n",
              "      <th>17134</th>\n",
              "      <td>ga230202</td>\n",
              "      <td>What's the key to a successful diet? - Portion...</td>\n",
              "    </tr>\n",
              "    <tr>\n",
              "      <th>17135</th>\n",
              "      <td>ga230203</td>\n",
              "      <td>Jon, you've been sitting there a long time. - ...</td>\n",
              "    </tr>\n",
              "    <tr>\n",
              "      <th>17136</th>\n",
              "      <td>ga230204</td>\n",
              "      <td>Look! Irma's Diner just expanded their menu. -...</td>\n",
              "    </tr>\n",
              "    <tr>\n",
              "      <th>17137</th>\n",
              "      <td>ga230205</td>\n",
              "      <td>- - WAIT HERE FOR SURPRISE - - - - It's sure q...</td>\n",
              "    </tr>\n",
              "  </tbody>\n",
              "</table>\n",
              "<p>17126 rows × 2 columns</p>\n",
              "</div>\n",
              "      <button class=\"colab-df-convert\" onclick=\"convertToInteractive('df-a790867d-ca33-4163-8bc8-7104cf871501')\"\n",
              "              title=\"Convert this dataframe to an interactive table.\"\n",
              "              style=\"display:none;\">\n",
              "        \n",
              "  <svg xmlns=\"http://www.w3.org/2000/svg\" height=\"24px\"viewBox=\"0 0 24 24\"\n",
              "       width=\"24px\">\n",
              "    <path d=\"M0 0h24v24H0V0z\" fill=\"none\"/>\n",
              "    <path d=\"M18.56 5.44l.94 2.06.94-2.06 2.06-.94-2.06-.94-.94-2.06-.94 2.06-2.06.94zm-11 1L8.5 8.5l.94-2.06 2.06-.94-2.06-.94L8.5 2.5l-.94 2.06-2.06.94zm10 10l.94 2.06.94-2.06 2.06-.94-2.06-.94-.94-2.06-.94 2.06-2.06.94z\"/><path d=\"M17.41 7.96l-1.37-1.37c-.4-.4-.92-.59-1.43-.59-.52 0-1.04.2-1.43.59L10.3 9.45l-7.72 7.72c-.78.78-.78 2.05 0 2.83L4 21.41c.39.39.9.59 1.41.59.51 0 1.02-.2 1.41-.59l7.78-7.78 2.81-2.81c.8-.78.8-2.07 0-2.86zM5.41 20L4 18.59l7.72-7.72 1.47 1.35L5.41 20z\"/>\n",
              "  </svg>\n",
              "      </button>\n",
              "      \n",
              "  <style>\n",
              "    .colab-df-container {\n",
              "      display:flex;\n",
              "      flex-wrap:wrap;\n",
              "      gap: 12px;\n",
              "    }\n",
              "\n",
              "    .colab-df-convert {\n",
              "      background-color: #E8F0FE;\n",
              "      border: none;\n",
              "      border-radius: 50%;\n",
              "      cursor: pointer;\n",
              "      display: none;\n",
              "      fill: #1967D2;\n",
              "      height: 32px;\n",
              "      padding: 0 0 0 0;\n",
              "      width: 32px;\n",
              "    }\n",
              "\n",
              "    .colab-df-convert:hover {\n",
              "      background-color: #E2EBFA;\n",
              "      box-shadow: 0px 1px 2px rgba(60, 64, 67, 0.3), 0px 1px 3px 1px rgba(60, 64, 67, 0.15);\n",
              "      fill: #174EA6;\n",
              "    }\n",
              "\n",
              "    [theme=dark] .colab-df-convert {\n",
              "      background-color: #3B4455;\n",
              "      fill: #D2E3FC;\n",
              "    }\n",
              "\n",
              "    [theme=dark] .colab-df-convert:hover {\n",
              "      background-color: #434B5C;\n",
              "      box-shadow: 0px 1px 3px 1px rgba(0, 0, 0, 0.15);\n",
              "      filter: drop-shadow(0px 1px 2px rgba(0, 0, 0, 0.3));\n",
              "      fill: #FFFFFF;\n",
              "    }\n",
              "  </style>\n",
              "\n",
              "      <script>\n",
              "        const buttonEl =\n",
              "          document.querySelector('#df-a790867d-ca33-4163-8bc8-7104cf871501 button.colab-df-convert');\n",
              "        buttonEl.style.display =\n",
              "          google.colab.kernel.accessAllowed ? 'block' : 'none';\n",
              "\n",
              "        async function convertToInteractive(key) {\n",
              "          const element = document.querySelector('#df-a790867d-ca33-4163-8bc8-7104cf871501');\n",
              "          const dataTable =\n",
              "            await google.colab.kernel.invokeFunction('convertToInteractive',\n",
              "                                                     [key], {});\n",
              "          if (!dataTable) return;\n",
              "\n",
              "          const docLinkHtml = 'Like what you see? Visit the ' +\n",
              "            '<a target=\"_blank\" href=https://colab.research.google.com/notebooks/data_table.ipynb>data table notebook</a>'\n",
              "            + ' to learn more about interactive tables.';\n",
              "          element.innerHTML = '';\n",
              "          dataTable['output_type'] = 'display_data';\n",
              "          await google.colab.output.renderOutput(dataTable, element);\n",
              "          const docLink = document.createElement('div');\n",
              "          docLink.innerHTML = docLinkHtml;\n",
              "          element.appendChild(docLink);\n",
              "        }\n",
              "      </script>\n",
              "    </div>\n",
              "  </div>\n",
              "  "
            ]
          },
          "metadata": {},
          "execution_count": 6
        }
      ]
    },
    {
      "cell_type": "markdown",
      "source": [
        "## Dataframe setup"
      ],
      "metadata": {
        "id": "u1XtAjyt4bWu"
      }
    },
    {
      "cell_type": "markdown",
      "source": [
        "### Adding date information to dataframe\n",
        "\n",
        "Using the format specifications of `datetime` and `pandas`, a timestamp is extracted from the `stripID` column and added as a `Date` column.\n",
        "\n",
        "The code below tries to avoid throwing away some strips (~10) that have parsing errors in the `StripID` column."
      ],
      "metadata": {
        "id": "WjliNKCN2FBk"
      }
    },
    {
      "cell_type": "code",
      "source": [
        "preformat_dates = df['stripID'].to_numpy()\n",
        "formatted_dates = preformat_dates.copy()\n",
        "for index, stripID in enumerate(preformat_dates):\n",
        "  try:\n",
        "    formatted_dates[index] = pd.to_datetime(stripID, format=\"ga%y%m%d\")\n",
        "  except: \n",
        "    # fix abnormal month using the same as the previous strip (they are temporally ordered)\n",
        "    previous_date_month = formatted_dates[index-1].strftime('%m')\n",
        "    # avoids mistakes in the first two characters (eg. gs instead of ga)\n",
        "    stripID = 'ga' + stripID[2:4] + previous_date_month + stripID[-2:]\n",
        "    formatted_dates[index] = pd.to_datetime(stripID, format=\"ga%y%m%d\")\n",
        "    print(f'Fixed string with error {preformat_dates[index]} to correct timestamp {formatted_dates[index]}')\n",
        "    preformat_dates[index] = stripID\n",
        "\n",
        "# add the date column and also the correct stripID\n",
        "df['Date'] = formatted_dates\n",
        "df['stripID'] = preformat_dates"
      ],
      "metadata": {
        "id": "9SMnYU6z36c8",
        "execution": {
          "iopub.status.busy": "2023-02-06T14:00:13.104162Z",
          "iopub.execute_input": "2023-02-06T14:00:13.104817Z",
          "iopub.status.idle": "2023-02-06T14:00:14.859615Z",
          "shell.execute_reply.started": "2023-02-06T14:00:13.104782Z",
          "shell.execute_reply": "2023-02-06T14:00:14.858542Z"
        },
        "trusted": true,
        "colab": {
          "base_uri": "https://localhost:8080/"
        },
        "outputId": "df1cdc53-5271-419c-f46a-4994a5fa0944"
      },
      "execution_count": 7,
      "outputs": [
        {
          "output_type": "stream",
          "name": "stdout",
          "text": [
            "Fixed string with error ga929927 to correct timestamp 1992-09-27 00:00:00\n",
            "Fixed string with error ga982023 to correct timestamp 1998-10-23 00:00:00\n",
            "Fixed string with error ga130015 to correct timestamp 2013-01-15 00:00:00\n",
            "Fixed string with error ga131302 to correct timestamp 2013-12-02 00:00:00\n",
            "Fixed string with error ga131323 to correct timestamp 2013-12-23 00:00:00\n",
            "Fixed string with error ga159829 to correct timestamp 2015-08-29 00:00:00\n",
            "Fixed string with error ga160017 to correct timestamp 2016-01-17 00:00:00\n",
            "Fixed string with error gs161008 to correct timestamp 2016-10-08 00:00:00\n",
            "Fixed string with error ga170017 to correct timestamp 2017-01-17 00:00:00\n",
            "Fixed string with error ga182130 to correct timestamp 2018-12-30 00:00:00\n",
            "Fixed string with error ga192224 to correct timestamp 2019-12-24 00:00:00\n",
            "Fixed string with error ga210019 to correct timestamp 2021-01-19 00:00:00\n",
            "Fixed string with error ga221313 to correct timestamp 2022-12-13 00:00:00\n"
          ]
        }
      ]
    },
    {
      "cell_type": "markdown",
      "source": [
        "### Concatenating text from the same strips together in a single dataframe row\n",
        "\n",
        "As the .txt file the dataset is built upon contains text from the same strip on different lines, grouping by `stripID` is performed and the `text` features are concatenated using the `sum` operator for strings."
      ],
      "metadata": {
        "id": "uzGoPGEaC3M6"
      }
    },
    {
      "cell_type": "code",
      "source": [
        "unique_strips = len(df['stripID'].unique())\n",
        "print(f'Unique stripIDs in dataset: {unique_strips}. Total rows in dataset: {df.shape[0]}')"
      ],
      "metadata": {
        "id": "sZUxHbAKDzY-",
        "outputId": "9e561bff-4915-4e6e-9e77-f13ebddde38a",
        "colab": {
          "base_uri": "https://localhost:8080/"
        },
        "execution": {
          "iopub.status.busy": "2023-02-06T14:00:14.861260Z",
          "iopub.execute_input": "2023-02-06T14:00:14.861648Z",
          "iopub.status.idle": "2023-02-06T14:00:14.872176Z",
          "shell.execute_reply.started": "2023-02-06T14:00:14.861612Z",
          "shell.execute_reply": "2023-02-06T14:00:14.871008Z"
        },
        "trusted": true
      },
      "execution_count": 8,
      "outputs": [
        {
          "output_type": "stream",
          "name": "stdout",
          "text": [
            "Unique stripIDs in dataset: 16262. Total rows in dataset: 17126\n"
          ]
        }
      ]
    },
    {
      "cell_type": "code",
      "source": [
        "# groupd documents as same strip id\n",
        "df_grouped = df.groupby(\"stripID\", as_index=False).agg({'Date': 'first', 'text':'sum'})\n",
        "print(f'Unique stripIDs in dataset: {unique_strips}. Total rows now in dataset: {df_grouped.shape[0]}')\n",
        "df_grouped.head()"
      ],
      "metadata": {
        "id": "PhlXjSlY-5hB",
        "outputId": "e18222ba-061c-48a3-dbf9-30729af39618",
        "colab": {
          "base_uri": "https://localhost:8080/",
          "height": 224
        },
        "execution": {
          "iopub.status.busy": "2023-02-06T14:00:14.873885Z",
          "iopub.execute_input": "2023-02-06T14:00:14.875149Z",
          "iopub.status.idle": "2023-02-06T14:00:14.912533Z",
          "shell.execute_reply.started": "2023-02-06T14:00:14.875112Z",
          "shell.execute_reply": "2023-02-06T14:00:14.911591Z"
        },
        "trusted": true
      },
      "execution_count": 9,
      "outputs": [
        {
          "output_type": "stream",
          "name": "stdout",
          "text": [
            "Unique stripIDs in dataset: 16262. Total rows now in dataset: 16262\n"
          ]
        },
        {
          "output_type": "execute_result",
          "data": {
            "text/plain": [
              "    stripID       Date                                               text\n",
              "0  ga000101 2000-01-01  A toast: to the new year! - clink - This does ...\n",
              "1  ga000102 2000-01-02         - - - - - - Happy new year. Not so louuud.\n",
              "2  ga000103 2000-01-03  Garfield, let's just sit here and think deep t...\n",
              "3  ga000104 2000-01-04  I take no pleasure in kicking Odie. - BOOT! - ...\n",
              "4  ga000105 2000-01-05  Getting a little plump, aren't we? Plump? - Pl..."
            ],
            "text/html": [
              "\n",
              "  <div id=\"df-c0c02415-3cc4-4b8b-b3b1-36b72c7b21a9\">\n",
              "    <div class=\"colab-df-container\">\n",
              "      <div>\n",
              "<style scoped>\n",
              "    .dataframe tbody tr th:only-of-type {\n",
              "        vertical-align: middle;\n",
              "    }\n",
              "\n",
              "    .dataframe tbody tr th {\n",
              "        vertical-align: top;\n",
              "    }\n",
              "\n",
              "    .dataframe thead th {\n",
              "        text-align: right;\n",
              "    }\n",
              "</style>\n",
              "<table border=\"1\" class=\"dataframe\">\n",
              "  <thead>\n",
              "    <tr style=\"text-align: right;\">\n",
              "      <th></th>\n",
              "      <th>stripID</th>\n",
              "      <th>Date</th>\n",
              "      <th>text</th>\n",
              "    </tr>\n",
              "  </thead>\n",
              "  <tbody>\n",
              "    <tr>\n",
              "      <th>0</th>\n",
              "      <td>ga000101</td>\n",
              "      <td>2000-01-01</td>\n",
              "      <td>A toast: to the new year! - clink - This does ...</td>\n",
              "    </tr>\n",
              "    <tr>\n",
              "      <th>1</th>\n",
              "      <td>ga000102</td>\n",
              "      <td>2000-01-02</td>\n",
              "      <td>- - - - - - Happy new year. Not so louuud.</td>\n",
              "    </tr>\n",
              "    <tr>\n",
              "      <th>2</th>\n",
              "      <td>ga000103</td>\n",
              "      <td>2000-01-03</td>\n",
              "      <td>Garfield, let's just sit here and think deep t...</td>\n",
              "    </tr>\n",
              "    <tr>\n",
              "      <th>3</th>\n",
              "      <td>ga000104</td>\n",
              "      <td>2000-01-04</td>\n",
              "      <td>I take no pleasure in kicking Odie. - BOOT! - ...</td>\n",
              "    </tr>\n",
              "    <tr>\n",
              "      <th>4</th>\n",
              "      <td>ga000105</td>\n",
              "      <td>2000-01-05</td>\n",
              "      <td>Getting a little plump, aren't we? Plump? - Pl...</td>\n",
              "    </tr>\n",
              "  </tbody>\n",
              "</table>\n",
              "</div>\n",
              "      <button class=\"colab-df-convert\" onclick=\"convertToInteractive('df-c0c02415-3cc4-4b8b-b3b1-36b72c7b21a9')\"\n",
              "              title=\"Convert this dataframe to an interactive table.\"\n",
              "              style=\"display:none;\">\n",
              "        \n",
              "  <svg xmlns=\"http://www.w3.org/2000/svg\" height=\"24px\"viewBox=\"0 0 24 24\"\n",
              "       width=\"24px\">\n",
              "    <path d=\"M0 0h24v24H0V0z\" fill=\"none\"/>\n",
              "    <path d=\"M18.56 5.44l.94 2.06.94-2.06 2.06-.94-2.06-.94-.94-2.06-.94 2.06-2.06.94zm-11 1L8.5 8.5l.94-2.06 2.06-.94-2.06-.94L8.5 2.5l-.94 2.06-2.06.94zm10 10l.94 2.06.94-2.06 2.06-.94-2.06-.94-.94-2.06-.94 2.06-2.06.94z\"/><path d=\"M17.41 7.96l-1.37-1.37c-.4-.4-.92-.59-1.43-.59-.52 0-1.04.2-1.43.59L10.3 9.45l-7.72 7.72c-.78.78-.78 2.05 0 2.83L4 21.41c.39.39.9.59 1.41.59.51 0 1.02-.2 1.41-.59l7.78-7.78 2.81-2.81c.8-.78.8-2.07 0-2.86zM5.41 20L4 18.59l7.72-7.72 1.47 1.35L5.41 20z\"/>\n",
              "  </svg>\n",
              "      </button>\n",
              "      \n",
              "  <style>\n",
              "    .colab-df-container {\n",
              "      display:flex;\n",
              "      flex-wrap:wrap;\n",
              "      gap: 12px;\n",
              "    }\n",
              "\n",
              "    .colab-df-convert {\n",
              "      background-color: #E8F0FE;\n",
              "      border: none;\n",
              "      border-radius: 50%;\n",
              "      cursor: pointer;\n",
              "      display: none;\n",
              "      fill: #1967D2;\n",
              "      height: 32px;\n",
              "      padding: 0 0 0 0;\n",
              "      width: 32px;\n",
              "    }\n",
              "\n",
              "    .colab-df-convert:hover {\n",
              "      background-color: #E2EBFA;\n",
              "      box-shadow: 0px 1px 2px rgba(60, 64, 67, 0.3), 0px 1px 3px 1px rgba(60, 64, 67, 0.15);\n",
              "      fill: #174EA6;\n",
              "    }\n",
              "\n",
              "    [theme=dark] .colab-df-convert {\n",
              "      background-color: #3B4455;\n",
              "      fill: #D2E3FC;\n",
              "    }\n",
              "\n",
              "    [theme=dark] .colab-df-convert:hover {\n",
              "      background-color: #434B5C;\n",
              "      box-shadow: 0px 1px 3px 1px rgba(0, 0, 0, 0.15);\n",
              "      filter: drop-shadow(0px 1px 2px rgba(0, 0, 0, 0.3));\n",
              "      fill: #FFFFFF;\n",
              "    }\n",
              "  </style>\n",
              "\n",
              "      <script>\n",
              "        const buttonEl =\n",
              "          document.querySelector('#df-c0c02415-3cc4-4b8b-b3b1-36b72c7b21a9 button.colab-df-convert');\n",
              "        buttonEl.style.display =\n",
              "          google.colab.kernel.accessAllowed ? 'block' : 'none';\n",
              "\n",
              "        async function convertToInteractive(key) {\n",
              "          const element = document.querySelector('#df-c0c02415-3cc4-4b8b-b3b1-36b72c7b21a9');\n",
              "          const dataTable =\n",
              "            await google.colab.kernel.invokeFunction('convertToInteractive',\n",
              "                                                     [key], {});\n",
              "          if (!dataTable) return;\n",
              "\n",
              "          const docLinkHtml = 'Like what you see? Visit the ' +\n",
              "            '<a target=\"_blank\" href=https://colab.research.google.com/notebooks/data_table.ipynb>data table notebook</a>'\n",
              "            + ' to learn more about interactive tables.';\n",
              "          element.innerHTML = '';\n",
              "          dataTable['output_type'] = 'display_data';\n",
              "          await google.colab.output.renderOutput(dataTable, element);\n",
              "          const docLink = document.createElement('div');\n",
              "          docLink.innerHTML = docLinkHtml;\n",
              "          element.appendChild(docLink);\n",
              "        }\n",
              "      </script>\n",
              "    </div>\n",
              "  </div>\n",
              "  "
            ]
          },
          "metadata": {},
          "execution_count": 9
        }
      ]
    },
    {
      "cell_type": "markdown",
      "source": [
        "### Sorting values by date\n",
        "\n",
        "Now the dataframe has strips ordered by date, with each strip text in a single row."
      ],
      "metadata": {
        "id": "ucRP6cvUEc5y"
      }
    },
    {
      "cell_type": "code",
      "source": [
        "df_sorted = df_grouped.sort_values(by='Date', ascending=True).reset_index(drop=True)\n",
        "df_sorted"
      ],
      "metadata": {
        "id": "z6dWUFne_3pM",
        "outputId": "9342054a-3956-4b8a-9b34-864d1d98b2ec",
        "colab": {
          "base_uri": "https://localhost:8080/",
          "height": 424
        },
        "execution": {
          "iopub.status.busy": "2023-02-06T14:00:14.916676Z",
          "iopub.execute_input": "2023-02-06T14:00:14.917285Z",
          "iopub.status.idle": "2023-02-06T14:00:14.937331Z",
          "shell.execute_reply.started": "2023-02-06T14:00:14.917247Z",
          "shell.execute_reply": "2023-02-06T14:00:14.936476Z"
        },
        "trusted": true
      },
      "execution_count": 10,
      "outputs": [
        {
          "output_type": "execute_result",
          "data": {
            "text/plain": [
              "        stripID       Date                                               text\n",
              "0      ga780619 1978-06-19  Hi, there...I'm Jon Arbuckle. I'm a cartoonist...\n",
              "1      ga780620 1978-06-20  Happy birthday, Garfield. I have a surprise fo...\n",
              "2      ga780621 1978-06-21  A MOUSE! GET IT! - Garfield! You didn't even t...\n",
              "3      ga780622 1978-06-22  I'm putting you on a diet, Garfield...here's y...\n",
              "4      ga780623 1978-06-23  - Ahhhhh... - Happiness is a warm television set.\n",
              "...         ...        ...                                                ...\n",
              "16257  ga230201 2023-02-01  Garfield... - Pizza is not a healthy breakfast...\n",
              "16258  ga230202 2023-02-02  What's the key to a successful diet? - Portion...\n",
              "16259  ga230203 2023-02-03  Jon, you've been sitting there a long time. - ...\n",
              "16260  ga230204 2023-02-04  Look! Irma's Diner just expanded their menu. -...\n",
              "16261  ga230205 2023-02-05  - - WAIT HERE FOR SURPRISE - - - - It's sure q...\n",
              "\n",
              "[16262 rows x 3 columns]"
            ],
            "text/html": [
              "\n",
              "  <div id=\"df-cf33145e-a549-4105-be64-8646780b0a6c\">\n",
              "    <div class=\"colab-df-container\">\n",
              "      <div>\n",
              "<style scoped>\n",
              "    .dataframe tbody tr th:only-of-type {\n",
              "        vertical-align: middle;\n",
              "    }\n",
              "\n",
              "    .dataframe tbody tr th {\n",
              "        vertical-align: top;\n",
              "    }\n",
              "\n",
              "    .dataframe thead th {\n",
              "        text-align: right;\n",
              "    }\n",
              "</style>\n",
              "<table border=\"1\" class=\"dataframe\">\n",
              "  <thead>\n",
              "    <tr style=\"text-align: right;\">\n",
              "      <th></th>\n",
              "      <th>stripID</th>\n",
              "      <th>Date</th>\n",
              "      <th>text</th>\n",
              "    </tr>\n",
              "  </thead>\n",
              "  <tbody>\n",
              "    <tr>\n",
              "      <th>0</th>\n",
              "      <td>ga780619</td>\n",
              "      <td>1978-06-19</td>\n",
              "      <td>Hi, there...I'm Jon Arbuckle. I'm a cartoonist...</td>\n",
              "    </tr>\n",
              "    <tr>\n",
              "      <th>1</th>\n",
              "      <td>ga780620</td>\n",
              "      <td>1978-06-20</td>\n",
              "      <td>Happy birthday, Garfield. I have a surprise fo...</td>\n",
              "    </tr>\n",
              "    <tr>\n",
              "      <th>2</th>\n",
              "      <td>ga780621</td>\n",
              "      <td>1978-06-21</td>\n",
              "      <td>A MOUSE! GET IT! - Garfield! You didn't even t...</td>\n",
              "    </tr>\n",
              "    <tr>\n",
              "      <th>3</th>\n",
              "      <td>ga780622</td>\n",
              "      <td>1978-06-22</td>\n",
              "      <td>I'm putting you on a diet, Garfield...here's y...</td>\n",
              "    </tr>\n",
              "    <tr>\n",
              "      <th>4</th>\n",
              "      <td>ga780623</td>\n",
              "      <td>1978-06-23</td>\n",
              "      <td>- Ahhhhh... - Happiness is a warm television set.</td>\n",
              "    </tr>\n",
              "    <tr>\n",
              "      <th>...</th>\n",
              "      <td>...</td>\n",
              "      <td>...</td>\n",
              "      <td>...</td>\n",
              "    </tr>\n",
              "    <tr>\n",
              "      <th>16257</th>\n",
              "      <td>ga230201</td>\n",
              "      <td>2023-02-01</td>\n",
              "      <td>Garfield... - Pizza is not a healthy breakfast...</td>\n",
              "    </tr>\n",
              "    <tr>\n",
              "      <th>16258</th>\n",
              "      <td>ga230202</td>\n",
              "      <td>2023-02-02</td>\n",
              "      <td>What's the key to a successful diet? - Portion...</td>\n",
              "    </tr>\n",
              "    <tr>\n",
              "      <th>16259</th>\n",
              "      <td>ga230203</td>\n",
              "      <td>2023-02-03</td>\n",
              "      <td>Jon, you've been sitting there a long time. - ...</td>\n",
              "    </tr>\n",
              "    <tr>\n",
              "      <th>16260</th>\n",
              "      <td>ga230204</td>\n",
              "      <td>2023-02-04</td>\n",
              "      <td>Look! Irma's Diner just expanded their menu. -...</td>\n",
              "    </tr>\n",
              "    <tr>\n",
              "      <th>16261</th>\n",
              "      <td>ga230205</td>\n",
              "      <td>2023-02-05</td>\n",
              "      <td>- - WAIT HERE FOR SURPRISE - - - - It's sure q...</td>\n",
              "    </tr>\n",
              "  </tbody>\n",
              "</table>\n",
              "<p>16262 rows × 3 columns</p>\n",
              "</div>\n",
              "      <button class=\"colab-df-convert\" onclick=\"convertToInteractive('df-cf33145e-a549-4105-be64-8646780b0a6c')\"\n",
              "              title=\"Convert this dataframe to an interactive table.\"\n",
              "              style=\"display:none;\">\n",
              "        \n",
              "  <svg xmlns=\"http://www.w3.org/2000/svg\" height=\"24px\"viewBox=\"0 0 24 24\"\n",
              "       width=\"24px\">\n",
              "    <path d=\"M0 0h24v24H0V0z\" fill=\"none\"/>\n",
              "    <path d=\"M18.56 5.44l.94 2.06.94-2.06 2.06-.94-2.06-.94-.94-2.06-.94 2.06-2.06.94zm-11 1L8.5 8.5l.94-2.06 2.06-.94-2.06-.94L8.5 2.5l-.94 2.06-2.06.94zm10 10l.94 2.06.94-2.06 2.06-.94-2.06-.94-.94-2.06-.94 2.06-2.06.94z\"/><path d=\"M17.41 7.96l-1.37-1.37c-.4-.4-.92-.59-1.43-.59-.52 0-1.04.2-1.43.59L10.3 9.45l-7.72 7.72c-.78.78-.78 2.05 0 2.83L4 21.41c.39.39.9.59 1.41.59.51 0 1.02-.2 1.41-.59l7.78-7.78 2.81-2.81c.8-.78.8-2.07 0-2.86zM5.41 20L4 18.59l7.72-7.72 1.47 1.35L5.41 20z\"/>\n",
              "  </svg>\n",
              "      </button>\n",
              "      \n",
              "  <style>\n",
              "    .colab-df-container {\n",
              "      display:flex;\n",
              "      flex-wrap:wrap;\n",
              "      gap: 12px;\n",
              "    }\n",
              "\n",
              "    .colab-df-convert {\n",
              "      background-color: #E8F0FE;\n",
              "      border: none;\n",
              "      border-radius: 50%;\n",
              "      cursor: pointer;\n",
              "      display: none;\n",
              "      fill: #1967D2;\n",
              "      height: 32px;\n",
              "      padding: 0 0 0 0;\n",
              "      width: 32px;\n",
              "    }\n",
              "\n",
              "    .colab-df-convert:hover {\n",
              "      background-color: #E2EBFA;\n",
              "      box-shadow: 0px 1px 2px rgba(60, 64, 67, 0.3), 0px 1px 3px 1px rgba(60, 64, 67, 0.15);\n",
              "      fill: #174EA6;\n",
              "    }\n",
              "\n",
              "    [theme=dark] .colab-df-convert {\n",
              "      background-color: #3B4455;\n",
              "      fill: #D2E3FC;\n",
              "    }\n",
              "\n",
              "    [theme=dark] .colab-df-convert:hover {\n",
              "      background-color: #434B5C;\n",
              "      box-shadow: 0px 1px 3px 1px rgba(0, 0, 0, 0.15);\n",
              "      filter: drop-shadow(0px 1px 2px rgba(0, 0, 0, 0.3));\n",
              "      fill: #FFFFFF;\n",
              "    }\n",
              "  </style>\n",
              "\n",
              "      <script>\n",
              "        const buttonEl =\n",
              "          document.querySelector('#df-cf33145e-a549-4105-be64-8646780b0a6c button.colab-df-convert');\n",
              "        buttonEl.style.display =\n",
              "          google.colab.kernel.accessAllowed ? 'block' : 'none';\n",
              "\n",
              "        async function convertToInteractive(key) {\n",
              "          const element = document.querySelector('#df-cf33145e-a549-4105-be64-8646780b0a6c');\n",
              "          const dataTable =\n",
              "            await google.colab.kernel.invokeFunction('convertToInteractive',\n",
              "                                                     [key], {});\n",
              "          if (!dataTable) return;\n",
              "\n",
              "          const docLinkHtml = 'Like what you see? Visit the ' +\n",
              "            '<a target=\"_blank\" href=https://colab.research.google.com/notebooks/data_table.ipynb>data table notebook</a>'\n",
              "            + ' to learn more about interactive tables.';\n",
              "          element.innerHTML = '';\n",
              "          dataTable['output_type'] = 'display_data';\n",
              "          await google.colab.output.renderOutput(dataTable, element);\n",
              "          const docLink = document.createElement('div');\n",
              "          docLink.innerHTML = docLinkHtml;\n",
              "          element.appendChild(docLink);\n",
              "        }\n",
              "      </script>\n",
              "    </div>\n",
              "  </div>\n",
              "  "
            ]
          },
          "metadata": {},
          "execution_count": 10
        }
      ]
    },
    {
      "cell_type": "code",
      "source": [
        "garfield_start = df_sorted['Date'].iloc[0]\n",
        "garfield_current = df_sorted['Date'].iloc[-1]\n",
        "garfield_yearspan = np.floor((garfield_current - garfield_start).days / 365.25).astype('int')\n",
        "print(f'The Garfield comic has been around from {garfield_start.strftime(\"%B %Y\")} to {garfield_current.strftime(\"%B %Y\")}, i.e. around {garfield_yearspan} years.')"
      ],
      "metadata": {
        "id": "31ePQRM6FZFa",
        "outputId": "a6c8432f-3d44-4dcf-9ccb-6de9059f18cb",
        "colab": {
          "base_uri": "https://localhost:8080/"
        },
        "execution": {
          "iopub.status.busy": "2023-02-06T14:00:14.938522Z",
          "iopub.execute_input": "2023-02-06T14:00:14.938981Z",
          "iopub.status.idle": "2023-02-06T14:00:14.947899Z",
          "shell.execute_reply.started": "2023-02-06T14:00:14.938943Z",
          "shell.execute_reply": "2023-02-06T14:00:14.946575Z"
        },
        "trusted": true
      },
      "execution_count": 11,
      "outputs": [
        {
          "output_type": "stream",
          "name": "stdout",
          "text": [
            "The Garfield comic has been around from June 1978 to February 2023, i.e. around 44 years.\n"
          ]
        }
      ]
    },
    {
      "cell_type": "markdown",
      "source": [
        "### Adding links to the strips in dataframe\n",
        "\n",
        "Just for fun."
      ],
      "metadata": {
        "id": "22mQDE8h3jke"
      }
    },
    {
      "cell_type": "code",
      "source": [
        "from IPython.display import HTML # link visualization\n",
        "def make_clickable(url, name):\n",
        "    return '<a href=\"{}\" rel=\"noopener noreferrer\" target=\"_blank\">{}</a>'.format(url,name)"
      ],
      "metadata": {
        "id": "BvOKA1dh4l1-",
        "execution": {
          "iopub.status.busy": "2023-02-06T14:00:14.949696Z",
          "iopub.execute_input": "2023-02-06T14:00:14.950880Z",
          "iopub.status.idle": "2023-02-06T14:00:14.958809Z",
          "shell.execute_reply.started": "2023-02-06T14:00:14.950838Z",
          "shell.execute_reply": "2023-02-06T14:00:14.957829Z"
        },
        "trusted": true
      },
      "execution_count": 12,
      "outputs": []
    },
    {
      "cell_type": "code",
      "source": [
        "# site url\n",
        "comic_site_url = 'https://www.gocomics.com/garfield/'\n",
        "# Add url column to dataframe\n",
        "df_sorted['url'] = df_sorted['Date'].apply(lambda date: comic_site_url + date.strftime('%Y/%m/%d')).apply(lambda url: make_clickable(url=url, name='Comic'))"
      ],
      "metadata": {
        "id": "x2bMHv2I3uZ-",
        "execution": {
          "iopub.status.busy": "2023-02-06T14:00:14.962068Z",
          "iopub.execute_input": "2023-02-06T14:00:14.962508Z",
          "iopub.status.idle": "2023-02-06T14:00:15.083127Z",
          "shell.execute_reply.started": "2023-02-06T14:00:14.962478Z",
          "shell.execute_reply": "2023-02-06T14:00:15.082163Z"
        },
        "trusted": true
      },
      "execution_count": 13,
      "outputs": []
    },
    {
      "cell_type": "code",
      "source": [
        "df_sorted.head().style"
      ],
      "metadata": {
        "id": "uE5l0oUP3skE",
        "outputId": "e86bec46-b94d-4430-c884-edfc025d5cf7",
        "colab": {
          "base_uri": "https://localhost:8080/",
          "height": 206
        },
        "execution": {
          "iopub.status.busy": "2023-02-06T14:00:15.084668Z",
          "iopub.execute_input": "2023-02-06T14:00:15.085110Z",
          "iopub.status.idle": "2023-02-06T14:00:15.147468Z",
          "shell.execute_reply.started": "2023-02-06T14:00:15.085071Z",
          "shell.execute_reply": "2023-02-06T14:00:15.146507Z"
        },
        "trusted": true
      },
      "execution_count": 14,
      "outputs": [
        {
          "output_type": "execute_result",
          "data": {
            "text/plain": [
              "<pandas.io.formats.style.Styler at 0x7f2e8f486760>"
            ],
            "text/html": [
              "<style type=\"text/css\">\n",
              "</style>\n",
              "<table id=\"T_a8620_\" class=\"dataframe\">\n",
              "  <thead>\n",
              "    <tr>\n",
              "      <th class=\"blank level0\" >&nbsp;</th>\n",
              "      <th class=\"col_heading level0 col0\" >stripID</th>\n",
              "      <th class=\"col_heading level0 col1\" >Date</th>\n",
              "      <th class=\"col_heading level0 col2\" >text</th>\n",
              "      <th class=\"col_heading level0 col3\" >url</th>\n",
              "    </tr>\n",
              "  </thead>\n",
              "  <tbody>\n",
              "    <tr>\n",
              "      <th id=\"T_a8620_level0_row0\" class=\"row_heading level0 row0\" >0</th>\n",
              "      <td id=\"T_a8620_row0_col0\" class=\"data row0 col0\" >ga780619</td>\n",
              "      <td id=\"T_a8620_row0_col1\" class=\"data row0 col1\" >1978-06-19 00:00:00</td>\n",
              "      <td id=\"T_a8620_row0_col2\" class=\"data row0 col2\" >Hi, there...I'm Jon Arbuckle. I'm a cartoonist, and this is my cat, Garfield. - Hi, there. I'm Garfield. I'm a cat, and this is my cartoonist, Jon. - Our only thought is to entertain you. Feed me.</td>\n",
              "      <td id=\"T_a8620_row0_col3\" class=\"data row0 col3\" ><a href=\"https://www.gocomics.com/garfield/1978/06/19\" rel=\"noopener noreferrer\" target=\"_blank\">Comic</a></td>\n",
              "    </tr>\n",
              "    <tr>\n",
              "      <th id=\"T_a8620_level0_row1\" class=\"row_heading level0 row1\" >1</th>\n",
              "      <td id=\"T_a8620_row1_col0\" class=\"data row1 col0\" >ga780620</td>\n",
              "      <td id=\"T_a8620_row1_col1\" class=\"data row1 col1\" >1978-06-20 00:00:00</td>\n",
              "      <td id=\"T_a8620_row1_col2\" class=\"data row1 col2\" >Happy birthday, Garfield. I have a surprise for you. - A rubber mousey! - Could've used a little salt...</td>\n",
              "      <td id=\"T_a8620_row1_col3\" class=\"data row1 col3\" ><a href=\"https://www.gocomics.com/garfield/1978/06/20\" rel=\"noopener noreferrer\" target=\"_blank\">Comic</a></td>\n",
              "    </tr>\n",
              "    <tr>\n",
              "      <th id=\"T_a8620_level0_row2\" class=\"row_heading level0 row2\" >2</th>\n",
              "      <td id=\"T_a8620_row2_col0\" class=\"data row2 col0\" >ga780621</td>\n",
              "      <td id=\"T_a8620_row2_col1\" class=\"data row2 col1\" >1978-06-21 00:00:00</td>\n",
              "      <td id=\"T_a8620_row2_col2\" class=\"data row2 col2\" >A MOUSE! GET IT! - Garfield! You didn't even try! - Show me a good mouser, and I'll show you a cat with bad breath.</td>\n",
              "      <td id=\"T_a8620_row2_col3\" class=\"data row2 col3\" ><a href=\"https://www.gocomics.com/garfield/1978/06/21\" rel=\"noopener noreferrer\" target=\"_blank\">Comic</a></td>\n",
              "    </tr>\n",
              "    <tr>\n",
              "      <th id=\"T_a8620_level0_row3\" class=\"row_heading level0 row3\" >3</th>\n",
              "      <td id=\"T_a8620_row3_col0\" class=\"data row3 col0\" >ga780622</td>\n",
              "      <td id=\"T_a8620_row3_col1\" class=\"data row3 col1\" >1978-06-22 00:00:00</td>\n",
              "      <td id=\"T_a8620_row3_col2\" class=\"data row3 col2\" >I'm putting you on a diet, Garfield...here's your dinner. - WHA... -</td>\n",
              "      <td id=\"T_a8620_row3_col3\" class=\"data row3 col3\" ><a href=\"https://www.gocomics.com/garfield/1978/06/22\" rel=\"noopener noreferrer\" target=\"_blank\">Comic</a></td>\n",
              "    </tr>\n",
              "    <tr>\n",
              "      <th id=\"T_a8620_level0_row4\" class=\"row_heading level0 row4\" >4</th>\n",
              "      <td id=\"T_a8620_row4_col0\" class=\"data row4 col0\" >ga780623</td>\n",
              "      <td id=\"T_a8620_row4_col1\" class=\"data row4 col1\" >1978-06-23 00:00:00</td>\n",
              "      <td id=\"T_a8620_row4_col2\" class=\"data row4 col2\" >- Ahhhhh... - Happiness is a warm television set.</td>\n",
              "      <td id=\"T_a8620_row4_col3\" class=\"data row4 col3\" ><a href=\"https://www.gocomics.com/garfield/1978/06/23\" rel=\"noopener noreferrer\" target=\"_blank\">Comic</a></td>\n",
              "    </tr>\n",
              "  </tbody>\n",
              "</table>\n"
            ]
          },
          "metadata": {},
          "execution_count": 14
        }
      ]
    },
    {
      "cell_type": "markdown",
      "source": [
        "## Text preprocessing and dictionary creation\n",
        "\n",
        "Starting from the term document matrix. \n",
        "\n",
        "- Topic extraction using LSA.\n",
        "- Retrieval of strips given a textual query using cosine distance in LSA space.\n",
        "\n",
        "Comments: The document representation approach that is used is the BoW with plain term-document frequencies. Another approach could have been one that uses positional information of a word in the strip, or also using TF-IDF values in the BoW. As the strips are made of few words, just normal term counts should be enough."
      ],
      "metadata": {
        "id": "X-YSYRAWBfto"
      }
    },
    {
      "cell_type": "code",
      "source": [
        "#from gensim import corpora\n",
        "from gensim.parsing.preprocessing import remove_stopwords, strip_punctuation, preprocess_string, strip_short, stem_text\n",
        "\n",
        "# lemmatizing over stemming\n",
        "import nltk\n",
        "nltk.download('wordnet')\n",
        "nltk.download('omw-1.4')\n",
        "from nltk.stem import WordNetLemmatizer\n",
        "wnlem = WordNetLemmatizer()\n",
        "\n",
        "# preprocess given text\n",
        "def preprocess(text):\n",
        "    # clean text based on given filters\n",
        "    CUSTOM_FILTERS = [lambda x: x.lower(), \n",
        "                                remove_stopwords, \n",
        "                                strip_punctuation, \n",
        "                                strip_short, \n",
        "                                #stem_text]\n",
        "                                wnlem.lemmatize]\n",
        "    #]\n",
        "    text = preprocess_string(text, CUSTOM_FILTERS)\n",
        "    \n",
        "    return text\n",
        "\n",
        "# apply function to all reviews \n",
        "df_sorted['tokens'] = df_sorted['text'].apply(lambda x: preprocess(x))\n",
        "df_sorted.head()"
      ],
      "metadata": {
        "id": "AIYWkPM55gtx",
        "outputId": "302eed2b-831e-4a6b-e3a0-51e685b54419",
        "colab": {
          "base_uri": "https://localhost:8080/",
          "height": 242
        },
        "execution": {
          "iopub.status.busy": "2023-02-06T14:00:15.148779Z",
          "iopub.execute_input": "2023-02-06T14:00:15.149129Z",
          "iopub.status.idle": "2023-02-06T14:00:18.751805Z",
          "shell.execute_reply.started": "2023-02-06T14:00:15.149094Z",
          "shell.execute_reply": "2023-02-06T14:00:18.750813Z"
        },
        "trusted": true
      },
      "execution_count": 15,
      "outputs": [
        {
          "output_type": "stream",
          "name": "stderr",
          "text": [
            "[nltk_data] Downloading package wordnet to /root/nltk_data...\n",
            "[nltk_data] Downloading package omw-1.4 to /root/nltk_data...\n"
          ]
        },
        {
          "output_type": "execute_result",
          "data": {
            "text/plain": [
              "    stripID       Date                                               text  \\\n",
              "0  ga780619 1978-06-19  Hi, there...I'm Jon Arbuckle. I'm a cartoonist...   \n",
              "1  ga780620 1978-06-20  Happy birthday, Garfield. I have a surprise fo...   \n",
              "2  ga780621 1978-06-21  A MOUSE! GET IT! - Garfield! You didn't even t...   \n",
              "3  ga780622 1978-06-22  I'm putting you on a diet, Garfield...here's y...   \n",
              "4  ga780623 1978-06-23  - Ahhhhh... - Happiness is a warm television set.   \n",
              "\n",
              "                                                 url  \\\n",
              "0  <a href=\"https://www.gocomics.com/garfield/197...   \n",
              "1  <a href=\"https://www.gocomics.com/garfield/197...   \n",
              "2  <a href=\"https://www.gocomics.com/garfield/197...   \n",
              "3  <a href=\"https://www.gocomics.com/garfield/197...   \n",
              "4  <a href=\"https://www.gocomics.com/garfield/197...   \n",
              "\n",
              "                                              tokens  \n",
              "0  [there, jon, arbuckle, cartoonist, cat, garfie...  \n",
              "1  [happy, birthday, garfield, surprise, you, rub...  \n",
              "2  [mouse, garfield, didn, try, good, mouser, cat...  \n",
              "3       [putting, diet, garfield, here, dinner, wha]  \n",
              "4         [ahhhhh, happiness, warm, television, set]  "
            ],
            "text/html": [
              "\n",
              "  <div id=\"df-92fe0bb0-6b5d-48bb-a641-df00b53699e5\">\n",
              "    <div class=\"colab-df-container\">\n",
              "      <div>\n",
              "<style scoped>\n",
              "    .dataframe tbody tr th:only-of-type {\n",
              "        vertical-align: middle;\n",
              "    }\n",
              "\n",
              "    .dataframe tbody tr th {\n",
              "        vertical-align: top;\n",
              "    }\n",
              "\n",
              "    .dataframe thead th {\n",
              "        text-align: right;\n",
              "    }\n",
              "</style>\n",
              "<table border=\"1\" class=\"dataframe\">\n",
              "  <thead>\n",
              "    <tr style=\"text-align: right;\">\n",
              "      <th></th>\n",
              "      <th>stripID</th>\n",
              "      <th>Date</th>\n",
              "      <th>text</th>\n",
              "      <th>url</th>\n",
              "      <th>tokens</th>\n",
              "    </tr>\n",
              "  </thead>\n",
              "  <tbody>\n",
              "    <tr>\n",
              "      <th>0</th>\n",
              "      <td>ga780619</td>\n",
              "      <td>1978-06-19</td>\n",
              "      <td>Hi, there...I'm Jon Arbuckle. I'm a cartoonist...</td>\n",
              "      <td>&lt;a href=\"https://www.gocomics.com/garfield/197...</td>\n",
              "      <td>[there, jon, arbuckle, cartoonist, cat, garfie...</td>\n",
              "    </tr>\n",
              "    <tr>\n",
              "      <th>1</th>\n",
              "      <td>ga780620</td>\n",
              "      <td>1978-06-20</td>\n",
              "      <td>Happy birthday, Garfield. I have a surprise fo...</td>\n",
              "      <td>&lt;a href=\"https://www.gocomics.com/garfield/197...</td>\n",
              "      <td>[happy, birthday, garfield, surprise, you, rub...</td>\n",
              "    </tr>\n",
              "    <tr>\n",
              "      <th>2</th>\n",
              "      <td>ga780621</td>\n",
              "      <td>1978-06-21</td>\n",
              "      <td>A MOUSE! GET IT! - Garfield! You didn't even t...</td>\n",
              "      <td>&lt;a href=\"https://www.gocomics.com/garfield/197...</td>\n",
              "      <td>[mouse, garfield, didn, try, good, mouser, cat...</td>\n",
              "    </tr>\n",
              "    <tr>\n",
              "      <th>3</th>\n",
              "      <td>ga780622</td>\n",
              "      <td>1978-06-22</td>\n",
              "      <td>I'm putting you on a diet, Garfield...here's y...</td>\n",
              "      <td>&lt;a href=\"https://www.gocomics.com/garfield/197...</td>\n",
              "      <td>[putting, diet, garfield, here, dinner, wha]</td>\n",
              "    </tr>\n",
              "    <tr>\n",
              "      <th>4</th>\n",
              "      <td>ga780623</td>\n",
              "      <td>1978-06-23</td>\n",
              "      <td>- Ahhhhh... - Happiness is a warm television set.</td>\n",
              "      <td>&lt;a href=\"https://www.gocomics.com/garfield/197...</td>\n",
              "      <td>[ahhhhh, happiness, warm, television, set]</td>\n",
              "    </tr>\n",
              "  </tbody>\n",
              "</table>\n",
              "</div>\n",
              "      <button class=\"colab-df-convert\" onclick=\"convertToInteractive('df-92fe0bb0-6b5d-48bb-a641-df00b53699e5')\"\n",
              "              title=\"Convert this dataframe to an interactive table.\"\n",
              "              style=\"display:none;\">\n",
              "        \n",
              "  <svg xmlns=\"http://www.w3.org/2000/svg\" height=\"24px\"viewBox=\"0 0 24 24\"\n",
              "       width=\"24px\">\n",
              "    <path d=\"M0 0h24v24H0V0z\" fill=\"none\"/>\n",
              "    <path d=\"M18.56 5.44l.94 2.06.94-2.06 2.06-.94-2.06-.94-.94-2.06-.94 2.06-2.06.94zm-11 1L8.5 8.5l.94-2.06 2.06-.94-2.06-.94L8.5 2.5l-.94 2.06-2.06.94zm10 10l.94 2.06.94-2.06 2.06-.94-2.06-.94-.94-2.06-.94 2.06-2.06.94z\"/><path d=\"M17.41 7.96l-1.37-1.37c-.4-.4-.92-.59-1.43-.59-.52 0-1.04.2-1.43.59L10.3 9.45l-7.72 7.72c-.78.78-.78 2.05 0 2.83L4 21.41c.39.39.9.59 1.41.59.51 0 1.02-.2 1.41-.59l7.78-7.78 2.81-2.81c.8-.78.8-2.07 0-2.86zM5.41 20L4 18.59l7.72-7.72 1.47 1.35L5.41 20z\"/>\n",
              "  </svg>\n",
              "      </button>\n",
              "      \n",
              "  <style>\n",
              "    .colab-df-container {\n",
              "      display:flex;\n",
              "      flex-wrap:wrap;\n",
              "      gap: 12px;\n",
              "    }\n",
              "\n",
              "    .colab-df-convert {\n",
              "      background-color: #E8F0FE;\n",
              "      border: none;\n",
              "      border-radius: 50%;\n",
              "      cursor: pointer;\n",
              "      display: none;\n",
              "      fill: #1967D2;\n",
              "      height: 32px;\n",
              "      padding: 0 0 0 0;\n",
              "      width: 32px;\n",
              "    }\n",
              "\n",
              "    .colab-df-convert:hover {\n",
              "      background-color: #E2EBFA;\n",
              "      box-shadow: 0px 1px 2px rgba(60, 64, 67, 0.3), 0px 1px 3px 1px rgba(60, 64, 67, 0.15);\n",
              "      fill: #174EA6;\n",
              "    }\n",
              "\n",
              "    [theme=dark] .colab-df-convert {\n",
              "      background-color: #3B4455;\n",
              "      fill: #D2E3FC;\n",
              "    }\n",
              "\n",
              "    [theme=dark] .colab-df-convert:hover {\n",
              "      background-color: #434B5C;\n",
              "      box-shadow: 0px 1px 3px 1px rgba(0, 0, 0, 0.15);\n",
              "      filter: drop-shadow(0px 1px 2px rgba(0, 0, 0, 0.3));\n",
              "      fill: #FFFFFF;\n",
              "    }\n",
              "  </style>\n",
              "\n",
              "      <script>\n",
              "        const buttonEl =\n",
              "          document.querySelector('#df-92fe0bb0-6b5d-48bb-a641-df00b53699e5 button.colab-df-convert');\n",
              "        buttonEl.style.display =\n",
              "          google.colab.kernel.accessAllowed ? 'block' : 'none';\n",
              "\n",
              "        async function convertToInteractive(key) {\n",
              "          const element = document.querySelector('#df-92fe0bb0-6b5d-48bb-a641-df00b53699e5');\n",
              "          const dataTable =\n",
              "            await google.colab.kernel.invokeFunction('convertToInteractive',\n",
              "                                                     [key], {});\n",
              "          if (!dataTable) return;\n",
              "\n",
              "          const docLinkHtml = 'Like what you see? Visit the ' +\n",
              "            '<a target=\"_blank\" href=https://colab.research.google.com/notebooks/data_table.ipynb>data table notebook</a>'\n",
              "            + ' to learn more about interactive tables.';\n",
              "          element.innerHTML = '';\n",
              "          dataTable['output_type'] = 'display_data';\n",
              "          await google.colab.output.renderOutput(dataTable, element);\n",
              "          const docLink = document.createElement('div');\n",
              "          docLink.innerHTML = docLinkHtml;\n",
              "          element.appendChild(docLink);\n",
              "        }\n",
              "      </script>\n",
              "    </div>\n",
              "  </div>\n",
              "  "
            ]
          },
          "metadata": {},
          "execution_count": 15
        }
      ]
    },
    {
      "cell_type": "markdown",
      "source": [
        "The `corpus` is the document matrix.\n",
        "\n",
        "The `dictionary` maps each text token to a numerical id.\n",
        "\n",
        "Collection frequencies `dictionary.cfs`: token_id $→$ how many instances of this token are contained in the documents.\n",
        "\n",
        "The `bow` (Bag of Words) contains one list per document. Each document list contains tuples of (`word index`, `n. of occurrences`)."
      ],
      "metadata": {
        "id": "RUcv7Zl1IzS4"
      }
    },
    {
      "cell_type": "code",
      "source": [
        "from gensim import corpora\n",
        "# create a dictionary with the corpus\n",
        "corpus = df_sorted['tokens']\n",
        "dictionary = corpora.Dictionary(corpus)\n",
        "\n",
        "# convert corpus into a bag of words\n",
        "bow = [dictionary.doc2bow(text) for text in corpus]"
      ],
      "metadata": {
        "id": "ctnynPr_8h5V",
        "execution": {
          "iopub.status.busy": "2023-02-06T14:00:18.753204Z",
          "iopub.execute_input": "2023-02-06T14:00:18.753756Z",
          "iopub.status.idle": "2023-02-06T14:00:19.464030Z",
          "shell.execute_reply.started": "2023-02-06T14:00:18.753720Z",
          "shell.execute_reply": "2023-02-06T14:00:19.462929Z"
        },
        "trusted": true
      },
      "execution_count": 16,
      "outputs": []
    },
    {
      "cell_type": "code",
      "source": [
        "print(corpus, end='\\n'+'-'*100 + '\\n')\n",
        "print(dictionary, end='\\n'+'-'*100 + '\\n')\n",
        "print(bow[0], end='\\n'+'-'*100 + '\\n')\n",
        "#print(dictionary.cfs, end='\\n'+'-'*100 + '\\n')\n",
        "print(f'tokens in dictionary: {len(dictionary)}', end='\\n'+'-'*100 + '\\n')"
      ],
      "metadata": {
        "id": "9pboyjWwIrlt",
        "outputId": "f53ae938-8d15-434c-bee2-06a1e82bb83e",
        "colab": {
          "base_uri": "https://localhost:8080/"
        },
        "execution": {
          "iopub.status.busy": "2023-02-06T14:00:19.465906Z",
          "iopub.execute_input": "2023-02-06T14:00:19.466329Z",
          "iopub.status.idle": "2023-02-06T14:00:19.478206Z",
          "shell.execute_reply.started": "2023-02-06T14:00:19.466289Z",
          "shell.execute_reply": "2023-02-06T14:00:19.477033Z"
        },
        "trusted": true
      },
      "execution_count": 17,
      "outputs": [
        {
          "output_type": "stream",
          "name": "stdout",
          "text": [
            "0        [there, jon, arbuckle, cartoonist, cat, garfie...\n",
            "1        [happy, birthday, garfield, surprise, you, rub...\n",
            "2        [mouse, garfield, didn, try, good, mouser, cat...\n",
            "3             [putting, diet, garfield, here, dinner, wha]\n",
            "4               [ahhhhh, happiness, warm, television, set]\n",
            "                               ...                        \n",
            "16257    [garfield, pizza, healthy, breakfast, munch, m...\n",
            "16258    [what, key, successful, diet, portion, control...\n",
            "16259    [jon, you, sitting, long, time, bought, exerci...\n",
            "16260    [look, irma, diner, expanded, menu, added, kin...\n",
            "16261       [wait, surprise, sure, quiet, today, surprise]\n",
            "Name: tokens, Length: 16262, dtype: object\n",
            "----------------------------------------------------------------------------------------------------\n",
            "Dictionary(17190 unique tokens: ['arbuckle', 'cartoonist', 'cat', 'entertain', 'feed']...)\n",
            "----------------------------------------------------------------------------------------------------\n",
            "[(0, 1), (1, 2), (2, 2), (3, 1), (4, 1), (5, 2), (6, 2), (7, 2), (8, 1), (9, 1)]\n",
            "----------------------------------------------------------------------------------------------------\n",
            "tokens in dictionary: 17190\n",
            "----------------------------------------------------------------------------------------------------\n"
          ]
        }
      ]
    },
    {
      "cell_type": "markdown",
      "source": [
        "## Exploratory statistics\n",
        "\n",
        "We count the most common words in the comic strip, plot the amount of words in each strip across the Garfield comic lifespan."
      ],
      "metadata": {
        "id": "NiV7KH_GX2x9"
      }
    },
    {
      "cell_type": "markdown",
      "source": [
        "### Top 100 most frequent words\n"
      ],
      "metadata": {
        "id": "2-kI9i9pinX_"
      }
    },
    {
      "cell_type": "code",
      "source": [
        "word_id_sorted_by_frequency = sorted(dictionary.cfs, key=dictionary.cfs.get, reverse=True)\n",
        "words_sorted_by_frequency = [dictionary[word_id] for word_id in word_id_sorted_by_frequency]\n",
        "freqs = [dictionary.cfs[word_id] for word_id in word_id_sorted_by_frequency]"
      ],
      "metadata": {
        "id": "6kG28K6TQYt1",
        "execution": {
          "iopub.status.busy": "2023-02-06T14:00:19.479693Z",
          "iopub.execute_input": "2023-02-06T14:00:19.480720Z",
          "iopub.status.idle": "2023-02-06T14:00:19.513073Z",
          "shell.execute_reply.started": "2023-02-06T14:00:19.480678Z",
          "shell.execute_reply": "2023-02-06T14:00:19.511914Z"
        },
        "trusted": true
      },
      "execution_count": 18,
      "outputs": []
    },
    {
      "cell_type": "code",
      "source": [
        "top_100_words = words_sorted_by_frequency[0:100]\n",
        "top_100_freqs = freqs[0:100]\n",
        "\n",
        "plt.figure(figsize=(25,10))\n",
        "plt.xticks(rotation = (45), fontsize = 9, va='top', ha='right')\n",
        "\n",
        "sns.barplot(x=top_100_words, y=top_100_freqs).set(title='Top 100 word frequencies')\n",
        "plt.show()"
      ],
      "metadata": {
        "id": "f7nYecvUS4sR",
        "outputId": "a49ce619-f951-451e-83cd-7c1532f62249",
        "colab": {
          "base_uri": "https://localhost:8080/",
          "height": 635
        },
        "execution": {
          "iopub.status.busy": "2023-02-06T14:00:19.514486Z",
          "iopub.execute_input": "2023-02-06T14:00:19.515466Z",
          "iopub.status.idle": "2023-02-06T14:00:20.939334Z",
          "shell.execute_reply.started": "2023-02-06T14:00:19.515427Z",
          "shell.execute_reply": "2023-02-06T14:00:20.938373Z"
        },
        "trusted": true
      },
      "execution_count": 71,
      "outputs": [
        {
          "output_type": "display_data",
          "data": {
            "text/plain": [
              "<Figure size 1800x720 with 1 Axes>"
            ],
            "image/png": "[encoded data removed]"
          },
          "metadata": {
            "needs_background": "light"
          }
        }
      ]
    },
    {
      "cell_type": "markdown",
      "source": [
        "### Document length"
      ],
      "metadata": {
        "id": "YkYZLeeXXIrM"
      }
    },
    {
      "cell_type": "code",
      "source": [
        "# map document -> token count\n",
        "word_counts = corpus.apply(lambda doc: len(doc))\n",
        "word_counts_stats = word_counts.describe()\n",
        "print(word_counts_stats)\n",
        "# mark shorter documents apart from the rest\n",
        "word_colors = word_counts.apply(lambda c: '#tokens $\\\\leq 2$' if c <= 2 else '#tokens $\\\\geq 2$')"
      ],
      "metadata": {
        "id": "R2vqnrxqtDeg",
        "outputId": "a1141cb0-6360-44fa-ed0d-4502dd06eeba",
        "colab": {
          "base_uri": "https://localhost:8080/"
        },
        "execution": {
          "iopub.status.busy": "2023-02-06T14:00:20.940935Z",
          "iopub.execute_input": "2023-02-06T14:00:20.941568Z",
          "iopub.status.idle": "2023-02-06T14:00:20.968267Z",
          "shell.execute_reply.started": "2023-02-06T14:00:20.941528Z",
          "shell.execute_reply": "2023-02-06T14:00:20.967390Z"
        },
        "trusted": true
      },
      "execution_count": 20,
      "outputs": [
        {
          "output_type": "stream",
          "name": "stdout",
          "text": [
            "count    16262.000000\n",
            "mean        10.999693\n",
            "std          7.118157\n",
            "min          0.000000\n",
            "25%          7.000000\n",
            "50%         10.000000\n",
            "75%         14.000000\n",
            "max        157.000000\n",
            "Name: tokens, dtype: float64\n"
          ]
        }
      ]
    },
    {
      "cell_type": "code",
      "source": [
        "plt.figure(figsize=(20,10))\n",
        "# plot colored word counts as scatter points\n",
        "ax = sns.scatterplot(x=df_sorted.index.array, y=word_counts, hue=word_colors).set(title='Document length')\n",
        "# plot mean\n",
        "plt.hlines(xmin=0, xmax=np.max(df_sorted.index.array), y=word_counts_stats['mean'], color='red', label='mean')\n",
        "plt.xlabel('doc. index')\n",
        "plt.ylabel('#tokens')\n",
        "plt.margins(x=0, y=0)\n",
        "plt.legend()\n",
        "plt.show()\n",
        "del ax, word_colors"
      ],
      "metadata": {
        "id": "tIaFgIVOi2z7",
        "outputId": "9904bd9f-51fb-48f5-a908-eb0b77d8763e",
        "colab": {
          "base_uri": "https://localhost:8080/",
          "height": 621
        },
        "execution": {
          "iopub.status.busy": "2023-02-06T14:00:20.969654Z",
          "iopub.execute_input": "2023-02-06T14:00:20.970119Z",
          "iopub.status.idle": "2023-02-06T14:00:22.026197Z",
          "shell.execute_reply.started": "2023-02-06T14:00:20.970082Z",
          "shell.execute_reply": "2023-02-06T14:00:22.025317Z"
        },
        "trusted": true
      },
      "execution_count": 21,
      "outputs": [
        {
          "output_type": "display_data",
          "data": {
            "text/plain": [
              "<Figure size 1440x720 with 1 Axes>"
            ],
            "image/png": "[encoded data removed]"
          },
          "metadata": {
            "needs_background": "light"
          }
        }
      ]
    },
    {
      "cell_type": "code",
      "source": [
        "pd.set_option('display.max_colwidth', None)\n",
        "longest_strip_idx = np.argmax(word_counts)\n",
        "print(df_sorted.loc[longest_strip_idx, 'text'])"
      ],
      "metadata": {
        "id": "vsBsGuR8oltn",
        "outputId": "56e9d044-3007-44d7-a122-bf8e9ed98fdb",
        "colab": {
          "base_uri": "https://localhost:8080/"
        },
        "execution": {
          "iopub.status.busy": "2023-02-06T14:00:22.027259Z",
          "iopub.execute_input": "2023-02-06T14:00:22.027645Z",
          "iopub.status.idle": "2023-02-06T14:00:22.037524Z",
          "shell.execute_reply.started": "2023-02-06T14:00:22.027609Z",
          "shell.execute_reply": "2023-02-06T14:00:22.036523Z"
        },
        "trusted": true
      },
      "execution_count": 22,
      "outputs": [
        {
          "output_type": "stream",
          "name": "stdout",
          "text": [
            "beep beep bip bip beep boop beep - boop bip beep boop beep boop boop bip beep bip beep bip boop bip beep - boop bip bip bip boop beep beepbip beep bip boop beep boop bip beep bip bip boop beep beep bip boop beep bip beep bip bip boop beep bipbeep - beep beep boop bip boop bip bip bip beep bip boop boop boop beep boop bip bip beep beep bip boop beep beep bip boop boop beep boop bip boop bip bip boop boop beep boop bip bip boop beep beepbip beep bip bip - beep beep bip boop boopbip beep boop bip bip boop boop beep bip bip beep bip boop boop beep beep boop bip bip beep boop boop bip beep boop beep bip bip bip boop bip beep beep beep bip boop bip bip boop beep bip beep bip boop bip boop bip beep bip beep - What areyou doing? Text messaging my Christmas list. bip send -\n"
          ]
        }
      ]
    },
    {
      "cell_type": "markdown",
      "source": [
        "## Latent Semantic Analysis"
      ],
      "metadata": {
        "id": "tQzJr0hc4Gze"
      }
    },
    {
      "cell_type": "markdown",
      "source": [
        "### LSA space creation using truncated SVD"
      ],
      "metadata": {
        "id": "fCJOiVAm5WUs"
      }
    },
    {
      "cell_type": "code",
      "source": [
        "from gensim.models import LsiModel\n",
        "# create the lsi model/matrix factorization using the default #dimensions from gensim (k=200)\n",
        "lsi = LsiModel(bow, num_topics=200, id2word=dictionary)"
      ],
      "metadata": {
        "id": "5MOIlfIxplAX",
        "execution": {
          "iopub.status.busy": "2023-02-06T14:00:22.039571Z",
          "iopub.execute_input": "2023-02-06T14:00:22.040521Z",
          "iopub.status.idle": "2023-02-06T14:00:29.817633Z",
          "shell.execute_reply.started": "2023-02-06T14:00:22.040482Z",
          "shell.execute_reply": "2023-02-06T14:00:29.816300Z"
        },
        "trusted": true
      },
      "execution_count": 23,
      "outputs": []
    },
    {
      "cell_type": "code",
      "source": [
        "# show U S V from the 200-rank approximation\n",
        "\n",
        "# left singular vectors - terms\n",
        "U = lsi.projection.u \n",
        "\n",
        "# eigenvalues from S\n",
        "S = lsi.projection.s\n",
        "\n",
        "# right singular vectors - docs\n",
        "V = gensim.matutils.corpus2dense(lsi[bow], len(lsi.projection.s)).T / lsi.projection.s\n",
        "Vt = np.transpose(V)"
      ],
      "metadata": {
        "id": "2RQ-sGs42H92",
        "execution": {
          "iopub.status.busy": "2023-02-06T14:00:29.819749Z",
          "iopub.execute_input": "2023-02-06T14:00:29.820502Z",
          "iopub.status.idle": "2023-02-06T14:00:32.386601Z",
          "shell.execute_reply.started": "2023-02-06T14:00:29.820449Z",
          "shell.execute_reply": "2023-02-06T14:00:32.385387Z"
        },
        "trusted": true
      },
      "execution_count": 24,
      "outputs": []
    },
    {
      "cell_type": "code",
      "source": [
        "print(f'Decomposition shapes:\\nU={U.shape}, S={S.shape}, Vt={Vt.shape}')"
      ],
      "metadata": {
        "id": "vs5BeFDD2n8t",
        "outputId": "1f6ebe93-e9af-4386-dd81-e011a84b9bd3",
        "colab": {
          "base_uri": "https://localhost:8080/"
        },
        "execution": {
          "iopub.status.busy": "2023-02-06T14:00:32.388450Z",
          "iopub.execute_input": "2023-02-06T14:00:32.388918Z",
          "iopub.status.idle": "2023-02-06T14:00:32.395761Z",
          "shell.execute_reply.started": "2023-02-06T14:00:32.388874Z",
          "shell.execute_reply": "2023-02-06T14:00:32.394209Z"
        },
        "trusted": true
      },
      "execution_count": 25,
      "outputs": [
        {
          "output_type": "stream",
          "name": "stdout",
          "text": [
            "Decomposition shapes:\n",
            "U=(17190, 200), S=(200,), Vt=(200, 16262)\n"
          ]
        }
      ]
    },
    {
      "cell_type": "code",
      "source": [
        "# show some topics\n",
        "lsi.show_topics()[0:10]"
      ],
      "metadata": {
        "id": "-ofgKyHvqrUi",
        "outputId": "6cb8bfc0-af61-4a9d-8025-240101a28764",
        "colab": {
          "base_uri": "https://localhost:8080/"
        },
        "execution": {
          "iopub.status.busy": "2023-02-06T14:00:32.397935Z",
          "iopub.execute_input": "2023-02-06T14:00:32.398515Z",
          "iopub.status.idle": "2023-02-06T14:00:32.560698Z",
          "shell.execute_reply.started": "2023-02-06T14:00:32.398471Z",
          "shell.execute_reply": "2023-02-06T14:00:32.559219Z"
        },
        "trusted": true
      },
      "execution_count": 26,
      "outputs": [
        {
          "output_type": "execute_result",
          "data": {
            "text/plain": [
              "[(0,\n",
              "  '1.000*\"hic\" + 0.015*\"hichic\" + 0.008*\"sure\" + 0.008*\"whew\" + 0.003*\"huc\" + 0.001*\"sick\" + 0.001*\"hiccups\" + 0.001*\"hiccitty\" + 0.001*\"iccitty\" + 0.001*\"dog\"'),\n",
              " (1,\n",
              "  '0.960*\"tic\" + 0.275*\"click\" + 0.019*\"you\" + 0.019*\"garfield\" + 0.016*\"that\" + 0.012*\"bark\" + 0.011*\"now\" + 0.011*\"food\" + 0.010*\"morning\" + 0.009*\"diary\"'),\n",
              " (2,\n",
              "  '0.958*\"click\" + -0.278*\"tic\" + 0.033*\"garfield\" + 0.026*\"you\" + 0.014*\"there\" + 0.013*\"jon\" + 0.012*\"like\" + 0.010*\"one\" + 0.010*\"good\" + 0.009*\"clickclick\"'),\n",
              " (3,\n",
              "  '0.989*\"bark\" + 0.069*\"you\" + 0.059*\"dog\" + 0.050*\"garfield\" + 0.025*\"ask\" + 0.024*\"dear\" + 0.023*\"what\" + 0.022*\"like\" + 0.022*\"don\" + 0.022*\"that\"'),\n",
              " (4,\n",
              "  '-0.477*\"bip\" + -0.415*\"beep\" + -0.391*\"you\" + -0.388*\"boop\" + -0.370*\"garfield\" + -0.115*\"like\" + -0.112*\"don\" + -0.103*\"jon\" + -0.102*\"that\" + -0.094*\"know\"'),\n",
              " (5,\n",
              "  '-0.439*\"you\" + 0.434*\"bip\" + -0.420*\"garfield\" + 0.372*\"beep\" + 0.347*\"boop\" + -0.124*\"like\" + -0.122*\"don\" + -0.110*\"that\" + -0.105*\"jon\" + -0.101*\"know\"'),\n",
              " (6,\n",
              "  '-0.997*\"yip\" + 0.036*\"garfield\" + -0.028*\"odie\" + -0.024*\"yap\" + -0.023*\"dog\" + -0.021*\"wants\" + 0.021*\"bark\" + 0.014*\"you\" + -0.010*\"out\" + -0.009*\"dear\"'),\n",
              " (7,\n",
              "  '0.703*\"you\" + -0.669*\"garfield\" + -0.133*\"tick\" + 0.093*\"clap\" + 0.053*\"fat\" + 0.042*\"thank\" + -0.039*\"there\" + -0.039*\"time\" + -0.039*\"crunch\" + 0.038*\"bat\"'),\n",
              " (8,\n",
              "  '-0.962*\"tick\" + -0.179*\"tock\" + -0.117*\"crunch\" + 0.110*\"garfield\" + -0.082*\"you\" + -0.071*\"sniff\" + -0.024*\"squish\" + -0.020*\"chirp\" + -0.017*\"clock\" + -0.016*\"clap\"'),\n",
              " (9,\n",
              "  '0.935*\"crunch\" + -0.270*\"sniff\" + 0.194*\"squish\" + -0.098*\"tick\" + -0.047*\"dig\" + 0.021*\"you\" + -0.019*\"tock\" + -0.016*\"garfield\" + 0.014*\"goosh\" + 0.014*\"squishsquish\"')]"
            ]
          },
          "metadata": {},
          "execution_count": 26
        }
      ]
    },
    {
      "cell_type": "markdown",
      "source": [
        "### Queries on the LSI/LSA space\n",
        "\n",
        "Queries are a semantic extension over the boolean keyword match. The gold standard for this type of task is around 200-500 LSA dimensions (k in the low-rank approximation), so they will be performed on the 200-dim LSA space.\n",
        "\n",
        "The dataset is not annotated with relevancy measures for certain documents.\n",
        "\n",
        "For example, some manual queries:\n",
        "- 'sleep' semantically finds some comics in which usually Garfield sleeps (as indicated by the 'Z' onomatopoeia).\n",
        "- 'christmas' finds comics related to the holiday.\n",
        "> Garfield is an international character. Therefore, I don't even use seasons. The only holiday I recognize is Christmas. I don't use rhyming gags, plays on words, colloquialisms, in an effort to make Garfield apply to virtually any society where he may appear. In an effort to keep the gags broad, the humor general and applicable to everyone, I deal mainly with eating and sleeping. That applies to everyone, anywhere.\n",
        "\n",
        "   <cite>Jim Davis in an interview in Shapiro, W. (1982, December 12). LIVES: “The Cat That Rots the Intellect”. The Washington Post.</cite>\n",
        "\n",
        "For more about Garfield, please read <cite>Engel, Iris B., \"It’s Garfield’s World, We Just Live in It: An Exploration of Garfield the Cat as Icon, Money\n",
        "Maker, and Beast\" (2019).\n",
        "Senior Projects Fall 2019. 3. https://digitalcommons.bard.edu/senproj_f2019/3 </cite>"
      ],
      "metadata": {
        "id": "sim-kVsJwvEp"
      }
    },
    {
      "cell_type": "code",
      "source": [
        "# transform a doc query into the lsa space\n",
        "doc = \"christmas\"\n",
        "vec_bow = dictionary.doc2bow(doc.lower().split())\n",
        "vec_lsi = lsi[vec_bow]  # convert the query to LSI space"
      ],
      "metadata": {
        "id": "W0AKPgt-w4uk",
        "execution": {
          "iopub.status.busy": "2023-02-06T14:00:32.566835Z",
          "iopub.execute_input": "2023-02-06T14:00:32.568140Z",
          "iopub.status.idle": "2023-02-06T14:00:32.585088Z",
          "shell.execute_reply.started": "2023-02-06T14:00:32.568075Z",
          "shell.execute_reply": "2023-02-06T14:00:32.583685Z"
        },
        "trusted": true
      },
      "execution_count": 27,
      "outputs": []
    },
    {
      "cell_type": "code",
      "source": [
        "from gensim import similarities\n",
        "index_lsi = similarities.MatrixSimilarity(lsi[bow])  # transform corpus (bow representation) to LSI space and index it"
      ],
      "metadata": {
        "id": "1lGXtwTgxPGn",
        "outputId": "baba24a6-f665-48ef-c24c-4dc9fdb123ad",
        "colab": {
          "base_uri": "https://localhost:8080/"
        },
        "execution": {
          "iopub.status.busy": "2023-02-06T14:00:32.602131Z",
          "iopub.execute_input": "2023-02-06T14:00:32.603120Z",
          "iopub.status.idle": "2023-02-06T14:00:37.052334Z",
          "shell.execute_reply.started": "2023-02-06T14:00:32.603051Z",
          "shell.execute_reply": "2023-02-06T14:00:37.051322Z"
        },
        "trusted": true
      },
      "execution_count": 28,
      "outputs": [
        {
          "output_type": "stream",
          "name": "stderr",
          "text": [
            "WARNING:gensim.similarities.docsim:scanning corpus to determine the number of features (consider setting `num_features` explicitly)\n"
          ]
        }
      ]
    },
    {
      "cell_type": "code",
      "source": [
        "sims = index_lsi[vec_lsi]  # perform a similarity query against the corpus\n",
        "#print(list(enumerate(sims)))  # print (document_number, document_similarity) 2-tuples"
      ],
      "metadata": {
        "id": "E21OjlJMyNqi",
        "execution": {
          "iopub.status.busy": "2023-02-06T14:00:37.057331Z",
          "iopub.execute_input": "2023-02-06T14:00:37.059850Z",
          "iopub.status.idle": "2023-02-06T14:00:37.072379Z",
          "shell.execute_reply.started": "2023-02-06T14:00:37.059808Z",
          "shell.execute_reply": "2023-02-06T14:00:37.071549Z"
        },
        "trusted": true
      },
      "execution_count": 29,
      "outputs": []
    },
    {
      "cell_type": "code",
      "source": [
        "sims_sorted = sorted(enumerate(sims), key=lambda item: -item[1])\n",
        "most_relevant_docs, most_relevant_scores = list(zip(*sims_sorted))\n",
        "most_relevant_docs = list(most_relevant_docs)\n",
        "df_sorted.iloc[most_relevant_docs[0:5]].style"
      ],
      "metadata": {
        "id": "Q0CqvlvHyVFn",
        "outputId": "a580adf3-91a6-4790-bbb8-e72f8fc1e1f3",
        "colab": {
          "base_uri": "https://localhost:8080/",
          "height": 206
        },
        "execution": {
          "iopub.status.busy": "2023-02-06T14:00:37.078198Z",
          "iopub.execute_input": "2023-02-06T14:00:37.081783Z",
          "iopub.status.idle": "2023-02-06T14:00:37.149975Z",
          "shell.execute_reply.started": "2023-02-06T14:00:37.081746Z",
          "shell.execute_reply": "2023-02-06T14:00:37.148691Z"
        },
        "trusted": true
      },
      "execution_count": 30,
      "outputs": [
        {
          "output_type": "execute_result",
          "data": {
            "text/plain": [
              "<pandas.io.formats.style.Styler at 0x7f2e865608b0>"
            ],
            "text/html": [
              "<style type=\"text/css\">\n",
              "</style>\n",
              "<table id=\"T_f2952_\" class=\"dataframe\">\n",
              "  <thead>\n",
              "    <tr>\n",
              "      <th class=\"blank level0\" >&nbsp;</th>\n",
              "      <th class=\"col_heading level0 col0\" >stripID</th>\n",
              "      <th class=\"col_heading level0 col1\" >Date</th>\n",
              "      <th class=\"col_heading level0 col2\" >text</th>\n",
              "      <th class=\"col_heading level0 col3\" >url</th>\n",
              "      <th class=\"col_heading level0 col4\" >tokens</th>\n",
              "    </tr>\n",
              "  </thead>\n",
              "  <tbody>\n",
              "    <tr>\n",
              "      <th id=\"T_f2952_level0_row0\" class=\"row_heading level0 row0\" >1282</th>\n",
              "      <td id=\"T_f2952_row0_col0\" class=\"data row0 col0\" >ga811225</td>\n",
              "      <td id=\"T_f2952_row0_col1\" class=\"data row0 col1\" >1981-12-25 00:00:00</td>\n",
              "      <td id=\"T_f2952_row0_col2\" class=\"data row0 col2\" >Christmas spirit... - It's not the giving. It's not the receiving. - It's the loving. Merry Christmas.</td>\n",
              "      <td id=\"T_f2952_row0_col3\" class=\"data row0 col3\" ><a href=\"https://www.gocomics.com/garfield/1981/12/25\" rel=\"noopener noreferrer\" target=\"_blank\">Comic</a></td>\n",
              "      <td id=\"T_f2952_row0_col4\" class=\"data row0 col4\" >['christmas', 'spirit', 'giving', 'receiving', 'loving', 'merry', 'christmas']</td>\n",
              "    </tr>\n",
              "    <tr>\n",
              "      <th id=\"T_f2952_level0_row1\" class=\"row_heading level0 row1\" >7477</th>\n",
              "      <td id=\"T_f2952_row1_col0\" class=\"data row1 col0\" >ga981225</td>\n",
              "      <td id=\"T_f2952_row1_col1\" class=\"data row1 col1\" >1998-12-25 00:00:00</td>\n",
              "      <td id=\"T_f2952_row1_col2\" class=\"data row1 col2\" >- - Merry Christmas!</td>\n",
              "      <td id=\"T_f2952_row1_col3\" class=\"data row1 col3\" ><a href=\"https://www.gocomics.com/garfield/1998/12/25\" rel=\"noopener noreferrer\" target=\"_blank\">Comic</a></td>\n",
              "      <td id=\"T_f2952_row1_col4\" class=\"data row1 col4\" >['merry', 'christmas']</td>\n",
              "    </tr>\n",
              "    <tr>\n",
              "      <th id=\"T_f2952_level0_row2\" class=\"row_heading level0 row2\" >11126</th>\n",
              "      <td id=\"T_f2952_row2_col0\" class=\"data row2 col0\" >ga081225</td>\n",
              "      <td id=\"T_f2952_row2_col1\" class=\"data row2 col1\" >2008-12-25 00:00:00</td>\n",
              "      <td id=\"T_f2952_row2_col2\" class=\"data row2 col2\" >- - Merry Christmas!</td>\n",
              "      <td id=\"T_f2952_row2_col3\" class=\"data row2 col3\" ><a href=\"https://www.gocomics.com/garfield/2008/12/25\" rel=\"noopener noreferrer\" target=\"_blank\">Comic</a></td>\n",
              "      <td id=\"T_f2952_row2_col4\" class=\"data row2 col4\" >['merry', 'christmas']</td>\n",
              "    </tr>\n",
              "    <tr>\n",
              "      <th id=\"T_f2952_level0_row3\" class=\"row_heading level0 row3\" >12571</th>\n",
              "      <td id=\"T_f2952_row3_col0\" class=\"data row3 col0\" >ga121211</td>\n",
              "      <td id=\"T_f2952_row3_col1\" class=\"data row3 col1\" >2012-12-11 00:00:00</td>\n",
              "      <td id=\"T_f2952_row3_col2\" class=\"data row3 col2\" >- - Christmas bone catalog.</td>\n",
              "      <td id=\"T_f2952_row3_col3\" class=\"data row3 col3\" ><a href=\"https://www.gocomics.com/garfield/2012/12/11\" rel=\"noopener noreferrer\" target=\"_blank\">Comic</a></td>\n",
              "      <td id=\"T_f2952_row3_col4\" class=\"data row3 col4\" >['christmas', 'bone', 'catalog']</td>\n",
              "    </tr>\n",
              "    <tr>\n",
              "      <th id=\"T_f2952_level0_row4\" class=\"row_heading level0 row4\" >4194</th>\n",
              "      <td id=\"T_f2952_row4_col0\" class=\"data row4 col0\" >ga891219</td>\n",
              "      <td id=\"T_f2952_row4_col1\" class=\"data row4 col1\" >1989-12-19 00:00:00</td>\n",
              "      <td id=\"T_f2952_row4_col2\" class=\"data row4 col2\" >- - He'll never find where I hid his Christmas present.</td>\n",
              "      <td id=\"T_f2952_row4_col3\" class=\"data row4 col3\" ><a href=\"https://www.gocomics.com/garfield/1989/12/19\" rel=\"noopener noreferrer\" target=\"_blank\">Comic</a></td>\n",
              "      <td id=\"T_f2952_row4_col4\" class=\"data row4 col4\" >['hid', 'christmas', 'present']</td>\n",
              "    </tr>\n",
              "  </tbody>\n",
              "</table>\n"
            ]
          },
          "metadata": {},
          "execution_count": 30
        }
      ]
    },
    {
      "cell_type": "code",
      "source": [
        "# convenient function to make a query and get the most relevant k comic strips\n",
        "def get_top_k_relevant_docs(query: str, k: int, index: gensim.similarities.MatrixSimilarity):\n",
        "  \"\"\"Maps the query into the latent space and computes similarity wrt each of the documents in the corpus. \n",
        "  Returns the top k documents with the highest similarity to the query.\"\"\"\n",
        "  doc = query\n",
        "  vec_bow = dictionary.doc2bow(doc.lower().split())\n",
        "  vec_lsi = lsi[vec_bow]  # convert the query to LSI space\n",
        "  sims = index[vec_lsi]  # perform a similarity query against the corpus\n",
        "  sims_sorted = sorted(enumerate(sims), key=lambda item: -item[1])\n",
        "  ranked_docs, ranked_scores = list(zip(*sims_sorted))\n",
        "  return list(ranked_docs[:k]), list(ranked_scores[:k])"
      ],
      "metadata": {
        "id": "BkoZEZWCBj95",
        "execution": {
          "iopub.status.busy": "2023-02-06T14:00:37.156381Z",
          "iopub.execute_input": "2023-02-06T14:00:37.159962Z",
          "iopub.status.idle": "2023-02-06T14:00:37.174954Z",
          "shell.execute_reply.started": "2023-02-06T14:00:37.159900Z",
          "shell.execute_reply": "2023-02-06T14:00:37.173620Z"
        },
        "trusted": true
      },
      "execution_count": 31,
      "outputs": []
    },
    {
      "cell_type": "code",
      "source": [
        "top_docs, top_scores = get_top_k_relevant_docs(query='Actually, seeing the vet is not so bad', k=10, index=index_lsi)\n",
        "df_sorted.iloc[top_docs].style"
      ],
      "metadata": {
        "id": "nXsJfYhHDDXn",
        "outputId": "706b812b-0166-49ac-8e7d-3f9d9d58c05f",
        "colab": {
          "base_uri": "https://localhost:8080/",
          "height": 537
        },
        "execution": {
          "iopub.status.busy": "2023-02-06T14:00:37.183687Z",
          "iopub.execute_input": "2023-02-06T14:00:37.187000Z",
          "iopub.status.idle": "2023-02-06T14:00:37.248471Z",
          "shell.execute_reply.started": "2023-02-06T14:00:37.186950Z",
          "shell.execute_reply": "2023-02-06T14:00:37.247056Z"
        },
        "trusted": true
      },
      "execution_count": 32,
      "outputs": [
        {
          "output_type": "execute_result",
          "data": {
            "text/plain": [
              "<pandas.io.formats.style.Styler at 0x7f2e863fb9a0>"
            ],
            "text/html": [
              "<style type=\"text/css\">\n",
              "</style>\n",
              "<table id=\"T_e6dab_\" class=\"dataframe\">\n",
              "  <thead>\n",
              "    <tr>\n",
              "      <th class=\"blank level0\" >&nbsp;</th>\n",
              "      <th class=\"col_heading level0 col0\" >stripID</th>\n",
              "      <th class=\"col_heading level0 col1\" >Date</th>\n",
              "      <th class=\"col_heading level0 col2\" >text</th>\n",
              "      <th class=\"col_heading level0 col3\" >url</th>\n",
              "      <th class=\"col_heading level0 col4\" >tokens</th>\n",
              "    </tr>\n",
              "  </thead>\n",
              "  <tbody>\n",
              "    <tr>\n",
              "      <th id=\"T_e6dab_level0_row0\" class=\"row_heading level0 row0\" >3182</th>\n",
              "      <td id=\"T_e6dab_row0_col0\" class=\"data row0 col0\" >ga870312</td>\n",
              "      <td id=\"T_e6dab_row0_col1\" class=\"data row0 col1\" >1987-03-12 00:00:00</td>\n",
              "      <td id=\"T_e6dab_row0_col2\" class=\"data row0 col2\" >Spinach. - It tastes bad. It looks bad. - SPLUT! It even sounds bad.</td>\n",
              "      <td id=\"T_e6dab_row0_col3\" class=\"data row0 col3\" ><a href=\"https://www.gocomics.com/garfield/1987/03/12\" rel=\"noopener noreferrer\" target=\"_blank\">Comic</a></td>\n",
              "      <td id=\"T_e6dab_row0_col4\" class=\"data row0 col4\" >['spinach', 'tastes', 'bad', 'looks', 'bad', 'splut', 'sounds', 'bad']</td>\n",
              "    </tr>\n",
              "    <tr>\n",
              "      <th id=\"T_e6dab_level0_row1\" class=\"row_heading level0 row1\" >2638</th>\n",
              "      <td id=\"T_e6dab_row1_col0\" class=\"data row1 col0\" >ga850914</td>\n",
              "      <td id=\"T_e6dab_row1_col1\" class=\"data row1 col1\" >1985-09-14 00:00:00</td>\n",
              "      <td id=\"T_e6dab_row1_col2\" class=\"data row1 col2\" >Why did we waste our evening at that movie? - And why was the photography so bad? - And why did they hand me three pairs of 3-D glasses?</td>\n",
              "      <td id=\"T_e6dab_row1_col3\" class=\"data row1 col3\" ><a href=\"https://www.gocomics.com/garfield/1985/09/14\" rel=\"noopener noreferrer\" target=\"_blank\">Comic</a></td>\n",
              "      <td id=\"T_e6dab_row1_col4\" class=\"data row1 col4\" >['waste', 'evening', 'movie', 'photography', 'bad', 'hand', 'pairs', 'glasses']</td>\n",
              "    </tr>\n",
              "    <tr>\n",
              "      <th id=\"T_e6dab_level0_row2\" class=\"row_heading level0 row2\" >14260</th>\n",
              "      <td id=\"T_e6dab_row2_col0\" class=\"data row2 col0\" >ga170806</td>\n",
              "      <td id=\"T_e6dab_row2_col1\" class=\"data row2 col1\" >2017-08-06 00:00:00</td>\n",
              "      <td id=\"T_e6dab_row2_col2\" class=\"data row2 col2\" >- - - - - * - YOU JUST RUINED a PERFECTLY BAD MOOD!</td>\n",
              "      <td id=\"T_e6dab_row2_col3\" class=\"data row2 col3\" ><a href=\"https://www.gocomics.com/garfield/2017/08/06\" rel=\"noopener noreferrer\" target=\"_blank\">Comic</a></td>\n",
              "      <td id=\"T_e6dab_row2_col4\" class=\"data row2 col4\" >['ruined', 'perfectly', 'bad', 'mood']</td>\n",
              "    </tr>\n",
              "    <tr>\n",
              "      <th id=\"T_e6dab_level0_row3\" class=\"row_heading level0 row3\" >11139</th>\n",
              "      <td id=\"T_e6dab_row3_col0\" class=\"data row3 col0\" >ga090108</td>\n",
              "      <td id=\"T_e6dab_row3_col1\" class=\"data row3 col1\" >2009-01-08 00:00:00</td>\n",
              "      <td id=\"T_e6dab_row3_col2\" class=\"data row3 col2\" >I'm elected to the bad habits hall of fame! - CRUMPLE CRUMPLE -</td>\n",
              "      <td id=\"T_e6dab_row3_col3\" class=\"data row3 col3\" ><a href=\"https://www.gocomics.com/garfield/2009/01/08\" rel=\"noopener noreferrer\" target=\"_blank\">Comic</a></td>\n",
              "      <td id=\"T_e6dab_row3_col4\" class=\"data row3 col4\" >['elected', 'bad', 'habits', 'hall', 'fame', 'crumple', 'crumple']</td>\n",
              "    </tr>\n",
              "    <tr>\n",
              "      <th id=\"T_e6dab_level0_row4\" class=\"row_heading level0 row4\" >15898</th>\n",
              "      <td id=\"T_e6dab_row4_col0\" class=\"data row4 col0\" >ga220207</td>\n",
              "      <td id=\"T_e6dab_row4_col1\" class=\"data row4 col1\" >2022-02-07 00:00:00</td>\n",
              "      <td id=\"T_e6dab_row4_col2\" class=\"data row4 col2\" >- I'm in a bad mood. - And its nam eis February.</td>\n",
              "      <td id=\"T_e6dab_row4_col3\" class=\"data row4 col3\" ><a href=\"https://www.gocomics.com/garfield/2022/02/07\" rel=\"noopener noreferrer\" target=\"_blank\">Comic</a></td>\n",
              "      <td id=\"T_e6dab_row4_col4\" class=\"data row4 col4\" >['bad', 'mood', 'nam', 'eis', 'february']</td>\n",
              "    </tr>\n",
              "    <tr>\n",
              "      <th id=\"T_e6dab_level0_row5\" class=\"row_heading level0 row5\" >6960</th>\n",
              "      <td id=\"T_e6dab_row5_col0\" class=\"data row5 col0\" >ga970724</td>\n",
              "      <td id=\"T_e6dab_row5_col1\" class=\"data row5 col1\" >1997-07-24 00:00:00</td>\n",
              "      <td id=\"T_e6dab_row5_col2\" class=\"data row5 col2\" >I'm in a bad mood. - - Relatively speaking.</td>\n",
              "      <td id=\"T_e6dab_row5_col3\" class=\"data row5 col3\" ><a href=\"https://www.gocomics.com/garfield/1997/07/24\" rel=\"noopener noreferrer\" target=\"_blank\">Comic</a></td>\n",
              "      <td id=\"T_e6dab_row5_col4\" class=\"data row5 col4\" >['bad', 'mood', 'relatively', 'speaking']</td>\n",
              "    </tr>\n",
              "    <tr>\n",
              "      <th id=\"T_e6dab_level0_row6\" class=\"row_heading level0 row6\" >11394</th>\n",
              "      <td id=\"T_e6dab_row6_col0\" class=\"data row6 col0\" >ga090920</td>\n",
              "      <td id=\"T_e6dab_row6_col1\" class=\"data row6 col1\" >2009-09-20 00:00:00</td>\n",
              "      <td id=\"T_e6dab_row6_col2\" class=\"data row6 col2\" >- - - - SPLOT - My bad.</td>\n",
              "      <td id=\"T_e6dab_row6_col3\" class=\"data row6 col3\" ><a href=\"https://www.gocomics.com/garfield/2009/09/20\" rel=\"noopener noreferrer\" target=\"_blank\">Comic</a></td>\n",
              "      <td id=\"T_e6dab_row6_col4\" class=\"data row6 col4\" >['splot', 'bad']</td>\n",
              "    </tr>\n",
              "    <tr>\n",
              "      <th id=\"T_e6dab_level0_row7\" class=\"row_heading level0 row7\" >13746</th>\n",
              "      <td id=\"T_e6dab_row7_col0\" class=\"data row7 col0\" >ga160305</td>\n",
              "      <td id=\"T_e6dab_row7_col1\" class=\"data row7 col1\" >2016-03-05 00:00:00</td>\n",
              "      <td id=\"T_e6dab_row7_col2\" class=\"data row7 col2\" >My aunt Edna has a bad habit. - She was a finger licker. - But not her own. A lonely, lonely woman.</td>\n",
              "      <td id=\"T_e6dab_row7_col3\" class=\"data row7 col3\" ><a href=\"https://www.gocomics.com/garfield/2016/03/05\" rel=\"noopener noreferrer\" target=\"_blank\">Comic</a></td>\n",
              "      <td id=\"T_e6dab_row7_col4\" class=\"data row7 col4\" >['aunt', 'edna', 'bad', 'habit', 'finger', 'licker', 'own', 'lonely', 'lonely', 'woman']</td>\n",
              "    </tr>\n",
              "    <tr>\n",
              "      <th id=\"T_e6dab_level0_row8\" class=\"row_heading level0 row8\" >7251</th>\n",
              "      <td id=\"T_e6dab_row8_col0\" class=\"data row8 col0\" >ga980512</td>\n",
              "      <td id=\"T_e6dab_row8_col1\" class=\"data row8 col1\" >1998-05-12 00:00:00</td>\n",
              "      <td id=\"T_e6dab_row8_col2\" class=\"data row8 col2\" >Thanks for the use of your pen. - Too bad it ran out of ink. -</td>\n",
              "      <td id=\"T_e6dab_row8_col3\" class=\"data row8 col3\" ><a href=\"https://www.gocomics.com/garfield/1998/05/12\" rel=\"noopener noreferrer\" target=\"_blank\">Comic</a></td>\n",
              "      <td id=\"T_e6dab_row8_col4\" class=\"data row8 col4\" >['thanks', 'use', 'pen', 'bad', 'ran', 'ink']</td>\n",
              "    </tr>\n",
              "    <tr>\n",
              "      <th id=\"T_e6dab_level0_row9\" class=\"row_heading level0 row9\" >2081</th>\n",
              "      <td id=\"T_e6dab_row9_col0\" class=\"data row9 col0\" >ga840306</td>\n",
              "      <td id=\"T_e6dab_row9_col1\" class=\"data row9 col1\" >1984-03-06 00:00:00</td>\n",
              "      <td id=\"T_e6dab_row9_col2\" class=\"data row9 col2\" >YAWN - GASP! - Waking up to my own bad breath is bad enough, but someone else's is unbearable.</td>\n",
              "      <td id=\"T_e6dab_row9_col3\" class=\"data row9 col3\" ><a href=\"https://www.gocomics.com/garfield/1984/03/06\" rel=\"noopener noreferrer\" target=\"_blank\">Comic</a></td>\n",
              "      <td id=\"T_e6dab_row9_col4\" class=\"data row9 col4\" >['yawn', 'gasp', 'waking', 'bad', 'breath', 'bad', 'enough', 'else', 'unbearable']</td>\n",
              "    </tr>\n",
              "  </tbody>\n",
              "</table>\n"
            ]
          },
          "metadata": {},
          "execution_count": 32
        }
      ]
    },
    {
      "cell_type": "markdown",
      "source": [
        "### Unsupervised topic extraction in LSA space"
      ],
      "metadata": {
        "id": "92Gnrigy4Nc4"
      }
    },
    {
      "cell_type": "markdown",
      "source": [
        "First, we will determine using the knee-point method the #topics/#dimension for a new LSI space.\n",
        "\n",
        "Then, we will analyze the found topics."
      ],
      "metadata": {
        "id": "DBavBjyj5psJ"
      }
    },
    {
      "cell_type": "markdown",
      "source": [
        "Plot of the eigenvalues. The higher an eigenvalue for a dimension is, the more information it carries. This is because SVD outputs the best low-rank approximation for the input matrix, in this case the term x document matrix.\n",
        "\n",
        "`kneed` is a library for finding knee points."
      ],
      "metadata": {
        "id": "U4Q2SwUz6WGM"
      }
    },
    {
      "cell_type": "code",
      "source": [
        "import kneed"
      ],
      "metadata": {
        "id": "LLJJHBYK7feR",
        "execution": {
          "iopub.status.busy": "2023-02-06T14:00:37.254528Z",
          "iopub.execute_input": "2023-02-06T14:00:37.257841Z",
          "iopub.status.idle": "2023-02-06T14:00:42.277328Z",
          "shell.execute_reply.started": "2023-02-06T14:00:37.257782Z",
          "shell.execute_reply": "2023-02-06T14:00:42.276273Z"
        },
        "trusted": true
      },
      "execution_count": 33,
      "outputs": []
    },
    {
      "cell_type": "code",
      "source": [
        "eigen_x = np.arange(start=0, stop=len(S))\n",
        "eigen_norm = S / np.linalg.norm(S)"
      ],
      "metadata": {
        "id": "rS0bNNSE7-F4",
        "execution": {
          "iopub.status.busy": "2023-02-06T14:00:42.278835Z",
          "iopub.execute_input": "2023-02-06T14:00:42.279554Z",
          "iopub.status.idle": "2023-02-06T14:00:42.286848Z",
          "shell.execute_reply.started": "2023-02-06T14:00:42.279513Z",
          "shell.execute_reply": "2023-02-06T14:00:42.285416Z"
        },
        "trusted": true
      },
      "execution_count": 34,
      "outputs": []
    },
    {
      "cell_type": "code",
      "source": [
        "kneedle = kneed.KneeLocator(x=eigen_x, y=eigen_norm, S=1.0, curve=\"concave\", direction=\"decreasing\", online=True)\n",
        "print(kneedle.all_knees)\n",
        "num_topics_kneed = kneedle.knee\n",
        "print(f'Knee point analysis suggests using k={num_topics_kneed}')"
      ],
      "metadata": {
        "id": "nzrwq8ll7vAt",
        "outputId": "ed2c337e-c415-42b2-b778-b91737084a11",
        "colab": {
          "base_uri": "https://localhost:8080/"
        },
        "execution": {
          "iopub.status.busy": "2023-02-06T14:00:42.288628Z",
          "iopub.execute_input": "2023-02-06T14:00:42.289736Z",
          "iopub.status.idle": "2023-02-06T14:00:42.325513Z",
          "shell.execute_reply.started": "2023-02-06T14:00:42.289701Z",
          "shell.execute_reply": "2023-02-06T14:00:42.324218Z"
        },
        "trusted": true
      },
      "execution_count": 35,
      "outputs": [
        {
          "output_type": "stream",
          "name": "stdout",
          "text": [
            "{32, 199, 10, 22, 62, 24, 28, 30}\n",
            "Knee point analysis suggests using k=10\n"
          ]
        }
      ]
    },
    {
      "cell_type": "markdown",
      "source": [
        "A knee point as local min of the curvature radius $k$ of the\n",
        "iperbole function interpolating the data. This will be $k = \\frac{y''}{{(1+y'^2)}^\\frac{3}{2}}$"
      ],
      "metadata": {
        "id": "FqDTOX1MFGGP"
      }
    },
    {
      "cell_type": "code",
      "source": [
        "# function to approximate derivative of an array\n",
        "def derivative(x_data, y_data):\n",
        "    N = len(x_data)\n",
        "    delta_x = [x_data[i+1] - x_data[i] for i in range(N - 1)]\n",
        "    x_prim = [(x_data[i+1] + x_data[i]) / 2. for i in range(N - 1)]\n",
        "    y_prim = [(y_data[i+1] - y_data[i]) / delta_x[i] for i in range(N - 1)]\n",
        "    return x_prim, y_prim\n",
        "# compute 2nd derivative by calling it two times\n",
        "x_prime, y_prime = derivative(eigen_x, eigen_norm)\n",
        "x_bis, y_bis = derivative(x_prime, y_prime)\n",
        "y_prime = y_prime[:-1]\n",
        "# compute curvature according to formula\n",
        "k = np.divide(y_bis, np.power(1 + np.square(y_prime), 1.5))"
      ],
      "metadata": {
        "id": "fP5x0F3i_jd1",
        "execution": {
          "iopub.status.busy": "2023-02-06T14:00:42.327424Z",
          "iopub.execute_input": "2023-02-06T14:00:42.327972Z",
          "iopub.status.idle": "2023-02-06T14:00:42.341682Z",
          "shell.execute_reply.started": "2023-02-06T14:00:42.327924Z",
          "shell.execute_reply": "2023-02-06T14:00:42.340724Z"
        },
        "trusted": true
      },
      "execution_count": 36,
      "outputs": []
    },
    {
      "cell_type": "code",
      "source": [
        "plt.figure(figsize=(20,10))\n",
        "plt.title('Singular values analysis')\n",
        "plt.plot(eigen_x, eigen_norm, '-o', label='normalized singular values')\n",
        "plt.plot(x_bis, k, '-x', label='curvature')\n",
        "#plt.vlines(x=list(kneedle.all_knees), ymin=ykneemin, ymax=ykneemax, linestyle='--', label='knee point from kneedle algorithm')\n",
        "vlines = [plt.axvline(x = knee, color = 'black', linestyle='--') for knee in kneedle.all_knees]\n",
        "vlines[0].set_label('knee point from kneedle algorithm')\n",
        "plt.ylabel('Magnitude')\n",
        "plt.xlabel('Singular value')\n",
        "plt.xticks(eigen_x)\n",
        "plt.xlim(0,50)\n",
        "plt.legend()\n",
        "plt.show()"
      ],
      "metadata": {
        "id": "emiv6N8g6BC5",
        "outputId": "806a9162-8772-40f7-a114-75bb0583f50b",
        "colab": {
          "base_uri": "https://localhost:8080/",
          "height": 621
        },
        "execution": {
          "iopub.status.busy": "2023-02-06T14:00:42.344598Z",
          "iopub.execute_input": "2023-02-06T14:00:42.345025Z",
          "iopub.status.idle": "2023-02-06T14:00:43.240223Z",
          "shell.execute_reply.started": "2023-02-06T14:00:42.344989Z",
          "shell.execute_reply": "2023-02-06T14:00:43.239261Z"
        },
        "trusted": true
      },
      "execution_count": 37,
      "outputs": [
        {
          "output_type": "display_data",
          "data": {
            "text/plain": [
              "<Figure size 1440x720 with 1 Axes>"
            ],
            "image/png": "[encoded data removed]"
          },
          "metadata": {
            "needs_background": "light"
          }
        }
      ]
    },
    {
      "cell_type": "markdown",
      "source": [
        "Or we could compute a coherence measure according to a certain number of topics.\n",
        "`CoherenceModel` does not provide stable results, though."
      ],
      "metadata": {
        "id": "SujQM6WcJDOh"
      }
    },
    {
      "cell_type": "code",
      "source": [
        "from gensim.models.coherencemodel import CoherenceModel\n",
        "coherence_scores = []\n",
        "# find the coherence score with a different number of topics\n",
        "for i in range(1, num_topics_kneed+1):\n",
        "    lsi_topics = LsiModel(bow, num_topics=i, id2word=dictionary)\n",
        "    coherence_model = CoherenceModel(model=lsi_topics, texts=df_sorted['tokens'], dictionary=dictionary, coherence='c_v', topn=10)\n",
        "    coherence_score = coherence_model.get_coherence()\n",
        "    coherence_scores.append(coherence_score)\n",
        "    print(f'Coherence score with {i} topics: {coherence_score}')"
      ],
      "metadata": {
        "id": "OQJ2lAVo4qbx",
        "outputId": "e7c3478b-88ad-430e-c0a9-d2fb5eb5f022",
        "colab": {
          "base_uri": "https://localhost:8080/"
        },
        "execution": {
          "iopub.status.busy": "2023-02-06T14:00:43.241682Z",
          "iopub.execute_input": "2023-02-06T14:00:43.242723Z",
          "iopub.status.idle": "2023-02-06T14:00:59.556813Z",
          "shell.execute_reply.started": "2023-02-06T14:00:43.242686Z",
          "shell.execute_reply": "2023-02-06T14:00:59.555703Z"
        },
        "trusted": true
      },
      "execution_count": 38,
      "outputs": [
        {
          "output_type": "stream",
          "name": "stdout",
          "text": [
            "Coherence score with 1 topics: 0.681879758095437\n",
            "Coherence score with 2 topics: 0.6193322381991946\n",
            "Coherence score with 3 topics: 0.460474535509997\n",
            "Coherence score with 4 topics: 0.3271974891131506\n",
            "Coherence score with 5 topics: 0.34333271276788924\n",
            "Coherence score with 6 topics: 0.3199636377500752\n",
            "Coherence score with 7 topics: 0.3402046120759962\n",
            "Coherence score with 8 topics: 0.3420260913899409\n",
            "Coherence score with 9 topics: 0.3510059135258155\n",
            "Coherence score with 10 topics: 0.36730427074372657\n"
          ]
        }
      ]
    },
    {
      "cell_type": "code",
      "source": [
        "topics_range = np.arange(1, num_topics_kneed+1)\n",
        "plt.title('Coherence scores (c_v) by #topics')\n",
        "plt.plot(topics_range, coherence_scores, '-o', label='coherence scores')\n",
        "plt.ylabel('Coherence score')\n",
        "plt.xlabel('#Topics')\n",
        "plt.legend()\n",
        "plt.grid()\n",
        "plt.show()"
      ],
      "metadata": {
        "id": "3cyCPOb-JW-7",
        "outputId": "b772ab2e-6ff2-4415-915e-e1554ded1fa2",
        "colab": {
          "base_uri": "https://localhost:8080/",
          "height": 295
        },
        "execution": {
          "iopub.status.busy": "2023-02-06T14:00:59.558520Z",
          "iopub.execute_input": "2023-02-06T14:00:59.559234Z",
          "iopub.status.idle": "2023-02-06T14:00:59.786227Z",
          "shell.execute_reply.started": "2023-02-06T14:00:59.559188Z",
          "shell.execute_reply": "2023-02-06T14:00:59.785248Z"
        },
        "trusted": true
      },
      "execution_count": 39,
      "outputs": [
        {
          "output_type": "display_data",
          "data": {
            "text/plain": [
              "<Figure size 432x288 with 1 Axes>"
            ],
            "image/png": "[encoded data removed]"
          },
          "metadata": {
            "needs_background": "light"
          }
        }
      ]
    },
    {
      "cell_type": "markdown",
      "source": [
        "## Testing with LDA (latent dirichelet allocation)"
      ],
      "metadata": {
        "id": "oFX8NBpLv9ns"
      }
    },
    {
      "cell_type": "code",
      "source": [
        "!pip install pyLDAvis"
      ],
      "metadata": {
        "id": "4VHVOCfWs8Wp",
        "execution": {
          "iopub.status.busy": "2023-02-06T14:00:59.787760Z",
          "iopub.execute_input": "2023-02-06T14:00:59.788124Z",
          "iopub.status.idle": "2023-02-06T14:00:59.792566Z",
          "shell.execute_reply.started": "2023-02-06T14:00:59.788088Z",
          "shell.execute_reply": "2023-02-06T14:00:59.791462Z"
        },
        "trusted": true,
        "colab": {
          "base_uri": "https://localhost:8080/"
        },
        "outputId": "b7f167d3-106f-494c-de6e-349a7b143dba"
      },
      "execution_count": 69,
      "outputs": [
        {
          "output_type": "stream",
          "name": "stdout",
          "text": [
            "Looking in indexes: https://pypi.org/simple, https://us-python.pkg.dev/colab-wheels/public/simple/\n",
            "Collecting pyLDAvis\n",
            "  Downloading pyLDAvis-3.3.1.tar.gz (1.7 MB)\n",
            "\u001b[2K     \u001b[90m━━━━━━━━━━━━━━━━━━━━━━━━━━━━━━━━━━━━━━━━\u001b[0m \u001b[32m1.7/1.7 MB\u001b[0m \u001b[31m20.4 MB/s\u001b[0m eta \u001b[36m0:00:00\u001b[0m\n",
            "\u001b[?25h  Installing build dependencies ... \u001b[?25l\u001b[?25hdone\n",
            "  Getting requirements to build wheel ... \u001b[?25l\u001b[?25hdone\n",
            "  Installing backend dependencies ... \u001b[?25l\u001b[?25hdone\n",
            "  Preparing metadata (pyproject.toml) ... \u001b[?25l\u001b[?25hdone\n",
            "Collecting funcy\n",
            "  Downloading funcy-1.18-py2.py3-none-any.whl (33 kB)\n",
            "Requirement already satisfied: scipy in /usr/local/lib/python3.8/dist-packages (from pyLDAvis) (1.7.3)\n",
            "Requirement already satisfied: scikit-learn in /usr/local/lib/python3.8/dist-packages (from pyLDAvis) (1.0.2)\n",
            "Requirement already satisfied: numpy>=1.20.0 in /usr/local/lib/python3.8/dist-packages (from pyLDAvis) (1.21.6)\n",
            "Requirement already satisfied: joblib in /usr/local/lib/python3.8/dist-packages (from pyLDAvis) (1.2.0)\n",
            "Requirement already satisfied: numexpr in /usr/local/lib/python3.8/dist-packages (from pyLDAvis) (2.8.4)\n",
            "Requirement already satisfied: future in /usr/local/lib/python3.8/dist-packages (from pyLDAvis) (0.16.0)\n",
            "Requirement already satisfied: gensim in /usr/local/lib/python3.8/dist-packages (from pyLDAvis) (4.1.0)\n",
            "Requirement already satisfied: pandas>=1.2.0 in /usr/local/lib/python3.8/dist-packages (from pyLDAvis) (1.3.5)\n",
            "Requirement already satisfied: jinja2 in /usr/local/lib/python3.8/dist-packages (from pyLDAvis) (2.11.3)\n",
            "Requirement already satisfied: setuptools in /usr/local/lib/python3.8/dist-packages (from pyLDAvis) (57.4.0)\n",
            "Collecting sklearn\n",
            "  Downloading sklearn-0.0.post1.tar.gz (3.6 kB)\n",
            "  Preparing metadata (setup.py) ... \u001b[?25l\u001b[?25hdone\n",
            "Requirement already satisfied: pytz>=2017.3 in /usr/local/lib/python3.8/dist-packages (from pandas>=1.2.0->pyLDAvis) (2022.7.1)\n",
            "Requirement already satisfied: python-dateutil>=2.7.3 in /usr/local/lib/python3.8/dist-packages (from pandas>=1.2.0->pyLDAvis) (2.8.2)\n",
            "Requirement already satisfied: smart-open>=1.8.1 in /usr/local/lib/python3.8/dist-packages (from gensim->pyLDAvis) (6.3.0)\n",
            "Requirement already satisfied: MarkupSafe>=0.23 in /usr/local/lib/python3.8/dist-packages (from jinja2->pyLDAvis) (2.0.1)\n",
            "Requirement already satisfied: threadpoolctl>=2.0.0 in /usr/local/lib/python3.8/dist-packages (from scikit-learn->pyLDAvis) (3.1.0)\n",
            "Requirement already satisfied: six>=1.5 in /usr/local/lib/python3.8/dist-packages (from python-dateutil>=2.7.3->pandas>=1.2.0->pyLDAvis) (1.15.0)\n",
            "Building wheels for collected packages: pyLDAvis, sklearn\n",
            "  Building wheel for pyLDAvis (pyproject.toml) ... \u001b[?25l\u001b[?25hdone\n",
            "  Created wheel for pyLDAvis: filename=pyLDAvis-3.3.1-py2.py3-none-any.whl size=136898 sha256=bbe93abd369e361e1e2b27137eabe52f3c1d7dab2e9da8d309ef96d577779065\n",
            "  Stored in directory: /root/.cache/pip/wheels/90/61/ec/9dbe9efc3acf9c4e37ba70fbbcc3f3a0ebd121060aa593181a\n",
            "  Building wheel for sklearn (setup.py) ... \u001b[?25l\u001b[?25hdone\n",
            "  Created wheel for sklearn: filename=sklearn-0.0.post1-py3-none-any.whl size=2344 sha256=e0ec2bb051d08346a7d60d527ec3fddf2d6cb0aca71601353d438dd130be55c6\n",
            "  Stored in directory: /root/.cache/pip/wheels/14/25/f7/1cc0956978ae479e75140219088deb7a36f60459df242b1a72\n",
            "Successfully built pyLDAvis sklearn\n",
            "Installing collected packages: sklearn, funcy, pyLDAvis\n",
            "Successfully installed funcy-1.18 pyLDAvis-3.3.1 sklearn-0.0.post1\n"
          ]
        }
      ]
    },
    {
      "cell_type": "code",
      "source": [
        "import pyLDAvis\n",
        "import pyLDAvis.gensim_models as gensimvis\n",
        "import pyLDAvis.gensim_models\n",
        "from gensim.models import LdaModel\n",
        "\n",
        "lda = LdaModel(bow, num_topics=2, iterations=50, passes=5)\n",
        "pyLDAvis.enable_notebook()\n",
        "vis = gensimvis.prepare(lda, bow, dictionary=dictionary)\n",
        "vis"
      ],
      "metadata": {
        "id": "53Luws0Ks2lD",
        "execution": {
          "iopub.status.busy": "2023-02-06T14:00:59.794003Z",
          "iopub.execute_input": "2023-02-06T14:00:59.794446Z",
          "iopub.status.idle": "2023-02-06T14:00:59.803823Z",
          "shell.execute_reply.started": "2023-02-06T14:00:59.794410Z",
          "shell.execute_reply": "2023-02-06T14:00:59.803011Z"
        },
        "trusted": true,
        "colab": {
          "base_uri": "https://localhost:8080/",
          "height": 1000
        },
        "outputId": "0390fa74-7542-43fa-fd9e-4672d51a0a93"
      },
      "execution_count": 70,
      "outputs": [
        {
          "output_type": "stream",
          "name": "stderr",
          "text": [
            "/usr/local/lib/python3.8/dist-packages/past/types/oldstr.py:5: DeprecationWarning: Using or importing the ABCs from 'collections' instead of from 'collections.abc' is deprecated since Python 3.3, and in 3.10 it will stop working\n",
            "  from collections import Iterable\n",
            "/usr/local/lib/python3.8/dist-packages/past/builtins/misc.py:4: DeprecationWarning: Using or importing the ABCs from 'collections' instead of from 'collections.abc' is deprecated since Python 3.3, and in 3.10 it will stop working\n",
            "  from collections import Mapping\n",
            "WARNING:gensim.models.ldamodel:no word id mapping provided; initializing from corpus, assuming identity\n",
            "/usr/local/lib/python3.8/dist-packages/pyLDAvis/_prepare.py:246: FutureWarning: In a future version of pandas all arguments of DataFrame.drop except for the argument 'labels' will be keyword-only\n",
            "  default_term_info = default_term_info.sort_values(\n"
          ]
        },
        {
          "output_type": "execute_result",
          "data": {
            "text/plain": [
              "PreparedData(topic_coordinates=              x    y  topics  cluster       Freq\n",
              "topic                                           \n",
              "0      0.135783  0.0       1        1  56.370059\n",
              "1     -0.135783  0.0       2        1  43.629941, topic_info=           Term         Freq        Total Category  logprob  loglift\n",
              "310        bark  2800.000000  2800.000000  Default  30.0000  30.0000\n",
              "430       click  1072.000000  1072.000000  Default  29.0000  29.0000\n",
              "875   christmas   531.000000   531.000000  Default  28.0000  28.0000\n",
              "8078        tic   446.000000   446.000000  Default  27.0000  27.0000\n",
              "21         good  1128.000000  1128.000000  Default  26.0000  26.0000\n",
              "...         ...          ...          ...      ...      ...      ...\n",
              "400         let   272.862533   652.101277   Topic2  -5.6561  -0.0418\n",
              "27         here   260.829539   573.375045   Topic2  -5.7012   0.0418\n",
              "304        what   294.267665  1033.984942   Topic2  -5.5805  -0.4273\n",
              "776        okay   236.977116   509.171361   Topic2  -5.7971   0.0646\n",
              "200       today   227.483377   657.231751   Topic2  -5.8379  -0.2315\n",
              "\n",
              "[160 rows x 6 columns], token_table=      Topic      Freq   Term\n",
              "term                        \n",
              "1368      1  0.999449    arf\n",
              "718       1  0.145664    ask\n",
              "718       2  0.854882    ask\n",
              "2350      1  0.006259  bacon\n",
              "2350      2  0.988938  bacon\n",
              "...     ...       ...    ...\n",
              "889       2  0.296157    yes\n",
              "312       1  0.004014    yip\n",
              "312       2  0.999531    yip\n",
              "9         1  0.827430    you\n",
              "9         2  0.172864    you\n",
              "\n",
              "[220 rows x 3 columns], R=30, lambda_step=0.01, plot_opts={'xlab': 'PC1', 'ylab': 'PC2'}, topic_order=[1, 2])"
            ],
            "text/html": [
              "\n",
              "<link rel=\"stylesheet\" type=\"text/css\" href=\"https://cdn.jsdelivr.net/gh/bmabey/pyLDAvis@3.3.1/pyLDAvis/js/ldavis.v1.0.0.css\">\n",
              "\n",
              "\n",
              "<div id=\"ldavis_el22061398339297071843808503376\"></div>\n",
              "<script type=\"text/javascript\">\n",
              "\n",
              "var ldavis_el22061398339297071843808503376_data = {\"mdsDat\": {\"x\": [0.13578263406641888, -0.13578263406641888], \"y\": [0.0, 0.0], \"topics\": [1, 2], \"cluster\": [1, 1], \"Freq\": [56.37005930902221, 43.62994069097779]}, \"tinfo\": {\"Term\": [\"bark\", \"click\", \"christmas\", \"tic\", \"good\", \"you\", \"day\", \"odie\", \"dear\", \"munch\", \"don\", \"cat\", \"yip\", \"meow\", \"tap\", \"know\", \"ask\", \"lap\", \"dog\", \"sniff\", \"cruch\", \"tree\", \"sleep\", \"coffee\", \"liz\", \"pant\", \"shake\", \"slap\", \"fat\", \"santa\", \"munch\", \"meow\", \"pant\", \"sniff\", \"bat\", \"crunch\", \"fat\", \"scratch\", \"arf\", \"pat\", \"beedle\", \"tappity\", \"bip\", \"clap\", \"boop\", \"hee\", \"bored\", \"dig\", \"scoot\", \"beep\", \"beware\", \"cookie\", \"hair\", \"pound\", \"doo\", \"worry\", \"donut\", \"birthday\", \"shake\", \"mee\", \"ping\", \"crash\", \"thank\", \"day\", \"won\", \"happy\", \"mean\", \"cat\", \"don\", \"pizza\", \"you\", \"know\", \"liz\", \"smack\", \"garfield\", \"there\", \"jon\", \"hey\", \"want\", \"what\", \"look\", \"like\", \"that\", \"think\", \"sure\", \"today\", \"yes\", \"world\", \"right\", \"life\", \"new\", \"going\", \"let\", \"time\", \"love\", \"here\", \"bark\", \"click\", \"tic\", \"yip\", \"cruch\", \"tap\", \"slap\", \"ding\", \"pop\", \"chew\", \"lap\", \"tick\", \"creak\", \"red\", \"squeak\", \"late\", \"blah\", \"bear\", \"ever\", \"run\", \"write\", \"teddy\", \"stomp\", \"monster\", \"bacon\", \"hic\", \"kiss\", \"return\", \"thump\", \"tree\", \"dear\", \"sleep\", \"christmas\", \"coffee\", \"box\", \"cream\", \"green\", \"santa\", \"odie\", \"ask\", \"good\", \"book\", \"list\", \"dog\", \"burp\", \"boy\", \"dogs\", \"best\", \"didn\", \"time\", \"well\", \"that\", \"can\", \"like\", \"going\", \"garfield\", \"eat\", \"you\", \"jon\", \"let\", \"here\", \"what\", \"okay\", \"today\"], \"Freq\": [2800.0, 1072.0, 531.0, 446.0, 1128.0, 2846.0, 836.0, 718.0, 367.0, 442.0, 1356.0, 926.0, 249.0, 353.0, 240.0, 982.0, 418.0, 215.0, 836.0, 306.0, 207.0, 211.0, 208.0, 214.0, 944.0, 279.0, 281.0, 186.0, 260.0, 217.0, 441.59234746250195, 353.0482872000593, 278.6418824004423, 305.6546926242084, 242.15057394557692, 221.95849795115635, 260.1995963181182, 185.97821398264054, 196.62060939457618, 234.7986249850957, 167.27971134627705, 145.97827530897158, 145.32371226840962, 145.85216844865886, 138.2379810762456, 143.758674834621, 135.40854130123734, 138.09328040910657, 128.52129664924155, 128.12563828251905, 171.94256621004274, 142.037033880081, 131.43539459017884, 120.93051587456296, 122.49027097686684, 117.51775410295045, 222.81343743270665, 229.02433236139444, 280.0705769893522, 91.16682001422409, 165.21407322693545, 187.1918589875489, 249.40917823946535, 800.2411972729861, 215.34790660678877, 253.49040145270192, 208.67395076163297, 838.2550145239306, 1184.959456381088, 314.5118243334988, 2354.5803368440634, 865.6704557919791, 818.6410838412592, 203.18544400977137, 1877.134950909256, 709.772654526989, 922.6781284403713, 498.55367645600126, 355.8676201141601, 739.7172761099379, 511.4788138113019, 858.0877511152149, 939.4459858731148, 467.66189762229266, 270.71305588776823, 429.74837423847197, 372.7098527742088, 299.03811463749145, 355.77263205554976, 321.62247639175644, 333.2674817965273, 425.08531981996134, 379.2387440582788, 385.4978608041652, 325.682171169564, 312.545505784585, 2799.771881033833, 1072.2827607708311, 446.30197649356404, 248.5918856146989, 207.4609318238424, 239.65141756951598, 185.81041800263503, 166.3083908633342, 145.52370788954488, 125.20582020294565, 214.74941808910725, 89.11332634560439, 98.8963481638587, 140.71380302326762, 89.6530419289327, 113.0400236792967, 75.42128240264749, 89.18661006210709, 79.4521866320964, 101.93274348032702, 83.20113117174309, 69.81684976446833, 74.11822051469194, 87.23208082873757, 158.49425338284743, 62.569361859074334, 91.43143039713514, 88.97613515800327, 65.96843707105626, 209.06179852949262, 363.3479711696852, 205.83637011042634, 513.1105596777768, 209.35678683936237, 89.85364997014017, 106.22549208240271, 97.42201534362046, 205.44569321858208, 608.4002878022386, 357.9783262579954, 868.1226489206718, 100.99404684982548, 121.16260510864907, 586.3588426949318, 217.09451518821172, 252.36922237032266, 180.3481190690143, 231.59351587953662, 175.95978182556433, 480.31001833722473, 349.9470632807343, 673.0443392954519, 344.4095908447154, 537.8696986128981, 353.5226108789659, 647.6048410959384, 237.31931274844266, 491.5823004671894, 336.6663385063256, 272.8625330668691, 260.82953942991986, 294.2676654579618, 236.97711613322352, 227.48337692511623], \"Total\": [2800.0, 1072.0, 531.0, 446.0, 1128.0, 2846.0, 836.0, 718.0, 367.0, 442.0, 1356.0, 926.0, 249.0, 353.0, 240.0, 982.0, 418.0, 215.0, 836.0, 306.0, 207.0, 211.0, 208.0, 214.0, 944.0, 279.0, 281.0, 186.0, 260.0, 217.0, 442.0847326184619, 353.5444641719533, 279.1100715324952, 306.1768146160038, 242.62535422409815, 222.4245266130248, 260.79645840513484, 186.4393415092065, 197.10857562153174, 235.38719019228873, 167.7446024740124, 146.44559457450754, 145.79849016908275, 146.33845094622643, 138.70011120293825, 144.2415733349468, 135.8823650460023, 138.584943125131, 128.98102692387874, 128.5877779915846, 172.60363949388824, 142.58643337396393, 131.94962762731367, 121.4316031027588, 123.00776056568398, 118.01850676437128, 223.7801157277422, 230.066118146926, 281.3745059755837, 91.6256265126242, 166.0910150131734, 188.48190048917954, 252.5722749554199, 836.1971132145914, 218.91854689441092, 261.32296775273505, 213.8789054888593, 926.8161054546495, 1356.7687595917719, 332.15002060552445, 2846.1626373112526, 982.1624278035388, 944.4896493008706, 209.4307082692595, 2524.7397920051944, 853.5540252484905, 1259.344466946697, 616.0137003780055, 415.9732281251187, 1033.9849415678996, 700.6869578278156, 1395.957449728113, 1612.4903251685666, 642.4643309550502, 306.9249855765272, 657.2317511635882, 530.1239481496706, 363.6747023849687, 493.6940038530421, 417.63510213427594, 454.0170233188785, 778.6079306989272, 652.1012771251479, 865.80787914139, 485.0526855642908, 573.3750452145048, 2800.3285917724147, 1072.9150115091522, 446.871113366721, 249.1169553711014, 207.98603239384525, 240.29147983064155, 186.41743079741266, 166.89512349447114, 146.11216548620374, 125.7519997975191, 215.76066093392714, 89.63501508888166, 99.49591553075, 141.59750553340956, 90.22509761120995, 113.80233674460467, 75.9429730259212, 89.84590849274798, 80.05790186249594, 102.71553585133853, 83.85412216844546, 70.36564801068036, 74.70195803636487, 87.92898900101419, 159.7673608412811, 63.08108405337417, 92.18248343005551, 89.70715990095347, 66.534681684311, 211.0001108171657, 367.04828656004184, 208.38563557372612, 531.0378199076516, 214.16837381630995, 90.8137647983734, 108.01829924787106, 98.80494605020077, 217.14161076132302, 718.3678881288854, 418.7710652703028, 1128.6264605782544, 103.34204759674174, 127.59547681215498, 836.1796671577468, 263.7825839631872, 320.59015786346515, 211.7521754754858, 290.9714997887967, 214.6804571987699, 865.80787914139, 575.5365654634244, 1612.4903251685666, 612.2151106211019, 1395.957449728113, 778.6079306989272, 2524.7397920051944, 413.5869228545438, 2846.1626373112526, 1259.344466946697, 652.1012771251479, 573.3750452145048, 1033.9849415678996, 509.17136124634567, 657.2317511635882], \"Category\": [\"Default\", \"Default\", \"Default\", \"Default\", \"Default\", \"Default\", \"Default\", \"Default\", \"Default\", \"Default\", \"Default\", \"Default\", \"Default\", \"Default\", \"Default\", \"Default\", \"Default\", \"Default\", \"Default\", \"Default\", \"Default\", \"Default\", \"Default\", \"Default\", \"Default\", \"Default\", \"Default\", \"Default\", \"Default\", \"Default\", \"Topic1\", \"Topic1\", \"Topic1\", \"Topic1\", \"Topic1\", \"Topic1\", \"Topic1\", \"Topic1\", \"Topic1\", \"Topic1\", \"Topic1\", \"Topic1\", \"Topic1\", \"Topic1\", \"Topic1\", \"Topic1\", \"Topic1\", \"Topic1\", \"Topic1\", \"Topic1\", \"Topic1\", \"Topic1\", \"Topic1\", \"Topic1\", \"Topic1\", \"Topic1\", \"Topic1\", \"Topic1\", \"Topic1\", \"Topic1\", \"Topic1\", \"Topic1\", \"Topic1\", \"Topic1\", \"Topic1\", \"Topic1\", \"Topic1\", \"Topic1\", \"Topic1\", \"Topic1\", \"Topic1\", \"Topic1\", \"Topic1\", \"Topic1\", \"Topic1\", \"Topic1\", \"Topic1\", \"Topic1\", \"Topic1\", \"Topic1\", \"Topic1\", \"Topic1\", \"Topic1\", \"Topic1\", \"Topic1\", \"Topic1\", \"Topic1\", \"Topic1\", \"Topic1\", \"Topic1\", \"Topic1\", \"Topic1\", \"Topic1\", \"Topic1\", \"Topic1\", \"Topic1\", \"Topic2\", \"Topic2\", \"Topic2\", \"Topic2\", \"Topic2\", \"Topic2\", \"Topic2\", \"Topic2\", \"Topic2\", \"Topic2\", \"Topic2\", \"Topic2\", \"Topic2\", \"Topic2\", \"Topic2\", \"Topic2\", \"Topic2\", \"Topic2\", \"Topic2\", \"Topic2\", \"Topic2\", \"Topic2\", \"Topic2\", \"Topic2\", \"Topic2\", \"Topic2\", \"Topic2\", \"Topic2\", \"Topic2\", \"Topic2\", \"Topic2\", \"Topic2\", \"Topic2\", \"Topic2\", \"Topic2\", \"Topic2\", \"Topic2\", \"Topic2\", \"Topic2\", \"Topic2\", \"Topic2\", \"Topic2\", \"Topic2\", \"Topic2\", \"Topic2\", \"Topic2\", \"Topic2\", \"Topic2\", \"Topic2\", \"Topic2\", \"Topic2\", \"Topic2\", \"Topic2\", \"Topic2\", \"Topic2\", \"Topic2\", \"Topic2\", \"Topic2\", \"Topic2\", \"Topic2\", \"Topic2\", \"Topic2\", \"Topic2\", \"Topic2\"], \"logprob\": [30.0, 29.0, 28.0, 27.0, 26.0, 25.0, 24.0, 23.0, 22.0, 21.0, 20.0, 19.0, 18.0, 17.0, 16.0, 15.0, 14.0, 13.0, 12.0, 11.0, 10.0, 9.0, 8.0, 7.0, 6.0, 5.0, 4.0, 3.0, 2.0, 1.0, -5.4308, -5.6546, -5.8913, -5.7988, -6.0317, -6.1187, -5.9598, -6.2956, -6.2399, -6.0625, -6.4016, -6.5378, -6.5423, -6.5386, -6.5922, -6.5531, -6.6129, -6.5933, -6.6651, -6.6682, -6.3741, -6.5651, -6.6427, -6.726, -6.7132, -6.7546, -6.1149, -6.0874, -5.8862, -7.0085, -6.414, -6.2891, -6.0021, -4.8363, -6.149, -5.9859, -6.1804, -4.7899, -4.4438, -5.7702, -3.7571, -4.7577, -4.8136, -6.2071, -3.9837, -4.9563, -4.6939, -5.3095, -5.6467, -4.915, -5.2839, -4.7665, -4.6759, -5.3735, -5.9202, -5.458, -5.6004, -5.8207, -5.6469, -5.7478, -5.7123, -5.4689, -5.5831, -5.5667, -5.7353, -5.7765, -3.3277, -4.2875, -5.164, -5.7492, -5.9301, -5.7858, -6.0403, -6.1512, -6.2847, -6.4351, -5.8956, -6.7751, -6.671, -6.3183, -6.7691, -6.5373, -6.9419, -6.7743, -6.8899, -6.6407, -6.8438, -7.0192, -6.9594, -6.7965, -6.1993, -7.1288, -6.7494, -6.7767, -7.0759, -5.9224, -5.3697, -5.9379, -5.0245, -5.921, -6.7668, -6.5995, -6.686, -5.9398, -4.8542, -5.3846, -4.4987, -6.65, -6.4679, -4.8911, -5.8847, -5.7341, -6.0701, -5.82, -6.0948, -5.0906, -5.4072, -4.7532, -5.4232, -4.9774, -5.3971, -4.7917, -5.7956, -5.0674, -5.4459, -5.6561, -5.7012, -5.5805, -5.7971, -5.8379], \"loglift\": [30.0, 29.0, 28.0, 27.0, 26.0, 25.0, 24.0, 23.0, 22.0, 21.0, 20.0, 19.0, 18.0, 17.0, 16.0, 15.0, 14.0, 13.0, 12.0, 11.0, 10.0, 9.0, 8.0, 7.0, 6.0, 5.0, 4.0, 3.0, 2.0, 1.0, 0.5721, 0.5718, 0.5716, 0.5715, 0.5713, 0.5711, 0.5709, 0.5708, 0.5708, 0.5707, 0.5705, 0.57, 0.57, 0.5699, 0.5699, 0.5699, 0.5697, 0.5697, 0.5697, 0.5696, 0.5694, 0.5694, 0.5693, 0.5691, 0.569, 0.569, 0.5689, 0.5687, 0.5686, 0.5682, 0.5679, 0.5664, 0.5606, 0.5293, 0.5568, 0.5428, 0.5486, 0.4728, 0.4378, 0.5187, 0.3836, 0.447, 0.4302, 0.543, 0.2768, 0.3888, 0.2622, 0.3617, 0.4172, 0.2383, 0.2585, 0.0866, 0.033, 0.2557, 0.4477, 0.1484, 0.2209, 0.3775, 0.2456, 0.312, 0.264, -0.032, 0.0312, -0.2359, 0.1749, -0.0336, 0.8292, 0.8288, 0.8282, 0.8273, 0.8269, 0.8268, 0.8262, 0.8259, 0.8254, 0.8251, 0.8247, 0.8236, 0.8234, 0.8232, 0.8231, 0.8227, 0.8225, 0.8221, 0.8218, 0.8218, 0.8216, 0.8216, 0.8216, 0.8215, 0.8214, 0.8213, 0.8212, 0.8212, 0.8209, 0.8202, 0.8193, 0.8171, 0.7951, 0.8067, 0.8188, 0.8127, 0.8153, 0.7741, 0.6633, 0.6726, 0.567, 0.8064, 0.7777, 0.4745, 0.6346, 0.5902, 0.6689, 0.6012, 0.6305, 0.2402, 0.3319, -0.0443, 0.2542, -0.1243, 0.0399, -0.5312, 0.274, -0.9267, -0.4898, -0.0418, 0.0418, -0.4273, 0.0646, -0.2315]}, \"token.table\": {\"Topic\": [1, 1, 2, 1, 2, 1, 2, 1, 1, 2, 1, 1, 1, 2, 1, 2, 1, 1, 2, 1, 2, 1, 2, 1, 1, 1, 2, 1, 2, 1, 2, 1, 2, 1, 2, 1, 2, 1, 2, 1, 1, 2, 1, 2, 1, 2, 1, 2, 1, 2, 1, 2, 1, 2, 1, 1, 2, 1, 2, 1, 2, 1, 1, 2, 1, 2, 1, 2, 1, 2, 1, 2, 1, 2, 1, 2, 1, 2, 1, 2, 1, 2, 1, 2, 1, 2, 1, 2, 1, 2, 1, 2, 1, 1, 2, 1, 2, 1, 2, 1, 2, 1, 2, 1, 2, 1, 2, 1, 2, 1, 2, 1, 2, 1, 2, 1, 2, 1, 2, 1, 2, 1, 2, 1, 2, 1, 1, 1, 2, 1, 1, 2, 1, 2, 1, 2, 1, 1, 2, 1, 2, 1, 2, 1, 2, 1, 2, 1, 2, 1, 2, 1, 2, 1, 2, 1, 2, 1, 1, 1, 2, 1, 2, 1, 2, 1, 2, 1, 2, 1, 2, 1, 2, 1, 2, 1, 2, 1, 1, 2, 1, 2, 1, 2, 1, 2, 1, 2, 1, 2, 1, 2, 1, 2, 1, 2, 1, 2, 1, 2, 1, 2, 1, 2, 1, 2, 1, 2, 1, 2, 1, 2, 1, 2, 1, 2, 1, 2, 1, 2], \"Freq\": [0.9994491583068399, 0.14566431412978956, 0.8548823681715519, 0.006259100699506689, 0.9889379105220568, 0.0003571009498449855, 0.9998826595659595, 0.9974225520407873, 0.011130167380751859, 0.9905848968869154, 0.9955610942883975, 0.9954289746602273, 0.20276899986021135, 0.797328948602865, 0.9965027417981553, 0.00579362059184974, 0.9945233303297123, 0.9953660358356412, 0.00434657657570149, 0.013167775241807763, 0.9875831431355822, 0.019353206623158276, 0.977336934469493, 0.9949523385607537, 0.9935064050018295, 0.011011546566979363, 0.9910391910281428, 0.21210881972540233, 0.7860503319235498, 0.17817703994650075, 0.8226471844338439, 0.43775463125715697, 0.5618940043002313, 0.9041707357781825, 0.09602767957548716, 0.007952159819407726, 0.9940199774259658, 0.03389589088613355, 0.9660328902548063, 0.997687204258088, 0.0009320402727830318, 0.9991471724234101, 0.023346117407084806, 0.9758677076161449, 0.9958871727128072, 0.0070132899486817415, 0.9921377040164946, 0.005305549219339544, 0.010050663835451036, 0.9950157197096525, 0.01851538131896127, 0.9813152099049474, 0.004808015175299782, 0.9952591412870548, 0.9980913678024214, 0.9567122241364373, 0.04305205008613968, 0.01089774873351896, 0.9889706975668455, 0.181665348159243, 0.8198231096417121, 0.9957791726002815, 0.005991786812351817, 0.9946366108504016, 0.2989788078078644, 0.7008063255016341, 0.14639755143195124, 0.8500502986371363, 0.8733986477965088, 0.12677178685316415, 0.9965139184721339, 0.004468672280144098, 0.9918073415770718, 0.008129568373582556, 0.4255453697260593, 0.5730355262788412, 0.012490959377346131, 0.9867857908103445, 0.9969460536005532, 0.003834407898463666, 0.743442950415596, 0.25666011287656165, 0.5458459684818434, 0.4546575831589943, 0.23125454622628291, 0.769076421932619, 0.010120950822562268, 0.98173222978854, 0.9928031049091259, 0.007578649655794855, 0.9681506458299131, 0.030613459156677094, 0.9983252169997769, 0.5458905172318824, 0.4551994408866496, 0.8100469189139751, 0.18993084070728475, 0.015852612792035724, 0.9987146058982506, 0.7329209951887349, 0.26759953995515023, 0.010848047945668128, 0.9871723630557997, 0.8817278848028031, 0.11810673745626461, 0.00463476518690417, 0.9964745151843964, 0.00878716578767799, 0.9929497340076129, 0.581198064311204, 0.4186466267993633, 0.7710079884436346, 0.22986573568505878, 0.6146319145809999, 0.38539856648552206, 0.04702361047510446, 0.9483094779146067, 0.8671349660700247, 0.13340537939538843, 0.729284303484312, 0.269735290329814, 0.6720919390864617, 0.32779944268327427, 0.9771884680365852, 0.023377714546329788, 0.9931719264965899, 0.9984599838856805, 0.011372813577880054, 0.9894347812755646, 0.9998083339862022, 0.7334526744520716, 0.26650983065675876, 0.15312488464164817, 0.8463629987465645, 0.5342012939105619, 0.4654621568264823, 0.9996056339640814, 0.998355092339679, 0.004248319541870975, 0.9934312219532955, 0.0060207952845654274, 0.9483666429577238, 0.05419237959758422, 0.006844057075414589, 0.99923233301053, 0.99644571024568, 0.008235088514427107, 0.0070622713036710425, 0.995780253817617, 0.011147382227952703, 0.9921170182877905, 0.7210944374887942, 0.2795253718355438, 0.009735625596572971, 0.993033810850443, 0.05526347510238431, 0.9440843663323987, 1.0001470997446194, 0.9976435150132472, 0.9951150301594738, 0.0035539822505695493, 0.005364305235419429, 0.997760773788014, 0.014396385776497586, 0.9885518233195009, 0.9692943392953066, 0.028649093772275074, 0.9994225081470471, 0.0032660866279315263, 0.011083390613874557, 0.9975051552487101, 0.013386529969043121, 0.990603217709191, 0.8829519026968567, 0.11729250367928724, 0.004161612391354051, 0.9987869739249724, 0.9969572688355549, 0.014211480008657296, 0.9948036006060108, 0.9858564248350282, 0.011877788251024436, 0.5823290753089255, 0.4173668452427123, 0.8318161229376214, 0.1687063685957993, 0.7284451096363566, 0.27238866279137264, 0.015029755530277106, 0.9919638649982889, 0.002237781700557938, 0.9980506384488403, 0.011156354455994734, 0.9929155465835312, 0.4446713979801146, 0.554395509170013, 0.654259322132127, 0.34538806075347167, 0.009478668007587093, 0.9905208067928513, 0.8558243077434791, 0.1442400518668785, 0.3926770487953687, 0.6081281729131816, 0.7156777340276245, 0.28433682946502914, 0.9821004343853017, 0.018271635988563753, 0.8221633180399027, 0.17873115609563103, 0.9998431876077857, 0.008473247352608354, 0.011925472166904429, 0.9898141898530677, 0.7036090357772149, 0.29615715446922986, 0.004014178796101344, 0.9995305202292346, 0.827429876679412, 0.17286433092410647], \"Term\": [\"arf\", \"ask\", \"ask\", \"bacon\", \"bacon\", \"bark\", \"bark\", \"bat\", \"bear\", \"bear\", \"beedle\", \"beep\", \"best\", \"best\", \"beware\", \"beware\", \"bip\", \"birthday\", \"birthday\", \"blah\", \"blah\", \"book\", \"book\", \"boop\", \"bored\", \"box\", \"box\", \"boy\", \"boy\", \"burp\", \"burp\", \"can\", \"can\", \"cat\", \"cat\", \"chew\", \"chew\", \"christmas\", \"christmas\", \"clap\", \"click\", \"click\", \"coffee\", \"coffee\", \"cookie\", \"cookie\", \"crash\", \"crash\", \"creak\", \"creak\", \"cream\", \"cream\", \"cruch\", \"cruch\", \"crunch\", \"day\", \"day\", \"dear\", \"dear\", \"didn\", \"didn\", \"dig\", \"ding\", \"ding\", \"dog\", \"dog\", \"dogs\", \"dogs\", \"don\", \"don\", \"donut\", \"donut\", \"doo\", \"doo\", \"eat\", \"eat\", \"ever\", \"ever\", \"fat\", \"fat\", \"garfield\", \"garfield\", \"going\", \"going\", \"good\", \"good\", \"green\", \"green\", \"hair\", \"hair\", \"happy\", \"happy\", \"hee\", \"here\", \"here\", \"hey\", \"hey\", \"hic\", \"hic\", \"jon\", \"jon\", \"kiss\", \"kiss\", \"know\", \"know\", \"lap\", \"lap\", \"late\", \"late\", \"let\", \"let\", \"life\", \"life\", \"like\", \"like\", \"list\", \"list\", \"liz\", \"liz\", \"look\", \"look\", \"love\", \"love\", \"mean\", \"mean\", \"mee\", \"meow\", \"monster\", \"monster\", \"munch\", \"new\", \"new\", \"odie\", \"odie\", \"okay\", \"okay\", \"pant\", \"pat\", \"pat\", \"ping\", \"ping\", \"pizza\", \"pizza\", \"pop\", \"pop\", \"pound\", \"pound\", \"red\", \"red\", \"return\", \"return\", \"right\", \"right\", \"run\", \"run\", \"santa\", \"santa\", \"scoot\", \"scratch\", \"shake\", \"shake\", \"slap\", \"slap\", \"sleep\", \"sleep\", \"smack\", \"smack\", \"sniff\", \"sniff\", \"squeak\", \"squeak\", \"stomp\", \"stomp\", \"sure\", \"sure\", \"tap\", \"tap\", \"tappity\", \"teddy\", \"teddy\", \"thank\", \"thank\", \"that\", \"that\", \"there\", \"there\", \"think\", \"think\", \"thump\", \"thump\", \"tic\", \"tic\", \"tick\", \"tick\", \"time\", \"time\", \"today\", \"today\", \"tree\", \"tree\", \"want\", \"want\", \"well\", \"well\", \"what\", \"what\", \"won\", \"won\", \"world\", \"world\", \"worry\", \"worry\", \"write\", \"write\", \"yes\", \"yes\", \"yip\", \"yip\", \"you\", \"you\"]}, \"R\": 30, \"lambda.step\": 0.01, \"plot.opts\": {\"xlab\": \"PC1\", \"ylab\": \"PC2\"}, \"topic.order\": [1, 2]};\n",
              "\n",
              "function LDAvis_load_lib(url, callback){\n",
              "  var s = document.createElement('script');\n",
              "  s.src = url;\n",
              "  s.async = true;\n",
              "  s.onreadystatechange = s.onload = callback;\n",
              "  s.onerror = function(){console.warn(\"failed to load library \" + url);};\n",
              "  document.getElementsByTagName(\"head\")[0].appendChild(s);\n",
              "}\n",
              "\n",
              "if(typeof(LDAvis) !== \"undefined\"){\n",
              "   // already loaded: just create the visualization\n",
              "   !function(LDAvis){\n",
              "       new LDAvis(\"#\" + \"ldavis_el22061398339297071843808503376\", ldavis_el22061398339297071843808503376_data);\n",
              "   }(LDAvis);\n",
              "}else if(typeof define === \"function\" && define.amd){\n",
              "   // require.js is available: use it to load d3/LDAvis\n",
              "   require.config({paths: {d3: \"https://d3js.org/d3.v5\"}});\n",
              "   require([\"d3\"], function(d3){\n",
              "      window.d3 = d3;\n",
              "      LDAvis_load_lib(\"https://cdn.jsdelivr.net/gh/bmabey/pyLDAvis@3.3.1/pyLDAvis/js/ldavis.v3.0.0.js\", function(){\n",
              "        new LDAvis(\"#\" + \"ldavis_el22061398339297071843808503376\", ldavis_el22061398339297071843808503376_data);\n",
              "      });\n",
              "    });\n",
              "}else{\n",
              "    // require.js not available: dynamically load d3 & LDAvis\n",
              "    LDAvis_load_lib(\"https://d3js.org/d3.v5.js\", function(){\n",
              "         LDAvis_load_lib(\"https://cdn.jsdelivr.net/gh/bmabey/pyLDAvis@3.3.1/pyLDAvis/js/ldavis.v3.0.0.js\", function(){\n",
              "                 new LDAvis(\"#\" + \"ldavis_el22061398339297071843808503376\", ldavis_el22061398339297071843808503376_data);\n",
              "            })\n",
              "         });\n",
              "}\n",
              "</script>"
            ]
          },
          "metadata": {},
          "execution_count": 70
        }
      ]
    },
    {
      "cell_type": "markdown",
      "source": [
        "# Comic strip retrieval with Deep metric learning\n",
        "\n",
        "We will compare the previous basic LSI model with two sentence transformers.\n",
        "One will be a pretrained one from a very large corpora of multiple text sources, the other will be a finetuned version of the pretrained one.\n",
        "\n",
        "The finetuning will be done on 80% of the Garfield sentences, and the evaluation for all models (LSI, pretrained, finetuned) will be done on a held-out set of 20% of the sentences, and on the full dataset maybe (since this will be a common use-case)."
      ],
      "metadata": {
        "id": "Yimwb6ALrOrj"
      }
    },
    {
      "cell_type": "markdown",
      "source": [
        "## Dataframe setup for deep metric learning\n",
        "\n"
      ],
      "metadata": {
        "id": "fdyTKIfI0oXX"
      }
    },
    {
      "cell_type": "code",
      "source": [
        "import torch\n",
        "from torch import topk\n",
        "from torch.utils.data import Dataset, random_split\n",
        "from torchvision import datasets\n",
        "from torchvision.transforms import ToTensor\n",
        "import random\n",
        "\n",
        "from sentence_transformers import SentenceTransformer, util, InputExample\n",
        "from tqdm import tqdm"
      ],
      "metadata": {
        "id": "JCw565_Kw1zd",
        "execution": {
          "iopub.status.busy": "2023-02-06T14:00:59.806701Z",
          "iopub.execute_input": "2023-02-06T14:00:59.806979Z",
          "iopub.status.idle": "2023-02-06T14:01:03.918209Z",
          "shell.execute_reply.started": "2023-02-06T14:00:59.806948Z",
          "shell.execute_reply": "2023-02-06T14:01:03.917242Z"
        },
        "trusted": true
      },
      "execution_count": 42,
      "outputs": []
    },
    {
      "cell_type": "markdown",
      "source": [
        "### 1. Divide each strip into sentences"
      ],
      "metadata": {
        "id": "mT3CMtnKwzFi"
      }
    },
    {
      "cell_type": "code",
      "source": [
        "def metric_learning_setup_text(text):\n",
        "  # split around the panel\n",
        "  out = text.split('-')\n",
        "  # remove spaces\n",
        "  out = [sentence.strip(' ') for sentence in out]\n",
        "  # do not return empty strings\n",
        "  out = [sentence for sentence in out if len(sentence) >= 1]\n",
        "  return out"
      ],
      "metadata": {
        "id": "0tTPFzSt-p3D",
        "execution": {
          "iopub.status.busy": "2023-02-06T14:01:03.919810Z",
          "iopub.execute_input": "2023-02-06T14:01:03.920608Z",
          "iopub.status.idle": "2023-02-06T14:01:03.926327Z",
          "shell.execute_reply.started": "2023-02-06T14:01:03.920555Z",
          "shell.execute_reply": "2023-02-06T14:01:03.925396Z"
        },
        "trusted": true
      },
      "execution_count": 51,
      "outputs": []
    },
    {
      "cell_type": "code",
      "source": [
        "# explode turns column with list in multiple rows with one element in each column\n",
        "sentences = df_sorted['text'].apply(metric_learning_setup_text).explode().rename(\"sentence\")\n",
        "sentences"
      ],
      "metadata": {
        "id": "_m0dZxSl05EG",
        "colab": {
          "base_uri": "https://localhost:8080/"
        },
        "outputId": "eea7d9f8-7dbe-46cf-ca06-97d232802e55",
        "execution": {
          "iopub.status.busy": "2023-02-06T14:01:03.927773Z",
          "iopub.execute_input": "2023-02-06T14:01:03.928393Z",
          "iopub.status.idle": "2023-02-06T14:01:03.990251Z",
          "shell.execute_reply.started": "2023-02-06T14:01:03.928336Z",
          "shell.execute_reply": "2023-02-06T14:01:03.989291Z"
        },
        "trusted": true
      },
      "execution_count": 52,
      "outputs": [
        {
          "output_type": "execute_result",
          "data": {
            "text/plain": [
              "0        Hi, there...I'm Jon Arbuckle. I'm a cartoonist, and this is my cat, Garfield.\n",
              "0                  Hi, there. I'm Garfield. I'm a cat, and this is my cartoonist, Jon.\n",
              "0                                       Our only thought is to entertain you. Feed me.\n",
              "1                                 Happy birthday, Garfield. I have a surprise for you.\n",
              "1                                                                     A rubber mousey!\n",
              "                                             ...                                      \n",
              "16260                                     Look! Irma's Diner just expanded their menu.\n",
              "16260                                      They added three kinds of meatloaf... Cool.\n",
              "16260                                                  Ooooh... And 23 kinds of bacon!\n",
              "16261                                                           WAIT HERE FOR SURPRISE\n",
              "16261                                     It's sure quiet around here today. Surprise!\n",
              "Name: sentence, Length: 52119, dtype: object"
            ]
          },
          "metadata": {},
          "execution_count": 52
        }
      ]
    },
    {
      "cell_type": "code",
      "source": [
        "df_sentences = df_sorted.join(sentences)\n",
        "#df_sentences.drop(columns='tokens', inplace=True)\n",
        "\n",
        "df_sentences.index.name = 'old index'\n",
        "df_sentences = df_sentences.reset_index(drop=False)\n",
        "df_sentences = df_sentences.dropna()\n",
        "# apply function to all sentences (for lsi model)\n",
        "df_sentences['tokens'] = df_sentences['sentence'].apply(lambda x: preprocess(x))\n",
        "df_sentences"
      ],
      "metadata": {
        "id": "5bmTHXc78ev4",
        "colab": {
          "base_uri": "https://localhost:8080/",
          "height": 728
        },
        "outputId": "83f803f5-bc1f-4e7e-ebac-cbc5986f23ba",
        "execution": {
          "iopub.status.busy": "2023-02-06T14:01:03.991722Z",
          "iopub.execute_input": "2023-02-06T14:01:03.992099Z",
          "iopub.status.idle": "2023-02-06T14:01:04.804028Z",
          "shell.execute_reply.started": "2023-02-06T14:01:03.992062Z",
          "shell.execute_reply": "2023-02-06T14:01:04.802810Z"
        },
        "trusted": true
      },
      "execution_count": 53,
      "outputs": [
        {
          "output_type": "execute_result",
          "data": {
            "text/plain": [
              "       old index   stripID       Date  \\\n",
              "0              0  ga780619 1978-06-19   \n",
              "1              0  ga780619 1978-06-19   \n",
              "2              0  ga780619 1978-06-19   \n",
              "3              1  ga780620 1978-06-20   \n",
              "4              1  ga780620 1978-06-20   \n",
              "...          ...       ...        ...   \n",
              "52114      16260  ga230204 2023-02-04   \n",
              "52115      16260  ga230204 2023-02-04   \n",
              "52116      16260  ga230204 2023-02-04   \n",
              "52117      16261  ga230205 2023-02-05   \n",
              "52118      16261  ga230205 2023-02-05   \n",
              "\n",
              "                                                                                                                                                                                                       text  \\\n",
              "0      Hi, there...I'm Jon Arbuckle. I'm a cartoonist, and this is my cat, Garfield. - Hi, there. I'm Garfield. I'm a cat, and this is my cartoonist, Jon. - Our only thought is to entertain you. Feed me.   \n",
              "1      Hi, there...I'm Jon Arbuckle. I'm a cartoonist, and this is my cat, Garfield. - Hi, there. I'm Garfield. I'm a cat, and this is my cartoonist, Jon. - Our only thought is to entertain you. Feed me.   \n",
              "2      Hi, there...I'm Jon Arbuckle. I'm a cartoonist, and this is my cat, Garfield. - Hi, there. I'm Garfield. I'm a cat, and this is my cartoonist, Jon. - Our only thought is to entertain you. Feed me.   \n",
              "3                                                                                                  Happy birthday, Garfield. I have a surprise for you. - A rubber mousey! - Could've used a little salt...   \n",
              "4                                                                                                  Happy birthday, Garfield. I have a surprise for you. - A rubber mousey! - Could've used a little salt...   \n",
              "...                                                                                                                                                                                                     ...   \n",
              "52114                                                                          Look! Irma's Diner just expanded their menu. - They added three kinds of meatloaf... Cool. - Ooooh... And 23 kinds of bacon!   \n",
              "52115                                                                          Look! Irma's Diner just expanded their menu. - They added three kinds of meatloaf... Cool. - Ooooh... And 23 kinds of bacon!   \n",
              "52116                                                                          Look! Irma's Diner just expanded their menu. - They added three kinds of meatloaf... Cool. - Ooooh... And 23 kinds of bacon!   \n",
              "52117                                                                                                                       - - WAIT HERE FOR SURPRISE - - - - It's sure quiet around here today. Surprise!   \n",
              "52118                                                                                                                       - - WAIT HERE FOR SURPRISE - - - - It's sure quiet around here today. Surprise!   \n",
              "\n",
              "                                                                                                              url  \\\n",
              "0      <a href=\"https://www.gocomics.com/garfield/1978/06/19\" rel=\"noopener noreferrer\" target=\"_blank\">Comic</a>   \n",
              "1      <a href=\"https://www.gocomics.com/garfield/1978/06/19\" rel=\"noopener noreferrer\" target=\"_blank\">Comic</a>   \n",
              "2      <a href=\"https://www.gocomics.com/garfield/1978/06/19\" rel=\"noopener noreferrer\" target=\"_blank\">Comic</a>   \n",
              "3      <a href=\"https://www.gocomics.com/garfield/1978/06/20\" rel=\"noopener noreferrer\" target=\"_blank\">Comic</a>   \n",
              "4      <a href=\"https://www.gocomics.com/garfield/1978/06/20\" rel=\"noopener noreferrer\" target=\"_blank\">Comic</a>   \n",
              "...                                                                                                           ...   \n",
              "52114  <a href=\"https://www.gocomics.com/garfield/2023/02/04\" rel=\"noopener noreferrer\" target=\"_blank\">Comic</a>   \n",
              "52115  <a href=\"https://www.gocomics.com/garfield/2023/02/04\" rel=\"noopener noreferrer\" target=\"_blank\">Comic</a>   \n",
              "52116  <a href=\"https://www.gocomics.com/garfield/2023/02/04\" rel=\"noopener noreferrer\" target=\"_blank\">Comic</a>   \n",
              "52117  <a href=\"https://www.gocomics.com/garfield/2023/02/05\" rel=\"noopener noreferrer\" target=\"_blank\">Comic</a>   \n",
              "52118  <a href=\"https://www.gocomics.com/garfield/2023/02/05\" rel=\"noopener noreferrer\" target=\"_blank\">Comic</a>   \n",
              "\n",
              "                                                  tokens  \\\n",
              "0      [there, jon, arbuckle, cartoonist, cat, garfield]   \n",
              "1                [there, garfield, cat, cartoonist, jon]   \n",
              "2                        [thought, entertain, you, feed]   \n",
              "3             [happy, birthday, garfield, surprise, you]   \n",
              "4                                       [rubber, mousey]   \n",
              "...                                                  ...   \n",
              "52114                [look, irma, diner, expanded, menu]   \n",
              "52115                     [added, kinds, meatloaf, cool]   \n",
              "52116                              [ooooh, kinds, bacon]   \n",
              "52117                                   [wait, surprise]   \n",
              "52118                     [sure, quiet, today, surprise]   \n",
              "\n",
              "                                                                            sentence  \n",
              "0      Hi, there...I'm Jon Arbuckle. I'm a cartoonist, and this is my cat, Garfield.  \n",
              "1                Hi, there. I'm Garfield. I'm a cat, and this is my cartoonist, Jon.  \n",
              "2                                     Our only thought is to entertain you. Feed me.  \n",
              "3                               Happy birthday, Garfield. I have a surprise for you.  \n",
              "4                                                                   A rubber mousey!  \n",
              "...                                                                              ...  \n",
              "52114                                   Look! Irma's Diner just expanded their menu.  \n",
              "52115                                    They added three kinds of meatloaf... Cool.  \n",
              "52116                                                Ooooh... And 23 kinds of bacon!  \n",
              "52117                                                         WAIT HERE FOR SURPRISE  \n",
              "52118                                   It's sure quiet around here today. Surprise!  \n",
              "\n",
              "[52010 rows x 7 columns]"
            ],
            "text/html": [
              "\n",
              "  <div id=\"df-e053c9d6-6356-46a3-b739-650ce0115dd8\">\n",
              "    <div class=\"colab-df-container\">\n",
              "      <div>\n",
              "<style scoped>\n",
              "    .dataframe tbody tr th:only-of-type {\n",
              "        vertical-align: middle;\n",
              "    }\n",
              "\n",
              "    .dataframe tbody tr th {\n",
              "        vertical-align: top;\n",
              "    }\n",
              "\n",
              "    .dataframe thead th {\n",
              "        text-align: right;\n",
              "    }\n",
              "</style>\n",
              "<table border=\"1\" class=\"dataframe\">\n",
              "  <thead>\n",
              "    <tr style=\"text-align: right;\">\n",
              "      <th></th>\n",
              "      <th>old index</th>\n",
              "      <th>stripID</th>\n",
              "      <th>Date</th>\n",
              "      <th>text</th>\n",
              "      <th>url</th>\n",
              "      <th>tokens</th>\n",
              "      <th>sentence</th>\n",
              "    </tr>\n",
              "  </thead>\n",
              "  <tbody>\n",
              "    <tr>\n",
              "      <th>0</th>\n",
              "      <td>0</td>\n",
              "      <td>ga780619</td>\n",
              "      <td>1978-06-19</td>\n",
              "      <td>Hi, there...I'm Jon Arbuckle. I'm a cartoonist, and this is my cat, Garfield. - Hi, there. I'm Garfield. I'm a cat, and this is my cartoonist, Jon. - Our only thought is to entertain you. Feed me.</td>\n",
              "      <td>&lt;a href=\"https://www.gocomics.com/garfield/1978/06/19\" rel=\"noopener noreferrer\" target=\"_blank\"&gt;Comic&lt;/a&gt;</td>\n",
              "      <td>[there, jon, arbuckle, cartoonist, cat, garfield]</td>\n",
              "      <td>Hi, there...I'm Jon Arbuckle. I'm a cartoonist, and this is my cat, Garfield.</td>\n",
              "    </tr>\n",
              "    <tr>\n",
              "      <th>1</th>\n",
              "      <td>0</td>\n",
              "      <td>ga780619</td>\n",
              "      <td>1978-06-19</td>\n",
              "      <td>Hi, there...I'm Jon Arbuckle. I'm a cartoonist, and this is my cat, Garfield. - Hi, there. I'm Garfield. I'm a cat, and this is my cartoonist, Jon. - Our only thought is to entertain you. Feed me.</td>\n",
              "      <td>&lt;a href=\"https://www.gocomics.com/garfield/1978/06/19\" rel=\"noopener noreferrer\" target=\"_blank\"&gt;Comic&lt;/a&gt;</td>\n",
              "      <td>[there, garfield, cat, cartoonist, jon]</td>\n",
              "      <td>Hi, there. I'm Garfield. I'm a cat, and this is my cartoonist, Jon.</td>\n",
              "    </tr>\n",
              "    <tr>\n",
              "      <th>2</th>\n",
              "      <td>0</td>\n",
              "      <td>ga780619</td>\n",
              "      <td>1978-06-19</td>\n",
              "      <td>Hi, there...I'm Jon Arbuckle. I'm a cartoonist, and this is my cat, Garfield. - Hi, there. I'm Garfield. I'm a cat, and this is my cartoonist, Jon. - Our only thought is to entertain you. Feed me.</td>\n",
              "      <td>&lt;a href=\"https://www.gocomics.com/garfield/1978/06/19\" rel=\"noopener noreferrer\" target=\"_blank\"&gt;Comic&lt;/a&gt;</td>\n",
              "      <td>[thought, entertain, you, feed]</td>\n",
              "      <td>Our only thought is to entertain you. Feed me.</td>\n",
              "    </tr>\n",
              "    <tr>\n",
              "      <th>3</th>\n",
              "      <td>1</td>\n",
              "      <td>ga780620</td>\n",
              "      <td>1978-06-20</td>\n",
              "      <td>Happy birthday, Garfield. I have a surprise for you. - A rubber mousey! - Could've used a little salt...</td>\n",
              "      <td>&lt;a href=\"https://www.gocomics.com/garfield/1978/06/20\" rel=\"noopener noreferrer\" target=\"_blank\"&gt;Comic&lt;/a&gt;</td>\n",
              "      <td>[happy, birthday, garfield, surprise, you]</td>\n",
              "      <td>Happy birthday, Garfield. I have a surprise for you.</td>\n",
              "    </tr>\n",
              "    <tr>\n",
              "      <th>4</th>\n",
              "      <td>1</td>\n",
              "      <td>ga780620</td>\n",
              "      <td>1978-06-20</td>\n",
              "      <td>Happy birthday, Garfield. I have a surprise for you. - A rubber mousey! - Could've used a little salt...</td>\n",
              "      <td>&lt;a href=\"https://www.gocomics.com/garfield/1978/06/20\" rel=\"noopener noreferrer\" target=\"_blank\"&gt;Comic&lt;/a&gt;</td>\n",
              "      <td>[rubber, mousey]</td>\n",
              "      <td>A rubber mousey!</td>\n",
              "    </tr>\n",
              "    <tr>\n",
              "      <th>...</th>\n",
              "      <td>...</td>\n",
              "      <td>...</td>\n",
              "      <td>...</td>\n",
              "      <td>...</td>\n",
              "      <td>...</td>\n",
              "      <td>...</td>\n",
              "      <td>...</td>\n",
              "    </tr>\n",
              "    <tr>\n",
              "      <th>52114</th>\n",
              "      <td>16260</td>\n",
              "      <td>ga230204</td>\n",
              "      <td>2023-02-04</td>\n",
              "      <td>Look! Irma's Diner just expanded their menu. - They added three kinds of meatloaf... Cool. - Ooooh... And 23 kinds of bacon!</td>\n",
              "      <td>&lt;a href=\"https://www.gocomics.com/garfield/2023/02/04\" rel=\"noopener noreferrer\" target=\"_blank\"&gt;Comic&lt;/a&gt;</td>\n",
              "      <td>[look, irma, diner, expanded, menu]</td>\n",
              "      <td>Look! Irma's Diner just expanded their menu.</td>\n",
              "    </tr>\n",
              "    <tr>\n",
              "      <th>52115</th>\n",
              "      <td>16260</td>\n",
              "      <td>ga230204</td>\n",
              "      <td>2023-02-04</td>\n",
              "      <td>Look! Irma's Diner just expanded their menu. - They added three kinds of meatloaf... Cool. - Ooooh... And 23 kinds of bacon!</td>\n",
              "      <td>&lt;a href=\"https://www.gocomics.com/garfield/2023/02/04\" rel=\"noopener noreferrer\" target=\"_blank\"&gt;Comic&lt;/a&gt;</td>\n",
              "      <td>[added, kinds, meatloaf, cool]</td>\n",
              "      <td>They added three kinds of meatloaf... Cool.</td>\n",
              "    </tr>\n",
              "    <tr>\n",
              "      <th>52116</th>\n",
              "      <td>16260</td>\n",
              "      <td>ga230204</td>\n",
              "      <td>2023-02-04</td>\n",
              "      <td>Look! Irma's Diner just expanded their menu. - They added three kinds of meatloaf... Cool. - Ooooh... And 23 kinds of bacon!</td>\n",
              "      <td>&lt;a href=\"https://www.gocomics.com/garfield/2023/02/04\" rel=\"noopener noreferrer\" target=\"_blank\"&gt;Comic&lt;/a&gt;</td>\n",
              "      <td>[ooooh, kinds, bacon]</td>\n",
              "      <td>Ooooh... And 23 kinds of bacon!</td>\n",
              "    </tr>\n",
              "    <tr>\n",
              "      <th>52117</th>\n",
              "      <td>16261</td>\n",
              "      <td>ga230205</td>\n",
              "      <td>2023-02-05</td>\n",
              "      <td>- - WAIT HERE FOR SURPRISE - - - - It's sure quiet around here today. Surprise!</td>\n",
              "      <td>&lt;a href=\"https://www.gocomics.com/garfield/2023/02/05\" rel=\"noopener noreferrer\" target=\"_blank\"&gt;Comic&lt;/a&gt;</td>\n",
              "      <td>[wait, surprise]</td>\n",
              "      <td>WAIT HERE FOR SURPRISE</td>\n",
              "    </tr>\n",
              "    <tr>\n",
              "      <th>52118</th>\n",
              "      <td>16261</td>\n",
              "      <td>ga230205</td>\n",
              "      <td>2023-02-05</td>\n",
              "      <td>- - WAIT HERE FOR SURPRISE - - - - It's sure quiet around here today. Surprise!</td>\n",
              "      <td>&lt;a href=\"https://www.gocomics.com/garfield/2023/02/05\" rel=\"noopener noreferrer\" target=\"_blank\"&gt;Comic&lt;/a&gt;</td>\n",
              "      <td>[sure, quiet, today, surprise]</td>\n",
              "      <td>It's sure quiet around here today. Surprise!</td>\n",
              "    </tr>\n",
              "  </tbody>\n",
              "</table>\n",
              "<p>52010 rows × 7 columns</p>\n",
              "</div>\n",
              "      <button class=\"colab-df-convert\" onclick=\"convertToInteractive('df-e053c9d6-6356-46a3-b739-650ce0115dd8')\"\n",
              "              title=\"Convert this dataframe to an interactive table.\"\n",
              "              style=\"display:none;\">\n",
              "        \n",
              "  <svg xmlns=\"http://www.w3.org/2000/svg\" height=\"24px\"viewBox=\"0 0 24 24\"\n",
              "       width=\"24px\">\n",
              "    <path d=\"M0 0h24v24H0V0z\" fill=\"none\"/>\n",
              "    <path d=\"M18.56 5.44l.94 2.06.94-2.06 2.06-.94-2.06-.94-.94-2.06-.94 2.06-2.06.94zm-11 1L8.5 8.5l.94-2.06 2.06-.94-2.06-.94L8.5 2.5l-.94 2.06-2.06.94zm10 10l.94 2.06.94-2.06 2.06-.94-2.06-.94-.94-2.06-.94 2.06-2.06.94z\"/><path d=\"M17.41 7.96l-1.37-1.37c-.4-.4-.92-.59-1.43-.59-.52 0-1.04.2-1.43.59L10.3 9.45l-7.72 7.72c-.78.78-.78 2.05 0 2.83L4 21.41c.39.39.9.59 1.41.59.51 0 1.02-.2 1.41-.59l7.78-7.78 2.81-2.81c.8-.78.8-2.07 0-2.86zM5.41 20L4 18.59l7.72-7.72 1.47 1.35L5.41 20z\"/>\n",
              "  </svg>\n",
              "      </button>\n",
              "      \n",
              "  <style>\n",
              "    .colab-df-container {\n",
              "      display:flex;\n",
              "      flex-wrap:wrap;\n",
              "      gap: 12px;\n",
              "    }\n",
              "\n",
              "    .colab-df-convert {\n",
              "      background-color: #E8F0FE;\n",
              "      border: none;\n",
              "      border-radius: 50%;\n",
              "      cursor: pointer;\n",
              "      display: none;\n",
              "      fill: #1967D2;\n",
              "      height: 32px;\n",
              "      padding: 0 0 0 0;\n",
              "      width: 32px;\n",
              "    }\n",
              "\n",
              "    .colab-df-convert:hover {\n",
              "      background-color: #E2EBFA;\n",
              "      box-shadow: 0px 1px 2px rgba(60, 64, 67, 0.3), 0px 1px 3px 1px rgba(60, 64, 67, 0.15);\n",
              "      fill: #174EA6;\n",
              "    }\n",
              "\n",
              "    [theme=dark] .colab-df-convert {\n",
              "      background-color: #3B4455;\n",
              "      fill: #D2E3FC;\n",
              "    }\n",
              "\n",
              "    [theme=dark] .colab-df-convert:hover {\n",
              "      background-color: #434B5C;\n",
              "      box-shadow: 0px 1px 3px 1px rgba(0, 0, 0, 0.15);\n",
              "      filter: drop-shadow(0px 1px 2px rgba(0, 0, 0, 0.3));\n",
              "      fill: #FFFFFF;\n",
              "    }\n",
              "  </style>\n",
              "\n",
              "      <script>\n",
              "        const buttonEl =\n",
              "          document.querySelector('#df-e053c9d6-6356-46a3-b739-650ce0115dd8 button.colab-df-convert');\n",
              "        buttonEl.style.display =\n",
              "          google.colab.kernel.accessAllowed ? 'block' : 'none';\n",
              "\n",
              "        async function convertToInteractive(key) {\n",
              "          const element = document.querySelector('#df-e053c9d6-6356-46a3-b739-650ce0115dd8');\n",
              "          const dataTable =\n",
              "            await google.colab.kernel.invokeFunction('convertToInteractive',\n",
              "                                                     [key], {});\n",
              "          if (!dataTable) return;\n",
              "\n",
              "          const docLinkHtml = 'Like what you see? Visit the ' +\n",
              "            '<a target=\"_blank\" href=https://colab.research.google.com/notebooks/data_table.ipynb>data table notebook</a>'\n",
              "            + ' to learn more about interactive tables.';\n",
              "          element.innerHTML = '';\n",
              "          dataTable['output_type'] = 'display_data';\n",
              "          await google.colab.output.renderOutput(dataTable, element);\n",
              "          const docLink = document.createElement('div');\n",
              "          docLink.innerHTML = docLinkHtml;\n",
              "          element.appendChild(docLink);\n",
              "        }\n",
              "      </script>\n",
              "    </div>\n",
              "  </div>\n",
              "  "
            ]
          },
          "metadata": {},
          "execution_count": 53
        }
      ]
    },
    {
      "cell_type": "markdown",
      "source": [
        " ### 2. Train - test split\n",
        " - Take out 500 strips for testing purposes, so that their sentences will not be trained on\n",
        " - Use remaining strips for training (fine-tuning) the `SentenceTransformer`"
      ],
      "metadata": {
        "id": "yNhoq0dPPXgG"
      }
    },
    {
      "cell_type": "code",
      "source": [
        "test_stripIDs = df_sorted['stripID'].sample(n=500, random_state=42)\n",
        "len(test_stripIDs.unique())"
      ],
      "metadata": {
        "id": "283GklUrnthm",
        "execution": {
          "iopub.status.busy": "2023-02-06T14:01:04.822872Z",
          "iopub.execute_input": "2023-02-06T14:01:04.823229Z",
          "iopub.status.idle": "2023-02-06T14:01:04.843237Z",
          "shell.execute_reply.started": "2023-02-06T14:01:04.823193Z",
          "shell.execute_reply": "2023-02-06T14:01:04.842392Z"
        },
        "trusted": true,
        "colab": {
          "base_uri": "https://localhost:8080/"
        },
        "outputId": "7da6b8db-22d3-48d3-a396-3989107a8bc1"
      },
      "execution_count": 54,
      "outputs": [
        {
          "output_type": "execute_result",
          "data": {
            "text/plain": [
              "500"
            ]
          },
          "metadata": {},
          "execution_count": 54
        }
      ]
    },
    {
      "cell_type": "code",
      "source": [
        "#print(len(train_stripIDs), len(val_stripIDs), len(test_stripIDs))\n",
        "#print(len(train_stripIDs), len(test_stripIDs))\n",
        "is_test = df_sentences['stripID'].isin(test_stripIDs)\n",
        "df_sentences_test = df_sentences[is_test].reset_index(drop=True)\n",
        "\n",
        "df_sentences_train = df_sentences[~is_test].reset_index(drop=True)\n",
        "\n",
        "#is_val = df_sentences['stripID'].isin(val_stripIDs)\n",
        "#df_sentences_val = df_sentences[is_val].reset_index(drop=True)\n",
        "\n",
        "#print(df_sentences_train.shape, df_sentences_val.shape, df_sentences_test.shape)\n",
        "print(df_sentences_train.shape, df_sentences_test.shape)\n",
        "\n",
        "df_sentences_train.loc[40:50]"
      ],
      "metadata": {
        "id": "VxxYy-1NTZ2z",
        "colab": {
          "base_uri": "https://localhost:8080/",
          "height": 717
        },
        "outputId": "a68d8d14-0288-449a-c229-287d6081e110",
        "execution": {
          "iopub.status.busy": "2023-02-06T14:01:04.844863Z",
          "iopub.execute_input": "2023-02-06T14:01:04.845250Z",
          "iopub.status.idle": "2023-02-06T14:01:04.882782Z",
          "shell.execute_reply.started": "2023-02-06T14:01:04.845210Z",
          "shell.execute_reply": "2023-02-06T14:01:04.881819Z"
        },
        "trusted": true
      },
      "execution_count": 55,
      "outputs": [
        {
          "output_type": "stream",
          "name": "stdout",
          "text": [
            "(50464, 7) (1546, 7)\n"
          ]
        },
        {
          "output_type": "execute_result",
          "data": {
            "text/plain": [
              "    old index   stripID       Date  \\\n",
              "40         15  ga780704 1978-07-04   \n",
              "41         15  ga780704 1978-07-04   \n",
              "42         16  ga780705 1978-07-05   \n",
              "43         16  ga780705 1978-07-05   \n",
              "44         16  ga780705 1978-07-05   \n",
              "45         17  ga780706 1978-07-06   \n",
              "46         17  ga780706 1978-07-06   \n",
              "47         17  ga780706 1978-07-06   \n",
              "48         18  ga780707 1978-07-07   \n",
              "49         18  ga780707 1978-07-07   \n",
              "50         18  ga780707 1978-07-07   \n",
              "\n",
              "                                                                                                              text  \\\n",
              "40                                             I really shouldn't eat that fish... - - Call it an ethnic weakness.   \n",
              "41                                             I really shouldn't eat that fish... - - Call it an ethnic weakness.   \n",
              "42  itch scratch scratch - scratch! scratch! scratch! scratch! itch scratch! scratch! scratch! scratch! - AARRRGH!   \n",
              "43  itch scratch scratch - scratch! scratch! scratch! scratch! itch scratch! scratch! scratch! scratch! - AARRRGH!   \n",
              "44  itch scratch scratch - scratch! scratch! scratch! scratch! itch scratch! scratch! scratch! scratch! - AARRRGH!   \n",
              "45                                              SNIFF! - Cat food... - The bouquet leaves something to be desired.   \n",
              "46                                              SNIFF! - Cat food... - The bouquet leaves something to be desired.   \n",
              "47                                              SNIFF! - Cat food... - The bouquet leaves something to be desired.   \n",
              "48                                           Ah, a curtain upon which to sharpen my claws. - - I hate double-knit.   \n",
              "49                                           Ah, a curtain upon which to sharpen my claws. - - I hate double-knit.   \n",
              "50                                           Ah, a curtain upon which to sharpen my claws. - - I hate double-knit.   \n",
              "\n",
              "                                                                                                           url  \\\n",
              "40  <a href=\"https://www.gocomics.com/garfield/1978/07/04\" rel=\"noopener noreferrer\" target=\"_blank\">Comic</a>   \n",
              "41  <a href=\"https://www.gocomics.com/garfield/1978/07/04\" rel=\"noopener noreferrer\" target=\"_blank\">Comic</a>   \n",
              "42  <a href=\"https://www.gocomics.com/garfield/1978/07/05\" rel=\"noopener noreferrer\" target=\"_blank\">Comic</a>   \n",
              "43  <a href=\"https://www.gocomics.com/garfield/1978/07/05\" rel=\"noopener noreferrer\" target=\"_blank\">Comic</a>   \n",
              "44  <a href=\"https://www.gocomics.com/garfield/1978/07/05\" rel=\"noopener noreferrer\" target=\"_blank\">Comic</a>   \n",
              "45  <a href=\"https://www.gocomics.com/garfield/1978/07/06\" rel=\"noopener noreferrer\" target=\"_blank\">Comic</a>   \n",
              "46  <a href=\"https://www.gocomics.com/garfield/1978/07/06\" rel=\"noopener noreferrer\" target=\"_blank\">Comic</a>   \n",
              "47  <a href=\"https://www.gocomics.com/garfield/1978/07/06\" rel=\"noopener noreferrer\" target=\"_blank\">Comic</a>   \n",
              "48  <a href=\"https://www.gocomics.com/garfield/1978/07/07\" rel=\"noopener noreferrer\" target=\"_blank\">Comic</a>   \n",
              "49  <a href=\"https://www.gocomics.com/garfield/1978/07/07\" rel=\"noopener noreferrer\" target=\"_blank\">Comic</a>   \n",
              "50  <a href=\"https://www.gocomics.com/garfield/1978/07/07\" rel=\"noopener noreferrer\" target=\"_blank\">Comic</a>   \n",
              "\n",
              "                                                                            tokens  \\\n",
              "40                                                            [shouldn, eat, fish]   \n",
              "41                                                              [ethnic, weakness]   \n",
              "42                                                        [itch, scratch, scratch]   \n",
              "43  [scratch, scratch, scratch, scratch, itch, scratch, scratch, scratch, scratch]   \n",
              "44                                                                       [aarrrgh]   \n",
              "45                                                                         [sniff]   \n",
              "46                                                                     [cat, food]   \n",
              "47                                                      [bouquet, leaves, desired]   \n",
              "48                                                       [curtain, sharpen, claws]   \n",
              "49                                                                  [hate, double]   \n",
              "50                                                                          [knit]   \n",
              "\n",
              "                                                                        sentence  \n",
              "40                                           I really shouldn't eat that fish...  \n",
              "41                                                   Call it an ethnic weakness.  \n",
              "42                                                          itch scratch scratch  \n",
              "43  scratch! scratch! scratch! scratch! itch scratch! scratch! scratch! scratch!  \n",
              "44                                                                      AARRRGH!  \n",
              "45                                                                        SNIFF!  \n",
              "46                                                                   Cat food...  \n",
              "47                                   The bouquet leaves something to be desired.  \n",
              "48                                 Ah, a curtain upon which to sharpen my claws.  \n",
              "49                                                                 I hate double  \n",
              "50                                                                         knit.  "
            ],
            "text/html": [
              "\n",
              "  <div id=\"df-5004c24e-5250-4725-949a-0d3a8c0f9fd7\">\n",
              "    <div class=\"colab-df-container\">\n",
              "      <div>\n",
              "<style scoped>\n",
              "    .dataframe tbody tr th:only-of-type {\n",
              "        vertical-align: middle;\n",
              "    }\n",
              "\n",
              "    .dataframe tbody tr th {\n",
              "        vertical-align: top;\n",
              "    }\n",
              "\n",
              "    .dataframe thead th {\n",
              "        text-align: right;\n",
              "    }\n",
              "</style>\n",
              "<table border=\"1\" class=\"dataframe\">\n",
              "  <thead>\n",
              "    <tr style=\"text-align: right;\">\n",
              "      <th></th>\n",
              "      <th>old index</th>\n",
              "      <th>stripID</th>\n",
              "      <th>Date</th>\n",
              "      <th>text</th>\n",
              "      <th>url</th>\n",
              "      <th>tokens</th>\n",
              "      <th>sentence</th>\n",
              "    </tr>\n",
              "  </thead>\n",
              "  <tbody>\n",
              "    <tr>\n",
              "      <th>40</th>\n",
              "      <td>15</td>\n",
              "      <td>ga780704</td>\n",
              "      <td>1978-07-04</td>\n",
              "      <td>I really shouldn't eat that fish... - - Call it an ethnic weakness.</td>\n",
              "      <td>&lt;a href=\"https://www.gocomics.com/garfield/1978/07/04\" rel=\"noopener noreferrer\" target=\"_blank\"&gt;Comic&lt;/a&gt;</td>\n",
              "      <td>[shouldn, eat, fish]</td>\n",
              "      <td>I really shouldn't eat that fish...</td>\n",
              "    </tr>\n",
              "    <tr>\n",
              "      <th>41</th>\n",
              "      <td>15</td>\n",
              "      <td>ga780704</td>\n",
              "      <td>1978-07-04</td>\n",
              "      <td>I really shouldn't eat that fish... - - Call it an ethnic weakness.</td>\n",
              "      <td>&lt;a href=\"https://www.gocomics.com/garfield/1978/07/04\" rel=\"noopener noreferrer\" target=\"_blank\"&gt;Comic&lt;/a&gt;</td>\n",
              "      <td>[ethnic, weakness]</td>\n",
              "      <td>Call it an ethnic weakness.</td>\n",
              "    </tr>\n",
              "    <tr>\n",
              "      <th>42</th>\n",
              "      <td>16</td>\n",
              "      <td>ga780705</td>\n",
              "      <td>1978-07-05</td>\n",
              "      <td>itch scratch scratch - scratch! scratch! scratch! scratch! itch scratch! scratch! scratch! scratch! - AARRRGH!</td>\n",
              "      <td>&lt;a href=\"https://www.gocomics.com/garfield/1978/07/05\" rel=\"noopener noreferrer\" target=\"_blank\"&gt;Comic&lt;/a&gt;</td>\n",
              "      <td>[itch, scratch, scratch]</td>\n",
              "      <td>itch scratch scratch</td>\n",
              "    </tr>\n",
              "    <tr>\n",
              "      <th>43</th>\n",
              "      <td>16</td>\n",
              "      <td>ga780705</td>\n",
              "      <td>1978-07-05</td>\n",
              "      <td>itch scratch scratch - scratch! scratch! scratch! scratch! itch scratch! scratch! scratch! scratch! - AARRRGH!</td>\n",
              "      <td>&lt;a href=\"https://www.gocomics.com/garfield/1978/07/05\" rel=\"noopener noreferrer\" target=\"_blank\"&gt;Comic&lt;/a&gt;</td>\n",
              "      <td>[scratch, scratch, scratch, scratch, itch, scratch, scratch, scratch, scratch]</td>\n",
              "      <td>scratch! scratch! scratch! scratch! itch scratch! scratch! scratch! scratch!</td>\n",
              "    </tr>\n",
              "    <tr>\n",
              "      <th>44</th>\n",
              "      <td>16</td>\n",
              "      <td>ga780705</td>\n",
              "      <td>1978-07-05</td>\n",
              "      <td>itch scratch scratch - scratch! scratch! scratch! scratch! itch scratch! scratch! scratch! scratch! - AARRRGH!</td>\n",
              "      <td>&lt;a href=\"https://www.gocomics.com/garfield/1978/07/05\" rel=\"noopener noreferrer\" target=\"_blank\"&gt;Comic&lt;/a&gt;</td>\n",
              "      <td>[aarrrgh]</td>\n",
              "      <td>AARRRGH!</td>\n",
              "    </tr>\n",
              "    <tr>\n",
              "      <th>45</th>\n",
              "      <td>17</td>\n",
              "      <td>ga780706</td>\n",
              "      <td>1978-07-06</td>\n",
              "      <td>SNIFF! - Cat food... - The bouquet leaves something to be desired.</td>\n",
              "      <td>&lt;a href=\"https://www.gocomics.com/garfield/1978/07/06\" rel=\"noopener noreferrer\" target=\"_blank\"&gt;Comic&lt;/a&gt;</td>\n",
              "      <td>[sniff]</td>\n",
              "      <td>SNIFF!</td>\n",
              "    </tr>\n",
              "    <tr>\n",
              "      <th>46</th>\n",
              "      <td>17</td>\n",
              "      <td>ga780706</td>\n",
              "      <td>1978-07-06</td>\n",
              "      <td>SNIFF! - Cat food... - The bouquet leaves something to be desired.</td>\n",
              "      <td>&lt;a href=\"https://www.gocomics.com/garfield/1978/07/06\" rel=\"noopener noreferrer\" target=\"_blank\"&gt;Comic&lt;/a&gt;</td>\n",
              "      <td>[cat, food]</td>\n",
              "      <td>Cat food...</td>\n",
              "    </tr>\n",
              "    <tr>\n",
              "      <th>47</th>\n",
              "      <td>17</td>\n",
              "      <td>ga780706</td>\n",
              "      <td>1978-07-06</td>\n",
              "      <td>SNIFF! - Cat food... - The bouquet leaves something to be desired.</td>\n",
              "      <td>&lt;a href=\"https://www.gocomics.com/garfield/1978/07/06\" rel=\"noopener noreferrer\" target=\"_blank\"&gt;Comic&lt;/a&gt;</td>\n",
              "      <td>[bouquet, leaves, desired]</td>\n",
              "      <td>The bouquet leaves something to be desired.</td>\n",
              "    </tr>\n",
              "    <tr>\n",
              "      <th>48</th>\n",
              "      <td>18</td>\n",
              "      <td>ga780707</td>\n",
              "      <td>1978-07-07</td>\n",
              "      <td>Ah, a curtain upon which to sharpen my claws. - - I hate double-knit.</td>\n",
              "      <td>&lt;a href=\"https://www.gocomics.com/garfield/1978/07/07\" rel=\"noopener noreferrer\" target=\"_blank\"&gt;Comic&lt;/a&gt;</td>\n",
              "      <td>[curtain, sharpen, claws]</td>\n",
              "      <td>Ah, a curtain upon which to sharpen my claws.</td>\n",
              "    </tr>\n",
              "    <tr>\n",
              "      <th>49</th>\n",
              "      <td>18</td>\n",
              "      <td>ga780707</td>\n",
              "      <td>1978-07-07</td>\n",
              "      <td>Ah, a curtain upon which to sharpen my claws. - - I hate double-knit.</td>\n",
              "      <td>&lt;a href=\"https://www.gocomics.com/garfield/1978/07/07\" rel=\"noopener noreferrer\" target=\"_blank\"&gt;Comic&lt;/a&gt;</td>\n",
              "      <td>[hate, double]</td>\n",
              "      <td>I hate double</td>\n",
              "    </tr>\n",
              "    <tr>\n",
              "      <th>50</th>\n",
              "      <td>18</td>\n",
              "      <td>ga780707</td>\n",
              "      <td>1978-07-07</td>\n",
              "      <td>Ah, a curtain upon which to sharpen my claws. - - I hate double-knit.</td>\n",
              "      <td>&lt;a href=\"https://www.gocomics.com/garfield/1978/07/07\" rel=\"noopener noreferrer\" target=\"_blank\"&gt;Comic&lt;/a&gt;</td>\n",
              "      <td>[knit]</td>\n",
              "      <td>knit.</td>\n",
              "    </tr>\n",
              "  </tbody>\n",
              "</table>\n",
              "</div>\n",
              "      <button class=\"colab-df-convert\" onclick=\"convertToInteractive('df-5004c24e-5250-4725-949a-0d3a8c0f9fd7')\"\n",
              "              title=\"Convert this dataframe to an interactive table.\"\n",
              "              style=\"display:none;\">\n",
              "        \n",
              "  <svg xmlns=\"http://www.w3.org/2000/svg\" height=\"24px\"viewBox=\"0 0 24 24\"\n",
              "       width=\"24px\">\n",
              "    <path d=\"M0 0h24v24H0V0z\" fill=\"none\"/>\n",
              "    <path d=\"M18.56 5.44l.94 2.06.94-2.06 2.06-.94-2.06-.94-.94-2.06-.94 2.06-2.06.94zm-11 1L8.5 8.5l.94-2.06 2.06-.94-2.06-.94L8.5 2.5l-.94 2.06-2.06.94zm10 10l.94 2.06.94-2.06 2.06-.94-2.06-.94-.94-2.06-.94 2.06-2.06.94z\"/><path d=\"M17.41 7.96l-1.37-1.37c-.4-.4-.92-.59-1.43-.59-.52 0-1.04.2-1.43.59L10.3 9.45l-7.72 7.72c-.78.78-.78 2.05 0 2.83L4 21.41c.39.39.9.59 1.41.59.51 0 1.02-.2 1.41-.59l7.78-7.78 2.81-2.81c.8-.78.8-2.07 0-2.86zM5.41 20L4 18.59l7.72-7.72 1.47 1.35L5.41 20z\"/>\n",
              "  </svg>\n",
              "      </button>\n",
              "      \n",
              "  <style>\n",
              "    .colab-df-container {\n",
              "      display:flex;\n",
              "      flex-wrap:wrap;\n",
              "      gap: 12px;\n",
              "    }\n",
              "\n",
              "    .colab-df-convert {\n",
              "      background-color: #E8F0FE;\n",
              "      border: none;\n",
              "      border-radius: 50%;\n",
              "      cursor: pointer;\n",
              "      display: none;\n",
              "      fill: #1967D2;\n",
              "      height: 32px;\n",
              "      padding: 0 0 0 0;\n",
              "      width: 32px;\n",
              "    }\n",
              "\n",
              "    .colab-df-convert:hover {\n",
              "      background-color: #E2EBFA;\n",
              "      box-shadow: 0px 1px 2px rgba(60, 64, 67, 0.3), 0px 1px 3px 1px rgba(60, 64, 67, 0.15);\n",
              "      fill: #174EA6;\n",
              "    }\n",
              "\n",
              "    [theme=dark] .colab-df-convert {\n",
              "      background-color: #3B4455;\n",
              "      fill: #D2E3FC;\n",
              "    }\n",
              "\n",
              "    [theme=dark] .colab-df-convert:hover {\n",
              "      background-color: #434B5C;\n",
              "      box-shadow: 0px 1px 3px 1px rgba(0, 0, 0, 0.15);\n",
              "      filter: drop-shadow(0px 1px 2px rgba(0, 0, 0, 0.3));\n",
              "      fill: #FFFFFF;\n",
              "    }\n",
              "  </style>\n",
              "\n",
              "      <script>\n",
              "        const buttonEl =\n",
              "          document.querySelector('#df-5004c24e-5250-4725-949a-0d3a8c0f9fd7 button.colab-df-convert');\n",
              "        buttonEl.style.display =\n",
              "          google.colab.kernel.accessAllowed ? 'block' : 'none';\n",
              "\n",
              "        async function convertToInteractive(key) {\n",
              "          const element = document.querySelector('#df-5004c24e-5250-4725-949a-0d3a8c0f9fd7');\n",
              "          const dataTable =\n",
              "            await google.colab.kernel.invokeFunction('convertToInteractive',\n",
              "                                                     [key], {});\n",
              "          if (!dataTable) return;\n",
              "\n",
              "          const docLinkHtml = 'Like what you see? Visit the ' +\n",
              "            '<a target=\"_blank\" href=https://colab.research.google.com/notebooks/data_table.ipynb>data table notebook</a>'\n",
              "            + ' to learn more about interactive tables.';\n",
              "          element.innerHTML = '';\n",
              "          dataTable['output_type'] = 'display_data';\n",
              "          await google.colab.output.renderOutput(dataTable, element);\n",
              "          const docLink = document.createElement('div');\n",
              "          docLink.innerHTML = docLinkHtml;\n",
              "          element.appendChild(docLink);\n",
              "        }\n",
              "      </script>\n",
              "    </div>\n",
              "  </div>\n",
              "  "
            ]
          },
          "metadata": {},
          "execution_count": 55
        }
      ]
    },
    {
      "cell_type": "code",
      "source": [
        "# verify that indexes still have the correct form\n",
        "for i in range(len(df_sentences_train)):\n",
        "    old_index = df_sentences_train.loc[i, 'old index']\n",
        "    strip_eval = df_sentences_train.loc[i, 'stripID']\n",
        "    strip_sorted = df_sorted.iloc[old_index]['stripID']\n",
        "    assert(strip_eval==strip_sorted)"
      ],
      "metadata": {
        "id": "FOg0l5Lj1aGq"
      },
      "execution_count": 57,
      "outputs": []
    },
    {
      "cell_type": "markdown",
      "source": [
        "### 3. Make a dataset with previous that outputs tuples of (query, positive, negative, stripID)"
      ],
      "metadata": {
        "id": "Jdewc4glDt1z"
      }
    },
    {
      "cell_type": "code",
      "source": [
        "class GarfieldDataset(Dataset):\n",
        "  def __init__(self, dataset, mode='triplet'):\n",
        "    self.dataset = dataset\n",
        "    self.strip_number = dataset['old index'].values\n",
        "    self.sentences = dataset['sentence'].values\n",
        "    self.mode = mode\n",
        "    \n",
        "  def __len__(self):\n",
        "    return len(self.dataset)\n",
        "\n",
        "  def __getitem__(self, idx):\n",
        "    # return query, positive, negative and stripID for query index if mode is for triplet loss, otherwise \n",
        "    # only query and positive (for multiplenegativeloss mode)\n",
        "    query = self.dataset.loc[idx, 'sentence']\n",
        "\n",
        "    # pos = another sentence in the same strip\n",
        "    positives_list = self.sentences[(self.strip_number == self.dataset.loc[idx, 'old index'])]\n",
        "    positives_list = positives_list[positives_list != query]\n",
        "    try:\n",
        "        positive = random.choice(positives_list)\n",
        "    except: positive = ''\n",
        "\n",
        "    #stripID = self.dataset.loc[idx, 'stripID']\n",
        "    example = None\n",
        "    if self.mode == 'triplet':\n",
        "        negatives_list = self.sentences[(self.strip_number != self.dataset.loc[idx, 'old index'])]\n",
        "        negatives_list = negatives_list[negatives_list != query]\n",
        "\n",
        "        negative = random.choice(negatives_list)\n",
        "        example = InputExample(texts = [query, positive, negative])\n",
        "    elif self.mode=='mn': \n",
        "        example = InputExample(texts = [query, positive])\n",
        "    return example"
      ],
      "metadata": {
        "id": "TKubZHMfEGYi",
        "execution": {
          "iopub.status.busy": "2023-02-06T14:01:04.890957Z",
          "iopub.execute_input": "2023-02-06T14:01:04.892727Z",
          "iopub.status.idle": "2023-02-06T14:01:04.903995Z",
          "shell.execute_reply.started": "2023-02-06T14:01:04.892690Z",
          "shell.execute_reply": "2023-02-06T14:01:04.903168Z"
        },
        "trusted": true
      },
      "execution_count": 58,
      "outputs": []
    },
    {
      "cell_type": "markdown",
      "source": [
        "Split the data in train, test"
      ],
      "metadata": {
        "id": "ts7LP5X2J5JQ"
      }
    },
    {
      "cell_type": "code",
      "source": [
        "train_triplet = GarfieldDataset(df_sentences_train, mode='triplet')\n",
        "train_mn = GarfieldDataset(df_sentences_train, mode='mn')"
      ],
      "metadata": {
        "id": "q69_PAzbEYmx",
        "execution": {
          "iopub.status.busy": "2023-02-06T14:01:04.905373Z",
          "iopub.execute_input": "2023-02-06T14:01:04.906540Z",
          "iopub.status.idle": "2023-02-06T14:01:04.920112Z",
          "shell.execute_reply.started": "2023-02-06T14:01:04.906504Z",
          "shell.execute_reply": "2023-02-06T14:01:04.919094Z"
        },
        "trusted": true
      },
      "execution_count": 59,
      "outputs": []
    },
    {
      "cell_type": "code",
      "source": [
        "print('Triplet example:', train_triplet.__getitem__(0).texts)\n",
        "print('MN example:', train_mn.__getitem__(0).texts)"
      ],
      "metadata": {
        "id": "d2HxtVY3KUee",
        "colab": {
          "base_uri": "https://localhost:8080/"
        },
        "outputId": "1e89c7bb-9ed7-4d9b-b546-ae233b1048ab",
        "execution": {
          "iopub.status.busy": "2023-02-06T14:01:04.921590Z",
          "iopub.execute_input": "2023-02-06T14:01:04.922017Z",
          "iopub.status.idle": "2023-02-06T14:01:04.936291Z",
          "shell.execute_reply.started": "2023-02-06T14:01:04.921983Z",
          "shell.execute_reply": "2023-02-06T14:01:04.935076Z"
        },
        "trusted": true
      },
      "execution_count": 60,
      "outputs": [
        {
          "output_type": "stream",
          "name": "stdout",
          "text": [
            "Triplet example: [\"Hi, there...I'm Jon Arbuckle. I'm a cartoonist, and this is my cat, Garfield.\", 'Our only thought is to entertain you. Feed me.', 'MAN AGAINST NATURE!']\n",
            "MN example: [\"Hi, there...I'm Jon Arbuckle. I'm a cartoonist, and this is my cat, Garfield.\", 'Our only thought is to entertain you. Feed me.']\n"
          ]
        }
      ]
    },
    {
      "cell_type": "markdown",
      "source": [
        "## Sentence Transformer model setup and training"
      ],
      "metadata": {
        "id": "09JBZUaUibCf"
      }
    },
    {
      "cell_type": "code",
      "source": [
        "from sentence_transformers import SentenceTransformer\n",
        "from torch.utils.data import DataLoader\n",
        "from sentence_transformers import losses\n",
        "\n",
        "import shutil\n",
        "import os\n",
        "import gc"
      ],
      "metadata": {
        "id": "GZoQrNFVlHbX",
        "execution": {
          "iopub.status.busy": "2023-02-06T14:01:04.938288Z",
          "iopub.execute_input": "2023-02-06T14:01:04.938677Z",
          "iopub.status.idle": "2023-02-06T14:01:06.308815Z",
          "shell.execute_reply.started": "2023-02-06T14:01:04.938642Z",
          "shell.execute_reply": "2023-02-06T14:01:06.307620Z"
        },
        "trusted": true
      },
      "execution_count": 61,
      "outputs": []
    },
    {
      "cell_type": "markdown",
      "source": [
        "To avoid repeating training, it is possible to download my model weights from GitHub"
      ],
      "metadata": {
        "id": "oLNLa-mIG6ge"
      }
    },
    {
      "cell_type": "code",
      "source": [
        "!git clone https://github.com/EnricoBenedetti/GarfieldRetrieve"
      ],
      "metadata": {
        "colab": {
          "base_uri": "https://localhost:8080/"
        },
        "id": "VFVdTVTrJX6W",
        "outputId": "446ac7f8-7148-4d94-cde3-faa6e619f93d"
      },
      "execution_count": 62,
      "outputs": [
        {
          "output_type": "stream",
          "name": "stdout",
          "text": [
            "Cloning into 'GarfieldRetrieve'...\n",
            "remote: Enumerating objects: 21, done.\u001b[K\n",
            "remote: Total 21 (delta 0), reused 0 (delta 0), pack-reused 21\u001b[K\n",
            "Unpacking objects: 100% (21/21), 373.47 MiB | 11.00 MiB/s, done.\n",
            "Updating files: 100% (13/13), done.\n"
          ]
        }
      ]
    },
    {
      "cell_type": "code",
      "source": [
        "load_finetuned_from_local = True\n",
        "\n",
        "model_id = \"sentence-transformers/all-MiniLM-L6-v2\"\n",
        "# load base pretrained\n",
        "model_base = SentenceTransformer(model_id)\n",
        "model_finetuned_triplet = SentenceTransformer(model_id)\n",
        "model_finetuned_mn = SentenceTransformer(model_id)\n",
        "\n",
        "# load finetuned state_dict from my repository\n",
        "if load_finetuned_from_local:\n",
        "    os.chdir(\"/content/GarfieldRetrieve\")\n",
        "\n",
        "    map_location = torch.device('cpu')\n",
        "    if torch.cuda.is_available():\n",
        "      map_location = torch.device('cuda')\n",
        "\n",
        "    model_finetuned_triplet.load_state_dict(torch.load('garfield_finetuned_triplet_state', weights_only=True, map_location=map_location))\n",
        "    model_finetuned_mn.load_state_dict(torch.load('garfield_finetuned_mn_state', weights_only=True, map_location=map_location))\n",
        "\n",
        "    os.chdir(\"/content\")\n",
        "    print('Loaded finetuned models from folder.')"
      ],
      "metadata": {
        "id": "7mxDdoHdifLM",
        "colab": {
          "base_uri": "https://localhost:8080/"
        },
        "outputId": "0be962fd-c642-43b0-f99d-b8377a9fc022",
        "execution": {
          "iopub.status.busy": "2023-02-06T14:21:32.291007Z",
          "iopub.execute_input": "2023-02-06T14:21:32.291394Z",
          "iopub.status.idle": "2023-02-06T14:21:33.183282Z",
          "shell.execute_reply.started": "2023-02-06T14:21:32.291339Z",
          "shell.execute_reply": "2023-02-06T14:21:33.182215Z"
        },
        "trusted": true
      },
      "execution_count": 66,
      "outputs": [
        {
          "output_type": "stream",
          "name": "stdout",
          "text": [
            "Loaded finetuned models from folder.\n"
          ]
        }
      ]
    },
    {
      "cell_type": "markdown",
      "source": [
        "Losses\n",
        "\n",
        "`MultipleNegativesRankingLoss`: The examples are a pair of positive sentences without a label. In this case, the positive for a sentence is another sentence from the same strip. Since the majority of all the sentences in the dataset are then negative for a query (because they come from different strips), this loss should be okay to embed closer together sentences from the same strip.\n",
        "\n",
        "`TripletLoss`: The example is a triplet (anchor, positive, negative) without classes or labels for the sentences. In this case the anchor is a sentence from strip X, positive is another sentence in strip X, and negative is a sentence from a different strip. With this loss sometimes the example are already too easy (distance anchor-positive is already smaller than the distance anchor-negative), so hard and semi-hard negative mining could be adopted to improve training."
      ],
      "metadata": {
        "id": "sdORIKVsG6ge"
      }
    },
    {
      "cell_type": "code",
      "source": [
        "train_loss_triplet = losses.TripletLoss(model=model_finetuned_triplet)\n",
        "train_loss_mn = losses.MultipleNegativesRankingLoss(model=model_finetuned_mn)\n",
        "\n",
        "train_dataloader_triplet = DataLoader(train_triplet, shuffle=True, batch_size=32)\n",
        "train_dataloader_mn = DataLoader(train_mn, shuffle=True, batch_size=32)"
      ],
      "metadata": {
        "id": "4wN2uX0FlEx8",
        "execution": {
          "iopub.status.busy": "2023-02-06T14:21:36.885516Z",
          "iopub.execute_input": "2023-02-06T14:21:36.886720Z",
          "iopub.status.idle": "2023-02-06T14:21:36.893209Z",
          "shell.execute_reply.started": "2023-02-06T14:21:36.886663Z",
          "shell.execute_reply": "2023-02-06T14:21:36.891951Z"
        },
        "trusted": true
      },
      "execution_count": 67,
      "outputs": []
    },
    {
      "cell_type": "markdown",
      "source": [
        "Finetune with Triplet Loss"
      ],
      "metadata": {
        "id": "k7jO8n_TG6gf"
      }
    },
    {
      "cell_type": "code",
      "source": [
        "gc.collect()\n",
        "torch.cuda.empty_cache()\n",
        "\n",
        "model_finetuned_triplet.fit(train_objectives=[(train_dataloader_triplet, train_loss_triplet)], epochs=10) \n",
        "\n",
        "torch.save(model_finetuned_triplet.state_dict(),'garfield_finetuned_triplet_state')"
      ],
      "metadata": {
        "id": "y3Yr2Mm4lQfR",
        "execution": {
          "iopub.status.busy": "2023-02-06T14:22:16.885247Z",
          "iopub.execute_input": "2023-02-06T14:22:16.886294Z"
        },
        "trusted": true
      },
      "execution_count": null,
      "outputs": []
    },
    {
      "cell_type": "markdown",
      "source": [
        "Finetune with Multiple Negatives Loss"
      ],
      "metadata": {
        "id": "076j-4QGG6gg"
      }
    },
    {
      "cell_type": "code",
      "source": [
        "gc.collect()\n",
        "torch.cuda.empty_cache()\n",
        "\n",
        "model_finetuned_mn.fit(train_objectives=[(train_dataloader_mn, train_loss_mn)], epochs=10) \n",
        "\n",
        "torch.save(model_finetuned_mn.state_dict(),'garfield_finetuned_mn_state')"
      ],
      "metadata": {
        "trusted": true,
        "id": "2tunJ_dyG6gg"
      },
      "execution_count": null,
      "outputs": []
    },
    {
      "cell_type": "markdown",
      "source": [
        "## Computing Embeddings\n",
        "\n",
        "In this section all strips in the corpus are encoded passing through the models. (GPU is needed to avoid using up a lot of time)"
      ],
      "metadata": {
        "id": "pDDvdlWprtcL"
      }
    },
    {
      "cell_type": "code",
      "source": [
        "embeddings_base = model_base.encode(df_sorted['text'], convert_to_tensor=True)\n",
        "embeddings_finetuned_triplet = model_finetuned_triplet.encode(df_sorted['text'], convert_to_tensor=True)\n",
        "embeddings_finetuned_mn = model_finetuned_mn.encode(df_sorted['text'], convert_to_tensor=True)"
      ],
      "metadata": {
        "id": "oOrNBq-zvJdd",
        "execution": {
          "iopub.status.busy": "2023-02-06T14:18:43.717179Z",
          "iopub.execute_input": "2023-02-06T14:18:43.717556Z",
          "iopub.status.idle": "2023-02-06T14:18:51.971543Z",
          "shell.execute_reply.started": "2023-02-06T14:18:43.717525Z",
          "shell.execute_reply": "2023-02-06T14:18:51.970650Z"
        },
        "trusted": true,
        "colab": {
          "base_uri": "https://localhost:8080/",
          "height": 354
        },
        "outputId": "580e34d1-c1f2-4c97-8260-5e47994dcbd6"
      },
      "execution_count": 68,
      "outputs": [
        {
          "output_type": "error",
          "ename": "KeyboardInterrupt",
          "evalue": "ignored",
          "traceback": [
            "\u001b[0;31m---------------------------------------------------------------------------\u001b[0m",
            "\u001b[0;31mKeyboardInterrupt\u001b[0m                         Traceback (most recent call last)",
            "\u001b[0;32m<ipython-input-68-cf148353b6aa>\u001b[0m in \u001b[0;36m<module>\u001b[0;34m\u001b[0m\n\u001b[0;32m----> 1\u001b[0;31m \u001b[0membeddings_base\u001b[0m \u001b[0;34m=\u001b[0m \u001b[0mmodel_base\u001b[0m\u001b[0;34m.\u001b[0m\u001b[0mencode\u001b[0m\u001b[0;34m(\u001b[0m\u001b[0mdf_sorted\u001b[0m\u001b[0;34m[\u001b[0m\u001b[0;34m'text'\u001b[0m\u001b[0;34m]\u001b[0m\u001b[0;34m,\u001b[0m \u001b[0mconvert_to_tensor\u001b[0m\u001b[0;34m=\u001b[0m\u001b[0;32mTrue\u001b[0m\u001b[0;34m)\u001b[0m\u001b[0;34m\u001b[0m\u001b[0;34m\u001b[0m\u001b[0m\n\u001b[0m\u001b[1;32m      2\u001b[0m \u001b[0membeddings_finetuned_triplet\u001b[0m \u001b[0;34m=\u001b[0m \u001b[0mmodel_finetuned_triplet\u001b[0m\u001b[0;34m.\u001b[0m\u001b[0mencode\u001b[0m\u001b[0;34m(\u001b[0m\u001b[0mdf_sorted\u001b[0m\u001b[0;34m[\u001b[0m\u001b[0;34m'text'\u001b[0m\u001b[0;34m]\u001b[0m\u001b[0;34m,\u001b[0m \u001b[0mconvert_to_tensor\u001b[0m\u001b[0;34m=\u001b[0m\u001b[0;32mTrue\u001b[0m\u001b[0;34m)\u001b[0m\u001b[0;34m\u001b[0m\u001b[0;34m\u001b[0m\u001b[0m\n\u001b[1;32m      3\u001b[0m \u001b[0membeddings_finetuned_mn\u001b[0m \u001b[0;34m=\u001b[0m \u001b[0mmodel_finetuned_mn\u001b[0m\u001b[0;34m.\u001b[0m\u001b[0mencode\u001b[0m\u001b[0;34m(\u001b[0m\u001b[0mdf_sorted\u001b[0m\u001b[0;34m[\u001b[0m\u001b[0;34m'text'\u001b[0m\u001b[0;34m]\u001b[0m\u001b[0;34m,\u001b[0m \u001b[0mconvert_to_tensor\u001b[0m\u001b[0;34m=\u001b[0m\u001b[0;32mTrue\u001b[0m\u001b[0;34m)\u001b[0m\u001b[0;34m\u001b[0m\u001b[0;34m\u001b[0m\u001b[0m\n",
            "\u001b[0;32m/usr/local/lib/python3.8/dist-packages/sentence_transformers/SentenceTransformer.py\u001b[0m in \u001b[0;36mencode\u001b[0;34m(self, sentences, batch_size, show_progress_bar, output_value, convert_to_numpy, convert_to_tensor, device, normalize_embeddings)\u001b[0m\n\u001b[1;32m    163\u001b[0m \u001b[0;34m\u001b[0m\u001b[0m\n\u001b[1;32m    164\u001b[0m             \u001b[0;32mwith\u001b[0m \u001b[0mtorch\u001b[0m\u001b[0;34m.\u001b[0m\u001b[0mno_grad\u001b[0m\u001b[0;34m(\u001b[0m\u001b[0;34m)\u001b[0m\u001b[0;34m:\u001b[0m\u001b[0;34m\u001b[0m\u001b[0;34m\u001b[0m\u001b[0m\n\u001b[0;32m--> 165\u001b[0;31m                 \u001b[0mout_features\u001b[0m \u001b[0;34m=\u001b[0m \u001b[0mself\u001b[0m\u001b[0;34m.\u001b[0m\u001b[0mforward\u001b[0m\u001b[0;34m(\u001b[0m\u001b[0mfeatures\u001b[0m\u001b[0;34m)\u001b[0m\u001b[0;34m\u001b[0m\u001b[0;34m\u001b[0m\u001b[0m\n\u001b[0m\u001b[1;32m    166\u001b[0m \u001b[0;34m\u001b[0m\u001b[0m\n\u001b[1;32m    167\u001b[0m                 \u001b[0;32mif\u001b[0m \u001b[0moutput_value\u001b[0m \u001b[0;34m==\u001b[0m \u001b[0;34m'token_embeddings'\u001b[0m\u001b[0;34m:\u001b[0m\u001b[0;34m\u001b[0m\u001b[0;34m\u001b[0m\u001b[0m\n",
            "\u001b[0;32m/usr/local/lib/python3.8/dist-packages/torch/nn/modules/container.py\u001b[0m in \u001b[0;36mforward\u001b[0;34m(self, input)\u001b[0m\n\u001b[1;32m    202\u001b[0m     \u001b[0;32mdef\u001b[0m \u001b[0mforward\u001b[0m\u001b[0;34m(\u001b[0m\u001b[0mself\u001b[0m\u001b[0;34m,\u001b[0m \u001b[0minput\u001b[0m\u001b[0;34m)\u001b[0m\u001b[0;34m:\u001b[0m\u001b[0;34m\u001b[0m\u001b[0;34m\u001b[0m\u001b[0m\n\u001b[1;32m    203\u001b[0m         \u001b[0;32mfor\u001b[0m \u001b[0mmodule\u001b[0m \u001b[0;32min\u001b[0m \u001b[0mself\u001b[0m\u001b[0;34m:\u001b[0m\u001b[0;34m\u001b[0m\u001b[0;34m\u001b[0m\u001b[0m\n\u001b[0;32m--> 204\u001b[0;31m             \u001b[0minput\u001b[0m \u001b[0;34m=\u001b[0m \u001b[0mmodule\u001b[0m\u001b[0;34m(\u001b[0m\u001b[0minput\u001b[0m\u001b[0;34m)\u001b[0m\u001b[0;34m\u001b[0m\u001b[0;34m\u001b[0m\u001b[0m\n\u001b[0m\u001b[1;32m    205\u001b[0m         \u001b[0;32mreturn\u001b[0m \u001b[0minput\u001b[0m\u001b[0;34m\u001b[0m\u001b[0;34m\u001b[0m\u001b[0m\n\u001b[1;32m    206\u001b[0m \u001b[0;34m\u001b[0m\u001b[0m\n",
            "\u001b[0;32m/usr/local/lib/python3.8/dist-packages/torch/nn/modules/module.py\u001b[0m in \u001b[0;36m_call_impl\u001b[0;34m(self, *input, **kwargs)\u001b[0m\n\u001b[1;32m   1192\u001b[0m         if not (self._backward_hooks or self._forward_hooks or self._forward_pre_hooks or _global_backward_hooks\n\u001b[1;32m   1193\u001b[0m                 or _global_forward_hooks or _global_forward_pre_hooks):\n\u001b[0;32m-> 1194\u001b[0;31m             \u001b[0;32mreturn\u001b[0m \u001b[0mforward_call\u001b[0m\u001b[0;34m(\u001b[0m\u001b[0;34m*\u001b[0m\u001b[0minput\u001b[0m\u001b[0;34m,\u001b[0m \u001b[0;34m**\u001b[0m\u001b[0mkwargs\u001b[0m\u001b[0;34m)\u001b[0m\u001b[0;34m\u001b[0m\u001b[0;34m\u001b[0m\u001b[0m\n\u001b[0m\u001b[1;32m   1195\u001b[0m         \u001b[0;31m# Do not call functions when jit is used\u001b[0m\u001b[0;34m\u001b[0m\u001b[0;34m\u001b[0m\u001b[0;34m\u001b[0m\u001b[0m\n\u001b[1;32m   1196\u001b[0m         \u001b[0mfull_backward_hooks\u001b[0m\u001b[0;34m,\u001b[0m \u001b[0mnon_full_backward_hooks\u001b[0m \u001b[0;34m=\u001b[0m \u001b[0;34m[\u001b[0m\u001b[0;34m]\u001b[0m\u001b[0;34m,\u001b[0m \u001b[0;34m[\u001b[0m\u001b[0;34m]\u001b[0m\u001b[0;34m\u001b[0m\u001b[0;34m\u001b[0m\u001b[0m\n",
            "\u001b[0;32m/usr/local/lib/python3.8/dist-packages/sentence_transformers/models/Transformer.py\u001b[0m in \u001b[0;36mforward\u001b[0;34m(self, features)\u001b[0m\n\u001b[1;32m     64\u001b[0m             \u001b[0mtrans_features\u001b[0m\u001b[0;34m[\u001b[0m\u001b[0;34m'token_type_ids'\u001b[0m\u001b[0;34m]\u001b[0m \u001b[0;34m=\u001b[0m \u001b[0mfeatures\u001b[0m\u001b[0;34m[\u001b[0m\u001b[0;34m'token_type_ids'\u001b[0m\u001b[0;34m]\u001b[0m\u001b[0;34m\u001b[0m\u001b[0;34m\u001b[0m\u001b[0m\n\u001b[1;32m     65\u001b[0m \u001b[0;34m\u001b[0m\u001b[0m\n\u001b[0;32m---> 66\u001b[0;31m         \u001b[0moutput_states\u001b[0m \u001b[0;34m=\u001b[0m \u001b[0mself\u001b[0m\u001b[0;34m.\u001b[0m\u001b[0mauto_model\u001b[0m\u001b[0;34m(\u001b[0m\u001b[0;34m**\u001b[0m\u001b[0mtrans_features\u001b[0m\u001b[0;34m,\u001b[0m \u001b[0mreturn_dict\u001b[0m\u001b[0;34m=\u001b[0m\u001b[0;32mFalse\u001b[0m\u001b[0;34m)\u001b[0m\u001b[0;34m\u001b[0m\u001b[0;34m\u001b[0m\u001b[0m\n\u001b[0m\u001b[1;32m     67\u001b[0m         \u001b[0moutput_tokens\u001b[0m \u001b[0;34m=\u001b[0m \u001b[0moutput_states\u001b[0m\u001b[0;34m[\u001b[0m\u001b[0;36m0\u001b[0m\u001b[0;34m]\u001b[0m\u001b[0;34m\u001b[0m\u001b[0;34m\u001b[0m\u001b[0m\n\u001b[1;32m     68\u001b[0m \u001b[0;34m\u001b[0m\u001b[0m\n",
            "\u001b[0;32m/usr/local/lib/python3.8/dist-packages/torch/nn/modules/module.py\u001b[0m in \u001b[0;36m_call_impl\u001b[0;34m(self, *input, **kwargs)\u001b[0m\n\u001b[1;32m   1192\u001b[0m         if not (self._backward_hooks or self._forward_hooks or self._forward_pre_hooks or _global_backward_hooks\n\u001b[1;32m   1193\u001b[0m                 or _global_forward_hooks or _global_forward_pre_hooks):\n\u001b[0;32m-> 1194\u001b[0;31m             \u001b[0;32mreturn\u001b[0m \u001b[0mforward_call\u001b[0m\u001b[0;34m(\u001b[0m\u001b[0;34m*\u001b[0m\u001b[0minput\u001b[0m\u001b[0;34m,\u001b[0m \u001b[0;34m**\u001b[0m\u001b[0mkwargs\u001b[0m\u001b[0;34m)\u001b[0m\u001b[0;34m\u001b[0m\u001b[0;34m\u001b[0m\u001b[0m\n\u001b[0m\u001b[1;32m   1195\u001b[0m         \u001b[0;31m# Do not call functions when jit is used\u001b[0m\u001b[0;34m\u001b[0m\u001b[0;34m\u001b[0m\u001b[0;34m\u001b[0m\u001b[0m\n\u001b[1;32m   1196\u001b[0m         \u001b[0mfull_backward_hooks\u001b[0m\u001b[0;34m,\u001b[0m \u001b[0mnon_full_backward_hooks\u001b[0m \u001b[0;34m=\u001b[0m \u001b[0;34m[\u001b[0m\u001b[0;34m]\u001b[0m\u001b[0;34m,\u001b[0m \u001b[0;34m[\u001b[0m\u001b[0;34m]\u001b[0m\u001b[0;34m\u001b[0m\u001b[0;34m\u001b[0m\u001b[0m\n",
            "\u001b[0;32m/usr/local/lib/python3.8/dist-packages/transformers/models/bert/modeling_bert.py\u001b[0m in \u001b[0;36mforward\u001b[0;34m(self, input_ids, attention_mask, token_type_ids, position_ids, head_mask, inputs_embeds, encoder_hidden_states, encoder_attention_mask, past_key_values, use_cache, output_attentions, output_hidden_states, return_dict)\u001b[0m\n\u001b[1;32m   1017\u001b[0m             \u001b[0mpast_key_values_length\u001b[0m\u001b[0;34m=\u001b[0m\u001b[0mpast_key_values_length\u001b[0m\u001b[0;34m,\u001b[0m\u001b[0;34m\u001b[0m\u001b[0;34m\u001b[0m\u001b[0m\n\u001b[1;32m   1018\u001b[0m         )\n\u001b[0;32m-> 1019\u001b[0;31m         encoder_outputs = self.encoder(\n\u001b[0m\u001b[1;32m   1020\u001b[0m             \u001b[0membedding_output\u001b[0m\u001b[0;34m,\u001b[0m\u001b[0;34m\u001b[0m\u001b[0;34m\u001b[0m\u001b[0m\n\u001b[1;32m   1021\u001b[0m             \u001b[0mattention_mask\u001b[0m\u001b[0;34m=\u001b[0m\u001b[0mextended_attention_mask\u001b[0m\u001b[0;34m,\u001b[0m\u001b[0;34m\u001b[0m\u001b[0;34m\u001b[0m\u001b[0m\n",
            "\u001b[0;32m/usr/local/lib/python3.8/dist-packages/torch/nn/modules/module.py\u001b[0m in \u001b[0;36m_call_impl\u001b[0;34m(self, *input, **kwargs)\u001b[0m\n\u001b[1;32m   1192\u001b[0m         if not (self._backward_hooks or self._forward_hooks or self._forward_pre_hooks or _global_backward_hooks\n\u001b[1;32m   1193\u001b[0m                 or _global_forward_hooks or _global_forward_pre_hooks):\n\u001b[0;32m-> 1194\u001b[0;31m             \u001b[0;32mreturn\u001b[0m \u001b[0mforward_call\u001b[0m\u001b[0;34m(\u001b[0m\u001b[0;34m*\u001b[0m\u001b[0minput\u001b[0m\u001b[0;34m,\u001b[0m \u001b[0;34m**\u001b[0m\u001b[0mkwargs\u001b[0m\u001b[0;34m)\u001b[0m\u001b[0;34m\u001b[0m\u001b[0;34m\u001b[0m\u001b[0m\n\u001b[0m\u001b[1;32m   1195\u001b[0m         \u001b[0;31m# Do not call functions when jit is used\u001b[0m\u001b[0;34m\u001b[0m\u001b[0;34m\u001b[0m\u001b[0;34m\u001b[0m\u001b[0m\n\u001b[1;32m   1196\u001b[0m         \u001b[0mfull_backward_hooks\u001b[0m\u001b[0;34m,\u001b[0m \u001b[0mnon_full_backward_hooks\u001b[0m \u001b[0;34m=\u001b[0m \u001b[0;34m[\u001b[0m\u001b[0;34m]\u001b[0m\u001b[0;34m,\u001b[0m \u001b[0;34m[\u001b[0m\u001b[0;34m]\u001b[0m\u001b[0;34m\u001b[0m\u001b[0;34m\u001b[0m\u001b[0m\n",
            "\u001b[0;32m/usr/local/lib/python3.8/dist-packages/transformers/models/bert/modeling_bert.py\u001b[0m in \u001b[0;36mforward\u001b[0;34m(self, hidden_states, attention_mask, head_mask, encoder_hidden_states, encoder_attention_mask, past_key_values, use_cache, output_attentions, output_hidden_states, return_dict)\u001b[0m\n\u001b[1;32m    607\u001b[0m                 )\n\u001b[1;32m    608\u001b[0m             \u001b[0;32melse\u001b[0m\u001b[0;34m:\u001b[0m\u001b[0;34m\u001b[0m\u001b[0;34m\u001b[0m\u001b[0m\n\u001b[0;32m--> 609\u001b[0;31m                 layer_outputs = layer_module(\n\u001b[0m\u001b[1;32m    610\u001b[0m                     \u001b[0mhidden_states\u001b[0m\u001b[0;34m,\u001b[0m\u001b[0;34m\u001b[0m\u001b[0;34m\u001b[0m\u001b[0m\n\u001b[1;32m    611\u001b[0m                     \u001b[0mattention_mask\u001b[0m\u001b[0;34m,\u001b[0m\u001b[0;34m\u001b[0m\u001b[0;34m\u001b[0m\u001b[0m\n",
            "\u001b[0;32m/usr/local/lib/python3.8/dist-packages/torch/nn/modules/module.py\u001b[0m in \u001b[0;36m_call_impl\u001b[0;34m(self, *input, **kwargs)\u001b[0m\n\u001b[1;32m   1192\u001b[0m         if not (self._backward_hooks or self._forward_hooks or self._forward_pre_hooks or _global_backward_hooks\n\u001b[1;32m   1193\u001b[0m                 or _global_forward_hooks or _global_forward_pre_hooks):\n\u001b[0;32m-> 1194\u001b[0;31m             \u001b[0;32mreturn\u001b[0m \u001b[0mforward_call\u001b[0m\u001b[0;34m(\u001b[0m\u001b[0;34m*\u001b[0m\u001b[0minput\u001b[0m\u001b[0;34m,\u001b[0m \u001b[0;34m**\u001b[0m\u001b[0mkwargs\u001b[0m\u001b[0;34m)\u001b[0m\u001b[0;34m\u001b[0m\u001b[0;34m\u001b[0m\u001b[0m\n\u001b[0m\u001b[1;32m   1195\u001b[0m         \u001b[0;31m# Do not call functions when jit is used\u001b[0m\u001b[0;34m\u001b[0m\u001b[0;34m\u001b[0m\u001b[0;34m\u001b[0m\u001b[0m\n\u001b[1;32m   1196\u001b[0m         \u001b[0mfull_backward_hooks\u001b[0m\u001b[0;34m,\u001b[0m \u001b[0mnon_full_backward_hooks\u001b[0m \u001b[0;34m=\u001b[0m \u001b[0;34m[\u001b[0m\u001b[0;34m]\u001b[0m\u001b[0;34m,\u001b[0m \u001b[0;34m[\u001b[0m\u001b[0;34m]\u001b[0m\u001b[0;34m\u001b[0m\u001b[0;34m\u001b[0m\u001b[0m\n",
            "\u001b[0;32m/usr/local/lib/python3.8/dist-packages/transformers/models/bert/modeling_bert.py\u001b[0m in \u001b[0;36mforward\u001b[0;34m(self, hidden_states, attention_mask, head_mask, encoder_hidden_states, encoder_attention_mask, past_key_value, output_attentions)\u001b[0m\n\u001b[1;32m    535\u001b[0m             \u001b[0mpresent_key_value\u001b[0m \u001b[0;34m=\u001b[0m \u001b[0mpresent_key_value\u001b[0m \u001b[0;34m+\u001b[0m \u001b[0mcross_attn_present_key_value\u001b[0m\u001b[0;34m\u001b[0m\u001b[0;34m\u001b[0m\u001b[0m\n\u001b[1;32m    536\u001b[0m \u001b[0;34m\u001b[0m\u001b[0m\n\u001b[0;32m--> 537\u001b[0;31m         layer_output = apply_chunking_to_forward(\n\u001b[0m\u001b[1;32m    538\u001b[0m             \u001b[0mself\u001b[0m\u001b[0;34m.\u001b[0m\u001b[0mfeed_forward_chunk\u001b[0m\u001b[0;34m,\u001b[0m \u001b[0mself\u001b[0m\u001b[0;34m.\u001b[0m\u001b[0mchunk_size_feed_forward\u001b[0m\u001b[0;34m,\u001b[0m \u001b[0mself\u001b[0m\u001b[0;34m.\u001b[0m\u001b[0mseq_len_dim\u001b[0m\u001b[0;34m,\u001b[0m \u001b[0mattention_output\u001b[0m\u001b[0;34m\u001b[0m\u001b[0;34m\u001b[0m\u001b[0m\n\u001b[1;32m    539\u001b[0m         )\n",
            "\u001b[0;32m/usr/local/lib/python3.8/dist-packages/transformers/pytorch_utils.py\u001b[0m in \u001b[0;36mapply_chunking_to_forward\u001b[0;34m(forward_fn, chunk_size, chunk_dim, *input_tensors)\u001b[0m\n\u001b[1;32m    247\u001b[0m         \u001b[0;32mreturn\u001b[0m \u001b[0mtorch\u001b[0m\u001b[0;34m.\u001b[0m\u001b[0mcat\u001b[0m\u001b[0;34m(\u001b[0m\u001b[0moutput_chunks\u001b[0m\u001b[0;34m,\u001b[0m \u001b[0mdim\u001b[0m\u001b[0;34m=\u001b[0m\u001b[0mchunk_dim\u001b[0m\u001b[0;34m)\u001b[0m\u001b[0;34m\u001b[0m\u001b[0;34m\u001b[0m\u001b[0m\n\u001b[1;32m    248\u001b[0m \u001b[0;34m\u001b[0m\u001b[0m\n\u001b[0;32m--> 249\u001b[0;31m     \u001b[0;32mreturn\u001b[0m \u001b[0mforward_fn\u001b[0m\u001b[0;34m(\u001b[0m\u001b[0;34m*\u001b[0m\u001b[0minput_tensors\u001b[0m\u001b[0;34m)\u001b[0m\u001b[0;34m\u001b[0m\u001b[0;34m\u001b[0m\u001b[0m\n\u001b[0m\u001b[1;32m    250\u001b[0m \u001b[0;34m\u001b[0m\u001b[0m\n\u001b[1;32m    251\u001b[0m \u001b[0;34m\u001b[0m\u001b[0m\n",
            "\u001b[0;32m/usr/local/lib/python3.8/dist-packages/transformers/models/bert/modeling_bert.py\u001b[0m in \u001b[0;36mfeed_forward_chunk\u001b[0;34m(self, attention_output)\u001b[0m\n\u001b[1;32m    548\u001b[0m     \u001b[0;32mdef\u001b[0m \u001b[0mfeed_forward_chunk\u001b[0m\u001b[0;34m(\u001b[0m\u001b[0mself\u001b[0m\u001b[0;34m,\u001b[0m \u001b[0mattention_output\u001b[0m\u001b[0;34m)\u001b[0m\u001b[0;34m:\u001b[0m\u001b[0;34m\u001b[0m\u001b[0;34m\u001b[0m\u001b[0m\n\u001b[1;32m    549\u001b[0m         \u001b[0mintermediate_output\u001b[0m \u001b[0;34m=\u001b[0m \u001b[0mself\u001b[0m\u001b[0;34m.\u001b[0m\u001b[0mintermediate\u001b[0m\u001b[0;34m(\u001b[0m\u001b[0mattention_output\u001b[0m\u001b[0;34m)\u001b[0m\u001b[0;34m\u001b[0m\u001b[0;34m\u001b[0m\u001b[0m\n\u001b[0;32m--> 550\u001b[0;31m         \u001b[0mlayer_output\u001b[0m \u001b[0;34m=\u001b[0m \u001b[0mself\u001b[0m\u001b[0;34m.\u001b[0m\u001b[0moutput\u001b[0m\u001b[0;34m(\u001b[0m\u001b[0mintermediate_output\u001b[0m\u001b[0;34m,\u001b[0m \u001b[0mattention_output\u001b[0m\u001b[0;34m)\u001b[0m\u001b[0;34m\u001b[0m\u001b[0;34m\u001b[0m\u001b[0m\n\u001b[0m\u001b[1;32m    551\u001b[0m         \u001b[0;32mreturn\u001b[0m \u001b[0mlayer_output\u001b[0m\u001b[0;34m\u001b[0m\u001b[0;34m\u001b[0m\u001b[0m\n\u001b[1;32m    552\u001b[0m \u001b[0;34m\u001b[0m\u001b[0m\n",
            "\u001b[0;32m/usr/local/lib/python3.8/dist-packages/torch/nn/modules/module.py\u001b[0m in \u001b[0;36m_call_impl\u001b[0;34m(self, *input, **kwargs)\u001b[0m\n\u001b[1;32m   1192\u001b[0m         if not (self._backward_hooks or self._forward_hooks or self._forward_pre_hooks or _global_backward_hooks\n\u001b[1;32m   1193\u001b[0m                 or _global_forward_hooks or _global_forward_pre_hooks):\n\u001b[0;32m-> 1194\u001b[0;31m             \u001b[0;32mreturn\u001b[0m \u001b[0mforward_call\u001b[0m\u001b[0;34m(\u001b[0m\u001b[0;34m*\u001b[0m\u001b[0minput\u001b[0m\u001b[0;34m,\u001b[0m \u001b[0;34m**\u001b[0m\u001b[0mkwargs\u001b[0m\u001b[0;34m)\u001b[0m\u001b[0;34m\u001b[0m\u001b[0;34m\u001b[0m\u001b[0m\n\u001b[0m\u001b[1;32m   1195\u001b[0m         \u001b[0;31m# Do not call functions when jit is used\u001b[0m\u001b[0;34m\u001b[0m\u001b[0;34m\u001b[0m\u001b[0;34m\u001b[0m\u001b[0m\n\u001b[1;32m   1196\u001b[0m         \u001b[0mfull_backward_hooks\u001b[0m\u001b[0;34m,\u001b[0m \u001b[0mnon_full_backward_hooks\u001b[0m \u001b[0;34m=\u001b[0m \u001b[0;34m[\u001b[0m\u001b[0;34m]\u001b[0m\u001b[0;34m,\u001b[0m \u001b[0;34m[\u001b[0m\u001b[0;34m]\u001b[0m\u001b[0;34m\u001b[0m\u001b[0;34m\u001b[0m\u001b[0m\n",
            "\u001b[0;32m/usr/local/lib/python3.8/dist-packages/transformers/models/bert/modeling_bert.py\u001b[0m in \u001b[0;36mforward\u001b[0;34m(self, hidden_states, input_tensor)\u001b[0m\n\u001b[1;32m    460\u001b[0m \u001b[0;34m\u001b[0m\u001b[0m\n\u001b[1;32m    461\u001b[0m     \u001b[0;32mdef\u001b[0m \u001b[0mforward\u001b[0m\u001b[0;34m(\u001b[0m\u001b[0mself\u001b[0m\u001b[0;34m,\u001b[0m \u001b[0mhidden_states\u001b[0m\u001b[0;34m:\u001b[0m \u001b[0mtorch\u001b[0m\u001b[0;34m.\u001b[0m\u001b[0mTensor\u001b[0m\u001b[0;34m,\u001b[0m \u001b[0minput_tensor\u001b[0m\u001b[0;34m:\u001b[0m \u001b[0mtorch\u001b[0m\u001b[0;34m.\u001b[0m\u001b[0mTensor\u001b[0m\u001b[0;34m)\u001b[0m \u001b[0;34m->\u001b[0m \u001b[0mtorch\u001b[0m\u001b[0;34m.\u001b[0m\u001b[0mTensor\u001b[0m\u001b[0;34m:\u001b[0m\u001b[0;34m\u001b[0m\u001b[0;34m\u001b[0m\u001b[0m\n\u001b[0;32m--> 462\u001b[0;31m         \u001b[0mhidden_states\u001b[0m \u001b[0;34m=\u001b[0m \u001b[0mself\u001b[0m\u001b[0;34m.\u001b[0m\u001b[0mdense\u001b[0m\u001b[0;34m(\u001b[0m\u001b[0mhidden_states\u001b[0m\u001b[0;34m)\u001b[0m\u001b[0;34m\u001b[0m\u001b[0;34m\u001b[0m\u001b[0m\n\u001b[0m\u001b[1;32m    463\u001b[0m         \u001b[0mhidden_states\u001b[0m \u001b[0;34m=\u001b[0m \u001b[0mself\u001b[0m\u001b[0;34m.\u001b[0m\u001b[0mdropout\u001b[0m\u001b[0;34m(\u001b[0m\u001b[0mhidden_states\u001b[0m\u001b[0;34m)\u001b[0m\u001b[0;34m\u001b[0m\u001b[0;34m\u001b[0m\u001b[0m\n\u001b[1;32m    464\u001b[0m         \u001b[0mhidden_states\u001b[0m \u001b[0;34m=\u001b[0m \u001b[0mself\u001b[0m\u001b[0;34m.\u001b[0m\u001b[0mLayerNorm\u001b[0m\u001b[0;34m(\u001b[0m\u001b[0mhidden_states\u001b[0m \u001b[0;34m+\u001b[0m \u001b[0minput_tensor\u001b[0m\u001b[0;34m)\u001b[0m\u001b[0;34m\u001b[0m\u001b[0;34m\u001b[0m\u001b[0m\n",
            "\u001b[0;32m/usr/local/lib/python3.8/dist-packages/torch/nn/modules/module.py\u001b[0m in \u001b[0;36m_call_impl\u001b[0;34m(self, *input, **kwargs)\u001b[0m\n\u001b[1;32m   1192\u001b[0m         if not (self._backward_hooks or self._forward_hooks or self._forward_pre_hooks or _global_backward_hooks\n\u001b[1;32m   1193\u001b[0m                 or _global_forward_hooks or _global_forward_pre_hooks):\n\u001b[0;32m-> 1194\u001b[0;31m             \u001b[0;32mreturn\u001b[0m \u001b[0mforward_call\u001b[0m\u001b[0;34m(\u001b[0m\u001b[0;34m*\u001b[0m\u001b[0minput\u001b[0m\u001b[0;34m,\u001b[0m \u001b[0;34m**\u001b[0m\u001b[0mkwargs\u001b[0m\u001b[0;34m)\u001b[0m\u001b[0;34m\u001b[0m\u001b[0;34m\u001b[0m\u001b[0m\n\u001b[0m\u001b[1;32m   1195\u001b[0m         \u001b[0;31m# Do not call functions when jit is used\u001b[0m\u001b[0;34m\u001b[0m\u001b[0;34m\u001b[0m\u001b[0;34m\u001b[0m\u001b[0m\n\u001b[1;32m   1196\u001b[0m         \u001b[0mfull_backward_hooks\u001b[0m\u001b[0;34m,\u001b[0m \u001b[0mnon_full_backward_hooks\u001b[0m \u001b[0;34m=\u001b[0m \u001b[0;34m[\u001b[0m\u001b[0;34m]\u001b[0m\u001b[0;34m,\u001b[0m \u001b[0;34m[\u001b[0m\u001b[0;34m]\u001b[0m\u001b[0;34m\u001b[0m\u001b[0;34m\u001b[0m\u001b[0m\n",
            "\u001b[0;32m/usr/local/lib/python3.8/dist-packages/torch/nn/modules/linear.py\u001b[0m in \u001b[0;36mforward\u001b[0;34m(self, input)\u001b[0m\n\u001b[1;32m    112\u001b[0m \u001b[0;34m\u001b[0m\u001b[0m\n\u001b[1;32m    113\u001b[0m     \u001b[0;32mdef\u001b[0m \u001b[0mforward\u001b[0m\u001b[0;34m(\u001b[0m\u001b[0mself\u001b[0m\u001b[0;34m,\u001b[0m \u001b[0minput\u001b[0m\u001b[0;34m:\u001b[0m \u001b[0mTensor\u001b[0m\u001b[0;34m)\u001b[0m \u001b[0;34m->\u001b[0m \u001b[0mTensor\u001b[0m\u001b[0;34m:\u001b[0m\u001b[0;34m\u001b[0m\u001b[0;34m\u001b[0m\u001b[0m\n\u001b[0;32m--> 114\u001b[0;31m         \u001b[0;32mreturn\u001b[0m \u001b[0mF\u001b[0m\u001b[0;34m.\u001b[0m\u001b[0mlinear\u001b[0m\u001b[0;34m(\u001b[0m\u001b[0minput\u001b[0m\u001b[0;34m,\u001b[0m \u001b[0mself\u001b[0m\u001b[0;34m.\u001b[0m\u001b[0mweight\u001b[0m\u001b[0;34m,\u001b[0m \u001b[0mself\u001b[0m\u001b[0;34m.\u001b[0m\u001b[0mbias\u001b[0m\u001b[0;34m)\u001b[0m\u001b[0;34m\u001b[0m\u001b[0;34m\u001b[0m\u001b[0m\n\u001b[0m\u001b[1;32m    115\u001b[0m \u001b[0;34m\u001b[0m\u001b[0m\n\u001b[1;32m    116\u001b[0m     \u001b[0;32mdef\u001b[0m \u001b[0mextra_repr\u001b[0m\u001b[0;34m(\u001b[0m\u001b[0mself\u001b[0m\u001b[0;34m)\u001b[0m \u001b[0;34m->\u001b[0m \u001b[0mstr\u001b[0m\u001b[0;34m:\u001b[0m\u001b[0;34m\u001b[0m\u001b[0;34m\u001b[0m\u001b[0m\n",
            "\u001b[0;31mKeyboardInterrupt\u001b[0m: "
          ]
        }
      ]
    },
    {
      "cell_type": "code",
      "source": [
        "# Find the closest k documents of the corpus for each query sentence based on cosine similarity on a certain model\n",
        "def top_k_retrieval(query, df, corpus_embeddings, model, k=5, verbose=False):\n",
        "    k = min(k, len(corpus_embeddings))\n",
        "    query_embedding = model.encode(query, convert_to_tensor=True, show_progress_bar=False)\n",
        "\n",
        "    # We use cosine-similarity and torch.topk to find the highest scores\n",
        "    cos_scores = util.cos_sim(query_embedding, corpus_embeddings)[0]\n",
        "    top_results = torch.topk(cos_scores, k=k)\n",
        "    if verbose:\n",
        "        print(top_results)\n",
        "        print(\"\\n\\n======================\\n\\n\")\n",
        "        print(\"Query:\", query)\n",
        "        print(f\"\\nTop {k} most similar sentences in corpus:\")\n",
        "\n",
        "        for score, idx in zip(top_results[0], top_results[1]):\n",
        "          print(df.iloc[int(idx)]['text'], \"(Score: {:.4f})\".format(score))\n",
        "    return top_results[0].cpu().numpy(), top_results[1].cpu().numpy().astype('int')"
      ],
      "metadata": {
        "id": "UAW3ZwE9sI-B",
        "execution": {
          "iopub.status.busy": "2023-02-06T14:04:48.978287Z",
          "iopub.execute_input": "2023-02-06T14:04:48.979015Z",
          "iopub.status.idle": "2023-02-06T14:04:48.987176Z",
          "shell.execute_reply.started": "2023-02-06T14:04:48.978976Z",
          "shell.execute_reply": "2023-02-06T14:04:48.986143Z"
        },
        "trusted": true
      },
      "execution_count": null,
      "outputs": []
    },
    {
      "cell_type": "code",
      "source": [
        "# Query sentences:\n",
        "query = \"Hi, there...I'm Jon Arbuckle. I'm a cartoonist, and this is my cat, Garfield.\"\n",
        "res = top_k_retrieval(query, df_sorted, embeddings_base, model_base, k=10, verbose=True)"
      ],
      "metadata": {
        "id": "hu__zVURt2WC",
        "execution": {
          "iopub.status.busy": "2023-02-06T14:04:49.006015Z",
          "iopub.execute_input": "2023-02-06T14:04:49.008004Z",
          "iopub.status.idle": "2023-02-06T14:04:49.082671Z",
          "shell.execute_reply.started": "2023-02-06T14:04:49.007964Z",
          "shell.execute_reply": "2023-02-06T14:04:49.081428Z"
        },
        "trusted": true
      },
      "execution_count": null,
      "outputs": []
    },
    {
      "cell_type": "markdown",
      "source": [
        "## Retrieval System evaluation\n",
        "\n",
        "The performance of `SentenceTransformer`-based retrieval is compared across different training conditions (no finetuning, finetuning with triplet loss, finetuning with multiple negatives loss) and against the `LSI` model.\n",
        "\n",
        "Measures: Precision, Recall, F-measure up to $k$ strips retrieved, ordered by similarity wrt the query.\n",
        "\n",
        "The test queries are the sentences from the held-out set. The `SentenceTransformers` that have trained have not seen these strips, while the `LSI` model has been created using all comics."
      ],
      "metadata": {
        "id": "-R6S10v9nths"
      }
    },
    {
      "cell_type": "code",
      "source": [
        "df_evaluation = df_sentences_test"
      ],
      "metadata": {
        "id": "qtkb0Pu2nths",
        "execution": {
          "iopub.status.busy": "2023-02-06T14:04:49.084794Z",
          "iopub.execute_input": "2023-02-06T14:04:49.085504Z",
          "iopub.status.idle": "2023-02-06T14:04:49.090188Z",
          "shell.execute_reply.started": "2023-02-06T14:04:49.085459Z",
          "shell.execute_reply": "2023-02-06T14:04:49.089191Z"
        },
        "trusted": true
      },
      "execution_count": null,
      "outputs": []
    },
    {
      "cell_type": "markdown",
      "source": [
        "### Functions for query analysis"
      ],
      "metadata": {
        "id": "ZB4hvBJnuuOs"
      }
    },
    {
      "cell_type": "code",
      "source": [
        "# adapted from https://www.audiolabs-erlangen.de/resources/MIR/FMP/C7/C7S3_Evaluation.html\n",
        "def plot_PR_curve(P_Q, R_Q, figsize=(3, 3)):\n",
        "    fig, ax = plt.subplots(1, 1, figsize=figsize)\n",
        "    plt.plot(R_Q, P_Q, linestyle='--', marker='o', color='k', mfc='r')\n",
        "    plt.xlim([0, 1.1])\n",
        "    plt.ylim([0, 1.1])\n",
        "    ax.set_aspect('equal', 'box')\n",
        "    plt.title('PR curve')\n",
        "    plt.xlabel('Recall')\n",
        "    plt.ylabel('Precision')\n",
        "    plt.grid()\n",
        "    plt.tight_layout()\n",
        "    return fig, ax\n",
        "\n",
        "def compute_prf_metrics(I, score, I_Q):\n",
        "    \"\"\"Compute precision, recall, F-measures and other\n",
        "    evaluation metrics for document-level retrieval\n",
        "\n",
        "    Notebook: C7/C7S3_Evaluation.ipynb\n",
        "\n",
        "    Args:\n",
        "        I (np.ndarray): Array of items\n",
        "        score (np.ndarray): Array containing the score values of the times\n",
        "        I_Q (np.ndarray): Array of relevant (positive) items\n",
        "\n",
        "    Returns:\n",
        "        P_Q (float): Precision\n",
        "        R_Q (float): Recall\n",
        "        F_Q (float): F-measures sorted by rank\n",
        "        BEP (float): Break-even point\n",
        "        F_max (float): Maximal F-measure\n",
        "        P_average (float): Mean average\n",
        "        X_Q (np.ndarray): Relevance function\n",
        "        rank (np.ndarray): Array of rank values\n",
        "        I_sorted (np.ndarray): Array of items sorted by rank\n",
        "        rank_sorted (np.ndarray): Array of rank values sorted by rank\n",
        "    \"\"\"\n",
        "    # Compute rank and sort documents according to rank\n",
        "    K = len(I)\n",
        "    index_sorted = np.flip(np.argsort(score))\n",
        "    I_sorted = I[index_sorted]\n",
        "    rank = np.argsort(index_sorted) + 1\n",
        "    rank_sorted = np.arange(1, K+1)\n",
        "\n",
        "    # Compute relevance function X_Q (indexing starts with zero)\n",
        "    X_Q = np.isin(I_sorted, I_Q)\n",
        "\n",
        "    # Compute precision and recall values (indexing starts with zero)\n",
        "    M = len(I_Q)\n",
        "    P_Q = np.cumsum(X_Q) / np.arange(1, K+1)\n",
        "    R_Q = np.cumsum(X_Q) / M\n",
        "\n",
        "    # Break-even point\n",
        "    BEP = P_Q[M-1]\n",
        "    # Maximal F-measure\n",
        "    sum_PR = P_Q + R_Q\n",
        "    sum_PR[sum_PR == 0] = 1  # Avoid division by zero\n",
        "    F_Q = 2 * (P_Q * R_Q) / sum_PR\n",
        "    F_max = F_Q.max()\n",
        "    # Average precision\n",
        "    P_average = np.sum(P_Q * X_Q) / len(I_Q)\n",
        "\n",
        "    return P_Q, R_Q, F_Q, BEP, F_max, P_average, X_Q, rank, I_sorted, rank_sorted\n",
        "\n",
        "def full_query_analysis(I, score, I_Q):\n",
        "    output = compute_prf_metrics(I, score, I_Q)\n",
        "    P_Q, R_Q, F_Q, BEP, F_max, P_average, X_Q, rank, I_sorted, rank_sorted = output\n",
        "\n",
        "    # Arrange output as tables\n",
        "    score_sorted = np.flip(np.sort(score))\n",
        "    df_query_metrics = pd.DataFrame({'Rank': rank_sorted, 'ID': I_sorted,\n",
        "                   'Score': score_sorted,\n",
        "                   'Is Relevant': X_Q, \n",
        "                   'Prec(r)': P_Q, \n",
        "                   'Rec(r)': R_Q,\n",
        "                   'F-score(r)': F_Q})\n",
        "    fig, ax = plot_PR_curve(P_Q, R_Q, figsize=(3,3))\n",
        "    ax.plot(BEP, BEP, color='green', marker='o', fillstyle='none', markersize=15)\n",
        "    ax.set_title('PR curve')\n",
        "\n",
        "    plt.show()\n",
        "\n",
        "    print('Break-even point = %.2f' % BEP)\n",
        "    print('F_max = %.2f' % F_max)\n",
        "    print('Average precision =', np.round(P_average, 5))\n",
        "    print(df_query_metrics)"
      ],
      "metadata": {
        "id": "tIHqMN5snths",
        "execution": {
          "iopub.status.busy": "2023-02-06T14:04:49.091744Z",
          "iopub.execute_input": "2023-02-06T14:04:49.092412Z",
          "iopub.status.idle": "2023-02-06T14:04:49.110926Z",
          "shell.execute_reply.started": "2023-02-06T14:04:49.092356Z",
          "shell.execute_reply": "2023-02-06T14:04:49.109721Z"
        },
        "trusted": true
      },
      "execution_count": null,
      "outputs": []
    },
    {
      "cell_type": "markdown",
      "source": [
        "### Functions that compute (I, I_Q, score) for the different models\n",
        "\n",
        "- I: the relevant documents retrieved;\n",
        "- I_Q: the ground truth relevant document/strip,\n",
        "- score: the similarity scores i.e. cosine similarity, of query wrt I"
      ],
      "metadata": {
        "id": "hfT_KkjPuNZt"
      }
    },
    {
      "cell_type": "code",
      "source": [
        "def get_I_score_I_Q_for_sentence_embedder(query_idx, df, embeddings, model, k=10):\n",
        "    query = df.loc[query_idx, 'sentence']\n",
        "    I_Q = [df.loc[query_idx, 'old index']]\n",
        "    score, I = top_k_retrieval(query, df, embeddings, model, k=k, verbose=False)\n",
        "    return I, score, I_Q"
      ],
      "metadata": {
        "id": "UfzqAAnEntht",
        "execution": {
          "iopub.status.busy": "2023-02-06T14:04:49.115173Z",
          "iopub.execute_input": "2023-02-06T14:04:49.116242Z",
          "iopub.status.idle": "2023-02-06T14:04:49.127745Z",
          "shell.execute_reply.started": "2023-02-06T14:04:49.116190Z",
          "shell.execute_reply": "2023-02-06T14:04:49.126643Z"
        },
        "trusted": true
      },
      "execution_count": null,
      "outputs": []
    },
    {
      "cell_type": "code",
      "source": [
        "query_idx = 1002\n",
        "I, score, I_Q = get_I_score_I_Q_for_sentence_embedder(query_idx, df_evaluation, embeddings_base, model_base, k=10)\n",
        "query = df_evaluation.loc[query_idx, 'sentence']\n",
        "print(f\"Query sentence: {query}.\\nRelevant strip: {I_Q, df_evaluation.loc[query_idx, 'stripID']}\")\n",
        "print(f\"Full text: {df_evaluation.loc[query_idx, 'text']}\")\n",
        "full_query_analysis(I, score, I_Q)"
      ],
      "metadata": {
        "id": "oBhrZ2Ggntht",
        "execution": {
          "iopub.status.busy": "2023-02-06T14:04:49.130295Z",
          "iopub.execute_input": "2023-02-06T14:04:49.131217Z",
          "iopub.status.idle": "2023-02-06T14:04:49.386797Z",
          "shell.execute_reply.started": "2023-02-06T14:04:49.131178Z",
          "shell.execute_reply": "2023-02-06T14:04:49.385664Z"
        },
        "trusted": true
      },
      "execution_count": null,
      "outputs": []
    },
    {
      "cell_type": "code",
      "source": [
        "query_idx = 1002\n",
        "I, score, I_Q = get_I_score_I_Q_for_sentence_embedder(query_idx, df_evaluation, embeddings_finetuned_triplet, model_finetuned_triplet, k=10)\n",
        "query = df_evaluation.loc[query_idx, 'sentence']\n",
        "print(f\"Query sentence: {query}.\\nRelevant strip: {I_Q, df_evaluation.loc[query_idx, 'stripID']}\")\n",
        "print(f\"Full text: {df_evaluation.loc[query_idx, 'text']}\")\n",
        "full_query_analysis(I, score, I_Q)"
      ],
      "metadata": {
        "id": "LMPBWUU1zonB",
        "execution": {
          "iopub.status.busy": "2023-02-06T14:04:49.389975Z",
          "iopub.execute_input": "2023-02-06T14:04:49.390427Z",
          "iopub.status.idle": "2023-02-06T14:04:49.638477Z",
          "shell.execute_reply.started": "2023-02-06T14:04:49.390359Z",
          "shell.execute_reply": "2023-02-06T14:04:49.637390Z"
        },
        "trusted": true
      },
      "execution_count": null,
      "outputs": []
    },
    {
      "cell_type": "code",
      "source": [
        "def get_I_score_I_Q_for_LSI_model(query_idx, df, embeddings, model, k=10):\n",
        "  \"\"\"Maps the query into the latent space and computes similarity wrt each of the documents in the corpus. \n",
        "  Returns the top k documents with the highest similarity to the query.\"\"\"\n",
        "  doc = df.loc[query_idx,'tokens']\n",
        "  vec_bow = dictionary.doc2bow(doc)\n",
        "  vec_lsi = lsi[vec_bow]  # convert the query to LSI space\n",
        "  sims = index_lsi[vec_lsi]  # perform a similarity query against the corpus\n",
        "  sims_sorted = sorted(enumerate(sims), key=lambda item: -item[1])\n",
        "  ranked_docs, ranked_scores = list(zip(*sims_sorted))\n",
        "  I = np.array(ranked_docs[:k])\n",
        "  score = np.array(ranked_scores[:k])\n",
        "  I_Q = [df.loc[query_idx, 'old index']]\n",
        "  return I, score, I_Q"
      ],
      "metadata": {
        "id": "2Zc7axchuEQC",
        "execution": {
          "iopub.status.busy": "2023-02-06T14:04:49.640046Z",
          "iopub.execute_input": "2023-02-06T14:04:49.640838Z",
          "iopub.status.idle": "2023-02-06T14:04:49.649544Z",
          "shell.execute_reply.started": "2023-02-06T14:04:49.640795Z",
          "shell.execute_reply": "2023-02-06T14:04:49.648583Z"
        },
        "trusted": true
      },
      "execution_count": null,
      "outputs": []
    },
    {
      "cell_type": "code",
      "source": [
        "query_idx = 1002\n",
        "print('Query:', df_evaluation.loc[query_idx,'sentence'])\n",
        "I, score, I_Q = get_I_score_I_Q_for_LSI_model(query_idx, df_evaluation, index_lsi, lsi, k=10)\n",
        "print('Retrieved: ', df_sorted.iloc[I]['text'])\n",
        "full_query_analysis(I, score, I_Q)"
      ],
      "metadata": {
        "id": "gvRN-bnpuDux",
        "execution": {
          "iopub.status.busy": "2023-02-06T14:04:49.651231Z",
          "iopub.execute_input": "2023-02-06T14:04:49.651820Z",
          "iopub.status.idle": "2023-02-06T14:04:49.953776Z",
          "shell.execute_reply.started": "2023-02-06T14:04:49.651782Z",
          "shell.execute_reply": "2023-02-06T14:04:49.952643Z"
        },
        "trusted": true
      },
      "execution_count": null,
      "outputs": []
    },
    {
      "cell_type": "markdown",
      "source": [
        "### Comparison of results across the considered models"
      ],
      "metadata": {
        "id": "SqwheFVOuc15"
      }
    },
    {
      "cell_type": "code",
      "source": [
        "def compute_performances_on_whole_dataset(k, df, retrieval_function, kwargs):\n",
        "    \"\"\"Compute precision, recall, F-measures and other\n",
        "    evaluation metrics for document-level retrieval on all queries in dataframe for rank up to k.\n",
        "\n",
        "    Args:\n",
        "        df: Dataframe with columns \"sentence\", \"old index\".\n",
        "        retrieval_function: function that retrieves I, score, I_Q.\n",
        "        k: max number of documents retrieved.\n",
        "        kwargs = Arguments for retrieval_function, such as the embeddings of the corpus documents, etc.\n",
        "\n",
        "    Returns:\n",
        "        Dataframe with MAP, Precision, Recall, Fscore@1,5,10 columms.\"\"\"\n",
        "\n",
        "    avg_precision = np.zeros(k)\n",
        "    avg_recall = np.zeros(k)\n",
        "    avg_fscore = np.zeros(k)\n",
        "    avg_MAP = 0\n",
        "    \n",
        "    for query_idx in tqdm(range(len(df))):\n",
        "        # compute metrics for each query, and accumulate them\n",
        "        #score, I = top_k_retrieval(df['sentence'][query_idx], embeddings, model, k=k, verbose=False)\n",
        "        #I_Q = [df.loc[query_idx, 'old index']]\n",
        "        I, score, I_Q = retrieval_function(query_idx = query_idx, **kwargs)\n",
        "        output = compute_prf_metrics(I, score, I_Q)\n",
        "        P_Q, R_Q, F_Q, BEP, F_max, P_average, X_Q, rank, I_sorted, rank_sorted = output\n",
        "\n",
        "        avg_precision += P_Q\n",
        "        avg_recall += R_Q\n",
        "        avg_fscore += F_Q\n",
        "        avg_MAP += P_average\n",
        "        \n",
        "    # divide by n. of queries made\n",
        "    avg_precision /= len(df)\n",
        "    avg_recall /= len(df)\n",
        "    avg_fscore /= len(df)\n",
        "    avg_MAP /= len(df)\n",
        "    \n",
        "    results = pd.DataFrame({'MAP' : avg_MAP, \n",
        "                            'Precision@k' : [avg_precision],\n",
        "                            'Recall@k' : [avg_recall],\n",
        "                            'Fscore@k' : [avg_fscore]})\n",
        "    #for ki in range(k):\n",
        "    #    results[f'Precision@{ki+1}'] = avg_precision[ki] \n",
        "    #    results[f'Recall@{ki+1}'] = avg_recall[ki]\n",
        "    #    results[f'Fscore@{ki+1}'] = avg_fscore[ki]\n",
        "    #results.loc[0, f'Precision@k'] = avg_precision[0]\n",
        "    #results.loc[0, f'Recall@k'] = avg_precision[0]\n",
        "    #results.loc[0, f'Fscore@k'] = avg_precision[0]\n",
        "    \n",
        "    return results"
      ],
      "metadata": {
        "id": "b-n4C63antht",
        "execution": {
          "iopub.status.busy": "2023-02-06T14:04:49.957786Z",
          "iopub.execute_input": "2023-02-06T14:04:49.958092Z",
          "iopub.status.idle": "2023-02-06T14:04:49.969541Z",
          "shell.execute_reply.started": "2023-02-06T14:04:49.958064Z",
          "shell.execute_reply": "2023-02-06T14:04:49.968402Z"
        },
        "trusted": true
      },
      "execution_count": null,
      "outputs": []
    },
    {
      "cell_type": "code",
      "source": [
        "def create_results_df(df_evaluation):\n",
        "    models = [model_base, model_finetuned_triplet, model_finetuned_mn, lsi]\n",
        "    embeddings = [embeddings_base, embeddings_finetuned_triplet, embeddings_finetuned_mn, index_lsi]\n",
        "    names = ['base', 'finetuned_triplet', 'finetuned_mn', 'lsi']\n",
        "    partial_results = []\n",
        "    # compute metrics for each model\n",
        "    for model, embedding, name in zip(models, embeddings, names):\n",
        "        print(f'Evaluating {name}')\n",
        "        if not(name == \"lsi\"):\n",
        "            partial_result = compute_performances_on_whole_dataset(k=10, \n",
        "                                                     df=df_evaluation,\n",
        "                                                     retrieval_function=get_I_score_I_Q_for_sentence_embedder,\n",
        "                                                     kwargs={'df':df_evaluation,\n",
        "                                                           'embeddings': embedding,\n",
        "                                                           'model': model})\n",
        "        else:\n",
        "            partial_result = compute_performances_on_whole_dataset(k=10, \n",
        "                                                     df=df_evaluation[:100],\n",
        "                                                     retrieval_function=get_I_score_I_Q_for_LSI_model,\n",
        "                                                     kwargs={'df':df_evaluation,\n",
        "                                                           'embeddings': embedding,\n",
        "                                                           'model': model})\n",
        "        # name\n",
        "        partial_result.rename(index={0: name}, inplace=True)\n",
        "        # add\n",
        "        partial_results.append(partial_result)\n",
        "    results = pd.concat(partial_results)\n",
        "    return results"
      ],
      "metadata": {
        "id": "pA5k3rvMntht",
        "execution": {
          "iopub.status.busy": "2023-02-06T14:11:35.549725Z",
          "iopub.execute_input": "2023-02-06T14:11:35.550139Z",
          "iopub.status.idle": "2023-02-06T14:11:35.561209Z",
          "shell.execute_reply.started": "2023-02-06T14:11:35.550100Z",
          "shell.execute_reply": "2023-02-06T14:11:35.559997Z"
        },
        "trusted": true
      },
      "execution_count": null,
      "outputs": []
    },
    {
      "cell_type": "markdown",
      "source": [
        "Regarding the task of strip retrieval from a sentence, we compute the metrics wrt to multiple sets of queries."
      ],
      "metadata": {
        "id": "L-wxQnZEG6gm"
      }
    },
    {
      "cell_type": "code",
      "source": [
        "results_general = create_results_df(df_evaluation = df_sentences_train) # this runs for a long time, we can take a subset of them as sample\n",
        "results_test = create_results_df(df_evaluation = df_sentences_test)"
      ],
      "metadata": {
        "execution": {
          "iopub.status.busy": "2023-02-06T14:19:03.493344Z",
          "iopub.execute_input": "2023-02-06T14:19:03.493969Z",
          "iopub.status.idle": "2023-02-06T14:19:52.947930Z",
          "shell.execute_reply.started": "2023-02-06T14:19:03.493926Z",
          "shell.execute_reply": "2023-02-06T14:19:52.946858Z"
        },
        "trusted": true,
        "id": "aym24BHlG6gm"
      },
      "execution_count": null,
      "outputs": []
    },
    {
      "cell_type": "code",
      "source": [
        "def plot_results(x, y, label, filled_marker_style):\n",
        "  plt.plot(x, y, fillstyle = \"none\", label=label, **filled_marker_style)\n",
        "\n",
        "def plot_metrics_multiple_models(dataframe, title, metric): #the metric you want to print: \"f1-score\", \"precision\", \"recall\"\n",
        "  colors = ['blue', 'orange', 'green', 'red']\n",
        "  filled_marker_style = dict(marker='x', linestyle='-', markersize=6,\n",
        "                           color='blue',\n",
        "                           markerfacecolor='white',\n",
        "                           #markerfacecoloralt='tab:blue',\n",
        "                           markeredgecolor='blue')\n",
        "  \n",
        "  series = dataframe[metric]\n",
        "  k_range = range(1, len(series[0])+1)\n",
        "\n",
        "  plt.figure(figsize=(10,4))\n",
        "  plt.grid(linestyle=\"--\")\n",
        "  plt.suptitle(title)\n",
        "  plt.ylim(0.0, 1.0)\n",
        "  plt.ylabel(metric)\n",
        "  plt.xlabel('k (rank)')\n",
        "  plt.yticks(np.arange(0, 1.1, step=0.1 ))\n",
        "  plt.xticks(k_range)\n",
        "\n",
        "  for i, (name, values) in enumerate(zip(series.index, series.values)):\n",
        "    filled_marker_style['color'] = colors[i]\n",
        "    filled_marker_style['markeredgecolor'] = colors[i]\n",
        "    plot_results(k_range, values, name, filled_marker_style)\n",
        "  \n",
        "  plt.legend()\n",
        "  plt.plot()"
      ],
      "metadata": {
        "id": "i_uzxfhbntht",
        "execution": {
          "iopub.status.busy": "2023-02-06T14:05:37.934966Z",
          "iopub.execute_input": "2023-02-06T14:05:37.940518Z",
          "iopub.status.idle": "2023-02-06T14:05:37.975307Z",
          "shell.execute_reply.started": "2023-02-06T14:05:37.940456Z",
          "shell.execute_reply": "2023-02-06T14:05:37.974136Z"
        },
        "trusted": true
      },
      "execution_count": null,
      "outputs": []
    },
    {
      "cell_type": "code",
      "source": [
        "title = \"Results comparison on all sentences\"\n",
        "for index in results_general.index:\n",
        "    print(f\"Mean Average Precision for model {index}: {results_general['MAP'][index]:.3f}\")\n",
        "plot_metrics_multiple_models(results_general, title + \" - Fscore\", 'Fscore@k')\n",
        "plot_metrics_multiple_models(results_general, title +\" - Recall\", 'Recall@k')\n",
        "plot_metrics_multiple_models(results_general, title +\" - Precision\", 'Precision@k')"
      ],
      "metadata": {
        "id": "9ZkRygMhnthu",
        "execution": {
          "iopub.status.busy": "2023-02-06T14:05:37.981076Z",
          "iopub.execute_input": "2023-02-06T14:05:37.984881Z",
          "iopub.status.idle": "2023-02-06T14:05:38.048412Z",
          "shell.execute_reply.started": "2023-02-06T14:05:37.984839Z",
          "shell.execute_reply": "2023-02-06T14:05:38.043557Z"
        },
        "trusted": true
      },
      "execution_count": null,
      "outputs": []
    },
    {
      "cell_type": "code",
      "source": [
        "title = \"Results comparison on test sentences\"\n",
        "for index in results_test.index:\n",
        "    print(f\"Mean Average Precision for model {index}: {results_test['MAP'][index]:.3f}\")\n",
        "plot_metrics_multiple_models(results_test, title + \" - Fscore\", 'Fscore@k')\n",
        "plot_metrics_multiple_models(results_test, title +\" - Recall\", 'Recall@k')\n",
        "plot_metrics_multiple_models(results_test, title +\" - Precision\", 'Precision@k')"
      ],
      "metadata": {
        "execution": {
          "iopub.status.busy": "2023-02-06T14:20:18.406788Z",
          "iopub.execute_input": "2023-02-06T14:20:18.407246Z",
          "iopub.status.idle": "2023-02-06T14:20:19.416411Z",
          "shell.execute_reply.started": "2023-02-06T14:20:18.407201Z",
          "shell.execute_reply": "2023-02-06T14:20:19.415419Z"
        },
        "trusted": true,
        "id": "A2C7HU0UG6gm"
      },
      "execution_count": null,
      "outputs": []
    },
    {
      "cell_type": "markdown",
      "source": [
        "## Comments on the results\n",
        "\n",
        "- Sentences in the whole dataset: we can observe that the finedtuned version using multiple negatives loss outperforms the base sentence encoder, with all-around higher metrics.\n",
        "- Held-out sentences in the test dataset: we can observe that the general pretrained-version is still better when retrieving unseen data, probably due to the extensive training on all sorts of text, that allows for very good semantic embeddings out-of-the-box.\n",
        "\n",
        "All in all, retrieval in my opinion produced adequate enough results, given this very homogenous corpus in terms of linguistic style, words, and topics."
      ],
      "metadata": {
        "id": "5B0T4QW75I3u"
      }
    },
    {
      "cell_type": "markdown",
      "source": [
        "# References"
      ],
      "metadata": {
        "id": "0H9GHS0-08VK"
      }
    },
    {
      "cell_type": "markdown",
      "source": [
        "[Train and Fine-Tune Sentence Transformers Models](https://huggingface.co/blog/how-to-train-sentence-transformers)\n",
        "\n"
      ],
      "metadata": {
        "id": "Hn4yxfHg0-CY"
      }
    }
  ]
}